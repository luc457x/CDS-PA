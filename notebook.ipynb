{
 "cells": [
  {
   "cell_type": "markdown",
   "id": "4e32017a",
   "metadata": {},
   "source": [
    "# Imports"
   ]
  },
  {
   "cell_type": "code",
   "execution_count": 702,
   "id": "edd2d0ab",
   "metadata": {},
   "outputs": [],
   "source": [
    "import pandas as pd\n",
    "import numpy as np\n",
    "import seaborn as sns\n",
    "import matplotlib.pyplot as plt"
   ]
  },
  {
   "cell_type": "markdown",
   "id": "10a9fa6c",
   "metadata": {},
   "source": [
    "# Set Globals & Functions"
   ]
  },
  {
   "cell_type": "code",
   "execution_count": 703,
   "id": "9d188a52",
   "metadata": {},
   "outputs": [],
   "source": [
    "def checkData(x):\n",
    "    print(f\"\\nInfo dos valores:\\n\")\n",
    "    print(x.info())\n",
    "    print(f\"\\nDescrição dos dados:\\n\\n{x.describe()}\")\n",
    "    return\n",
    "\n",
    "def checkNaN(x):\n",
    "    # Recebe um DataFrame e retorna a quantidade de valores nulos e não nulos.\n",
    "    null_count = x.isna().sum()\n",
    "    non_null_count = x.notnull().sum()\n",
    "    print(f\"Null values:\\n {null_count}\")\n",
    "    print(f\"Non-null values:\\n {non_null_count}\")\n",
    "    return\n",
    "\n",
    "def checkOutliers(x):\n",
    "    \"\"\"Recebe um DataFrame e retorna um DataFrame com os outliers.\n",
    "    Baseia-se no pressuposto de que os dados estão normalmente distribuídos.\"\"\"\n",
    "    dfOutliers  = pd.DataFrame()\n",
    "    # Itera sobre as colunas númericas\n",
    "    for column in x.select_dtypes(include=[np.number]).columns:\n",
    "        # Calcula o 1 quartil (Q1)\n",
    "        Q1 = x[column].quantile(0.25)\n",
    "        # Calcula o 3 quartil (Q3)\n",
    "        Q3 = x[column].quantile(0.75)\n",
    "        # Calcula o Intervalo Interquartil (IQR)\n",
    "        IQR = Q3 - Q1\n",
    "        # Define os limites inferior e superior para outliers\n",
    "        lower_bound = Q1 - 1.5 * IQR\n",
    "        upper_bound = Q3 + 1.5 * IQR\n",
    "        # Identica os outliers da coluna atual e adiciona ao DataFrame de outliers\n",
    "        outliers = x[(x[column] < lower_bound) | (x[column] > upper_bound)]\n",
    "        # Concatene os outliers da coluna atual ao DataFrame de outliers\n",
    "        dfOutliers = pd.concat([dfOutliers, outliers])\n",
    "    outliersData = dfOutliers.drop_duplicates().reset_index(drop=True)\n",
    "    return outliersData\n",
    "\n",
    "def corr(x):\n",
    "    plt.figure(figsize=(10,8))\n",
    "    sns.heatmap(x.select_dtypes(include=[np.number]).corr(), annot=True)\n",
    "    plt.show()\n",
    "    return\n",
    "\n",
    "def hist(x):\n",
    "    # Recebe um DataFrame e plota um histograma para cada coluna numérica.\n",
    "    x.hist(bins=50, figsize=(25,10))\n",
    "    plt.show()\n",
    "    return\n",
    "\n",
    "\n"
   ]
  },
  {
   "cell_type": "markdown",
   "id": "297c1e14",
   "metadata": {},
   "source": [
    "# Carregamento e Checagem"
   ]
  },
  {
   "cell_type": "code",
   "execution_count": 704,
   "id": "b717edac",
   "metadata": {},
   "outputs": [],
   "source": [
    "df_raw = pd.read_csv(\"train.csv\")"
   ]
  },
  {
   "cell_type": "code",
   "execution_count": 705,
   "id": "7c6bc5ea",
   "metadata": {},
   "outputs": [
    {
     "name": "stdout",
     "output_type": "stream",
     "text": [
      "\n",
      "Info dos valores:\n",
      "\n",
      "<class 'pandas.core.frame.DataFrame'>\n",
      "RangeIndex: 4467 entries, 0 to 4466\n",
      "Data columns (total 20 columns):\n",
      " #   Column                       Non-Null Count  Dtype  \n",
      "---  ------                       --------------  -----  \n",
      " 0   ID                           4467 non-null   object \n",
      " 1   Delivery_person_ID           4467 non-null   object \n",
      " 2   Delivery_person_Age          4467 non-null   object \n",
      " 3   Delivery_person_Ratings      4467 non-null   object \n",
      " 4   Restaurant_latitude          4467 non-null   float64\n",
      " 5   Restaurant_longitude         4467 non-null   float64\n",
      " 6   Delivery_location_latitude   4467 non-null   float64\n",
      " 7   Delivery_location_longitude  4467 non-null   float64\n",
      " 8   Order_Date                   4467 non-null   object \n",
      " 9   Time_Orderd                  4467 non-null   object \n",
      " 10  Time_Order_picked            4467 non-null   object \n",
      " 11  Weatherconditions            4467 non-null   object \n",
      " 12  Road_traffic_density         4467 non-null   object \n",
      " 13  Vehicle_condition            4467 non-null   int64  \n",
      " 14  Type_of_order                4467 non-null   object \n",
      " 15  Type_of_vehicle              4467 non-null   object \n",
      " 16  multiple_deliveries          4467 non-null   object \n",
      " 17  Festival                     4467 non-null   object \n",
      " 18  City                         4466 non-null   object \n",
      " 19  Time_taken(min)              4466 non-null   object \n",
      "dtypes: float64(4), int64(1), object(15)\n",
      "memory usage: 698.1+ KB\n",
      "None\n",
      "\n",
      "Descrição dos dados:\n",
      "\n",
      "       Restaurant_latitude  Restaurant_longitude  Delivery_location_latitude  \\\n",
      "count          4467.000000           4467.000000                 4467.000000   \n",
      "mean             16.873720             69.855186                   17.345751   \n",
      "std               8.320083             23.490634                    7.436276   \n",
      "min             -30.902872            -88.322337                    0.010000   \n",
      "25%              12.906229             73.170000                   12.969496   \n",
      "50%              18.546258             75.894377                   18.619299   \n",
      "75%              22.725835             78.013330                   22.781857   \n",
      "max              30.914057             88.433452                   31.035562   \n",
      "\n",
      "       Delivery_location_longitude  Vehicle_condition  \n",
      "count                  4467.000000        4467.000000  \n",
      "mean                     70.509414           1.022386  \n",
      "std                      21.655254           0.840340  \n",
      "min                       0.010000           0.000000  \n",
      "25%                      73.280937           0.000000  \n",
      "50%                      75.996362           1.000000  \n",
      "75%                      78.081576           2.000000  \n",
      "max                      88.563452           3.000000  \n"
     ]
    }
   ],
   "source": [
    "checkData(df_raw)"
   ]
  },
  {
   "cell_type": "code",
   "execution_count": 706,
   "id": "16cd7d61",
   "metadata": {},
   "outputs": [
    {
     "data": {
      "text/html": [
       "<div>\n",
       "<style scoped>\n",
       "    .dataframe tbody tr th:only-of-type {\n",
       "        vertical-align: middle;\n",
       "    }\n",
       "\n",
       "    .dataframe tbody tr th {\n",
       "        vertical-align: top;\n",
       "    }\n",
       "\n",
       "    .dataframe thead th {\n",
       "        text-align: right;\n",
       "    }\n",
       "</style>\n",
       "<table border=\"1\" class=\"dataframe\">\n",
       "  <thead>\n",
       "    <tr style=\"text-align: right;\">\n",
       "      <th></th>\n",
       "      <th>ID</th>\n",
       "      <th>Delivery_person_ID</th>\n",
       "      <th>Delivery_person_Age</th>\n",
       "      <th>Delivery_person_Ratings</th>\n",
       "      <th>Restaurant_latitude</th>\n",
       "      <th>Restaurant_longitude</th>\n",
       "      <th>Delivery_location_latitude</th>\n",
       "      <th>Delivery_location_longitude</th>\n",
       "      <th>Order_Date</th>\n",
       "      <th>Time_Orderd</th>\n",
       "      <th>Time_Order_picked</th>\n",
       "      <th>Weatherconditions</th>\n",
       "      <th>Road_traffic_density</th>\n",
       "      <th>Vehicle_condition</th>\n",
       "      <th>Type_of_order</th>\n",
       "      <th>Type_of_vehicle</th>\n",
       "      <th>multiple_deliveries</th>\n",
       "      <th>Festival</th>\n",
       "      <th>City</th>\n",
       "      <th>Time_taken(min)</th>\n",
       "    </tr>\n",
       "  </thead>\n",
       "  <tbody>\n",
       "    <tr>\n",
       "      <th>3024</th>\n",
       "      <td>0x9e9c</td>\n",
       "      <td>VADRES05DEL01</td>\n",
       "      <td>36</td>\n",
       "      <td>4.4</td>\n",
       "      <td>22.310526</td>\n",
       "      <td>73.170937</td>\n",
       "      <td>22.420526</td>\n",
       "      <td>73.280937</td>\n",
       "      <td>29-03-2022</td>\n",
       "      <td>22:35:00</td>\n",
       "      <td>22:45:00</td>\n",
       "      <td>conditions Cloudy</td>\n",
       "      <td>Low</td>\n",
       "      <td>0</td>\n",
       "      <td>Meal</td>\n",
       "      <td>motorcycle</td>\n",
       "      <td>2</td>\n",
       "      <td>No</td>\n",
       "      <td>Metropolitian</td>\n",
       "      <td>(min) 41</td>\n",
       "    </tr>\n",
       "    <tr>\n",
       "      <th>3216</th>\n",
       "      <td>0xc895</td>\n",
       "      <td>KOCRES03DEL02</td>\n",
       "      <td>36</td>\n",
       "      <td>4.5</td>\n",
       "      <td>10.020683</td>\n",
       "      <td>76.310631</td>\n",
       "      <td>10.070683</td>\n",
       "      <td>76.360631</td>\n",
       "      <td>13-02-2022</td>\n",
       "      <td>22:10:00</td>\n",
       "      <td>22:15:00</td>\n",
       "      <td>conditions Stormy</td>\n",
       "      <td>Low</td>\n",
       "      <td>2</td>\n",
       "      <td>Meal</td>\n",
       "      <td>electric_scooter</td>\n",
       "      <td>0</td>\n",
       "      <td>No</td>\n",
       "      <td>Metropolitian</td>\n",
       "      <td>(min) 22</td>\n",
       "    </tr>\n",
       "    <tr>\n",
       "      <th>4109</th>\n",
       "      <td>0x8647</td>\n",
       "      <td>PUNERES07DEL03</td>\n",
       "      <td>21</td>\n",
       "      <td>4.8</td>\n",
       "      <td>18.546947</td>\n",
       "      <td>73.900626</td>\n",
       "      <td>18.576947</td>\n",
       "      <td>73.930626</td>\n",
       "      <td>11-03-2022</td>\n",
       "      <td>21:50:00</td>\n",
       "      <td>21:55:00</td>\n",
       "      <td>conditions Cloudy</td>\n",
       "      <td>Jam</td>\n",
       "      <td>0</td>\n",
       "      <td>Drinks</td>\n",
       "      <td>motorcycle</td>\n",
       "      <td>1</td>\n",
       "      <td>No</td>\n",
       "      <td>Metropolitian</td>\n",
       "      <td>(min) 29</td>\n",
       "    </tr>\n",
       "    <tr>\n",
       "      <th>625</th>\n",
       "      <td>0xa077</td>\n",
       "      <td>PUNERES02DEL01</td>\n",
       "      <td>29</td>\n",
       "      <td>4.9</td>\n",
       "      <td>18.551440</td>\n",
       "      <td>73.804855</td>\n",
       "      <td>18.621440</td>\n",
       "      <td>73.874855</td>\n",
       "      <td>20-03-2022</td>\n",
       "      <td>19:40:00</td>\n",
       "      <td>19:55:00</td>\n",
       "      <td>conditions Fog</td>\n",
       "      <td>Jam</td>\n",
       "      <td>0</td>\n",
       "      <td>Meal</td>\n",
       "      <td>motorcycle</td>\n",
       "      <td>2</td>\n",
       "      <td>No</td>\n",
       "      <td>Metropolitian</td>\n",
       "      <td>(min) 45</td>\n",
       "    </tr>\n",
       "    <tr>\n",
       "      <th>3062</th>\n",
       "      <td>0x901a</td>\n",
       "      <td>MUMRES12DEL03</td>\n",
       "      <td>26</td>\n",
       "      <td>4.7</td>\n",
       "      <td>19.207222</td>\n",
       "      <td>72.972281</td>\n",
       "      <td>19.237222</td>\n",
       "      <td>73.002281</td>\n",
       "      <td>17-03-2022</td>\n",
       "      <td>17:55:00</td>\n",
       "      <td>18:10:00</td>\n",
       "      <td>conditions Fog</td>\n",
       "      <td>Medium</td>\n",
       "      <td>0</td>\n",
       "      <td>Buffet</td>\n",
       "      <td>motorcycle</td>\n",
       "      <td>1</td>\n",
       "      <td>No</td>\n",
       "      <td>Metropolitian</td>\n",
       "      <td>(min) 27</td>\n",
       "    </tr>\n",
       "    <tr>\n",
       "      <th>1011</th>\n",
       "      <td>0xb6d1</td>\n",
       "      <td>INDORES18DEL01</td>\n",
       "      <td>29</td>\n",
       "      <td>4.9</td>\n",
       "      <td>22.753839</td>\n",
       "      <td>75.897429</td>\n",
       "      <td>22.823839</td>\n",
       "      <td>75.967429</td>\n",
       "      <td>18-03-2022</td>\n",
       "      <td>19:45:00</td>\n",
       "      <td>19:50:00</td>\n",
       "      <td>conditions Fog</td>\n",
       "      <td>Jam</td>\n",
       "      <td>1</td>\n",
       "      <td>Drinks</td>\n",
       "      <td>scooter</td>\n",
       "      <td>1</td>\n",
       "      <td>No</td>\n",
       "      <td>Metropolitian</td>\n",
       "      <td>(min) 37</td>\n",
       "    </tr>\n",
       "    <tr>\n",
       "      <th>529</th>\n",
       "      <td>0xd747</td>\n",
       "      <td>AGRRES07DEL02</td>\n",
       "      <td>31</td>\n",
       "      <td>4.3</td>\n",
       "      <td>27.160934</td>\n",
       "      <td>78.044095</td>\n",
       "      <td>27.180934</td>\n",
       "      <td>78.064095</td>\n",
       "      <td>11-02-2022</td>\n",
       "      <td>09:30:00</td>\n",
       "      <td>09:45:00</td>\n",
       "      <td>conditions Windy</td>\n",
       "      <td>Low</td>\n",
       "      <td>0</td>\n",
       "      <td>Drinks</td>\n",
       "      <td>motorcycle</td>\n",
       "      <td>1</td>\n",
       "      <td>No</td>\n",
       "      <td>Metropolitian</td>\n",
       "      <td>(min) 25</td>\n",
       "    </tr>\n",
       "    <tr>\n",
       "      <th>512</th>\n",
       "      <td>0x8011</td>\n",
       "      <td>SURRES19DEL03</td>\n",
       "      <td>36</td>\n",
       "      <td>4.6</td>\n",
       "      <td>21.149669</td>\n",
       "      <td>72.772629</td>\n",
       "      <td>21.179669</td>\n",
       "      <td>72.802629</td>\n",
       "      <td>28-03-2022</td>\n",
       "      <td>19:00:00</td>\n",
       "      <td>19:10:00</td>\n",
       "      <td>conditions Fog</td>\n",
       "      <td>Medium</td>\n",
       "      <td>2</td>\n",
       "      <td>Drinks</td>\n",
       "      <td>scooter</td>\n",
       "      <td>1</td>\n",
       "      <td>No</td>\n",
       "      <td>Metropolitian</td>\n",
       "      <td>(min) 17</td>\n",
       "    </tr>\n",
       "    <tr>\n",
       "      <th>404</th>\n",
       "      <td>0x6e9d</td>\n",
       "      <td>CHENRES03DEL01</td>\n",
       "      <td>28</td>\n",
       "      <td>4</td>\n",
       "      <td>13.091809</td>\n",
       "      <td>80.219104</td>\n",
       "      <td>13.131809</td>\n",
       "      <td>80.259104</td>\n",
       "      <td>15-03-2022</td>\n",
       "      <td>13:30:00</td>\n",
       "      <td>13:45:00</td>\n",
       "      <td>conditions Stormy</td>\n",
       "      <td>High</td>\n",
       "      <td>0</td>\n",
       "      <td>Buffet</td>\n",
       "      <td>motorcycle</td>\n",
       "      <td>1</td>\n",
       "      <td>No</td>\n",
       "      <td>Metropolitian</td>\n",
       "      <td>(min) 32</td>\n",
       "    </tr>\n",
       "    <tr>\n",
       "      <th>2702</th>\n",
       "      <td>0x16c1</td>\n",
       "      <td>PUNERES04DEL02</td>\n",
       "      <td>NaN</td>\n",
       "      <td>NaN</td>\n",
       "      <td>18.514210</td>\n",
       "      <td>73.838429</td>\n",
       "      <td>18.534210</td>\n",
       "      <td>73.858429</td>\n",
       "      <td>15-03-2022</td>\n",
       "      <td>NaN</td>\n",
       "      <td>08:25:00</td>\n",
       "      <td>conditions Sunny</td>\n",
       "      <td>Low</td>\n",
       "      <td>2</td>\n",
       "      <td>Meal</td>\n",
       "      <td>scooter</td>\n",
       "      <td>1</td>\n",
       "      <td>No</td>\n",
       "      <td>Metropolitian</td>\n",
       "      <td>(min) 22</td>\n",
       "    </tr>\n",
       "    <tr>\n",
       "      <th>4302</th>\n",
       "      <td>0x94b6</td>\n",
       "      <td>BANGRES08DEL02</td>\n",
       "      <td>31</td>\n",
       "      <td>4.5</td>\n",
       "      <td>12.906229</td>\n",
       "      <td>77.596791</td>\n",
       "      <td>12.986229</td>\n",
       "      <td>77.676791</td>\n",
       "      <td>06-03-2022</td>\n",
       "      <td>22:30:00</td>\n",
       "      <td>22:40:00</td>\n",
       "      <td>conditions Cloudy</td>\n",
       "      <td>Low</td>\n",
       "      <td>1</td>\n",
       "      <td>Buffet</td>\n",
       "      <td>scooter</td>\n",
       "      <td>1</td>\n",
       "      <td>No</td>\n",
       "      <td>Metropolitian</td>\n",
       "      <td>(min) 36</td>\n",
       "    </tr>\n",
       "    <tr>\n",
       "      <th>3259</th>\n",
       "      <td>0x6686</td>\n",
       "      <td>JAPRES03DEL03</td>\n",
       "      <td>39</td>\n",
       "      <td>4.8</td>\n",
       "      <td>26.913483</td>\n",
       "      <td>75.803139</td>\n",
       "      <td>27.003483</td>\n",
       "      <td>75.893139</td>\n",
       "      <td>04-04-2022</td>\n",
       "      <td>17:50:00</td>\n",
       "      <td>18:00:00</td>\n",
       "      <td>conditions Sunny</td>\n",
       "      <td>Medium</td>\n",
       "      <td>2</td>\n",
       "      <td>Meal</td>\n",
       "      <td>scooter</td>\n",
       "      <td>0</td>\n",
       "      <td>No</td>\n",
       "      <td>Urban</td>\n",
       "      <td>(min) 27</td>\n",
       "    </tr>\n",
       "    <tr>\n",
       "      <th>446</th>\n",
       "      <td>0x6d58</td>\n",
       "      <td>HYDRES01DEL01</td>\n",
       "      <td>26</td>\n",
       "      <td>5</td>\n",
       "      <td>17.410371</td>\n",
       "      <td>78.437225</td>\n",
       "      <td>17.520371</td>\n",
       "      <td>78.547225</td>\n",
       "      <td>04-04-2022</td>\n",
       "      <td>17:25:00</td>\n",
       "      <td>17:30:00</td>\n",
       "      <td>conditions Sunny</td>\n",
       "      <td>Medium</td>\n",
       "      <td>0</td>\n",
       "      <td>Drinks</td>\n",
       "      <td>motorcycle</td>\n",
       "      <td>1</td>\n",
       "      <td>No</td>\n",
       "      <td>Metropolitian</td>\n",
       "      <td>(min) 18</td>\n",
       "    </tr>\n",
       "    <tr>\n",
       "      <th>521</th>\n",
       "      <td>0x4d5b</td>\n",
       "      <td>SURRES03DEL02</td>\n",
       "      <td>22</td>\n",
       "      <td>4.9</td>\n",
       "      <td>21.186884</td>\n",
       "      <td>72.793616</td>\n",
       "      <td>21.206884</td>\n",
       "      <td>72.813616</td>\n",
       "      <td>03-03-2022</td>\n",
       "      <td>11:10:00</td>\n",
       "      <td>11:20:00</td>\n",
       "      <td>conditions Sandstorms</td>\n",
       "      <td>High</td>\n",
       "      <td>1</td>\n",
       "      <td>Meal</td>\n",
       "      <td>motorcycle</td>\n",
       "      <td>1</td>\n",
       "      <td>No</td>\n",
       "      <td>Metropolitian</td>\n",
       "      <td>(min) 24</td>\n",
       "    </tr>\n",
       "    <tr>\n",
       "      <th>1936</th>\n",
       "      <td>0x4a14</td>\n",
       "      <td>VADRES16DEL02</td>\n",
       "      <td>27</td>\n",
       "      <td>4.6</td>\n",
       "      <td>0.000000</td>\n",
       "      <td>0.000000</td>\n",
       "      <td>0.080000</td>\n",
       "      <td>0.080000</td>\n",
       "      <td>04-04-2022</td>\n",
       "      <td>20:45:00</td>\n",
       "      <td>21:00:00</td>\n",
       "      <td>conditions Stormy</td>\n",
       "      <td>Jam</td>\n",
       "      <td>2</td>\n",
       "      <td>Snack</td>\n",
       "      <td>scooter</td>\n",
       "      <td>1</td>\n",
       "      <td>No</td>\n",
       "      <td>Metropolitian</td>\n",
       "      <td>(min) 19</td>\n",
       "    </tr>\n",
       "    <tr>\n",
       "      <th>3158</th>\n",
       "      <td>0x1c44</td>\n",
       "      <td>HYDRES16DEL03</td>\n",
       "      <td>27</td>\n",
       "      <td>4.6</td>\n",
       "      <td>17.440827</td>\n",
       "      <td>78.393391</td>\n",
       "      <td>17.500827</td>\n",
       "      <td>78.453391</td>\n",
       "      <td>19-03-2022</td>\n",
       "      <td>21:00:00</td>\n",
       "      <td>21:05:00</td>\n",
       "      <td>conditions Sandstorms</td>\n",
       "      <td>Jam</td>\n",
       "      <td>1</td>\n",
       "      <td>Meal</td>\n",
       "      <td>motorcycle</td>\n",
       "      <td>1</td>\n",
       "      <td>No</td>\n",
       "      <td>Urban</td>\n",
       "      <td>(min) 23</td>\n",
       "    </tr>\n",
       "    <tr>\n",
       "      <th>2290</th>\n",
       "      <td>0x41b4</td>\n",
       "      <td>RANCHIRES010DEL02</td>\n",
       "      <td>39</td>\n",
       "      <td>4.9</td>\n",
       "      <td>23.354422</td>\n",
       "      <td>85.332900</td>\n",
       "      <td>23.374422</td>\n",
       "      <td>85.352900</td>\n",
       "      <td>24-03-2022</td>\n",
       "      <td>11:30:00</td>\n",
       "      <td>11:40:00</td>\n",
       "      <td>conditions Fog</td>\n",
       "      <td>High</td>\n",
       "      <td>1</td>\n",
       "      <td>Buffet</td>\n",
       "      <td>scooter</td>\n",
       "      <td>1</td>\n",
       "      <td>No</td>\n",
       "      <td>Metropolitian</td>\n",
       "      <td>(min) 37</td>\n",
       "    </tr>\n",
       "    <tr>\n",
       "      <th>1415</th>\n",
       "      <td>0x60a2</td>\n",
       "      <td>CHENRES03DEL01</td>\n",
       "      <td>24</td>\n",
       "      <td>4.5</td>\n",
       "      <td>13.091809</td>\n",
       "      <td>80.219104</td>\n",
       "      <td>13.101809</td>\n",
       "      <td>80.229104</td>\n",
       "      <td>15-03-2022</td>\n",
       "      <td>09:40:00</td>\n",
       "      <td>09:45:00</td>\n",
       "      <td>conditions Sandstorms</td>\n",
       "      <td>Low</td>\n",
       "      <td>2</td>\n",
       "      <td>Drinks</td>\n",
       "      <td>motorcycle</td>\n",
       "      <td>0</td>\n",
       "      <td>NaN</td>\n",
       "      <td>Urban</td>\n",
       "      <td>(min) 11</td>\n",
       "    </tr>\n",
       "    <tr>\n",
       "      <th>2835</th>\n",
       "      <td>0x3593</td>\n",
       "      <td>MUMRES18DEL01</td>\n",
       "      <td>20</td>\n",
       "      <td>4.6</td>\n",
       "      <td>19.109300</td>\n",
       "      <td>72.825451</td>\n",
       "      <td>19.119300</td>\n",
       "      <td>72.835451</td>\n",
       "      <td>11-03-2022</td>\n",
       "      <td>09:10:00</td>\n",
       "      <td>09:20:00</td>\n",
       "      <td>conditions Sandstorms</td>\n",
       "      <td>Low</td>\n",
       "      <td>1</td>\n",
       "      <td>Meal</td>\n",
       "      <td>motorcycle</td>\n",
       "      <td>0</td>\n",
       "      <td>No</td>\n",
       "      <td>Metropolitian</td>\n",
       "      <td>(min) 16</td>\n",
       "    </tr>\n",
       "    <tr>\n",
       "      <th>3682</th>\n",
       "      <td>0xb921</td>\n",
       "      <td>MYSRES16DEL01</td>\n",
       "      <td>22</td>\n",
       "      <td>4.7</td>\n",
       "      <td>12.316967</td>\n",
       "      <td>76.603067</td>\n",
       "      <td>12.426967</td>\n",
       "      <td>76.713067</td>\n",
       "      <td>04-03-2022</td>\n",
       "      <td>21:15:00</td>\n",
       "      <td>21:25:00</td>\n",
       "      <td>conditions Stormy</td>\n",
       "      <td>Jam</td>\n",
       "      <td>0</td>\n",
       "      <td>Buffet</td>\n",
       "      <td>motorcycle</td>\n",
       "      <td>1</td>\n",
       "      <td>No</td>\n",
       "      <td>Metropolitian</td>\n",
       "      <td>(min) 29</td>\n",
       "    </tr>\n",
       "    <tr>\n",
       "      <th>1371</th>\n",
       "      <td>0x4961</td>\n",
       "      <td>SURRES02DEL01</td>\n",
       "      <td>29</td>\n",
       "      <td>4.6</td>\n",
       "      <td>21.186608</td>\n",
       "      <td>72.794136</td>\n",
       "      <td>21.256608</td>\n",
       "      <td>72.864136</td>\n",
       "      <td>02-04-2022</td>\n",
       "      <td>21:20:00</td>\n",
       "      <td>21:25:00</td>\n",
       "      <td>conditions Cloudy</td>\n",
       "      <td>Jam</td>\n",
       "      <td>2</td>\n",
       "      <td>Meal</td>\n",
       "      <td>electric_scooter</td>\n",
       "      <td>1</td>\n",
       "      <td>No</td>\n",
       "      <td>Metropolitian</td>\n",
       "      <td>(min) 30</td>\n",
       "    </tr>\n",
       "    <tr>\n",
       "      <th>210</th>\n",
       "      <td>0x1c60</td>\n",
       "      <td>MYSRES15DEL01</td>\n",
       "      <td>32</td>\n",
       "      <td>4.7</td>\n",
       "      <td>12.352058</td>\n",
       "      <td>76.606650</td>\n",
       "      <td>12.362058</td>\n",
       "      <td>76.616650</td>\n",
       "      <td>21-03-2022</td>\n",
       "      <td>09:40:00</td>\n",
       "      <td>09:50:00</td>\n",
       "      <td>conditions Windy</td>\n",
       "      <td>Low</td>\n",
       "      <td>2</td>\n",
       "      <td>Buffet</td>\n",
       "      <td>electric_scooter</td>\n",
       "      <td>0</td>\n",
       "      <td>No</td>\n",
       "      <td>Metropolitian</td>\n",
       "      <td>(min) 25</td>\n",
       "    </tr>\n",
       "    <tr>\n",
       "      <th>1477</th>\n",
       "      <td>0x55c5</td>\n",
       "      <td>RANCHIRES07DEL03</td>\n",
       "      <td>22</td>\n",
       "      <td>4.9</td>\n",
       "      <td>23.359407</td>\n",
       "      <td>85.325055</td>\n",
       "      <td>23.419407</td>\n",
       "      <td>85.385055</td>\n",
       "      <td>07-03-2022</td>\n",
       "      <td>17:25:00</td>\n",
       "      <td>17:35:00</td>\n",
       "      <td>conditions Windy</td>\n",
       "      <td>Medium</td>\n",
       "      <td>2</td>\n",
       "      <td>Snack</td>\n",
       "      <td>scooter</td>\n",
       "      <td>1</td>\n",
       "      <td>No</td>\n",
       "      <td>Metropolitian</td>\n",
       "      <td>(min) 24</td>\n",
       "    </tr>\n",
       "    <tr>\n",
       "      <th>3007</th>\n",
       "      <td>0xc611</td>\n",
       "      <td>KNPRES19DEL02</td>\n",
       "      <td>28</td>\n",
       "      <td>4.9</td>\n",
       "      <td>26.490950</td>\n",
       "      <td>80.318656</td>\n",
       "      <td>26.620950</td>\n",
       "      <td>80.448656</td>\n",
       "      <td>12-02-2022</td>\n",
       "      <td>18:45:00</td>\n",
       "      <td>18:55:00</td>\n",
       "      <td>conditions Sunny</td>\n",
       "      <td>Medium</td>\n",
       "      <td>0</td>\n",
       "      <td>Meal</td>\n",
       "      <td>motorcycle</td>\n",
       "      <td>1</td>\n",
       "      <td>No</td>\n",
       "      <td>Metropolitian</td>\n",
       "      <td>(min) 20</td>\n",
       "    </tr>\n",
       "    <tr>\n",
       "      <th>2307</th>\n",
       "      <td>0x6128</td>\n",
       "      <td>COIMBRES16DEL03</td>\n",
       "      <td>36</td>\n",
       "      <td>4.5</td>\n",
       "      <td>11.010375</td>\n",
       "      <td>76.952950</td>\n",
       "      <td>11.070375</td>\n",
       "      <td>77.012950</td>\n",
       "      <td>24-03-2022</td>\n",
       "      <td>20:30:00</td>\n",
       "      <td>20:40:00</td>\n",
       "      <td>conditions Windy</td>\n",
       "      <td>Jam</td>\n",
       "      <td>2</td>\n",
       "      <td>Snack</td>\n",
       "      <td>electric_scooter</td>\n",
       "      <td>1</td>\n",
       "      <td>No</td>\n",
       "      <td>Urban</td>\n",
       "      <td>(min) 25</td>\n",
       "    </tr>\n",
       "    <tr>\n",
       "      <th>611</th>\n",
       "      <td>0xd550</td>\n",
       "      <td>ALHRES19DEL03</td>\n",
       "      <td>26</td>\n",
       "      <td>5</td>\n",
       "      <td>25.457116</td>\n",
       "      <td>81.859682</td>\n",
       "      <td>25.487116</td>\n",
       "      <td>81.889682</td>\n",
       "      <td>17-02-2022</td>\n",
       "      <td>22:10:00</td>\n",
       "      <td>22:25:00</td>\n",
       "      <td>conditions Cloudy</td>\n",
       "      <td>Low</td>\n",
       "      <td>1</td>\n",
       "      <td>Buffet</td>\n",
       "      <td>scooter</td>\n",
       "      <td>1</td>\n",
       "      <td>No</td>\n",
       "      <td>Metropolitian</td>\n",
       "      <td>(min) 10</td>\n",
       "    </tr>\n",
       "    <tr>\n",
       "      <th>3459</th>\n",
       "      <td>0x6eba</td>\n",
       "      <td>HYDRES12DEL03</td>\n",
       "      <td>29</td>\n",
       "      <td>4.6</td>\n",
       "      <td>17.429585</td>\n",
       "      <td>78.392621</td>\n",
       "      <td>17.519585</td>\n",
       "      <td>78.482621</td>\n",
       "      <td>16-03-2022</td>\n",
       "      <td>17:15:00</td>\n",
       "      <td>17:25:00</td>\n",
       "      <td>conditions Fog</td>\n",
       "      <td>Medium</td>\n",
       "      <td>0</td>\n",
       "      <td>Meal</td>\n",
       "      <td>motorcycle</td>\n",
       "      <td>NaN</td>\n",
       "      <td>No</td>\n",
       "      <td>Metropolitian</td>\n",
       "      <td>(min) 38</td>\n",
       "    </tr>\n",
       "    <tr>\n",
       "      <th>2950</th>\n",
       "      <td>0x2596</td>\n",
       "      <td>CHENRES05DEL02</td>\n",
       "      <td>26</td>\n",
       "      <td>4.6</td>\n",
       "      <td>13.058616</td>\n",
       "      <td>80.264151</td>\n",
       "      <td>13.078616</td>\n",
       "      <td>80.284151</td>\n",
       "      <td>15-03-2022</td>\n",
       "      <td>10:35:00</td>\n",
       "      <td>10:50:00</td>\n",
       "      <td>conditions Sunny</td>\n",
       "      <td>Low</td>\n",
       "      <td>0</td>\n",
       "      <td>Meal</td>\n",
       "      <td>motorcycle</td>\n",
       "      <td>1</td>\n",
       "      <td>NaN</td>\n",
       "      <td>Metropolitian</td>\n",
       "      <td>(min) 11</td>\n",
       "    </tr>\n",
       "    <tr>\n",
       "      <th>1933</th>\n",
       "      <td>0x54bd</td>\n",
       "      <td>MUMRES16DEL02</td>\n",
       "      <td>30</td>\n",
       "      <td>5</td>\n",
       "      <td>19.120083</td>\n",
       "      <td>72.907385</td>\n",
       "      <td>19.200083</td>\n",
       "      <td>72.987385</td>\n",
       "      <td>29-03-2022</td>\n",
       "      <td>23:25:00</td>\n",
       "      <td>23:30:00</td>\n",
       "      <td>conditions Sandstorms</td>\n",
       "      <td>Low</td>\n",
       "      <td>0</td>\n",
       "      <td>Meal</td>\n",
       "      <td>motorcycle</td>\n",
       "      <td>1</td>\n",
       "      <td>No</td>\n",
       "      <td>Metropolitian</td>\n",
       "      <td>(min) 29</td>\n",
       "    </tr>\n",
       "    <tr>\n",
       "      <th>1218</th>\n",
       "      <td>0x2f86</td>\n",
       "      <td>COIMBRES15DEL02</td>\n",
       "      <td>20</td>\n",
       "      <td>4.9</td>\n",
       "      <td>11.006686</td>\n",
       "      <td>76.951736</td>\n",
       "      <td>11.136686</td>\n",
       "      <td>77.081736</td>\n",
       "      <td>20-03-2022</td>\n",
       "      <td>21:15:00</td>\n",
       "      <td>21:30:00</td>\n",
       "      <td>conditions Windy</td>\n",
       "      <td>Jam</td>\n",
       "      <td>1</td>\n",
       "      <td>Snack</td>\n",
       "      <td>scooter</td>\n",
       "      <td>0</td>\n",
       "      <td>No</td>\n",
       "      <td>Urban</td>\n",
       "      <td>(min) 26</td>\n",
       "    </tr>\n",
       "  </tbody>\n",
       "</table>\n",
       "</div>"
      ],
      "text/plain": [
       "           ID  Delivery_person_ID Delivery_person_Age Delivery_person_Ratings  \\\n",
       "3024  0x9e9c       VADRES05DEL01                   36                     4.4   \n",
       "3216  0xc895       KOCRES03DEL02                   36                     4.5   \n",
       "4109  0x8647      PUNERES07DEL03                   21                     4.8   \n",
       "625   0xa077      PUNERES02DEL01                   29                     4.9   \n",
       "3062  0x901a       MUMRES12DEL03                   26                     4.7   \n",
       "1011  0xb6d1      INDORES18DEL01                   29                     4.9   \n",
       "529   0xd747       AGRRES07DEL02                   31                     4.3   \n",
       "512   0x8011       SURRES19DEL03                   36                     4.6   \n",
       "404   0x6e9d      CHENRES03DEL01                   28                       4   \n",
       "2702  0x16c1      PUNERES04DEL02                 NaN                     NaN    \n",
       "4302  0x94b6      BANGRES08DEL02                   31                     4.5   \n",
       "3259  0x6686       JAPRES03DEL03                   39                     4.8   \n",
       "446   0x6d58       HYDRES01DEL01                   26                       5   \n",
       "521   0x4d5b       SURRES03DEL02                   22                     4.9   \n",
       "1936  0x4a14       VADRES16DEL02                   27                     4.6   \n",
       "3158  0x1c44       HYDRES16DEL03                   27                     4.6   \n",
       "2290  0x41b4   RANCHIRES010DEL02                   39                     4.9   \n",
       "1415  0x60a2      CHENRES03DEL01                   24                     4.5   \n",
       "2835  0x3593       MUMRES18DEL01                   20                     4.6   \n",
       "3682  0xb921       MYSRES16DEL01                   22                     4.7   \n",
       "1371  0x4961       SURRES02DEL01                   29                     4.6   \n",
       "210   0x1c60       MYSRES15DEL01                   32                     4.7   \n",
       "1477  0x55c5    RANCHIRES07DEL03                   22                     4.9   \n",
       "3007  0xc611       KNPRES19DEL02                   28                     4.9   \n",
       "2307  0x6128     COIMBRES16DEL03                   36                     4.5   \n",
       "611   0xd550       ALHRES19DEL03                   26                       5   \n",
       "3459  0x6eba       HYDRES12DEL03                   29                     4.6   \n",
       "2950  0x2596      CHENRES05DEL02                   26                     4.6   \n",
       "1933  0x54bd       MUMRES16DEL02                   30                       5   \n",
       "1218  0x2f86     COIMBRES15DEL02                   20                     4.9   \n",
       "\n",
       "      Restaurant_latitude  Restaurant_longitude  Delivery_location_latitude  \\\n",
       "3024            22.310526             73.170937                   22.420526   \n",
       "3216            10.020683             76.310631                   10.070683   \n",
       "4109            18.546947             73.900626                   18.576947   \n",
       "625             18.551440             73.804855                   18.621440   \n",
       "3062            19.207222             72.972281                   19.237222   \n",
       "1011            22.753839             75.897429                   22.823839   \n",
       "529             27.160934             78.044095                   27.180934   \n",
       "512             21.149669             72.772629                   21.179669   \n",
       "404             13.091809             80.219104                   13.131809   \n",
       "2702            18.514210             73.838429                   18.534210   \n",
       "4302            12.906229             77.596791                   12.986229   \n",
       "3259            26.913483             75.803139                   27.003483   \n",
       "446             17.410371             78.437225                   17.520371   \n",
       "521             21.186884             72.793616                   21.206884   \n",
       "1936             0.000000              0.000000                    0.080000   \n",
       "3158            17.440827             78.393391                   17.500827   \n",
       "2290            23.354422             85.332900                   23.374422   \n",
       "1415            13.091809             80.219104                   13.101809   \n",
       "2835            19.109300             72.825451                   19.119300   \n",
       "3682            12.316967             76.603067                   12.426967   \n",
       "1371            21.186608             72.794136                   21.256608   \n",
       "210             12.352058             76.606650                   12.362058   \n",
       "1477            23.359407             85.325055                   23.419407   \n",
       "3007            26.490950             80.318656                   26.620950   \n",
       "2307            11.010375             76.952950                   11.070375   \n",
       "611             25.457116             81.859682                   25.487116   \n",
       "3459            17.429585             78.392621                   17.519585   \n",
       "2950            13.058616             80.264151                   13.078616   \n",
       "1933            19.120083             72.907385                   19.200083   \n",
       "1218            11.006686             76.951736                   11.136686   \n",
       "\n",
       "      Delivery_location_longitude  Order_Date Time_Orderd Time_Order_picked  \\\n",
       "3024                    73.280937  29-03-2022    22:35:00          22:45:00   \n",
       "3216                    76.360631  13-02-2022    22:10:00          22:15:00   \n",
       "4109                    73.930626  11-03-2022    21:50:00          21:55:00   \n",
       "625                     73.874855  20-03-2022    19:40:00          19:55:00   \n",
       "3062                    73.002281  17-03-2022    17:55:00          18:10:00   \n",
       "1011                    75.967429  18-03-2022    19:45:00          19:50:00   \n",
       "529                     78.064095  11-02-2022    09:30:00          09:45:00   \n",
       "512                     72.802629  28-03-2022    19:00:00          19:10:00   \n",
       "404                     80.259104  15-03-2022    13:30:00          13:45:00   \n",
       "2702                    73.858429  15-03-2022        NaN           08:25:00   \n",
       "4302                    77.676791  06-03-2022    22:30:00          22:40:00   \n",
       "3259                    75.893139  04-04-2022    17:50:00          18:00:00   \n",
       "446                     78.547225  04-04-2022    17:25:00          17:30:00   \n",
       "521                     72.813616  03-03-2022    11:10:00          11:20:00   \n",
       "1936                     0.080000  04-04-2022    20:45:00          21:00:00   \n",
       "3158                    78.453391  19-03-2022    21:00:00          21:05:00   \n",
       "2290                    85.352900  24-03-2022    11:30:00          11:40:00   \n",
       "1415                    80.229104  15-03-2022    09:40:00          09:45:00   \n",
       "2835                    72.835451  11-03-2022    09:10:00          09:20:00   \n",
       "3682                    76.713067  04-03-2022    21:15:00          21:25:00   \n",
       "1371                    72.864136  02-04-2022    21:20:00          21:25:00   \n",
       "210                     76.616650  21-03-2022    09:40:00          09:50:00   \n",
       "1477                    85.385055  07-03-2022    17:25:00          17:35:00   \n",
       "3007                    80.448656  12-02-2022    18:45:00          18:55:00   \n",
       "2307                    77.012950  24-03-2022    20:30:00          20:40:00   \n",
       "611                     81.889682  17-02-2022    22:10:00          22:25:00   \n",
       "3459                    78.482621  16-03-2022    17:15:00          17:25:00   \n",
       "2950                    80.284151  15-03-2022    10:35:00          10:50:00   \n",
       "1933                    72.987385  29-03-2022    23:25:00          23:30:00   \n",
       "1218                    77.081736  20-03-2022    21:15:00          21:30:00   \n",
       "\n",
       "          Weatherconditions Road_traffic_density  Vehicle_condition  \\\n",
       "3024      conditions Cloudy                 Low                   0   \n",
       "3216      conditions Stormy                 Low                   2   \n",
       "4109      conditions Cloudy                 Jam                   0   \n",
       "625          conditions Fog                 Jam                   0   \n",
       "3062         conditions Fog              Medium                   0   \n",
       "1011         conditions Fog                 Jam                   1   \n",
       "529        conditions Windy                 Low                   0   \n",
       "512          conditions Fog              Medium                   2   \n",
       "404       conditions Stormy                High                   0   \n",
       "2702       conditions Sunny                 Low                   2   \n",
       "4302      conditions Cloudy                 Low                   1   \n",
       "3259       conditions Sunny              Medium                   2   \n",
       "446        conditions Sunny              Medium                   0   \n",
       "521   conditions Sandstorms                High                   1   \n",
       "1936      conditions Stormy                 Jam                   2   \n",
       "3158  conditions Sandstorms                 Jam                   1   \n",
       "2290         conditions Fog                High                   1   \n",
       "1415  conditions Sandstorms                 Low                   2   \n",
       "2835  conditions Sandstorms                 Low                   1   \n",
       "3682      conditions Stormy                 Jam                   0   \n",
       "1371      conditions Cloudy                 Jam                   2   \n",
       "210        conditions Windy                 Low                   2   \n",
       "1477       conditions Windy              Medium                   2   \n",
       "3007       conditions Sunny              Medium                   0   \n",
       "2307       conditions Windy                 Jam                   2   \n",
       "611       conditions Cloudy                 Low                   1   \n",
       "3459         conditions Fog              Medium                   0   \n",
       "2950       conditions Sunny                 Low                   0   \n",
       "1933  conditions Sandstorms                 Low                   0   \n",
       "1218       conditions Windy                 Jam                   1   \n",
       "\n",
       "     Type_of_order    Type_of_vehicle multiple_deliveries Festival  \\\n",
       "3024         Meal         motorcycle                    2      No    \n",
       "3216         Meal   electric_scooter                    0      No    \n",
       "4109       Drinks         motorcycle                    1      No    \n",
       "625          Meal         motorcycle                    2      No    \n",
       "3062       Buffet         motorcycle                    1      No    \n",
       "1011       Drinks            scooter                    1      No    \n",
       "529        Drinks         motorcycle                    1      No    \n",
       "512        Drinks            scooter                    1      No    \n",
       "404        Buffet         motorcycle                    1      No    \n",
       "2702         Meal            scooter                    1      No    \n",
       "4302       Buffet            scooter                    1      No    \n",
       "3259         Meal            scooter                    0      No    \n",
       "446        Drinks         motorcycle                    1      No    \n",
       "521          Meal         motorcycle                    1      No    \n",
       "1936        Snack            scooter                    1      No    \n",
       "3158         Meal         motorcycle                    1      No    \n",
       "2290       Buffet            scooter                    1      No    \n",
       "1415       Drinks         motorcycle                    0     NaN    \n",
       "2835         Meal         motorcycle                    0      No    \n",
       "3682       Buffet         motorcycle                    1      No    \n",
       "1371         Meal   electric_scooter                    1      No    \n",
       "210        Buffet   electric_scooter                    0      No    \n",
       "1477        Snack            scooter                    1      No    \n",
       "3007         Meal         motorcycle                    1      No    \n",
       "2307        Snack   electric_scooter                    1      No    \n",
       "611        Buffet            scooter                    1      No    \n",
       "3459         Meal         motorcycle                 NaN       No    \n",
       "2950         Meal         motorcycle                    1     NaN    \n",
       "1933         Meal         motorcycle                    1      No    \n",
       "1218        Snack            scooter                    0      No    \n",
       "\n",
       "                City Time_taken(min)  \n",
       "3024  Metropolitian         (min) 41  \n",
       "3216  Metropolitian         (min) 22  \n",
       "4109  Metropolitian         (min) 29  \n",
       "625   Metropolitian         (min) 45  \n",
       "3062  Metropolitian         (min) 27  \n",
       "1011  Metropolitian         (min) 37  \n",
       "529   Metropolitian         (min) 25  \n",
       "512   Metropolitian         (min) 17  \n",
       "404   Metropolitian         (min) 32  \n",
       "2702  Metropolitian         (min) 22  \n",
       "4302  Metropolitian         (min) 36  \n",
       "3259          Urban         (min) 27  \n",
       "446   Metropolitian         (min) 18  \n",
       "521   Metropolitian         (min) 24  \n",
       "1936  Metropolitian         (min) 19  \n",
       "3158          Urban         (min) 23  \n",
       "2290  Metropolitian         (min) 37  \n",
       "1415          Urban         (min) 11  \n",
       "2835  Metropolitian         (min) 16  \n",
       "3682  Metropolitian         (min) 29  \n",
       "1371  Metropolitian         (min) 30  \n",
       "210   Metropolitian         (min) 25  \n",
       "1477  Metropolitian         (min) 24  \n",
       "3007  Metropolitian         (min) 20  \n",
       "2307          Urban         (min) 25  \n",
       "611   Metropolitian         (min) 10  \n",
       "3459  Metropolitian         (min) 38  \n",
       "2950  Metropolitian         (min) 11  \n",
       "1933  Metropolitian         (min) 29  \n",
       "1218          Urban         (min) 26  "
      ]
     },
     "execution_count": 706,
     "metadata": {},
     "output_type": "execute_result"
    }
   ],
   "source": [
    "df_raw.sample(30)"
   ]
  },
  {
   "cell_type": "markdown",
   "id": "17db6691",
   "metadata": {},
   "source": [
    "# Limpeza & Transansformação"
   ]
  },
  {
   "cell_type": "markdown",
   "id": "93b28f0b",
   "metadata": {},
   "source": [
    "Claramente algumas colunas possuem valores NaN, mas eles não estão aparecendo na checagem de NaNs. Isso pode ser porque eles são do tipo objeto ou estão armazenados como string e possuem algum formato estranho como \" NaN\", com um espaço em branco.<br>Os primeiros passos serão: remover excesso de NaNs e remover todos os espaços das colunas de string, depois convertê-las para o tipo apropriado e preenchê-las com o valor mais apropriado."
   ]
  },
  {
   "cell_type": "markdown",
   "id": "5014d4da",
   "metadata": {},
   "source": [
    "## Remover espaços & Corrigir tipos de dados e erros de escrita"
   ]
  },
  {
   "cell_type": "code",
   "execution_count": 707,
   "id": "05ddf976",
   "metadata": {},
   "outputs": [],
   "source": [
    "df_clear = df_raw.copy()\n",
    "# Remover espaços em branco no início e no final das strings\n",
    "df_clear = df_clear.apply(lambda x: x.str.strip() if x.dtype == \"object\" else x)\n",
    "# Converter para tipos númericos onde for necessario\n",
    "df_clear[\"Delivery_person_Age\"] = df_clear[\"Delivery_person_Age\"].apply(pd.to_numeric, errors=\"coerce\").astype(\"Int64\")\n",
    "df_clear[\"Delivery_person_Ratings\"] = df_clear[\"Delivery_person_Ratings\"].apply(pd.to_numeric, errors=\"coerce\")\n",
    "df_clear[\"multiple_deliveries\"] = df_clear[\"multiple_deliveries\"].apply(pd.to_numeric, errors=\"coerce\").astype(\"Int64\")\n",
    "# Corrigir erro de escrita em colunas\n",
    "df_clear.rename(columns={\"Time_Orderd\": \"Time_Ordered\"}, inplace=True)\n",
    "# Corrigir erro de escrita em valores\n",
    "df_clear[\"City\"] = df_clear[\"City\"].str.replace(\"Metropolitian\", \"Metropolitan\", regex=False)\n",
    "# Converter para tipo date.time para melhor manipulá-los\n",
    "df_clear[\"Order_Date\"] = pd.to_datetime(df_clear[\"Order_Date\"], format=\"%d-%m-%Y\").astype(\"string\")\n",
    "df_clear[\"Time_Ordered\"] = pd.to_datetime(df_clear[\"Time_Ordered\"], format=\"%H:%M:%S\").dt.time.astype(\"string\")\n",
    "df_clear[\"Time_Order_picked\"] = pd.to_datetime(df_clear[\"Time_Order_picked\"], format=\"%H:%M:%S\").dt.time.astype(\"string\")\n",
    "# Remover letras da coluna \"Time_taken(min)\" e conberter tipo para \"Int64\"\n",
    "df_clear[\"Time_taken(min)\"] = df_clear[\"Time_taken(min)\"].str.extract(r'(\\d+)').astype(\"Int64\")\n",
    "# Remover excesso de palavras na coluna \"Weatherconditions\"\n",
    "df_clear[\"Weatherconditions\"] = df_clear[\"Weatherconditions\"].str.replace(\"conditions \", \"\", regex=False)\n",
    "# Mudar NaNs para \"Unknown\" em colunas que não guardam valores numéricos\n",
    "df_clear[\"Weatherconditions\"] = df_clear[\"Weatherconditions\"].str.replace(\"NaN\", \"Unknown\", regex=False)\n",
    "df_clear[\"Road_traffic_density\"] = df_clear[\"Road_traffic_density\"].str.replace(\"NaN\", \"Unknown\", regex=False)\n",
    "df_clear[\"City\"] = df_clear[\"City\"].str.replace(\"NaN\", \"Unknown\", regex=False)\n",
    "df_clear[\"Festival\"] = df_clear[\"Festival\"].str.replace(\"NaN\", \"Unknown\", regex=False)\n"
   ]
  },
  {
   "cell_type": "code",
   "execution_count": 708,
   "id": "403902e4",
   "metadata": {},
   "outputs": [
    {
     "name": "stdout",
     "output_type": "stream",
     "text": [
      "Max rating: 6.0\n",
      "Min rating: 1.0\n"
     ]
    },
    {
     "data": {
      "text/html": [
       "<div>\n",
       "<style scoped>\n",
       "    .dataframe tbody tr th:only-of-type {\n",
       "        vertical-align: middle;\n",
       "    }\n",
       "\n",
       "    .dataframe tbody tr th {\n",
       "        vertical-align: top;\n",
       "    }\n",
       "\n",
       "    .dataframe thead th {\n",
       "        text-align: right;\n",
       "    }\n",
       "</style>\n",
       "<table border=\"1\" class=\"dataframe\">\n",
       "  <thead>\n",
       "    <tr style=\"text-align: right;\">\n",
       "      <th></th>\n",
       "      <th>ID</th>\n",
       "      <th>Delivery_person_ID</th>\n",
       "      <th>Delivery_person_Age</th>\n",
       "      <th>Delivery_person_Ratings</th>\n",
       "      <th>Restaurant_latitude</th>\n",
       "      <th>Restaurant_longitude</th>\n",
       "      <th>Delivery_location_latitude</th>\n",
       "      <th>Delivery_location_longitude</th>\n",
       "      <th>Order_Date</th>\n",
       "      <th>Time_Ordered</th>\n",
       "      <th>Time_Order_picked</th>\n",
       "      <th>Weatherconditions</th>\n",
       "      <th>Road_traffic_density</th>\n",
       "      <th>Vehicle_condition</th>\n",
       "      <th>Type_of_order</th>\n",
       "      <th>Type_of_vehicle</th>\n",
       "      <th>multiple_deliveries</th>\n",
       "      <th>Festival</th>\n",
       "      <th>City</th>\n",
       "      <th>Time_taken(min)</th>\n",
       "    </tr>\n",
       "  </thead>\n",
       "  <tbody>\n",
       "    <tr>\n",
       "      <th>3586</th>\n",
       "      <td>0x46d</td>\n",
       "      <td>BANGRES05DEL01</td>\n",
       "      <td>50</td>\n",
       "      <td>6.0</td>\n",
       "      <td>-12.970324</td>\n",
       "      <td>-77.645748</td>\n",
       "      <td>13.010324</td>\n",
       "      <td>77.685748</td>\n",
       "      <td>2022-03-13</td>\n",
       "      <td>&lt;NA&gt;</td>\n",
       "      <td>12:30:00</td>\n",
       "      <td>Unknown</td>\n",
       "      <td>Unknown</td>\n",
       "      <td>3</td>\n",
       "      <td>Meal</td>\n",
       "      <td>electric_scooter</td>\n",
       "      <td>0</td>\n",
       "      <td>No</td>\n",
       "      <td>Urban</td>\n",
       "      <td>25</td>\n",
       "    </tr>\n",
       "  </tbody>\n",
       "</table>\n",
       "</div>"
      ],
      "text/plain": [
       "         ID Delivery_person_ID  Delivery_person_Age  Delivery_person_Ratings  \\\n",
       "3586  0x46d     BANGRES05DEL01                   50                      6.0   \n",
       "\n",
       "      Restaurant_latitude  Restaurant_longitude  Delivery_location_latitude  \\\n",
       "3586           -12.970324            -77.645748                   13.010324   \n",
       "\n",
       "      Delivery_location_longitude  Order_Date Time_Ordered Time_Order_picked  \\\n",
       "3586                    77.685748  2022-03-13         <NA>          12:30:00   \n",
       "\n",
       "     Weatherconditions Road_traffic_density  Vehicle_condition Type_of_order  \\\n",
       "3586           Unknown              Unknown                  3          Meal   \n",
       "\n",
       "       Type_of_vehicle  multiple_deliveries Festival   City  Time_taken(min)  \n",
       "3586  electric_scooter                    0       No  Urban               25  "
      ]
     },
     "execution_count": 708,
     "metadata": {},
     "output_type": "execute_result"
    }
   ],
   "source": [
    "print(f\"Max rating: {df_clear[\"Delivery_person_Ratings\"].max()}\\nMin rating: {df_clear[\"Delivery_person_Ratings\"].min()}\")\n",
    "df_clear[df_clear[\"Delivery_person_Ratings\"] > 5.0]"
   ]
  },
  {
   "cell_type": "markdown",
   "id": "d69cec03",
   "metadata": {},
   "source": [
    "Há um valor de avaliação de 6,0. Como há apenas um valor \"errado\" e, assumindo que o máximo é 5 \"estrelas\", ele será corrigido para 5."
   ]
  },
  {
   "cell_type": "code",
   "execution_count": 709,
   "id": "5a073f4b",
   "metadata": {},
   "outputs": [],
   "source": [
    "df_clear.loc[df_clear[\"Delivery_person_Ratings\"] > 5.0, \"Delivery_person_Ratings\"] = 5.0"
   ]
  },
  {
   "cell_type": "markdown",
   "id": "68f43841",
   "metadata": {},
   "source": [
    "## Remover excesso de NaNs"
   ]
  },
  {
   "cell_type": "code",
   "execution_count": 710,
   "id": "7539f25f",
   "metadata": {},
   "outputs": [],
   "source": [
    "# Para manter a análise simples, linhas com mais de 2 NaNs serão removidas, o que dá ~5% dos dados\n",
    "df_clear = df_clear.dropna(thresh=len(df_clear.columns) - 2).reset_index(drop=True)\n",
    "# Há somente 1 NaN em \"Time_taken(min)\", que será substituído removido pois o trabalho para estipula-lo não é viável\n",
    "df_clear = df_clear.dropna(subset=[\"Time_taken(min)\"]).reset_index(drop=True)"
   ]
  },
  {
   "cell_type": "code",
   "execution_count": 711,
   "id": "e9da250d",
   "metadata": {},
   "outputs": [
    {
     "name": "stdout",
     "output_type": "stream",
     "text": [
      "\n",
      "Info dos valores:\n",
      "\n",
      "<class 'pandas.core.frame.DataFrame'>\n",
      "RangeIndex: 4291 entries, 0 to 4290\n",
      "Data columns (total 20 columns):\n",
      " #   Column                       Non-Null Count  Dtype  \n",
      "---  ------                       --------------  -----  \n",
      " 0   ID                           4291 non-null   object \n",
      " 1   Delivery_person_ID           4291 non-null   object \n",
      " 2   Delivery_person_Age          4277 non-null   Int64  \n",
      " 3   Delivery_person_Ratings      4271 non-null   float64\n",
      " 4   Restaurant_latitude          4291 non-null   float64\n",
      " 5   Restaurant_longitude         4291 non-null   float64\n",
      " 6   Delivery_location_latitude   4291 non-null   float64\n",
      " 7   Delivery_location_longitude  4291 non-null   float64\n",
      " 8   Order_Date                   4291 non-null   string \n",
      " 9   Time_Ordered                 4287 non-null   string \n",
      " 10  Time_Order_picked            4291 non-null   string \n",
      " 11  Weatherconditions            4291 non-null   object \n",
      " 12  Road_traffic_density         4291 non-null   object \n",
      " 13  Vehicle_condition            4291 non-null   int64  \n",
      " 14  Type_of_order                4291 non-null   object \n",
      " 15  Type_of_vehicle              4291 non-null   object \n",
      " 16  multiple_deliveries          4189 non-null   Int64  \n",
      " 17  Festival                     4291 non-null   object \n",
      " 18  City                         4291 non-null   object \n",
      " 19  Time_taken(min)              4291 non-null   Int64  \n",
      "dtypes: Int64(3), float64(5), int64(1), object(8), string(3)\n",
      "memory usage: 683.2+ KB\n",
      "None\n",
      "\n",
      "Descrição dos dados:\n",
      "\n",
      "       Delivery_person_Age  Delivery_person_Ratings  Restaurant_latitude  \\\n",
      "count               4277.0              4271.000000          4291.000000   \n",
      "mean             29.449614                 4.630414            17.102314   \n",
      "std               5.788815                 0.330637             7.842138   \n",
      "min                   15.0                 1.000000           -30.902872   \n",
      "25%                   25.0                 4.500000            12.913041   \n",
      "50%                   29.0                 4.700000            18.546947   \n",
      "75%                   34.0                 4.800000            22.727021   \n",
      "max                   50.0                 5.000000            30.914057   \n",
      "\n",
      "       Restaurant_longitude  Delivery_location_latitude  \\\n",
      "count           4291.000000                 4291.000000   \n",
      "mean              70.374837                   17.342799   \n",
      "std               21.820543                    7.445809   \n",
      "min              -77.645748                    0.010000   \n",
      "25%               73.170283                   12.969934   \n",
      "50%               75.894377                   18.621440   \n",
      "75%               78.024883                   22.781857   \n",
      "max               88.433452                   31.035562   \n",
      "\n",
      "       Delivery_location_longitude  Vehicle_condition  multiple_deliveries  \\\n",
      "count                  4291.000000        4291.000000               4189.0   \n",
      "mean                     70.474555           1.000233             0.761996   \n",
      "std                      21.703733           0.819204             0.589973   \n",
      "min                       0.010000           0.000000                  0.0   \n",
      "25%                      73.280610           0.000000                  0.0   \n",
      "50%                      75.984377           1.000000                  1.0   \n",
      "75%                      78.080363           2.000000                  1.0   \n",
      "max                      88.563452           3.000000                  3.0   \n",
      "\n",
      "       Time_taken(min)  \n",
      "count           4291.0  \n",
      "mean         26.277092  \n",
      "std           9.385049  \n",
      "min               10.0  \n",
      "25%               19.0  \n",
      "50%               25.0  \n",
      "75%               32.0  \n",
      "max               54.0  \n"
     ]
    }
   ],
   "source": [
    "checkData(df_clear)"
   ]
  },
  {
   "cell_type": "markdown",
   "id": "0497f1e4",
   "metadata": {},
   "source": [
    "## Unir coordenadas em uma tupla em nova coluna"
   ]
  },
  {
   "cell_type": "markdown",
   "id": "1707d9dd",
   "metadata": {},
   "source": [
    "Para melhor trabalhar com as coordenadas, elas serão armazenadas como uma tupla.\n"
   ]
  },
  {
   "cell_type": "code",
   "execution_count": 712,
   "id": "6dde7a16",
   "metadata": {},
   "outputs": [],
   "source": [
    "df_clear[\"Restaurant_location\"] = list(zip(df_clear[\"Restaurant_latitude\"], df_clear[\"Restaurant_longitude\"]))\n",
    "df_clear[\"Delivery_location\"] = list(zip(df_clear[\"Delivery_location_latitude\"], df_clear[\"Delivery_location_longitude\"]))\n",
    "df_clear.drop(columns=[\"Restaurant_latitude\", \"Restaurant_longitude\", \"Delivery_location_latitude\", \"Delivery_location_longitude\"], inplace=True)"
   ]
  },
  {
   "cell_type": "markdown",
   "id": "ad2408d3",
   "metadata": {},
   "source": [
    "## Unir datas e horas"
   ]
  },
  {
   "cell_type": "markdown",
   "id": "5322660e",
   "metadata": {},
   "source": [
    "Para melhor trabalhar com o tempo, \"Order_date\" será unido com \"Time_Ordered\" e \"Time_Order_picked\". Pelo mesmo motivo, \"Time_taken(min)\" será transformado em um date.time baseado em \"Time_Order_picked\" + \"Time_taken(min)\"."
   ]
  },
  {
   "cell_type": "code",
   "execution_count": 713,
   "id": "b53fb758",
   "metadata": {},
   "outputs": [],
   "source": [
    "# Une as colunas de data e hora para uma melhor manipulação\n",
    "df_clear[\"Time_Ordered\"] = pd.to_datetime(df_clear[\"Order_Date\"] + \" \" + df_clear[\"Time_Ordered\"], format=\"%Y-%m-%d %H:%M:%S\")\n",
    "df_clear[\"Time_Order_picked\"] = pd.to_datetime(df_clear['Order_Date'] + \" \" + df_clear[\"Time_Order_picked\"], format=\"%Y-%m-%d %H:%M:%S\")\n",
    "# Adiciona 1 dia para pedidos feitos antes da meia noite e entregues depois da meia\n",
    "df_clear[\"Time_Order_picked\"] = df_clear.apply(lambda row: row[\"Time_Order_picked\"] + pd.Timedelta(days=1) if row[\"Time_Ordered\"] > row[\"Time_Order_picked\"] else row[\"Time_Order_picked\"], axis=1)\n",
    "# Calcula a hora da entrega baseado em Time_order_pick + time_taken\n",
    "df_clear[\"Time_Order_delivered\"] = df_clear[\"Time_Order_picked\"] + pd.to_timedelta(df_clear[\"Time_taken(min)\"], unit=\"m\")\n",
    "# Remove as colunas originais de data e tempo\n",
    "df_clear.drop([\"Order_Date\", \"Time_taken(min)\"], axis=1, inplace=True)"
   ]
  },
  {
   "cell_type": "markdown",
   "id": "2382858a",
   "metadata": {},
   "source": [
    "## Preenchendo NaNs"
   ]
  },
  {
   "cell_type": "code",
   "execution_count": 714,
   "id": "3a20e734",
   "metadata": {},
   "outputs": [
    {
     "name": "stdout",
     "output_type": "stream",
     "text": [
      "Mediana de \"Delivery_person_Age\": 29.0\n",
      "Média de \"Delivery_person_Age\": 29.449614215571664\n"
     ]
    }
   ],
   "source": [
    "print(f'Mediana de \"Delivery_person_Age\": {df_clear['Delivery_person_Age'].median()}')\n",
    "print(f'Média de \"Delivery_person_Age\": {df_clear['Delivery_person_Age'].mean()}')"
   ]
  },
  {
   "cell_type": "markdown",
   "id": "d7cf6ed5",
   "metadata": {},
   "source": [
    "A coluna \"Delivery_person_Age\" possui o valor de ~29 tanto para a mediana quanto para a média, então vamos preencher os NaNs com a mediana, pois é um Int e a média é um float.<br>Uma abordagem melhor seria aplicar um método como \"KNN\", mas neste exercício vamos nos manter no simples."
   ]
  },
  {
   "cell_type": "code",
   "execution_count": 715,
   "id": "ce846c53",
   "metadata": {},
   "outputs": [],
   "source": [
    "df_clear[\"Delivery_person_Age\"] = df_clear['Delivery_person_Age'].fillna(df_clear['Delivery_person_Age'].median())"
   ]
  },
  {
   "cell_type": "markdown",
   "id": "24a06201",
   "metadata": {},
   "source": [
    "\"Delivery_person_Ratings\" pode ser preenchido com a média baseada no \"Delivery_person_ID\"."
   ]
  },
  {
   "cell_type": "code",
   "execution_count": 716,
   "id": "6a2dcd9a",
   "metadata": {},
   "outputs": [],
   "source": [
    "df_aux = df_clear[[\"Delivery_person_ID\", \"Delivery_person_Ratings\"]].dropna()\n",
    "df_aux = df_aux.groupby([\"Delivery_person_ID\"]).mean().reset_index()\n",
    "df_clear = df_clear.merge(df_aux, on=\"Delivery_person_ID\", how=\"left\", suffixes=('', '_mean'))\n",
    "df_clear[\"Delivery_person_Ratings\"] = df_clear[\"Delivery_person_Ratings\"].fillna(df_clear[\"Delivery_person_Ratings_mean\"])\n",
    "df_clear.drop(columns=[\"Delivery_person_Ratings_mean\"], inplace=True)"
   ]
  },
  {
   "cell_type": "markdown",
   "id": "4bfc2601",
   "metadata": {},
   "source": [
    "NaNs em \"Time_ordered\" podem ser preenchidos com base nos outros pedidos, agrupados pelo tipo de pedido.<br>A suposição aqui é que as refeições provavelmente têm um tempo de preparo mais longo do que o buffet, que tem um tempo mais longo do que as bebidas, que têm um tempo mais longo do que as lanches."
   ]
  },
  {
   "cell_type": "code",
   "execution_count": 717,
   "id": "07699968",
   "metadata": {},
   "outputs": [
    {
     "data": {
      "text/html": [
       "<div>\n",
       "<style scoped>\n",
       "    .dataframe tbody tr th:only-of-type {\n",
       "        vertical-align: middle;\n",
       "    }\n",
       "\n",
       "    .dataframe tbody tr th {\n",
       "        vertical-align: top;\n",
       "    }\n",
       "\n",
       "    .dataframe thead tr th {\n",
       "        text-align: left;\n",
       "    }\n",
       "</style>\n",
       "<table border=\"1\" class=\"dataframe\">\n",
       "  <thead>\n",
       "    <tr>\n",
       "      <th></th>\n",
       "      <th>Type_of_order</th>\n",
       "      <th colspan=\"2\" halign=\"left\">Time_to_pick</th>\n",
       "      <th colspan=\"2\" halign=\"left\">Time_to_delivery</th>\n",
       "    </tr>\n",
       "    <tr>\n",
       "      <th></th>\n",
       "      <th></th>\n",
       "      <th>mean</th>\n",
       "      <th>median</th>\n",
       "      <th>mean</th>\n",
       "      <th>median</th>\n",
       "    </tr>\n",
       "  </thead>\n",
       "  <tbody>\n",
       "    <tr>\n",
       "      <th>0</th>\n",
       "      <td>Buffet</td>\n",
       "      <td>9.781784</td>\n",
       "      <td>10.0</td>\n",
       "      <td>26.122391</td>\n",
       "      <td>25.0</td>\n",
       "    </tr>\n",
       "    <tr>\n",
       "      <th>1</th>\n",
       "      <td>Drinks</td>\n",
       "      <td>9.841954</td>\n",
       "      <td>10.0</td>\n",
       "      <td>26.286398</td>\n",
       "      <td>25.5</td>\n",
       "    </tr>\n",
       "    <tr>\n",
       "      <th>2</th>\n",
       "      <td>Meal</td>\n",
       "      <td>10.032110</td>\n",
       "      <td>10.0</td>\n",
       "      <td>26.225688</td>\n",
       "      <td>25.0</td>\n",
       "    </tr>\n",
       "    <tr>\n",
       "      <th>3</th>\n",
       "      <td>Snack</td>\n",
       "      <td>9.977252</td>\n",
       "      <td>10.0</td>\n",
       "      <td>26.482257</td>\n",
       "      <td>26.0</td>\n",
       "    </tr>\n",
       "  </tbody>\n",
       "</table>\n",
       "</div>"
      ],
      "text/plain": [
       "  Type_of_order Time_to_pick        Time_to_delivery       \n",
       "                        mean median             mean median\n",
       "0        Buffet     9.781784   10.0        26.122391   25.0\n",
       "1        Drinks     9.841954   10.0        26.286398   25.5\n",
       "2          Meal    10.032110   10.0        26.225688   25.0\n",
       "3         Snack     9.977252   10.0        26.482257   26.0"
      ]
     },
     "execution_count": 717,
     "metadata": {},
     "output_type": "execute_result"
    }
   ],
   "source": [
    "df_aux = df_clear[[\"Time_Ordered\", \"Time_Order_picked\", \"Time_Order_delivered\", \"Type_of_order\"]].dropna()\n",
    "df_aux[\"Time_to_pick\"] = (df_aux[\"Time_Order_picked\"] - df_aux[\"Time_Ordered\"]).dt.total_seconds() / 60\n",
    "df_aux[\"Time_to_delivery\"] = (df_aux[\"Time_Order_delivered\"] - df_aux[\"Time_Order_picked\"]).dt.total_seconds() / 60\n",
    "df_aux = df_aux.drop(columns=[\"Time_Ordered\", \"Time_Order_picked\", \"Time_Order_delivered\"])\n",
    "df_times_grouped = df_aux.groupby([\"Type_of_order\"]).agg([\"mean\", \"median\"]).reset_index()\n",
    "df_times_grouped"
   ]
  },
  {
   "cell_type": "markdown",
   "id": "ea438aed",
   "metadata": {},
   "source": [
    "A suposição não foi exatamente verdadeira, mas a mediana de \"Time_to_pick\" pode ser usada para calcular quando os pedidos com NaNs foram feitos sem muita distorção nos dados."
   ]
  },
  {
   "cell_type": "code",
   "execution_count": 718,
   "id": "f9ba0c08",
   "metadata": {},
   "outputs": [],
   "source": [
    "df_clear[\"Time_Ordered\"] = df_clear[\"Time_Ordered\"].fillna(df_clear[\"Time_Order_picked\"] - pd.to_timedelta(df_times_grouped.loc[0, (\"Time_to_pick\", \"median\")], unit=\"m\"))"
   ]
  },
  {
   "cell_type": "markdown",
   "id": "65bbb6b1",
   "metadata": {},
   "source": [
    "Em \"multiple_delivery\", a suposição é: se não é uma entrega múltipla, essa entrada não foi preenchida, então os NaNs serão preenchidos com 1."
   ]
  },
  {
   "cell_type": "code",
   "execution_count": 719,
   "id": "5b2632fa",
   "metadata": {},
   "outputs": [],
   "source": [
    "df_clear[\"multiple_deliveries\"] = df_clear[\"multiple_deliveries\"].fillna(1)"
   ]
  },
  {
   "cell_type": "code",
   "execution_count": 720,
   "id": "ec2b1f93",
   "metadata": {},
   "outputs": [
    {
     "name": "stdout",
     "output_type": "stream",
     "text": [
      "\n",
      "Info dos valores:\n",
      "\n",
      "<class 'pandas.core.frame.DataFrame'>\n",
      "RangeIndex: 4291 entries, 0 to 4290\n",
      "Data columns (total 17 columns):\n",
      " #   Column                   Non-Null Count  Dtype         \n",
      "---  ------                   --------------  -----         \n",
      " 0   ID                       4291 non-null   object        \n",
      " 1   Delivery_person_ID       4291 non-null   object        \n",
      " 2   Delivery_person_Age      4291 non-null   Int64         \n",
      " 3   Delivery_person_Ratings  4291 non-null   float64       \n",
      " 4   Time_Ordered             4291 non-null   datetime64[ns]\n",
      " 5   Time_Order_picked        4291 non-null   datetime64[ns]\n",
      " 6   Weatherconditions        4291 non-null   object        \n",
      " 7   Road_traffic_density     4291 non-null   object        \n",
      " 8   Vehicle_condition        4291 non-null   int64         \n",
      " 9   Type_of_order            4291 non-null   object        \n",
      " 10  Type_of_vehicle          4291 non-null   object        \n",
      " 11  multiple_deliveries      4291 non-null   Int64         \n",
      " 12  Festival                 4291 non-null   object        \n",
      " 13  City                     4291 non-null   object        \n",
      " 14  Restaurant_location      4291 non-null   object        \n",
      " 15  Delivery_location        4291 non-null   object        \n",
      " 16  Time_Order_delivered     4291 non-null   datetime64[ns]\n",
      "dtypes: Int64(2), datetime64[ns](3), float64(1), int64(1), object(10)\n",
      "memory usage: 578.4+ KB\n",
      "None\n",
      "\n",
      "Descrição dos dados:\n",
      "\n",
      "       Delivery_person_Age  Delivery_person_Ratings  \\\n",
      "count               4291.0              4291.000000   \n",
      "mean             29.448147                 4.630762   \n",
      "min                   15.0                 1.000000   \n",
      "25%                   25.0                 4.500000   \n",
      "50%                   29.0                 4.700000   \n",
      "75%                   34.0                 4.800000   \n",
      "max                   50.0                 5.000000   \n",
      "std               5.779419                 0.329956   \n",
      "\n",
      "                        Time_Ordered              Time_Order_picked  \\\n",
      "count                           4291                           4291   \n",
      "mean   2022-03-14 13:26:58.503845120  2022-03-14 13:36:53.120484864   \n",
      "min              2022-02-11 00:00:00            2022-02-11 00:10:00   \n",
      "25%              2022-03-05 09:57:30            2022-03-05 10:10:00   \n",
      "50%              2022-03-15 17:50:00            2022-03-15 18:00:00   \n",
      "75%              2022-03-27 19:35:00            2022-03-27 19:45:00   \n",
      "max              2022-04-06 23:55:00            2022-04-07 00:05:00   \n",
      "std                              NaN                            NaN   \n",
      "\n",
      "       Vehicle_condition  multiple_deliveries           Time_Order_delivered  \n",
      "count        4291.000000               4291.0                           4291  \n",
      "mean            1.000233             0.767653  2022-03-14 14:03:09.745979904  \n",
      "min             0.000000                  0.0            2022-02-11 00:27:00  \n",
      "25%             0.000000                  0.0            2022-03-05 10:32:30  \n",
      "50%             1.000000                  1.0            2022-03-15 18:38:00  \n",
      "75%             2.000000                  1.0            2022-03-27 20:14:00  \n",
      "max             3.000000                  3.0            2022-04-07 00:48:00  \n",
      "std             0.819204             0.584044                            NaN  \n"
     ]
    }
   ],
   "source": [
    "checkData(df_clear)"
   ]
  },
  {
   "cell_type": "markdown",
   "id": "dd0337ed",
   "metadata": {},
   "source": [
    "# Análise descritiva"
   ]
  },
  {
   "cell_type": "code",
   "execution_count": 721,
   "id": "be0d5b8b",
   "metadata": {},
   "outputs": [],
   "source": [
    "df_work = df_clear.copy()"
   ]
  },
  {
   "cell_type": "markdown",
   "id": "cf3c63e7",
   "metadata": {},
   "source": [
    "## Primeiras KBQs\n",
    "Por enquanto, as perguntas de négocio serão respondidas sem o uso de técnicas intermediárias/avançadas como groupby, agg, plotting, machine learning, etc..."
   ]
  },
  {
   "cell_type": "markdown",
   "id": "12eda52e",
   "metadata": {},
   "source": [
    "### 1. Qual o número total de entregas cadastradas na base de dados?\n",
    "**Resposta:** O número total de entregas cadastrados na base de dados é 4291."
   ]
  },
  {
   "cell_type": "code",
   "execution_count": 722,
   "id": "263d805a",
   "metadata": {},
   "outputs": [
    {
     "data": {
      "text/plain": [
       "4291"
      ]
     },
     "execution_count": 722,
     "metadata": {},
     "output_type": "execute_result"
    }
   ],
   "source": [
    "len(df_work)"
   ]
  },
  {
   "cell_type": "markdown",
   "id": "21050a20",
   "metadata": {},
   "source": [
    "### 2. Quantos entregadores únicos existem na base de dados?\n",
    "**Resposta:** Há 1131 IDs únicos na base de dados, porem aparentemente não são entregadores, mas sim empresas que oferecem o serviço de entrega, pois há multiplas idades para o mesmo ID de entregador."
   ]
  },
  {
   "cell_type": "markdown",
   "id": "5948c608",
   "metadata": {},
   "source": [
    "Primeiramente foi notado nos datasets abaixo que há multiplas idades para o mesmo ID de entregador, o que sugere que provavelmente o ID não é do entregador, mas provavelmente da empresa que oferece o serviço de entrega.\n",
    "Note que, apesar de não ser usado técnicas como groupby e agg, foi aberto uma exceção para o código abaixo, pois ele não visa responder a pergunta, mas sim apontar uma inconsistência na base de dados."
   ]
  },
  {
   "cell_type": "code",
   "execution_count": 723,
   "id": "ef1042c2",
   "metadata": {},
   "outputs": [
    {
     "data": {
      "text/html": [
       "<div>\n",
       "<style scoped>\n",
       "    .dataframe tbody tr th:only-of-type {\n",
       "        vertical-align: middle;\n",
       "    }\n",
       "\n",
       "    .dataframe tbody tr th {\n",
       "        vertical-align: top;\n",
       "    }\n",
       "\n",
       "    .dataframe thead tr th {\n",
       "        text-align: left;\n",
       "    }\n",
       "</style>\n",
       "<table border=\"1\" class=\"dataframe\">\n",
       "  <thead>\n",
       "    <tr>\n",
       "      <th></th>\n",
       "      <th>Delivery_person_ID</th>\n",
       "      <th>Delivery_person_Age</th>\n",
       "    </tr>\n",
       "    <tr>\n",
       "      <th></th>\n",
       "      <th></th>\n",
       "      <th>count</th>\n",
       "    </tr>\n",
       "  </thead>\n",
       "  <tbody>\n",
       "    <tr>\n",
       "      <th>0</th>\n",
       "      <td>AGRRES010DEL01</td>\n",
       "      <td>1</td>\n",
       "    </tr>\n",
       "    <tr>\n",
       "      <th>1</th>\n",
       "      <td>AGRRES010DEL02</td>\n",
       "      <td>2</td>\n",
       "    </tr>\n",
       "    <tr>\n",
       "      <th>2</th>\n",
       "      <td>AGRRES01DEL02</td>\n",
       "      <td>1</td>\n",
       "    </tr>\n",
       "    <tr>\n",
       "      <th>3</th>\n",
       "      <td>AGRRES01DEL03</td>\n",
       "      <td>1</td>\n",
       "    </tr>\n",
       "    <tr>\n",
       "      <th>4</th>\n",
       "      <td>AGRRES02DEL02</td>\n",
       "      <td>1</td>\n",
       "    </tr>\n",
       "    <tr>\n",
       "      <th>...</th>\n",
       "      <td>...</td>\n",
       "      <td>...</td>\n",
       "    </tr>\n",
       "    <tr>\n",
       "      <th>1126</th>\n",
       "      <td>VADRES19DEL02</td>\n",
       "      <td>7</td>\n",
       "    </tr>\n",
       "    <tr>\n",
       "      <th>1127</th>\n",
       "      <td>VADRES19DEL03</td>\n",
       "      <td>5</td>\n",
       "    </tr>\n",
       "    <tr>\n",
       "      <th>1128</th>\n",
       "      <td>VADRES20DEL01</td>\n",
       "      <td>5</td>\n",
       "    </tr>\n",
       "    <tr>\n",
       "      <th>1129</th>\n",
       "      <td>VADRES20DEL02</td>\n",
       "      <td>7</td>\n",
       "    </tr>\n",
       "    <tr>\n",
       "      <th>1130</th>\n",
       "      <td>VADRES20DEL03</td>\n",
       "      <td>1</td>\n",
       "    </tr>\n",
       "  </tbody>\n",
       "</table>\n",
       "<p>1131 rows × 2 columns</p>\n",
       "</div>"
      ],
      "text/plain": [
       "     Delivery_person_ID Delivery_person_Age\n",
       "                                      count\n",
       "0        AGRRES010DEL01                   1\n",
       "1        AGRRES010DEL02                   2\n",
       "2         AGRRES01DEL02                   1\n",
       "3         AGRRES01DEL03                   1\n",
       "4         AGRRES02DEL02                   1\n",
       "...                 ...                 ...\n",
       "1126      VADRES19DEL02                   7\n",
       "1127      VADRES19DEL03                   5\n",
       "1128      VADRES20DEL01                   5\n",
       "1129      VADRES20DEL02                   7\n",
       "1130      VADRES20DEL03                   1\n",
       "\n",
       "[1131 rows x 2 columns]"
      ]
     },
     "execution_count": 723,
     "metadata": {},
     "output_type": "execute_result"
    }
   ],
   "source": [
    "df_aux = df_work[[\"Delivery_person_ID\", \"Delivery_person_Age\"]].dropna()\n",
    "df_age_grouped = df_aux.groupby([\"Delivery_person_ID\"]).agg([\"count\"]).reset_index()\n",
    "df_age_grouped"
   ]
  },
  {
   "cell_type": "code",
   "execution_count": 724,
   "id": "ae698ec5",
   "metadata": {},
   "outputs": [
    {
     "data": {
      "text/html": [
       "<div>\n",
       "<style scoped>\n",
       "    .dataframe tbody tr th:only-of-type {\n",
       "        vertical-align: middle;\n",
       "    }\n",
       "\n",
       "    .dataframe tbody tr th {\n",
       "        vertical-align: top;\n",
       "    }\n",
       "\n",
       "    .dataframe thead th {\n",
       "        text-align: right;\n",
       "    }\n",
       "</style>\n",
       "<table border=\"1\" class=\"dataframe\">\n",
       "  <thead>\n",
       "    <tr style=\"text-align: right;\">\n",
       "      <th></th>\n",
       "      <th>Delivery_person_ID</th>\n",
       "      <th>Delivery_person_Age</th>\n",
       "    </tr>\n",
       "  </thead>\n",
       "  <tbody>\n",
       "    <tr>\n",
       "      <th>921</th>\n",
       "      <td>VADRES19DEL02</td>\n",
       "      <td>38</td>\n",
       "    </tr>\n",
       "    <tr>\n",
       "      <th>2160</th>\n",
       "      <td>VADRES19DEL02</td>\n",
       "      <td>33</td>\n",
       "    </tr>\n",
       "    <tr>\n",
       "      <th>2972</th>\n",
       "      <td>VADRES19DEL02</td>\n",
       "      <td>34</td>\n",
       "    </tr>\n",
       "    <tr>\n",
       "      <th>3091</th>\n",
       "      <td>VADRES19DEL02</td>\n",
       "      <td>28</td>\n",
       "    </tr>\n",
       "    <tr>\n",
       "      <th>3326</th>\n",
       "      <td>VADRES19DEL02</td>\n",
       "      <td>36</td>\n",
       "    </tr>\n",
       "    <tr>\n",
       "      <th>3390</th>\n",
       "      <td>VADRES19DEL02</td>\n",
       "      <td>28</td>\n",
       "    </tr>\n",
       "    <tr>\n",
       "      <th>4205</th>\n",
       "      <td>VADRES19DEL02</td>\n",
       "      <td>38</td>\n",
       "    </tr>\n",
       "  </tbody>\n",
       "</table>\n",
       "</div>"
      ],
      "text/plain": [
       "     Delivery_person_ID  Delivery_person_Age\n",
       "921       VADRES19DEL02                   38\n",
       "2160      VADRES19DEL02                   33\n",
       "2972      VADRES19DEL02                   34\n",
       "3091      VADRES19DEL02                   28\n",
       "3326      VADRES19DEL02                   36\n",
       "3390      VADRES19DEL02                   28\n",
       "4205      VADRES19DEL02                   38"
      ]
     },
     "execution_count": 724,
     "metadata": {},
     "output_type": "execute_result"
    }
   ],
   "source": [
    "df_clear.loc[df_clear['Delivery_person_ID'] == 'VADRES19DEL02', [\"Delivery_person_ID\", \"Delivery_person_Age\"]]"
   ]
  },
  {
   "cell_type": "markdown",
   "id": "c4414bcc",
   "metadata": {},
   "source": [
    "Portanto será tratado como \"ID único\" e não \"entregador único\"."
   ]
  },
  {
   "cell_type": "code",
   "execution_count": 725,
   "id": "eb0e6bd3",
   "metadata": {},
   "outputs": [
    {
     "data": {
      "text/plain": [
       "1131"
      ]
     },
     "execution_count": 725,
     "metadata": {},
     "output_type": "execute_result"
    }
   ],
   "source": [
    "# Get the size of the unique values in the column Delivery_person_ID\n",
    "len(df_work[\"Delivery_person_ID\"].unique())"
   ]
  },
  {
   "cell_type": "markdown",
   "id": "c53287dc",
   "metadata": {},
   "source": [
    "### 3. Qual a idade do entregador mais velho? E do mais novo?\n",
    "**Resposta:** A maior idadeade é 50 anos e a menor idade é 15 anos."
   ]
  },
  {
   "cell_type": "code",
   "execution_count": 726,
   "id": "fc957187",
   "metadata": {},
   "outputs": [
    {
     "data": {
      "text/plain": [
       "2292    15\n",
       "2787    15\n",
       "2833    15\n",
       "1944    20\n",
       "3031    20\n",
       "        ..\n",
       "65      39\n",
       "2976    39\n",
       "3029    39\n",
       "4277    39\n",
       "3448    50\n",
       "Name: Delivery_person_Age, Length: 4291, dtype: Int64"
      ]
     },
     "execution_count": 726,
     "metadata": {},
     "output_type": "execute_result"
    }
   ],
   "source": [
    "df_work[\"Delivery_person_Age\"].sort_values(ascending=True)"
   ]
  },
  {
   "cell_type": "markdown",
   "id": "7f7012f3",
   "metadata": {},
   "source": [
    "### 4. Qual o ID do entregador com a maior idade? E o ID do entregaor com a menor idade?\n",
    "**Resposta:** O ID do entregador mais velho é \"BANGRES05DEL01\" e o ID do entregador mais novo é \"JAPRES15DEL03\"."
   ]
  },
  {
   "cell_type": "code",
   "execution_count": 727,
   "id": "72995e1d",
   "metadata": {},
   "outputs": [
    {
     "data": {
      "text/plain": [
       "{'max': {'Delivery_person_ID': 'BANGRES05DEL01', 'Delivery_person_Age': 50},\n",
       " 'min': {'Delivery_person_ID': 'JAPRES15DEL03', 'Delivery_person_Age': 15}}"
      ]
     },
     "execution_count": 727,
     "metadata": {},
     "output_type": "execute_result"
    }
   ],
   "source": [
    "max_age_row = df_work.loc[df_work[\"Delivery_person_Age\"].idxmax()]\n",
    "min_age_row = df_work.loc[df_work[\"Delivery_person_Age\"].idxmin()]\n",
    "age_max_min = {\n",
    "    \"max\": {\n",
    "        \"Delivery_person_ID\": str(max_age_row[\"Delivery_person_ID\"]),\n",
    "        \"Delivery_person_Age\": int(max_age_row[\"Delivery_person_Age\"])\n",
    "    },\n",
    "    \"min\": {\n",
    "        \"Delivery_person_ID\": str(min_age_row[\"Delivery_person_ID\"]),\n",
    "        \"Delivery_person_Age\": int(min_age_row[\"Delivery_person_Age\"])\n",
    "    }\n",
    "}\n",
    "age_max_min\n"
   ]
  },
  {
   "cell_type": "markdown",
   "id": "d4e24c57",
   "metadata": {},
   "source": [
    "### 5. Quais os nomes das condições climáticas?\n",
    "**Resposta:** As condições climáticas são: \n",
    "- \"Sunny\"\n",
    "- \"Stormy\"\n",
    "- \"Sandstorms\"\n",
    "- \"Cloudy\"\n",
    "- \"Fog\"\n",
    "- \"Windy\"\n",
    "- \"Unknown\".\n",
    "\n",
    "Lembrando que \"Unknown\" foi criado para conter os valores nulos da coluna."
   ]
  },
  {
   "cell_type": "code",
   "execution_count": 728,
   "id": "1cd0faf4",
   "metadata": {},
   "outputs": [
    {
     "data": {
      "text/plain": [
       "array(['Sunny', 'Stormy', 'Sandstorms', 'Cloudy', 'Fog', 'Windy',\n",
       "       'Unknown'], dtype=object)"
      ]
     },
     "execution_count": 728,
     "metadata": {},
     "output_type": "execute_result"
    }
   ],
   "source": [
    "df_work[\"Weatherconditions\"].unique()"
   ]
  },
  {
   "cell_type": "markdown",
   "id": "0f460ee8",
   "metadata": {},
   "source": [
    "### 6. Quantas entregas foram realizadas sob condições climáticas de tempestade de areia (Sandstorms)?\n",
    "**Resposta:** Foram feitas 697 entregas com a condição \"Sandstorms\"."
   ]
  },
  {
   "cell_type": "code",
   "execution_count": 729,
   "id": "5bfc78aa",
   "metadata": {},
   "outputs": [
    {
     "data": {
      "text/plain": [
       "697"
      ]
     },
     "execution_count": 729,
     "metadata": {},
     "output_type": "execute_result"
    }
   ],
   "source": [
    "len(df_work.loc[df_work[\"Weatherconditions\"] == \"Sandstorms\", \"Weatherconditions\"])"
   ]
  },
  {
   "cell_type": "markdown",
   "id": "b0c74046",
   "metadata": {},
   "source": [
    "### 7. Quais eram as condicões climáticas da data mais recente de entrega?\n",
    "**Resposta:** A condição climática da data mais recente de entrega foi \"Fog\" (Neblina)."
   ]
  },
  {
   "cell_type": "code",
   "execution_count": 730,
   "id": "81a018f0",
   "metadata": {},
   "outputs": [
    {
     "data": {
      "text/plain": [
       "1288    Fog\n",
       "Name: Weatherconditions, dtype: object"
      ]
     },
     "execution_count": 730,
     "metadata": {},
     "output_type": "execute_result"
    }
   ],
   "source": [
    "df_work.loc[df_work[\"Time_Order_delivered\"] == df_work[\"Time_Order_delivered\"].max(), \"Weatherconditions\"]"
   ]
  },
  {
   "cell_type": "markdown",
   "id": "ad047601",
   "metadata": {},
   "source": [
    "### 8. Quantos tipos de densidade de trânsito existem na base de dados? Quais os nomes delas?\n",
    "**Resposta:** Existem 5 tipos de densidade de trânsito na base de dados:\n",
    "- High\n",
    "- Jam\n",
    "- Low\n",
    "- Medium\n",
    "- Unknown\n",
    "\n",
    "Lembrando que \"Unknown\" foi criado para conter os valores nulos da coluna."
   ]
  },
  {
   "cell_type": "code",
   "execution_count": 731,
   "id": "56c3ea27",
   "metadata": {},
   "outputs": [
    {
     "name": "stdout",
     "output_type": "stream",
     "text": [
      "5 tipos de densidade.\n",
      "['High' 'Jam' 'Low' 'Medium' 'Unknown'].\n"
     ]
    }
   ],
   "source": [
    "print(f\"{len(df_work[\"Road_traffic_density\"].unique())} tipos de densidade.\\n{df_work[\"Road_traffic_density\"].unique()}.\")"
   ]
  },
  {
   "cell_type": "markdown",
   "id": "53f54e99",
   "metadata": {},
   "source": [
    "### 9. Quantas entregas foram feitas em cada condição climática?\n",
    "**Resposta:** A quantidade de entregas feitas em cada condição climática é: \n",
    "1. **Fog: 758**\n",
    "2. **Windy: 725**\n",
    "3. **Cloudy: 707**\n",
    "4. **Stormy: 704**\n",
    "5. **Sandstorms: 697**\n",
    "6. **Sunny: 696**\n",
    "7. **Unknown: 4**"
   ]
  },
  {
   "cell_type": "code",
   "execution_count": 732,
   "id": "1a8ef77d",
   "metadata": {},
   "outputs": [
    {
     "name": "stdout",
     "output_type": "stream",
     "text": [
      "Sunny: 696\n",
      "Stormy: 704\n",
      "Sandstorms: 697\n",
      "Cloudy: 707\n",
      "Fog: 758\n",
      "Windy: 725\n",
      "Unknown: 4\n"
     ]
    }
   ],
   "source": [
    "for condition in df_work[\"Weatherconditions\"].unique():\n",
    "    print(f\"{condition}: {len(df_work.loc[df_work[\"Weatherconditions\"] == condition, \"Weatherconditions\"])}\")"
   ]
  },
  {
   "cell_type": "markdown",
   "id": "60a27bd2",
   "metadata": {},
   "source": [
    "### 10. Quantos entregadores únicos fizeram entregas em cada condição climática?\n",
    "**Resposta:** A quantidade de entregadores únicos que fizeram entregas em cada condição climática é: \n",
    "1. **Sunny: 529**\n",
    "2. **Windy: 523**\n",
    "3. **Cloudy: 520**\n",
    "4. **Fog: 511**\n",
    "5. **Stormy: 504**\n",
    "6. **Sandstorms: 504**\n",
    "7. **Unknown: 4**"
   ]
  },
  {
   "cell_type": "code",
   "execution_count": 733,
   "id": "d6b8eb2a",
   "metadata": {},
   "outputs": [
    {
     "name": "stdout",
     "output_type": "stream",
     "text": [
      "Sunny: 529\n",
      "Stormy: 504\n",
      "Sandstorms: 504\n",
      "Cloudy: 520\n",
      "Fog: 511\n",
      "Windy: 523\n",
      "Unknown: 4\n"
     ]
    }
   ],
   "source": [
    "for condition in df_work[\"Weatherconditions\"].unique():\n",
    "    print(f\"{condition}: {df_work.loc[df_work[\"Weatherconditions\"] == condition, \"Delivery_person_ID\"].nunique()}\")"
   ]
  },
  {
   "cell_type": "markdown",
   "id": "0032b2fa",
   "metadata": {},
   "source": [
    "### 11. Quantas entregas foram feitas em cada tipo de densidade de trânsito?\n",
    "**Resposta:** A quantidade de entregas feitas em cada condição de transito é: \n",
    "1. **Low: 1504**\n",
    "2. **Jam: 1303**\n",
    "3. **Medium: 1059**\n",
    "4. **High: 421**\n",
    "5. **Unknown: 4**"
   ]
  },
  {
   "cell_type": "code",
   "execution_count": 734,
   "id": "50e4fc39",
   "metadata": {},
   "outputs": [
    {
     "name": "stdout",
     "output_type": "stream",
     "text": [
      "High: 421\n",
      "Jam: 1303\n",
      "Low: 1504\n",
      "Medium: 1059\n",
      "Unknown: 4\n"
     ]
    }
   ],
   "source": [
    "for condition in df_work[\"Road_traffic_density\"].unique():\n",
    "    print(f\"{condition}: {len(df_work.loc[df_work[\"Road_traffic_density\"] == condition, \"Road_traffic_density\"])}\")"
   ]
  },
  {
   "cell_type": "markdown",
   "id": "c1c8a847",
   "metadata": {},
   "source": [
    "### 12. Quantos entregadores únicos fizeram entregas em cada tipo de densidade de trânsito?\n",
    "**Resposta:** A quantidade de entregadores únicos que fizeram entregas em cada densidade de trânsito é: \n",
    "1. **Low: 784**\n",
    "2. **Jam: 740**\n",
    "3. **Medium: 649**\n",
    "4. **High: 293**\n",
    "5. **Unknown: 4**"
   ]
  },
  {
   "cell_type": "code",
   "execution_count": 735,
   "id": "a13789c7",
   "metadata": {},
   "outputs": [
    {
     "name": "stdout",
     "output_type": "stream",
     "text": [
      "High: 293\n",
      "Jam: 740\n",
      "Low: 784\n",
      "Medium: 649\n",
      "Unknown: 4\n"
     ]
    }
   ],
   "source": [
    "for condition in df_work[\"Road_traffic_density\"].unique():\n",
    "    print(f\"{condition}: {df_work.loc[df_work[\"Road_traffic_density\"] == condition, \"Delivery_person_ID\"].nunique()}\")"
   ]
  },
  {
   "cell_type": "markdown",
   "id": "f0a0de1a",
   "metadata": {},
   "source": [
    "### 13. Quantos tipos de cidades únicas existem na base? Quais são os seus nomes?\n",
    "***Resposta:*** Há 4 tipos de cidades únicas na base e seus nomes são: \n",
    "- Urban\n",
    "- Metropolitian\n",
    "- Semi-Urban\n",
    "- Unknown"
   ]
  },
  {
   "cell_type": "code",
   "execution_count": 736,
   "id": "69052115",
   "metadata": {},
   "outputs": [
    {
     "name": "stdout",
     "output_type": "stream",
     "text": [
      "Há 4 tipos de cidades únicas na base e seus nomes são: ['Urban' 'Metropolitan' 'Semi-Urban' 'Unknown'].\n"
     ]
    }
   ],
   "source": [
    "print(f\"Há {len(df_work[\"City\"].unique())} tipos de cidades únicas na base e seus nomes são: {df_work[\"City\"].unique()}.\")"
   ]
  },
  {
   "cell_type": "markdown",
   "id": "a67ecbea",
   "metadata": {},
   "source": [
    "### 14. Quantos tipos de veículos únicos existem na base? Quais são seus nomes?\n",
    "***Resposta:*** Há 4 tipos de veículos únicos na base e seus nomes são:\n",
    "- Bicycle\n",
    "- scooter\n",
    "- motorcycle\n",
    "- electric_scooter"
   ]
  },
  {
   "cell_type": "code",
   "execution_count": 737,
   "id": "e77cf637",
   "metadata": {},
   "outputs": [
    {
     "name": "stdout",
     "output_type": "stream",
     "text": [
      "Há 4 tipos de veículos únicos na base e seus nomes são: ['motorcycle' 'scooter' 'electric_scooter' 'bicycle'].\n"
     ]
    }
   ],
   "source": [
    "print(f\"Há {len(df_work[\"Type_of_vehicle\"].unique())} tipos de veículos únicos na base e seus nomes são: {df_work[\"Type_of_vehicle\"].unique()}.\")"
   ]
  },
  {
   "cell_type": "markdown",
   "id": "801e4305",
   "metadata": {},
   "source": [
    "### 15. Qual o tipo de veículo que mais vez entregas com a condição de trânsito pesado (High)?\n",
    "***Resposta:*** O tipo de veículo que mais fez entregas com a condição de trânsito pesado foi motorcycle, com 250 entregas."
   ]
  },
  {
   "cell_type": "code",
   "execution_count": 738,
   "id": "70628e15",
   "metadata": {},
   "outputs": [
    {
     "data": {
      "text/plain": [
       "Type_of_vehicle\n",
       "motorcycle          250\n",
       "scooter             140\n",
       "electric_scooter     31\n",
       "Name: count, dtype: int64"
      ]
     },
     "execution_count": 738,
     "metadata": {},
     "output_type": "execute_result"
    }
   ],
   "source": [
    "df_work.loc[df_work[\"Road_traffic_density\"] == \"High\", \"Type_of_vehicle\"].value_counts()"
   ]
  },
  {
   "cell_type": "markdown",
   "id": "9eaf1642",
   "metadata": {},
   "source": [
    "### 16. Qual o tipo de pedido mais feito durante condições climáticas de tempestade de areia?\n",
    "***Resposta:*** O tipo de pedido mas feito durante a condição climáticas de tempestade de areia foi meal, com 193 entregas."
   ]
  },
  {
   "cell_type": "code",
   "execution_count": 739,
   "id": "4feddc77",
   "metadata": {},
   "outputs": [
    {
     "data": {
      "text/plain": [
       "Type_of_order\n",
       "Meal      193\n",
       "Snack     182\n",
       "Buffet    161\n",
       "Drinks    161\n",
       "Name: count, dtype: int64"
      ]
     },
     "execution_count": 739,
     "metadata": {},
     "output_type": "execute_result"
    }
   ],
   "source": [
    "df_work.loc[df_work[\"Weatherconditions\"] == \"Sandstorms\", \"Type_of_order\"].value_counts()"
   ]
  },
  {
   "cell_type": "markdown",
   "id": "4ac3d218",
   "metadata": {},
   "source": [
    "### 17. Qual o tipo de cidade com o maior número de pedidos de Bebidas (Drinks) feito em Scooter?\n",
    "***Resposta:*** O tipo de cidade com o maior número de pedidos de bebidas feito em scooter foi Metropolitan, com 260 pedidos."
   ]
  },
  {
   "cell_type": "code",
   "execution_count": 740,
   "id": "d6d0d1a6",
   "metadata": {},
   "outputs": [
    {
     "data": {
      "text/plain": [
       "City\n",
       "Metropolitan    260\n",
       "Urban            75\n",
       "Unknown          15\n",
       "Name: count, dtype: int64"
      ]
     },
     "execution_count": 740,
     "metadata": {},
     "output_type": "execute_result"
    }
   ],
   "source": [
    "df_work.loc[(df_work[\"Type_of_order\"] == \"Drinks\") & (df_work[\"Type_of_vehicle\"] == \"scooter\"), \"City\"].value_counts()"
   ]
  },
  {
   "cell_type": "markdown",
   "id": "db1d8d53",
   "metadata": {},
   "source": [
    "### 18. Qual o tipo de cidade com o (os) entregador mais velho? E o nome da cidade com o (os) entregadores mais novos?\n",
    "***Resposta:*** O tipo de cidade com o entregador mais velho é Urban e o tipo de cidade com 2 dos 3 entregadores mais novos é Metropolitan."
   ]
  },
  {
   "cell_type": "code",
   "execution_count": 741,
   "id": "c911b513",
   "metadata": {},
   "outputs": [
    {
     "data": {
      "text/plain": [
       "3448    Urban\n",
       "Name: City, dtype: object"
      ]
     },
     "execution_count": 741,
     "metadata": {},
     "output_type": "execute_result"
    }
   ],
   "source": [
    "df_work.loc[df_work[\"Delivery_person_Age\"] == df_work[\"Delivery_person_Age\"].max(), \"City\"]"
   ]
  },
  {
   "cell_type": "markdown",
   "id": "c1c90906",
   "metadata": {},
   "source": [
    "Há um unico entregador mais velho, que está no tipo de cidade Urban."
   ]
  },
  {
   "cell_type": "code",
   "execution_count": 742,
   "id": "1ff81855",
   "metadata": {},
   "outputs": [
    {
     "data": {
      "text/plain": [
       "2292           Urban\n",
       "2787    Metropolitan\n",
       "2833    Metropolitan\n",
       "Name: City, dtype: object"
      ]
     },
     "execution_count": 742,
     "metadata": {},
     "output_type": "execute_result"
    }
   ],
   "source": [
    "df_work.loc[df_work[\"Delivery_person_Age\"] == df_work[\"Delivery_person_Age\"].min(), \"City\"]"
   ]
  },
  {
   "cell_type": "markdown",
   "id": "13337bac",
   "metadata": {},
   "source": [
    "Há 3 entregadores mais novos, onde 2 estão no tipo de cidade Metropolitan."
   ]
  },
  {
   "cell_type": "markdown",
   "id": "516bf16c",
   "metadata": {},
   "source": [
    "### 19. Quantas entregas foram feitas durante o Festival?\n",
    "***Resposta:*** Foram feitas 91 entregas durante o Festival."
   ]
  },
  {
   "cell_type": "code",
   "execution_count": 743,
   "id": "dd179ab7",
   "metadata": {},
   "outputs": [
    {
     "data": {
      "text/plain": [
       "91"
      ]
     },
     "execution_count": 743,
     "metadata": {},
     "output_type": "execute_result"
    }
   ],
   "source": [
    "len(df_work.loc[df_work[\"Festival\"] == \"Yes\", \"ID\"])"
   ]
  },
  {
   "cell_type": "markdown",
   "id": "ce9175c7",
   "metadata": {},
   "source": [
    "### 20. Quantos tipos de cidades únicas tiveram entregas feitas durante o Festival?\n",
    "***Resposta:*** Houve 4 tipos de cidades únicas que tiveram entregas feitas durante o Festival."
   ]
  },
  {
   "cell_type": "code",
   "execution_count": 744,
   "id": "b017caf8",
   "metadata": {},
   "outputs": [
    {
     "data": {
      "text/plain": [
       "4"
      ]
     },
     "execution_count": 744,
     "metadata": {},
     "output_type": "execute_result"
    }
   ],
   "source": [
    "df_work.loc[df_work[\"Festival\"] == \"Yes\", \"City\"].nunique()"
   ]
  },
  {
   "cell_type": "markdown",
   "id": "ec936bda",
   "metadata": {},
   "source": [
    "### 21. Quantas entregas foram feitas durante o Festival no tipo de cidade Urban?\n",
    "***Resposta:*** Foram feitas 18 entregas durante o Festival no tipo de cidade Urban."
   ]
  },
  {
   "cell_type": "code",
   "execution_count": 745,
   "id": "07ddd27a",
   "metadata": {},
   "outputs": [
    {
     "data": {
      "text/plain": [
       "np.int64(18)"
      ]
     },
     "execution_count": 745,
     "metadata": {},
     "output_type": "execute_result"
    }
   ],
   "source": [
    "df_work.loc[(df_work[\"Festival\"] == \"Yes\") & (df_work[\"City\"] == \"Urban\"), \"ID\"].count()"
   ]
  },
  {
   "cell_type": "markdown",
   "id": "4d94484f",
   "metadata": {},
   "source": [
    "## Próximas KBQs\n",
    "As próximas perguntas de negócio serão respondidas usando o método SAPE e o uso de tecnicas intermediarias como groupby e agg."
   ]
  },
  {
   "cell_type": "markdown",
   "id": "a44016df",
   "metadata": {},
   "source": [
    "### 1. Qual a média e mediana de idade dos entregadores por tipo de cidade?"
   ]
  },
  {
   "cell_type": "markdown",
   "id": "01bf1e1e",
   "metadata": {},
   "source": [
    "### 2. Qual a média das avaliações das entregas feitas por densidade de tráfego?"
   ]
  },
  {
   "cell_type": "markdown",
   "id": "213e9063",
   "metadata": {},
   "source": [
    "### 3. Qual a média, mediana e desvio padrão das entregas feitas por tipo de cidade e por tipo de veículo?"
   ]
  },
  {
   "cell_type": "markdown",
   "id": "4ab7719a",
   "metadata": {},
   "source": [
    "### 4. Qual a primeira e a ultima data de entrega por cada tipo de cidade?"
   ]
  },
  {
   "cell_type": "markdown",
   "id": "cc8af8b3",
   "metadata": {},
   "source": [
    "### 5. Qual a média de avaliações das entregas feitas por condições climáticas?"
   ]
  },
  {
   "cell_type": "markdown",
   "id": "95ea0e71",
   "metadata": {},
   "source": [
    "### 6. Qual o valor da avaliação mais baixa feita por tipo de condição climática e densidade de tráfego?"
   ]
  },
  {
   "cell_type": "markdown",
   "id": "eb0821a6",
   "metadata": {},
   "source": [
    "### 7. Qual a média, mediana e desvio padrão das avaliações por cada tipo de condições de veículos?"
   ]
  },
  {
   "cell_type": "markdown",
   "id": "b305c9b5",
   "metadata": {},
   "source": [
    "### 8. Quantas entreagas foram feitas durante o Festival?"
   ]
  },
  {
   "cell_type": "markdown",
   "id": "f2db3084",
   "metadata": {},
   "source": [
    "### 9. Qual a avaliação média das entregas feitas durante o Festival?"
   ]
  },
  {
   "cell_type": "markdown",
   "id": "ba65013c",
   "metadata": {},
   "source": [
    "### 10. Qual a menor avaliação feita em uma entrega durante o Festival por cidade?"
   ]
  },
  {
   "cell_type": "markdown",
   "id": "b6d57f9c",
   "metadata": {},
   "source": [
    "### 11. Qual a maior avaliação feita por tipo de pedido?"
   ]
  },
  {
   "cell_type": "code",
   "execution_count": null,
   "id": "af4c8e0c",
   "metadata": {},
   "outputs": [],
   "source": []
  }
 ],
 "metadata": {
  "kernelspec": {
   "display_name": ".venv",
   "language": "python",
   "name": "python3"
  },
  "language_info": {
   "codemirror_mode": {
    "name": "ipython",
    "version": 3
   },
   "file_extension": ".py",
   "mimetype": "text/x-python",
   "name": "python",
   "nbconvert_exporter": "python",
   "pygments_lexer": "ipython3",
   "version": "3.13.2"
  }
 },
 "nbformat": 4,
 "nbformat_minor": 5
}
