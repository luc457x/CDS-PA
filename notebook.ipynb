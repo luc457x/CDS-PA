{
 "cells": [
  {
   "cell_type": "markdown",
   "id": "4e32017a",
   "metadata": {},
   "source": [
    "# 1.0 Imports"
   ]
  },
  {
   "cell_type": "code",
   "execution_count": 1,
   "id": "edd2d0ab",
   "metadata": {},
   "outputs": [],
   "source": [
    "import pandas as pd\n",
    "import numpy as np\n",
    "import seaborn as sns\n",
    "import matplotlib.pyplot as plt\n",
    "from nbconvert import MarkdownExporter\n",
    "from nbformat import read, write\n",
    "import os"
   ]
  },
  {
   "cell_type": "markdown",
   "id": "10a9fa6c",
   "metadata": {},
   "source": [
    "# 2.0 Set Globals & Functions"
   ]
  },
  {
   "cell_type": "code",
   "execution_count": 2,
   "id": "9d188a52",
   "metadata": {},
   "outputs": [],
   "source": [
    "def checkData(x):\n",
    "    print(f\"\\nInfo dos valores:\\n\")\n",
    "    print(x.info())\n",
    "    print(f\"\\nDescrição dos dados:\\n\\n{x.describe()}\")\n",
    "    return\n",
    "\n",
    "def checkNaN(x):\n",
    "    # Recebe um DataFrame e retorna a quantidade de valores nulos e não nulos.\n",
    "    null_count = x.isna().sum()\n",
    "    non_null_count = x.notnull().sum()\n",
    "    print(f\"Null values:\\n {null_count}\")\n",
    "    print(f\"Non-null values:\\n {non_null_count}\")\n",
    "    return\n",
    "\n",
    "def checkOutliers(x):\n",
    "    \"\"\"Recebe um DataFrame e retorna um DataFrame com os outliers.\n",
    "    Baseia-se no pressuposto de que os dados estão normalmente distribuídos.\"\"\"\n",
    "    dfOutliers  = pd.DataFrame()\n",
    "    # Itera sobre as colunas númericas\n",
    "    for column in x.select_dtypes(include=[np.number]).columns:\n",
    "        # Calcula o 1 quartil (Q1)\n",
    "        Q1 = x[column].quantile(0.25)\n",
    "        # Calcula o 3 quartil (Q3)\n",
    "        Q3 = x[column].quantile(0.75)\n",
    "        # Calcula o Intervalo Interquartil (IQR)\n",
    "        IQR = Q3 - Q1\n",
    "        # Define os limites inferior e superior para outliers\n",
    "        lower_bound = Q1 - 1.5 * IQR\n",
    "        upper_bound = Q3 + 1.5 * IQR\n",
    "        # Identica os outliers da coluna atual e adiciona ao DataFrame de outliers\n",
    "        outliers = x[(x[column] < lower_bound) | (x[column] > upper_bound)]\n",
    "        # Concatene os outliers da coluna atual ao DataFrame de outliers\n",
    "        dfOutliers = pd.concat([dfOutliers, outliers])\n",
    "    outliersData = dfOutliers.drop_duplicates().reset_index(drop=True)\n",
    "    return outliersData\n",
    "\n",
    "def corr(x):\n",
    "    plt.figure(figsize=(10,8))\n",
    "    sns.heatmap(x.select_dtypes(include=[np.number]).corr(), annot=True)\n",
    "    plt.show()\n",
    "    return\n",
    "\n",
    "def hist(x):\n",
    "    # Recebe um DataFrame e plota um histograma para cada coluna numérica.\n",
    "    x.hist(bins=50, figsize=(25,10))\n",
    "    plt.show()\n",
    "    return\n",
    "\n",
    "\n"
   ]
  },
  {
   "cell_type": "markdown",
   "id": "297c1e14",
   "metadata": {},
   "source": [
    "# 3.0 Carregamento e Checagem"
   ]
  },
  {
   "cell_type": "code",
   "execution_count": 3,
   "id": "b717edac",
   "metadata": {},
   "outputs": [],
   "source": [
    "df_raw = pd.read_csv(\"train.csv\")"
   ]
  },
  {
   "cell_type": "code",
   "execution_count": 4,
   "id": "7c6bc5ea",
   "metadata": {},
   "outputs": [
    {
     "name": "stdout",
     "output_type": "stream",
     "text": [
      "\n",
      "Info dos valores:\n",
      "\n",
      "<class 'pandas.core.frame.DataFrame'>\n",
      "RangeIndex: 4467 entries, 0 to 4466\n",
      "Data columns (total 20 columns):\n",
      " #   Column                       Non-Null Count  Dtype  \n",
      "---  ------                       --------------  -----  \n",
      " 0   ID                           4467 non-null   object \n",
      " 1   Delivery_person_ID           4467 non-null   object \n",
      " 2   Delivery_person_Age          4467 non-null   object \n",
      " 3   Delivery_person_Ratings      4467 non-null   object \n",
      " 4   Restaurant_latitude          4467 non-null   float64\n",
      " 5   Restaurant_longitude         4467 non-null   float64\n",
      " 6   Delivery_location_latitude   4467 non-null   float64\n",
      " 7   Delivery_location_longitude  4467 non-null   float64\n",
      " 8   Order_Date                   4467 non-null   object \n",
      " 9   Time_Orderd                  4467 non-null   object \n",
      " 10  Time_Order_picked            4467 non-null   object \n",
      " 11  Weatherconditions            4467 non-null   object \n",
      " 12  Road_traffic_density         4467 non-null   object \n",
      " 13  Vehicle_condition            4467 non-null   int64  \n",
      " 14  Type_of_order                4467 non-null   object \n",
      " 15  Type_of_vehicle              4467 non-null   object \n",
      " 16  multiple_deliveries          4467 non-null   object \n",
      " 17  Festival                     4467 non-null   object \n",
      " 18  City                         4466 non-null   object \n",
      " 19  Time_taken(min)              4466 non-null   object \n",
      "dtypes: float64(4), int64(1), object(15)\n",
      "memory usage: 698.1+ KB\n",
      "None\n",
      "\n",
      "Descrição dos dados:\n",
      "\n",
      "       Restaurant_latitude  Restaurant_longitude  Delivery_location_latitude  \\\n",
      "count          4467.000000           4467.000000                 4467.000000   \n",
      "mean             16.873720             69.855186                   17.345751   \n",
      "std               8.320083             23.490634                    7.436276   \n",
      "min             -30.902872            -88.322337                    0.010000   \n",
      "25%              12.906229             73.170000                   12.969496   \n",
      "50%              18.546258             75.894377                   18.619299   \n",
      "75%              22.725835             78.013330                   22.781857   \n",
      "max              30.914057             88.433452                   31.035562   \n",
      "\n",
      "       Delivery_location_longitude  Vehicle_condition  \n",
      "count                  4467.000000        4467.000000  \n",
      "mean                     70.509414           1.022386  \n",
      "std                      21.655254           0.840340  \n",
      "min                       0.010000           0.000000  \n",
      "25%                      73.280937           0.000000  \n",
      "50%                      75.996362           1.000000  \n",
      "75%                      78.081576           2.000000  \n",
      "max                      88.563452           3.000000  \n"
     ]
    }
   ],
   "source": [
    "checkData(df_raw)"
   ]
  },
  {
   "cell_type": "code",
   "execution_count": 5,
   "id": "16cd7d61",
   "metadata": {},
   "outputs": [
    {
     "data": {
      "text/html": [
       "<div>\n",
       "<style scoped>\n",
       "    .dataframe tbody tr th:only-of-type {\n",
       "        vertical-align: middle;\n",
       "    }\n",
       "\n",
       "    .dataframe tbody tr th {\n",
       "        vertical-align: top;\n",
       "    }\n",
       "\n",
       "    .dataframe thead th {\n",
       "        text-align: right;\n",
       "    }\n",
       "</style>\n",
       "<table border=\"1\" class=\"dataframe\">\n",
       "  <thead>\n",
       "    <tr style=\"text-align: right;\">\n",
       "      <th></th>\n",
       "      <th>ID</th>\n",
       "      <th>Delivery_person_ID</th>\n",
       "      <th>Delivery_person_Age</th>\n",
       "      <th>Delivery_person_Ratings</th>\n",
       "      <th>Restaurant_latitude</th>\n",
       "      <th>Restaurant_longitude</th>\n",
       "      <th>Delivery_location_latitude</th>\n",
       "      <th>Delivery_location_longitude</th>\n",
       "      <th>Order_Date</th>\n",
       "      <th>Time_Orderd</th>\n",
       "      <th>Time_Order_picked</th>\n",
       "      <th>Weatherconditions</th>\n",
       "      <th>Road_traffic_density</th>\n",
       "      <th>Vehicle_condition</th>\n",
       "      <th>Type_of_order</th>\n",
       "      <th>Type_of_vehicle</th>\n",
       "      <th>multiple_deliveries</th>\n",
       "      <th>Festival</th>\n",
       "      <th>City</th>\n",
       "      <th>Time_taken(min)</th>\n",
       "    </tr>\n",
       "  </thead>\n",
       "  <tbody>\n",
       "    <tr>\n",
       "      <th>1743</th>\n",
       "      <td>0xad40</td>\n",
       "      <td>INDORES05DEL01</td>\n",
       "      <td>33</td>\n",
       "      <td>4.9</td>\n",
       "      <td>22.727021</td>\n",
       "      <td>75.884167</td>\n",
       "      <td>22.737021</td>\n",
       "      <td>75.894167</td>\n",
       "      <td>11-03-2022</td>\n",
       "      <td>09:55:00</td>\n",
       "      <td>10:10:00</td>\n",
       "      <td>conditions Sunny</td>\n",
       "      <td>Low</td>\n",
       "      <td>1</td>\n",
       "      <td>Buffet</td>\n",
       "      <td>scooter</td>\n",
       "      <td>0</td>\n",
       "      <td>No</td>\n",
       "      <td>Metropolitian</td>\n",
       "      <td>(min) 12</td>\n",
       "    </tr>\n",
       "    <tr>\n",
       "      <th>4441</th>\n",
       "      <td>0x3919</td>\n",
       "      <td>INDORES15DEL01</td>\n",
       "      <td>32</td>\n",
       "      <td>5</td>\n",
       "      <td>22.760072</td>\n",
       "      <td>75.892574</td>\n",
       "      <td>22.800072</td>\n",
       "      <td>75.932574</td>\n",
       "      <td>28-03-2022</td>\n",
       "      <td>15:20:00</td>\n",
       "      <td>15:30:00</td>\n",
       "      <td>conditions Sandstorms</td>\n",
       "      <td>Medium</td>\n",
       "      <td>1</td>\n",
       "      <td>Snack</td>\n",
       "      <td>scooter</td>\n",
       "      <td>1</td>\n",
       "      <td>No</td>\n",
       "      <td>Metropolitian</td>\n",
       "      <td>(min) 33</td>\n",
       "    </tr>\n",
       "    <tr>\n",
       "      <th>3938</th>\n",
       "      <td>0xacb4</td>\n",
       "      <td>MUMRES05DEL02</td>\n",
       "      <td>31</td>\n",
       "      <td>4.6</td>\n",
       "      <td>18.927584</td>\n",
       "      <td>72.832585</td>\n",
       "      <td>18.947584</td>\n",
       "      <td>72.852585</td>\n",
       "      <td>03-04-2022</td>\n",
       "      <td>09:20:00</td>\n",
       "      <td>09:25:00</td>\n",
       "      <td>conditions Fog</td>\n",
       "      <td>Low</td>\n",
       "      <td>0</td>\n",
       "      <td>Snack</td>\n",
       "      <td>motorcycle</td>\n",
       "      <td>1</td>\n",
       "      <td>No</td>\n",
       "      <td>Metropolitian</td>\n",
       "      <td>(min) 28</td>\n",
       "    </tr>\n",
       "    <tr>\n",
       "      <th>1824</th>\n",
       "      <td>0x76b2</td>\n",
       "      <td>SURRES02DEL01</td>\n",
       "      <td>39</td>\n",
       "      <td>4.1</td>\n",
       "      <td>21.186608</td>\n",
       "      <td>72.794136</td>\n",
       "      <td>21.226608</td>\n",
       "      <td>72.834136</td>\n",
       "      <td>03-04-2022</td>\n",
       "      <td>14:55:00</td>\n",
       "      <td>15:00:00</td>\n",
       "      <td>conditions Stormy</td>\n",
       "      <td>High</td>\n",
       "      <td>1</td>\n",
       "      <td>Meal</td>\n",
       "      <td>motorcycle</td>\n",
       "      <td>1</td>\n",
       "      <td>No</td>\n",
       "      <td>Metropolitian</td>\n",
       "      <td>(min) 33</td>\n",
       "    </tr>\n",
       "    <tr>\n",
       "      <th>1978</th>\n",
       "      <td>0x8d17</td>\n",
       "      <td>JAPRES15DEL02</td>\n",
       "      <td>25</td>\n",
       "      <td>4.8</td>\n",
       "      <td>26.891191</td>\n",
       "      <td>75.802083</td>\n",
       "      <td>26.971191</td>\n",
       "      <td>75.882083</td>\n",
       "      <td>14-03-2022</td>\n",
       "      <td>22:55:00</td>\n",
       "      <td>23:10:00</td>\n",
       "      <td>conditions Windy</td>\n",
       "      <td>Low</td>\n",
       "      <td>0</td>\n",
       "      <td>Snack</td>\n",
       "      <td>motorcycle</td>\n",
       "      <td>0</td>\n",
       "      <td>No</td>\n",
       "      <td>Metropolitian</td>\n",
       "      <td>(min) 17</td>\n",
       "    </tr>\n",
       "    <tr>\n",
       "      <th>745</th>\n",
       "      <td>0x3ce8</td>\n",
       "      <td>VADRES14DEL03</td>\n",
       "      <td>29</td>\n",
       "      <td>4.8</td>\n",
       "      <td>22.311603</td>\n",
       "      <td>73.165012</td>\n",
       "      <td>22.341603</td>\n",
       "      <td>73.195012</td>\n",
       "      <td>19-03-2022</td>\n",
       "      <td>19:55:00</td>\n",
       "      <td>20:00:00</td>\n",
       "      <td>conditions Fog</td>\n",
       "      <td>Jam</td>\n",
       "      <td>2</td>\n",
       "      <td>Drinks</td>\n",
       "      <td>motorcycle</td>\n",
       "      <td>1</td>\n",
       "      <td>No</td>\n",
       "      <td>Metropolitian</td>\n",
       "      <td>(min) 29</td>\n",
       "    </tr>\n",
       "    <tr>\n",
       "      <th>897</th>\n",
       "      <td>0xb37</td>\n",
       "      <td>MYSRES16DEL02</td>\n",
       "      <td>28</td>\n",
       "      <td>4.5</td>\n",
       "      <td>12.316967</td>\n",
       "      <td>76.603067</td>\n",
       "      <td>12.446967</td>\n",
       "      <td>76.733067</td>\n",
       "      <td>12-03-2022</td>\n",
       "      <td>21:20:00</td>\n",
       "      <td>21:35:00</td>\n",
       "      <td>conditions Stormy</td>\n",
       "      <td>Jam</td>\n",
       "      <td>2</td>\n",
       "      <td>Buffet</td>\n",
       "      <td>scooter</td>\n",
       "      <td>0</td>\n",
       "      <td>No</td>\n",
       "      <td>Urban</td>\n",
       "      <td>(min) 23</td>\n",
       "    </tr>\n",
       "    <tr>\n",
       "      <th>3301</th>\n",
       "      <td>0x2e6a</td>\n",
       "      <td>BANGRES13DEL03</td>\n",
       "      <td>28</td>\n",
       "      <td>4.9</td>\n",
       "      <td>12.935662</td>\n",
       "      <td>77.614130</td>\n",
       "      <td>12.995662</td>\n",
       "      <td>77.674130</td>\n",
       "      <td>24-03-2022</td>\n",
       "      <td>22:45:00</td>\n",
       "      <td>23:00:00</td>\n",
       "      <td>conditions Sunny</td>\n",
       "      <td>Low</td>\n",
       "      <td>1</td>\n",
       "      <td>Meal</td>\n",
       "      <td>scooter</td>\n",
       "      <td>0</td>\n",
       "      <td>No</td>\n",
       "      <td>Urban</td>\n",
       "      <td>(min) 22</td>\n",
       "    </tr>\n",
       "    <tr>\n",
       "      <th>2492</th>\n",
       "      <td>0xbd95</td>\n",
       "      <td>CHENRES09DEL02</td>\n",
       "      <td>32</td>\n",
       "      <td>3.7</td>\n",
       "      <td>13.044694</td>\n",
       "      <td>80.261470</td>\n",
       "      <td>13.124694</td>\n",
       "      <td>80.341470</td>\n",
       "      <td>04-03-2022</td>\n",
       "      <td>20:00:00</td>\n",
       "      <td>20:15:00</td>\n",
       "      <td>conditions Sandstorms</td>\n",
       "      <td>Jam</td>\n",
       "      <td>2</td>\n",
       "      <td>Meal</td>\n",
       "      <td>scooter</td>\n",
       "      <td>1</td>\n",
       "      <td>No</td>\n",
       "      <td>Metropolitian</td>\n",
       "      <td>(min) 35</td>\n",
       "    </tr>\n",
       "    <tr>\n",
       "      <th>3039</th>\n",
       "      <td>0x4610</td>\n",
       "      <td>MUMRES14DEL03</td>\n",
       "      <td>36</td>\n",
       "      <td>4.6</td>\n",
       "      <td>19.181300</td>\n",
       "      <td>72.836191</td>\n",
       "      <td>19.271300</td>\n",
       "      <td>72.926191</td>\n",
       "      <td>02-04-2022</td>\n",
       "      <td>20:10:00</td>\n",
       "      <td>20:15:00</td>\n",
       "      <td>conditions Sunny</td>\n",
       "      <td>Jam</td>\n",
       "      <td>0</td>\n",
       "      <td>Snack</td>\n",
       "      <td>motorcycle</td>\n",
       "      <td>1</td>\n",
       "      <td>No</td>\n",
       "      <td>NaN</td>\n",
       "      <td>(min) 27</td>\n",
       "    </tr>\n",
       "    <tr>\n",
       "      <th>13</th>\n",
       "      <td>0xdb64</td>\n",
       "      <td>KNPRES14DEL02</td>\n",
       "      <td>24</td>\n",
       "      <td>4.7</td>\n",
       "      <td>26.463504</td>\n",
       "      <td>80.372929</td>\n",
       "      <td>26.593504</td>\n",
       "      <td>80.502929</td>\n",
       "      <td>14-02-2022</td>\n",
       "      <td>19:50:00</td>\n",
       "      <td>20:05:00</td>\n",
       "      <td>conditions Fog</td>\n",
       "      <td>Jam</td>\n",
       "      <td>1</td>\n",
       "      <td>Snack</td>\n",
       "      <td>scooter</td>\n",
       "      <td>1</td>\n",
       "      <td>No</td>\n",
       "      <td>Metropolitian</td>\n",
       "      <td>(min) 41</td>\n",
       "    </tr>\n",
       "    <tr>\n",
       "      <th>4258</th>\n",
       "      <td>0x88c6</td>\n",
       "      <td>MUMRES05DEL02</td>\n",
       "      <td>36</td>\n",
       "      <td>4.9</td>\n",
       "      <td>18.927584</td>\n",
       "      <td>72.832585</td>\n",
       "      <td>18.947584</td>\n",
       "      <td>72.852585</td>\n",
       "      <td>05-03-2022</td>\n",
       "      <td>08:45:00</td>\n",
       "      <td>08:55:00</td>\n",
       "      <td>conditions Windy</td>\n",
       "      <td>Low</td>\n",
       "      <td>1</td>\n",
       "      <td>Snack</td>\n",
       "      <td>motorcycle</td>\n",
       "      <td>NaN</td>\n",
       "      <td>No</td>\n",
       "      <td>Urban</td>\n",
       "      <td>(min) 22</td>\n",
       "    </tr>\n",
       "    <tr>\n",
       "      <th>2245</th>\n",
       "      <td>0xacda</td>\n",
       "      <td>HYDRES16DEL02</td>\n",
       "      <td>22</td>\n",
       "      <td>4.7</td>\n",
       "      <td>17.440827</td>\n",
       "      <td>78.393391</td>\n",
       "      <td>17.490827</td>\n",
       "      <td>78.443391</td>\n",
       "      <td>07-03-2022</td>\n",
       "      <td>21:55:00</td>\n",
       "      <td>22:10:00</td>\n",
       "      <td>conditions Windy</td>\n",
       "      <td>Jam</td>\n",
       "      <td>0</td>\n",
       "      <td>Snack</td>\n",
       "      <td>motorcycle</td>\n",
       "      <td>1</td>\n",
       "      <td>No</td>\n",
       "      <td>Metropolitian</td>\n",
       "      <td>(min) 19</td>\n",
       "    </tr>\n",
       "    <tr>\n",
       "      <th>3062</th>\n",
       "      <td>0x901a</td>\n",
       "      <td>MUMRES12DEL03</td>\n",
       "      <td>26</td>\n",
       "      <td>4.7</td>\n",
       "      <td>19.207222</td>\n",
       "      <td>72.972281</td>\n",
       "      <td>19.237222</td>\n",
       "      <td>73.002281</td>\n",
       "      <td>17-03-2022</td>\n",
       "      <td>17:55:00</td>\n",
       "      <td>18:10:00</td>\n",
       "      <td>conditions Fog</td>\n",
       "      <td>Medium</td>\n",
       "      <td>0</td>\n",
       "      <td>Buffet</td>\n",
       "      <td>motorcycle</td>\n",
       "      <td>1</td>\n",
       "      <td>No</td>\n",
       "      <td>Metropolitian</td>\n",
       "      <td>(min) 27</td>\n",
       "    </tr>\n",
       "    <tr>\n",
       "      <th>556</th>\n",
       "      <td>0xbc03</td>\n",
       "      <td>COIMBRES010DEL01</td>\n",
       "      <td>35</td>\n",
       "      <td>4.6</td>\n",
       "      <td>11.003008</td>\n",
       "      <td>76.975440</td>\n",
       "      <td>11.073009</td>\n",
       "      <td>77.045440</td>\n",
       "      <td>06-04-2022</td>\n",
       "      <td>23:20:00</td>\n",
       "      <td>23:30:00</td>\n",
       "      <td>conditions Windy</td>\n",
       "      <td>Low</td>\n",
       "      <td>0</td>\n",
       "      <td>Snack</td>\n",
       "      <td>motorcycle</td>\n",
       "      <td>1</td>\n",
       "      <td>No</td>\n",
       "      <td>Urban</td>\n",
       "      <td>(min) 23</td>\n",
       "    </tr>\n",
       "    <tr>\n",
       "      <th>3307</th>\n",
       "      <td>0x7f0b</td>\n",
       "      <td>INDORES03DEL02</td>\n",
       "      <td>38</td>\n",
       "      <td>4.6</td>\n",
       "      <td>22.751857</td>\n",
       "      <td>75.866699</td>\n",
       "      <td>22.881857</td>\n",
       "      <td>75.996699</td>\n",
       "      <td>23-03-2022</td>\n",
       "      <td>19:55:00</td>\n",
       "      <td>20:00:00</td>\n",
       "      <td>conditions Sunny</td>\n",
       "      <td>Jam</td>\n",
       "      <td>1</td>\n",
       "      <td>Meal</td>\n",
       "      <td>motorcycle</td>\n",
       "      <td>1</td>\n",
       "      <td>No</td>\n",
       "      <td>Urban</td>\n",
       "      <td>(min) 23</td>\n",
       "    </tr>\n",
       "    <tr>\n",
       "      <th>2262</th>\n",
       "      <td>0x50d8</td>\n",
       "      <td>CHENRES16DEL01</td>\n",
       "      <td>39</td>\n",
       "      <td>4.2</td>\n",
       "      <td>13.049645</td>\n",
       "      <td>80.242268</td>\n",
       "      <td>13.119645</td>\n",
       "      <td>80.312268</td>\n",
       "      <td>20-03-2022</td>\n",
       "      <td>20:50:00</td>\n",
       "      <td>21:05:00</td>\n",
       "      <td>conditions Sandstorms</td>\n",
       "      <td>Jam</td>\n",
       "      <td>0</td>\n",
       "      <td>Buffet</td>\n",
       "      <td>motorcycle</td>\n",
       "      <td>1</td>\n",
       "      <td>No</td>\n",
       "      <td>Metropolitian</td>\n",
       "      <td>(min) 44</td>\n",
       "    </tr>\n",
       "    <tr>\n",
       "      <th>1672</th>\n",
       "      <td>0xb485</td>\n",
       "      <td>CHENRES04DEL03</td>\n",
       "      <td>28</td>\n",
       "      <td>4.8</td>\n",
       "      <td>13.029780</td>\n",
       "      <td>80.208812</td>\n",
       "      <td>13.059780</td>\n",
       "      <td>80.238812</td>\n",
       "      <td>30-03-2022</td>\n",
       "      <td>20:25:00</td>\n",
       "      <td>20:30:00</td>\n",
       "      <td>conditions Stormy</td>\n",
       "      <td>Jam</td>\n",
       "      <td>1</td>\n",
       "      <td>Snack</td>\n",
       "      <td>motorcycle</td>\n",
       "      <td>1</td>\n",
       "      <td>No</td>\n",
       "      <td>Metropolitian</td>\n",
       "      <td>(min) 26</td>\n",
       "    </tr>\n",
       "    <tr>\n",
       "      <th>219</th>\n",
       "      <td>0x1e86</td>\n",
       "      <td>JAPRES06DEL03</td>\n",
       "      <td>26</td>\n",
       "      <td>4.9</td>\n",
       "      <td>26.911927</td>\n",
       "      <td>75.797282</td>\n",
       "      <td>27.051927</td>\n",
       "      <td>75.937282</td>\n",
       "      <td>29-03-2022</td>\n",
       "      <td>22:55:00</td>\n",
       "      <td>23:00:00</td>\n",
       "      <td>conditions Stormy</td>\n",
       "      <td>Low</td>\n",
       "      <td>2</td>\n",
       "      <td>Meal</td>\n",
       "      <td>scooter</td>\n",
       "      <td>1</td>\n",
       "      <td>No</td>\n",
       "      <td>Metropolitian</td>\n",
       "      <td>(min) 18</td>\n",
       "    </tr>\n",
       "    <tr>\n",
       "      <th>4326</th>\n",
       "      <td>0x9fd0</td>\n",
       "      <td>PUNERES14DEL01</td>\n",
       "      <td>27</td>\n",
       "      <td>4.5</td>\n",
       "      <td>18.516216</td>\n",
       "      <td>73.842527</td>\n",
       "      <td>18.556216</td>\n",
       "      <td>73.882527</td>\n",
       "      <td>21-03-2022</td>\n",
       "      <td>16:40:00</td>\n",
       "      <td>16:45:00</td>\n",
       "      <td>conditions Windy</td>\n",
       "      <td>Medium</td>\n",
       "      <td>2</td>\n",
       "      <td>Meal</td>\n",
       "      <td>electric_scooter</td>\n",
       "      <td>0</td>\n",
       "      <td>No</td>\n",
       "      <td>Metropolitian</td>\n",
       "      <td>(min) 26</td>\n",
       "    </tr>\n",
       "    <tr>\n",
       "      <th>1548</th>\n",
       "      <td>0xcd11</td>\n",
       "      <td>KNPRES19DEL01</td>\n",
       "      <td>34</td>\n",
       "      <td>4.3</td>\n",
       "      <td>26.490950</td>\n",
       "      <td>80.318656</td>\n",
       "      <td>26.500950</td>\n",
       "      <td>80.328656</td>\n",
       "      <td>15-02-2022</td>\n",
       "      <td>10:00:00</td>\n",
       "      <td>10:15:00</td>\n",
       "      <td>conditions Windy</td>\n",
       "      <td>Low</td>\n",
       "      <td>0</td>\n",
       "      <td>Meal</td>\n",
       "      <td>motorcycle</td>\n",
       "      <td>0</td>\n",
       "      <td>No</td>\n",
       "      <td>Metropolitian</td>\n",
       "      <td>(min) 20</td>\n",
       "    </tr>\n",
       "    <tr>\n",
       "      <th>424</th>\n",
       "      <td>0xafc4</td>\n",
       "      <td>COIMBRES16DEL02</td>\n",
       "      <td>35</td>\n",
       "      <td>4.7</td>\n",
       "      <td>11.010375</td>\n",
       "      <td>76.952950</td>\n",
       "      <td>11.090375</td>\n",
       "      <td>77.032950</td>\n",
       "      <td>31-03-2022</td>\n",
       "      <td>23:15:00</td>\n",
       "      <td>23:20:00</td>\n",
       "      <td>conditions Stormy</td>\n",
       "      <td>Low</td>\n",
       "      <td>2</td>\n",
       "      <td>Snack</td>\n",
       "      <td>scooter</td>\n",
       "      <td>1</td>\n",
       "      <td>No</td>\n",
       "      <td>Metropolitian</td>\n",
       "      <td>(min) 18</td>\n",
       "    </tr>\n",
       "    <tr>\n",
       "      <th>2116</th>\n",
       "      <td>0xc923</td>\n",
       "      <td>KNPRES05DEL02</td>\n",
       "      <td>23</td>\n",
       "      <td>5</td>\n",
       "      <td>26.479108</td>\n",
       "      <td>80.315042</td>\n",
       "      <td>26.529108</td>\n",
       "      <td>80.365042</td>\n",
       "      <td>13-02-2022</td>\n",
       "      <td>17:40:00</td>\n",
       "      <td>17:50:00</td>\n",
       "      <td>conditions Fog</td>\n",
       "      <td>Medium</td>\n",
       "      <td>0</td>\n",
       "      <td>Snack</td>\n",
       "      <td>motorcycle</td>\n",
       "      <td>1</td>\n",
       "      <td>No</td>\n",
       "      <td>Metropolitian</td>\n",
       "      <td>(min) 23</td>\n",
       "    </tr>\n",
       "    <tr>\n",
       "      <th>2335</th>\n",
       "      <td>0x1c71</td>\n",
       "      <td>BANGRES08DEL01</td>\n",
       "      <td>24</td>\n",
       "      <td>4.6</td>\n",
       "      <td>12.906229</td>\n",
       "      <td>77.596791</td>\n",
       "      <td>12.916229</td>\n",
       "      <td>77.606791</td>\n",
       "      <td>09-03-2022</td>\n",
       "      <td>09:40:00</td>\n",
       "      <td>09:50:00</td>\n",
       "      <td>conditions Fog</td>\n",
       "      <td>Low</td>\n",
       "      <td>0</td>\n",
       "      <td>Snack</td>\n",
       "      <td>motorcycle</td>\n",
       "      <td>0</td>\n",
       "      <td>No</td>\n",
       "      <td>Metropolitian</td>\n",
       "      <td>(min) 18</td>\n",
       "    </tr>\n",
       "    <tr>\n",
       "      <th>2345</th>\n",
       "      <td>0xcdac</td>\n",
       "      <td>KNPRES16DEL02</td>\n",
       "      <td>24</td>\n",
       "      <td>4.5</td>\n",
       "      <td>26.482581</td>\n",
       "      <td>80.315628</td>\n",
       "      <td>26.532581</td>\n",
       "      <td>80.365628</td>\n",
       "      <td>13-02-2022</td>\n",
       "      <td>23:10:00</td>\n",
       "      <td>23:25:00</td>\n",
       "      <td>conditions Sunny</td>\n",
       "      <td>Low</td>\n",
       "      <td>0</td>\n",
       "      <td>Buffet</td>\n",
       "      <td>motorcycle</td>\n",
       "      <td>1</td>\n",
       "      <td>No</td>\n",
       "      <td>Urban</td>\n",
       "      <td>(min) 19</td>\n",
       "    </tr>\n",
       "    <tr>\n",
       "      <th>140</th>\n",
       "      <td>0x1ec7</td>\n",
       "      <td>PUNERES05DEL03</td>\n",
       "      <td>NaN</td>\n",
       "      <td>NaN</td>\n",
       "      <td>18.543626</td>\n",
       "      <td>73.905101</td>\n",
       "      <td>18.573626</td>\n",
       "      <td>73.935101</td>\n",
       "      <td>09-03-2022</td>\n",
       "      <td>NaN</td>\n",
       "      <td>23:40:00</td>\n",
       "      <td>conditions Stormy</td>\n",
       "      <td>Low</td>\n",
       "      <td>2</td>\n",
       "      <td>Snack</td>\n",
       "      <td>scooter</td>\n",
       "      <td>0</td>\n",
       "      <td>No</td>\n",
       "      <td>NaN</td>\n",
       "      <td>(min) 19</td>\n",
       "    </tr>\n",
       "    <tr>\n",
       "      <th>1322</th>\n",
       "      <td>0x5c0b</td>\n",
       "      <td>BANGRES19DEL03</td>\n",
       "      <td>39</td>\n",
       "      <td>4.8</td>\n",
       "      <td>12.914264</td>\n",
       "      <td>77.678400</td>\n",
       "      <td>13.004264</td>\n",
       "      <td>77.768400</td>\n",
       "      <td>06-03-2022</td>\n",
       "      <td>19:25:00</td>\n",
       "      <td>19:35:00</td>\n",
       "      <td>conditions Stormy</td>\n",
       "      <td>Jam</td>\n",
       "      <td>0</td>\n",
       "      <td>Meal</td>\n",
       "      <td>motorcycle</td>\n",
       "      <td>1</td>\n",
       "      <td>No</td>\n",
       "      <td>Metropolitian</td>\n",
       "      <td>(min) 38</td>\n",
       "    </tr>\n",
       "    <tr>\n",
       "      <th>94</th>\n",
       "      <td>0x35e6</td>\n",
       "      <td>JAPRES15DEL03</td>\n",
       "      <td>36</td>\n",
       "      <td>4.8</td>\n",
       "      <td>26.891191</td>\n",
       "      <td>75.802083</td>\n",
       "      <td>26.981191</td>\n",
       "      <td>75.892083</td>\n",
       "      <td>14-03-2022</td>\n",
       "      <td>17:50:00</td>\n",
       "      <td>17:55:00</td>\n",
       "      <td>conditions Sunny</td>\n",
       "      <td>Medium</td>\n",
       "      <td>2</td>\n",
       "      <td>Buffet</td>\n",
       "      <td>electric_scooter</td>\n",
       "      <td>0</td>\n",
       "      <td>No</td>\n",
       "      <td>Metropolitian</td>\n",
       "      <td>(min) 15</td>\n",
       "    </tr>\n",
       "    <tr>\n",
       "      <th>1839</th>\n",
       "      <td>0x9a13</td>\n",
       "      <td>BANGRES06DEL02</td>\n",
       "      <td>23</td>\n",
       "      <td>4.8</td>\n",
       "      <td>12.979096</td>\n",
       "      <td>77.640625</td>\n",
       "      <td>12.999096</td>\n",
       "      <td>77.660625</td>\n",
       "      <td>03-04-2022</td>\n",
       "      <td>11:45:00</td>\n",
       "      <td>12:00:00</td>\n",
       "      <td>conditions Cloudy</td>\n",
       "      <td>High</td>\n",
       "      <td>0</td>\n",
       "      <td>Drinks</td>\n",
       "      <td>motorcycle</td>\n",
       "      <td>1</td>\n",
       "      <td>No</td>\n",
       "      <td>Urban</td>\n",
       "      <td>(min) 28</td>\n",
       "    </tr>\n",
       "    <tr>\n",
       "      <th>3783</th>\n",
       "      <td>0x9112</td>\n",
       "      <td>MUMRES05DEL02</td>\n",
       "      <td>20</td>\n",
       "      <td>4.9</td>\n",
       "      <td>18.927584</td>\n",
       "      <td>72.832585</td>\n",
       "      <td>19.057584</td>\n",
       "      <td>72.962585</td>\n",
       "      <td>25-03-2022</td>\n",
       "      <td>18:10:00</td>\n",
       "      <td>18:15:00</td>\n",
       "      <td>conditions Cloudy</td>\n",
       "      <td>Medium</td>\n",
       "      <td>0</td>\n",
       "      <td>Snack</td>\n",
       "      <td>motorcycle</td>\n",
       "      <td>1</td>\n",
       "      <td>No</td>\n",
       "      <td>Metropolitian</td>\n",
       "      <td>(min) 41</td>\n",
       "    </tr>\n",
       "  </tbody>\n",
       "</table>\n",
       "</div>"
      ],
      "text/plain": [
       "           ID Delivery_person_ID Delivery_person_Age Delivery_person_Ratings  \\\n",
       "1743  0xad40     INDORES05DEL01                   33                     4.9   \n",
       "4441  0x3919     INDORES15DEL01                   32                       5   \n",
       "3938  0xacb4      MUMRES05DEL02                   31                     4.6   \n",
       "1824  0x76b2      SURRES02DEL01                   39                     4.1   \n",
       "1978  0x8d17      JAPRES15DEL02                   25                     4.8   \n",
       "745   0x3ce8      VADRES14DEL03                   29                     4.8   \n",
       "897    0xb37      MYSRES16DEL02                   28                     4.5   \n",
       "3301  0x2e6a     BANGRES13DEL03                   28                     4.9   \n",
       "2492  0xbd95     CHENRES09DEL02                   32                     3.7   \n",
       "3039  0x4610      MUMRES14DEL03                   36                     4.6   \n",
       "13    0xdb64      KNPRES14DEL02                   24                     4.7   \n",
       "4258  0x88c6      MUMRES05DEL02                   36                     4.9   \n",
       "2245  0xacda      HYDRES16DEL02                   22                     4.7   \n",
       "3062  0x901a      MUMRES12DEL03                   26                     4.7   \n",
       "556   0xbc03   COIMBRES010DEL01                   35                     4.6   \n",
       "3307  0x7f0b     INDORES03DEL02                   38                     4.6   \n",
       "2262  0x50d8     CHENRES16DEL01                   39                     4.2   \n",
       "1672  0xb485     CHENRES04DEL03                   28                     4.8   \n",
       "219   0x1e86      JAPRES06DEL03                   26                     4.9   \n",
       "4326  0x9fd0     PUNERES14DEL01                   27                     4.5   \n",
       "1548  0xcd11      KNPRES19DEL01                   34                     4.3   \n",
       "424   0xafc4    COIMBRES16DEL02                   35                     4.7   \n",
       "2116  0xc923      KNPRES05DEL02                   23                       5   \n",
       "2335  0x1c71     BANGRES08DEL01                   24                     4.6   \n",
       "2345  0xcdac      KNPRES16DEL02                   24                     4.5   \n",
       "140   0x1ec7     PUNERES05DEL03                 NaN                     NaN    \n",
       "1322  0x5c0b     BANGRES19DEL03                   39                     4.8   \n",
       "94    0x35e6      JAPRES15DEL03                   36                     4.8   \n",
       "1839  0x9a13     BANGRES06DEL02                   23                     4.8   \n",
       "3783  0x9112      MUMRES05DEL02                   20                     4.9   \n",
       "\n",
       "      Restaurant_latitude  Restaurant_longitude  Delivery_location_latitude  \\\n",
       "1743            22.727021             75.884167                   22.737021   \n",
       "4441            22.760072             75.892574                   22.800072   \n",
       "3938            18.927584             72.832585                   18.947584   \n",
       "1824            21.186608             72.794136                   21.226608   \n",
       "1978            26.891191             75.802083                   26.971191   \n",
       "745             22.311603             73.165012                   22.341603   \n",
       "897             12.316967             76.603067                   12.446967   \n",
       "3301            12.935662             77.614130                   12.995662   \n",
       "2492            13.044694             80.261470                   13.124694   \n",
       "3039            19.181300             72.836191                   19.271300   \n",
       "13              26.463504             80.372929                   26.593504   \n",
       "4258            18.927584             72.832585                   18.947584   \n",
       "2245            17.440827             78.393391                   17.490827   \n",
       "3062            19.207222             72.972281                   19.237222   \n",
       "556             11.003008             76.975440                   11.073009   \n",
       "3307            22.751857             75.866699                   22.881857   \n",
       "2262            13.049645             80.242268                   13.119645   \n",
       "1672            13.029780             80.208812                   13.059780   \n",
       "219             26.911927             75.797282                   27.051927   \n",
       "4326            18.516216             73.842527                   18.556216   \n",
       "1548            26.490950             80.318656                   26.500950   \n",
       "424             11.010375             76.952950                   11.090375   \n",
       "2116            26.479108             80.315042                   26.529108   \n",
       "2335            12.906229             77.596791                   12.916229   \n",
       "2345            26.482581             80.315628                   26.532581   \n",
       "140             18.543626             73.905101                   18.573626   \n",
       "1322            12.914264             77.678400                   13.004264   \n",
       "94              26.891191             75.802083                   26.981191   \n",
       "1839            12.979096             77.640625                   12.999096   \n",
       "3783            18.927584             72.832585                   19.057584   \n",
       "\n",
       "      Delivery_location_longitude  Order_Date Time_Orderd Time_Order_picked  \\\n",
       "1743                    75.894167  11-03-2022    09:55:00          10:10:00   \n",
       "4441                    75.932574  28-03-2022    15:20:00          15:30:00   \n",
       "3938                    72.852585  03-04-2022    09:20:00          09:25:00   \n",
       "1824                    72.834136  03-04-2022    14:55:00          15:00:00   \n",
       "1978                    75.882083  14-03-2022    22:55:00          23:10:00   \n",
       "745                     73.195012  19-03-2022    19:55:00          20:00:00   \n",
       "897                     76.733067  12-03-2022    21:20:00          21:35:00   \n",
       "3301                    77.674130  24-03-2022    22:45:00          23:00:00   \n",
       "2492                    80.341470  04-03-2022    20:00:00          20:15:00   \n",
       "3039                    72.926191  02-04-2022    20:10:00          20:15:00   \n",
       "13                      80.502929  14-02-2022    19:50:00          20:05:00   \n",
       "4258                    72.852585  05-03-2022    08:45:00          08:55:00   \n",
       "2245                    78.443391  07-03-2022    21:55:00          22:10:00   \n",
       "3062                    73.002281  17-03-2022    17:55:00          18:10:00   \n",
       "556                     77.045440  06-04-2022    23:20:00          23:30:00   \n",
       "3307                    75.996699  23-03-2022    19:55:00          20:00:00   \n",
       "2262                    80.312268  20-03-2022    20:50:00          21:05:00   \n",
       "1672                    80.238812  30-03-2022    20:25:00          20:30:00   \n",
       "219                     75.937282  29-03-2022    22:55:00          23:00:00   \n",
       "4326                    73.882527  21-03-2022    16:40:00          16:45:00   \n",
       "1548                    80.328656  15-02-2022    10:00:00          10:15:00   \n",
       "424                     77.032950  31-03-2022    23:15:00          23:20:00   \n",
       "2116                    80.365042  13-02-2022    17:40:00          17:50:00   \n",
       "2335                    77.606791  09-03-2022    09:40:00          09:50:00   \n",
       "2345                    80.365628  13-02-2022    23:10:00          23:25:00   \n",
       "140                     73.935101  09-03-2022        NaN           23:40:00   \n",
       "1322                    77.768400  06-03-2022    19:25:00          19:35:00   \n",
       "94                      75.892083  14-03-2022    17:50:00          17:55:00   \n",
       "1839                    77.660625  03-04-2022    11:45:00          12:00:00   \n",
       "3783                    72.962585  25-03-2022    18:10:00          18:15:00   \n",
       "\n",
       "          Weatherconditions Road_traffic_density  Vehicle_condition  \\\n",
       "1743       conditions Sunny                 Low                   1   \n",
       "4441  conditions Sandstorms              Medium                   1   \n",
       "3938         conditions Fog                 Low                   0   \n",
       "1824      conditions Stormy                High                   1   \n",
       "1978       conditions Windy                 Low                   0   \n",
       "745          conditions Fog                 Jam                   2   \n",
       "897       conditions Stormy                 Jam                   2   \n",
       "3301       conditions Sunny                 Low                   1   \n",
       "2492  conditions Sandstorms                 Jam                   2   \n",
       "3039       conditions Sunny                 Jam                   0   \n",
       "13           conditions Fog                 Jam                   1   \n",
       "4258       conditions Windy                 Low                   1   \n",
       "2245       conditions Windy                 Jam                   0   \n",
       "3062         conditions Fog              Medium                   0   \n",
       "556        conditions Windy                 Low                   0   \n",
       "3307       conditions Sunny                 Jam                   1   \n",
       "2262  conditions Sandstorms                 Jam                   0   \n",
       "1672      conditions Stormy                 Jam                   1   \n",
       "219       conditions Stormy                 Low                   2   \n",
       "4326       conditions Windy              Medium                   2   \n",
       "1548       conditions Windy                 Low                   0   \n",
       "424       conditions Stormy                 Low                   2   \n",
       "2116         conditions Fog              Medium                   0   \n",
       "2335         conditions Fog                 Low                   0   \n",
       "2345       conditions Sunny                 Low                   0   \n",
       "140       conditions Stormy                 Low                   2   \n",
       "1322      conditions Stormy                 Jam                   0   \n",
       "94         conditions Sunny              Medium                   2   \n",
       "1839      conditions Cloudy                High                   0   \n",
       "3783      conditions Cloudy              Medium                   0   \n",
       "\n",
       "     Type_of_order    Type_of_vehicle multiple_deliveries Festival  \\\n",
       "1743       Buffet            scooter                    0      No    \n",
       "4441        Snack            scooter                    1      No    \n",
       "3938        Snack         motorcycle                    1      No    \n",
       "1824         Meal         motorcycle                    1      No    \n",
       "1978        Snack         motorcycle                    0      No    \n",
       "745        Drinks         motorcycle                    1      No    \n",
       "897        Buffet            scooter                    0      No    \n",
       "3301         Meal            scooter                    0      No    \n",
       "2492         Meal            scooter                    1      No    \n",
       "3039        Snack         motorcycle                    1      No    \n",
       "13          Snack            scooter                    1      No    \n",
       "4258        Snack         motorcycle                 NaN       No    \n",
       "2245        Snack         motorcycle                    1      No    \n",
       "3062       Buffet         motorcycle                    1      No    \n",
       "556         Snack         motorcycle                    1      No    \n",
       "3307         Meal         motorcycle                    1      No    \n",
       "2262       Buffet         motorcycle                    1      No    \n",
       "1672        Snack         motorcycle                    1      No    \n",
       "219          Meal            scooter                    1      No    \n",
       "4326         Meal   electric_scooter                    0      No    \n",
       "1548         Meal         motorcycle                    0      No    \n",
       "424         Snack            scooter                    1      No    \n",
       "2116        Snack         motorcycle                    1      No    \n",
       "2335        Snack         motorcycle                    0      No    \n",
       "2345       Buffet         motorcycle                    1      No    \n",
       "140         Snack            scooter                    0      No    \n",
       "1322         Meal         motorcycle                    1      No    \n",
       "94         Buffet   electric_scooter                    0      No    \n",
       "1839       Drinks         motorcycle                    1      No    \n",
       "3783        Snack         motorcycle                    1      No    \n",
       "\n",
       "                City Time_taken(min)  \n",
       "1743  Metropolitian         (min) 12  \n",
       "4441  Metropolitian         (min) 33  \n",
       "3938  Metropolitian         (min) 28  \n",
       "1824  Metropolitian         (min) 33  \n",
       "1978  Metropolitian         (min) 17  \n",
       "745   Metropolitian         (min) 29  \n",
       "897           Urban         (min) 23  \n",
       "3301          Urban         (min) 22  \n",
       "2492  Metropolitian         (min) 35  \n",
       "3039            NaN         (min) 27  \n",
       "13    Metropolitian         (min) 41  \n",
       "4258          Urban         (min) 22  \n",
       "2245  Metropolitian         (min) 19  \n",
       "3062  Metropolitian         (min) 27  \n",
       "556           Urban         (min) 23  \n",
       "3307          Urban         (min) 23  \n",
       "2262  Metropolitian         (min) 44  \n",
       "1672  Metropolitian         (min) 26  \n",
       "219   Metropolitian         (min) 18  \n",
       "4326  Metropolitian         (min) 26  \n",
       "1548  Metropolitian         (min) 20  \n",
       "424   Metropolitian         (min) 18  \n",
       "2116  Metropolitian         (min) 23  \n",
       "2335  Metropolitian         (min) 18  \n",
       "2345          Urban         (min) 19  \n",
       "140             NaN         (min) 19  \n",
       "1322  Metropolitian         (min) 38  \n",
       "94    Metropolitian         (min) 15  \n",
       "1839          Urban         (min) 28  \n",
       "3783  Metropolitian         (min) 41  "
      ]
     },
     "execution_count": 5,
     "metadata": {},
     "output_type": "execute_result"
    }
   ],
   "source": [
    "df_raw.sample(30)"
   ]
  },
  {
   "cell_type": "markdown",
   "id": "17db6691",
   "metadata": {},
   "source": [
    "# 4.0 Limpeza & Transansformação"
   ]
  },
  {
   "cell_type": "markdown",
   "id": "93b28f0b",
   "metadata": {},
   "source": [
    "Claramente algumas colunas possuem valores NaN, mas eles não estão aparecendo na checagem de NaNs. Isso pode ser porque eles são do tipo objeto ou estão armazenados como string e possuem algum formato estranho como \" NaN\", com um espaço em branco.<br>Os primeiros passos serão: remover todos os espaços das colunas com string, convertê-las para o tipo apropriado e remover excesso de NaNs."
   ]
  },
  {
   "cell_type": "markdown",
   "id": "5014d4da",
   "metadata": {},
   "source": [
    "## 4.1 Remover espaços & Corrigir tipos de dados e erros de escrita"
   ]
  },
  {
   "cell_type": "code",
   "execution_count": 6,
   "id": "05ddf976",
   "metadata": {},
   "outputs": [],
   "source": [
    "df_clear = df_raw.copy()\n",
    "# Remover espaços em branco no início e no final das strings\n",
    "df_clear = df_clear.apply(lambda x: x.str.strip() if x.dtype == \"object\" else x)\n",
    "# Converter para tipos númericos onde for necessario\n",
    "df_clear[\"Delivery_person_Age\"] = df_clear[\"Delivery_person_Age\"].apply(pd.to_numeric, errors=\"coerce\").astype(\"Int64\")\n",
    "df_clear[\"Delivery_person_Ratings\"] = df_clear[\"Delivery_person_Ratings\"].apply(pd.to_numeric, errors=\"coerce\")\n",
    "df_clear[\"multiple_deliveries\"] = df_clear[\"multiple_deliveries\"].apply(pd.to_numeric, errors=\"coerce\").astype(\"Int64\")\n",
    "# Corrigir erro de escrita em colunas\n",
    "df_clear.rename(columns={\"Time_Orderd\": \"Time_Ordered\"}, inplace=True)\n",
    "# Corrigir erro de escrita em valores\n",
    "df_clear[\"City\"] = df_clear[\"City\"].str.replace(\"Metropolitian\", \"Metropolitan\", regex=False)\n",
    "# Converter para tipo date.time para melhor manipulá-los\n",
    "df_clear[\"Order_Date\"] = pd.to_datetime(df_clear[\"Order_Date\"], format=\"%d-%m-%Y\").astype(\"string\")\n",
    "df_clear[\"Time_Ordered\"] = pd.to_datetime(df_clear[\"Time_Ordered\"], format=\"%H:%M:%S\").dt.time.astype(\"string\")\n",
    "df_clear[\"Time_Order_picked\"] = pd.to_datetime(df_clear[\"Time_Order_picked\"], format=\"%H:%M:%S\").dt.time.astype(\"string\")\n",
    "# Remover letras da coluna \"Time_taken(min)\" e conberter tipo para \"Int64\"\n",
    "df_clear[\"Time_taken(min)\"] = df_clear[\"Time_taken(min)\"].str.extract(r'(\\d+)').astype(\"Int64\")\n",
    "# Remover excesso de palavras na coluna \"Weatherconditions\"\n",
    "df_clear[\"Weatherconditions\"] = df_clear[\"Weatherconditions\"].str.replace(\"conditions \", \"\", regex=False)\n",
    "# Mudar NaNs para \"Unknown\" em colunas que não guardam valores numéricos\n",
    "df_clear[\"Weatherconditions\"] = df_clear[\"Weatherconditions\"].str.replace(\"NaN\", \"Unknown\", regex=False)\n",
    "df_clear[\"Road_traffic_density\"] = df_clear[\"Road_traffic_density\"].str.replace(\"NaN\", \"Unknown\", regex=False)\n",
    "df_clear[\"City\"] = df_clear[\"City\"].str.replace(\"NaN\", \"Unknown\", regex=False)\n",
    "df_clear[\"Festival\"] = df_clear[\"Festival\"].str.replace(\"NaN\", \"Unknown\", regex=False)\n"
   ]
  },
  {
   "cell_type": "code",
   "execution_count": 7,
   "id": "403902e4",
   "metadata": {},
   "outputs": [
    {
     "name": "stdout",
     "output_type": "stream",
     "text": [
      "Max rating: 6.0\n",
      "Min rating: 1.0\n"
     ]
    },
    {
     "data": {
      "text/html": [
       "<div>\n",
       "<style scoped>\n",
       "    .dataframe tbody tr th:only-of-type {\n",
       "        vertical-align: middle;\n",
       "    }\n",
       "\n",
       "    .dataframe tbody tr th {\n",
       "        vertical-align: top;\n",
       "    }\n",
       "\n",
       "    .dataframe thead th {\n",
       "        text-align: right;\n",
       "    }\n",
       "</style>\n",
       "<table border=\"1\" class=\"dataframe\">\n",
       "  <thead>\n",
       "    <tr style=\"text-align: right;\">\n",
       "      <th></th>\n",
       "      <th>ID</th>\n",
       "      <th>Delivery_person_ID</th>\n",
       "      <th>Delivery_person_Age</th>\n",
       "      <th>Delivery_person_Ratings</th>\n",
       "      <th>Restaurant_latitude</th>\n",
       "      <th>Restaurant_longitude</th>\n",
       "      <th>Delivery_location_latitude</th>\n",
       "      <th>Delivery_location_longitude</th>\n",
       "      <th>Order_Date</th>\n",
       "      <th>Time_Ordered</th>\n",
       "      <th>Time_Order_picked</th>\n",
       "      <th>Weatherconditions</th>\n",
       "      <th>Road_traffic_density</th>\n",
       "      <th>Vehicle_condition</th>\n",
       "      <th>Type_of_order</th>\n",
       "      <th>Type_of_vehicle</th>\n",
       "      <th>multiple_deliveries</th>\n",
       "      <th>Festival</th>\n",
       "      <th>City</th>\n",
       "      <th>Time_taken(min)</th>\n",
       "    </tr>\n",
       "  </thead>\n",
       "  <tbody>\n",
       "    <tr>\n",
       "      <th>3586</th>\n",
       "      <td>0x46d</td>\n",
       "      <td>BANGRES05DEL01</td>\n",
       "      <td>50</td>\n",
       "      <td>6.0</td>\n",
       "      <td>-12.970324</td>\n",
       "      <td>-77.645748</td>\n",
       "      <td>13.010324</td>\n",
       "      <td>77.685748</td>\n",
       "      <td>2022-03-13</td>\n",
       "      <td>&lt;NA&gt;</td>\n",
       "      <td>12:30:00</td>\n",
       "      <td>Unknown</td>\n",
       "      <td>Unknown</td>\n",
       "      <td>3</td>\n",
       "      <td>Meal</td>\n",
       "      <td>electric_scooter</td>\n",
       "      <td>0</td>\n",
       "      <td>No</td>\n",
       "      <td>Urban</td>\n",
       "      <td>25</td>\n",
       "    </tr>\n",
       "  </tbody>\n",
       "</table>\n",
       "</div>"
      ],
      "text/plain": [
       "         ID Delivery_person_ID  Delivery_person_Age  Delivery_person_Ratings  \\\n",
       "3586  0x46d     BANGRES05DEL01                   50                      6.0   \n",
       "\n",
       "      Restaurant_latitude  Restaurant_longitude  Delivery_location_latitude  \\\n",
       "3586           -12.970324            -77.645748                   13.010324   \n",
       "\n",
       "      Delivery_location_longitude  Order_Date Time_Ordered Time_Order_picked  \\\n",
       "3586                    77.685748  2022-03-13         <NA>          12:30:00   \n",
       "\n",
       "     Weatherconditions Road_traffic_density  Vehicle_condition Type_of_order  \\\n",
       "3586           Unknown              Unknown                  3          Meal   \n",
       "\n",
       "       Type_of_vehicle  multiple_deliveries Festival   City  Time_taken(min)  \n",
       "3586  electric_scooter                    0       No  Urban               25  "
      ]
     },
     "execution_count": 7,
     "metadata": {},
     "output_type": "execute_result"
    }
   ],
   "source": [
    "print(f\"Max rating: {df_clear[\"Delivery_person_Ratings\"].max()}\\nMin rating: {df_clear[\"Delivery_person_Ratings\"].min()}\")\n",
    "df_clear[df_clear[\"Delivery_person_Ratings\"] > 5.0]"
   ]
  },
  {
   "cell_type": "markdown",
   "id": "d69cec03",
   "metadata": {},
   "source": [
    "Há um valor de avaliação de 6,0. Como há apenas um valor \"errado\" e, assumindo que o máximo é 5 \"estrelas\", ele será corrigido para 5."
   ]
  },
  {
   "cell_type": "code",
   "execution_count": 8,
   "id": "5a073f4b",
   "metadata": {},
   "outputs": [],
   "source": [
    "df_clear.loc[df_clear[\"Delivery_person_Ratings\"] > 5.0, \"Delivery_person_Ratings\"] = 5.0"
   ]
  },
  {
   "cell_type": "markdown",
   "id": "68f43841",
   "metadata": {},
   "source": [
    "## 4.2 Remover excesso de NaNs"
   ]
  },
  {
   "cell_type": "code",
   "execution_count": 9,
   "id": "7539f25f",
   "metadata": {},
   "outputs": [],
   "source": [
    "# Para manter a análise simples, linhas com mais de 2 NaNs serão removidas, o que dá ~5% dos dados\n",
    "df_clear = df_clear.dropna(thresh=len(df_clear.columns) - 2).reset_index(drop=True)\n",
    "# Há somente 1 NaN em \"Time_taken(min)\", que será substituído removido pois o trabalho para estipula-lo não é viável\n",
    "df_clear = df_clear.dropna(subset=[\"Time_taken(min)\"]).reset_index(drop=True)"
   ]
  },
  {
   "cell_type": "code",
   "execution_count": 10,
   "id": "e9da250d",
   "metadata": {},
   "outputs": [
    {
     "name": "stdout",
     "output_type": "stream",
     "text": [
      "\n",
      "Info dos valores:\n",
      "\n",
      "<class 'pandas.core.frame.DataFrame'>\n",
      "RangeIndex: 4291 entries, 0 to 4290\n",
      "Data columns (total 20 columns):\n",
      " #   Column                       Non-Null Count  Dtype  \n",
      "---  ------                       --------------  -----  \n",
      " 0   ID                           4291 non-null   object \n",
      " 1   Delivery_person_ID           4291 non-null   object \n",
      " 2   Delivery_person_Age          4277 non-null   Int64  \n",
      " 3   Delivery_person_Ratings      4271 non-null   float64\n",
      " 4   Restaurant_latitude          4291 non-null   float64\n",
      " 5   Restaurant_longitude         4291 non-null   float64\n",
      " 6   Delivery_location_latitude   4291 non-null   float64\n",
      " 7   Delivery_location_longitude  4291 non-null   float64\n",
      " 8   Order_Date                   4291 non-null   string \n",
      " 9   Time_Ordered                 4287 non-null   string \n",
      " 10  Time_Order_picked            4291 non-null   string \n",
      " 11  Weatherconditions            4291 non-null   object \n",
      " 12  Road_traffic_density         4291 non-null   object \n",
      " 13  Vehicle_condition            4291 non-null   int64  \n",
      " 14  Type_of_order                4291 non-null   object \n",
      " 15  Type_of_vehicle              4291 non-null   object \n",
      " 16  multiple_deliveries          4189 non-null   Int64  \n",
      " 17  Festival                     4291 non-null   object \n",
      " 18  City                         4291 non-null   object \n",
      " 19  Time_taken(min)              4291 non-null   Int64  \n",
      "dtypes: Int64(3), float64(5), int64(1), object(8), string(3)\n",
      "memory usage: 683.2+ KB\n",
      "None\n",
      "\n",
      "Descrição dos dados:\n",
      "\n",
      "       Delivery_person_Age  Delivery_person_Ratings  Restaurant_latitude  \\\n",
      "count               4277.0              4271.000000          4291.000000   \n",
      "mean             29.449614                 4.630414            17.102314   \n",
      "std               5.788815                 0.330637             7.842138   \n",
      "min                   15.0                 1.000000           -30.902872   \n",
      "25%                   25.0                 4.500000            12.913041   \n",
      "50%                   29.0                 4.700000            18.546947   \n",
      "75%                   34.0                 4.800000            22.727021   \n",
      "max                   50.0                 5.000000            30.914057   \n",
      "\n",
      "       Restaurant_longitude  Delivery_location_latitude  \\\n",
      "count           4291.000000                 4291.000000   \n",
      "mean              70.374837                   17.342799   \n",
      "std               21.820543                    7.445809   \n",
      "min              -77.645748                    0.010000   \n",
      "25%               73.170283                   12.969934   \n",
      "50%               75.894377                   18.621440   \n",
      "75%               78.024883                   22.781857   \n",
      "max               88.433452                   31.035562   \n",
      "\n",
      "       Delivery_location_longitude  Vehicle_condition  multiple_deliveries  \\\n",
      "count                  4291.000000        4291.000000               4189.0   \n",
      "mean                     70.474555           1.000233             0.761996   \n",
      "std                      21.703733           0.819204             0.589973   \n",
      "min                       0.010000           0.000000                  0.0   \n",
      "25%                      73.280610           0.000000                  0.0   \n",
      "50%                      75.984377           1.000000                  1.0   \n",
      "75%                      78.080363           2.000000                  1.0   \n",
      "max                      88.563452           3.000000                  3.0   \n",
      "\n",
      "       Time_taken(min)  \n",
      "count           4291.0  \n",
      "mean         26.277092  \n",
      "std           9.385049  \n",
      "min               10.0  \n",
      "25%               19.0  \n",
      "50%               25.0  \n",
      "75%               32.0  \n",
      "max               54.0  \n"
     ]
    }
   ],
   "source": [
    "checkData(df_clear)"
   ]
  },
  {
   "cell_type": "markdown",
   "id": "0497f1e4",
   "metadata": {},
   "source": [
    "## 4.3 Unir coordenadas em uma tupla em nova coluna"
   ]
  },
  {
   "cell_type": "markdown",
   "id": "1707d9dd",
   "metadata": {},
   "source": [
    "Para melhor trabalhar com as coordenadas, elas serão armazenadas como uma tupla.\n"
   ]
  },
  {
   "cell_type": "code",
   "execution_count": 11,
   "id": "6dde7a16",
   "metadata": {},
   "outputs": [],
   "source": [
    "df_clear[\"Restaurant_location\"] = list(zip(df_clear[\"Restaurant_latitude\"], df_clear[\"Restaurant_longitude\"]))\n",
    "df_clear[\"Delivery_location\"] = list(zip(df_clear[\"Delivery_location_latitude\"], df_clear[\"Delivery_location_longitude\"]))\n",
    "df_clear.drop(columns=[\"Restaurant_latitude\", \"Restaurant_longitude\", \"Delivery_location_latitude\", \"Delivery_location_longitude\"], inplace=True)"
   ]
  },
  {
   "cell_type": "markdown",
   "id": "ad2408d3",
   "metadata": {},
   "source": [
    "## 4.4 Unir datas e horas"
   ]
  },
  {
   "cell_type": "markdown",
   "id": "5322660e",
   "metadata": {},
   "source": [
    "Para melhor trabalhar com o tempo, \"Order_date\" será unido com \"Time_Ordered\" e \"Time_Order_picked\". Pelo mesmo motivo, \"Time_taken(min)\" será transformado em um date.time baseado em \"Time_Order_picked\" + \"Time_taken(min)\"."
   ]
  },
  {
   "cell_type": "code",
   "execution_count": 12,
   "id": "b53fb758",
   "metadata": {},
   "outputs": [],
   "source": [
    "# Une as colunas de data e hora para uma melhor manipulação\n",
    "df_clear[\"Time_Ordered\"] = pd.to_datetime(df_clear[\"Order_Date\"] + \" \" + df_clear[\"Time_Ordered\"], format=\"%Y-%m-%d %H:%M:%S\")\n",
    "df_clear[\"Time_Order_picked\"] = pd.to_datetime(df_clear['Order_Date'] + \" \" + df_clear[\"Time_Order_picked\"], format=\"%Y-%m-%d %H:%M:%S\")\n",
    "# Adiciona 1 dia para pedidos feitos antes da meia noite e entregues depois da meia\n",
    "df_clear[\"Time_Order_picked\"] = df_clear.apply(lambda row: row[\"Time_Order_picked\"] + pd.Timedelta(days=1) if row[\"Time_Ordered\"] > row[\"Time_Order_picked\"] else row[\"Time_Order_picked\"], axis=1)\n",
    "# Calcula a hora da entrega baseado em Time_order_pick + time_taken\n",
    "df_clear[\"Time_Order_delivered\"] = df_clear[\"Time_Order_picked\"] + pd.to_timedelta(df_clear[\"Time_taken(min)\"], unit=\"m\")\n",
    "# Remove as colunas originais de data e tempo\n",
    "df_clear.drop([\"Order_Date\", \"Time_taken(min)\"], axis=1, inplace=True)"
   ]
  },
  {
   "cell_type": "markdown",
   "id": "2382858a",
   "metadata": {},
   "source": [
    "## 4.5 Preenchendo NaNs"
   ]
  },
  {
   "cell_type": "code",
   "execution_count": 13,
   "id": "3a20e734",
   "metadata": {},
   "outputs": [
    {
     "name": "stdout",
     "output_type": "stream",
     "text": [
      "Mediana de \"Delivery_person_Age\": 29.0\n",
      "Média de \"Delivery_person_Age\": 29.449614215571664\n"
     ]
    }
   ],
   "source": [
    "print(f'Mediana de \"Delivery_person_Age\": {df_clear['Delivery_person_Age'].median()}')\n",
    "print(f'Média de \"Delivery_person_Age\": {df_clear['Delivery_person_Age'].mean()}')"
   ]
  },
  {
   "cell_type": "markdown",
   "id": "d7cf6ed5",
   "metadata": {},
   "source": [
    "A coluna \"Delivery_person_Age\" possui o valor de ~29 tanto para a mediana quanto para a média, então vamos preencher os NaNs com a mediana, pois é um Int e a média é um float.<br>Uma abordagem melhor seria aplicar um método como \"KNN\", mas neste exercício vamos nos manter no simples."
   ]
  },
  {
   "cell_type": "code",
   "execution_count": 14,
   "id": "ce846c53",
   "metadata": {},
   "outputs": [],
   "source": [
    "df_clear[\"Delivery_person_Age\"] = df_clear['Delivery_person_Age'].fillna(df_clear['Delivery_person_Age'].median())"
   ]
  },
  {
   "cell_type": "markdown",
   "id": "24a06201",
   "metadata": {},
   "source": [
    "\"Delivery_person_Ratings\" pode ser preenchido com a média baseada no \"Delivery_person_ID\"."
   ]
  },
  {
   "cell_type": "code",
   "execution_count": 15,
   "id": "6a2dcd9a",
   "metadata": {},
   "outputs": [],
   "source": [
    "df_aux = df_clear[[\"Delivery_person_ID\", \"Delivery_person_Ratings\"]].dropna()\n",
    "df_aux = df_aux.groupby([\"Delivery_person_ID\"]).mean().reset_index()\n",
    "df_clear = df_clear.merge(df_aux, on=\"Delivery_person_ID\", how=\"left\", suffixes=('', '_mean'))\n",
    "df_clear[\"Delivery_person_Ratings\"] = df_clear[\"Delivery_person_Ratings\"].fillna(df_clear[\"Delivery_person_Ratings_mean\"])\n",
    "df_clear.drop(columns=[\"Delivery_person_Ratings_mean\"], inplace=True)"
   ]
  },
  {
   "cell_type": "markdown",
   "id": "4bfc2601",
   "metadata": {},
   "source": [
    "NaNs em \"Time_ordered\" podem ser preenchidos com base nos outros pedidos, agrupados pelo tipo de pedido.<br>A suposição aqui é que as refeições provavelmente têm um tempo de preparo mais longo do que o buffet, que tem um tempo mais longo do que as bebidas, que têm um tempo mais longo do que as lanches."
   ]
  },
  {
   "cell_type": "code",
   "execution_count": 16,
   "id": "07699968",
   "metadata": {},
   "outputs": [
    {
     "data": {
      "text/html": [
       "<div>\n",
       "<style scoped>\n",
       "    .dataframe tbody tr th:only-of-type {\n",
       "        vertical-align: middle;\n",
       "    }\n",
       "\n",
       "    .dataframe tbody tr th {\n",
       "        vertical-align: top;\n",
       "    }\n",
       "\n",
       "    .dataframe thead tr th {\n",
       "        text-align: left;\n",
       "    }\n",
       "</style>\n",
       "<table border=\"1\" class=\"dataframe\">\n",
       "  <thead>\n",
       "    <tr>\n",
       "      <th></th>\n",
       "      <th>Type_of_order</th>\n",
       "      <th colspan=\"2\" halign=\"left\">Time_to_pick</th>\n",
       "      <th colspan=\"2\" halign=\"left\">Time_to_delivery</th>\n",
       "    </tr>\n",
       "    <tr>\n",
       "      <th></th>\n",
       "      <th></th>\n",
       "      <th>mean</th>\n",
       "      <th>median</th>\n",
       "      <th>mean</th>\n",
       "      <th>median</th>\n",
       "    </tr>\n",
       "  </thead>\n",
       "  <tbody>\n",
       "    <tr>\n",
       "      <th>0</th>\n",
       "      <td>Buffet</td>\n",
       "      <td>9.781784</td>\n",
       "      <td>10.0</td>\n",
       "      <td>26.122391</td>\n",
       "      <td>25.0</td>\n",
       "    </tr>\n",
       "    <tr>\n",
       "      <th>1</th>\n",
       "      <td>Drinks</td>\n",
       "      <td>9.841954</td>\n",
       "      <td>10.0</td>\n",
       "      <td>26.286398</td>\n",
       "      <td>25.5</td>\n",
       "    </tr>\n",
       "    <tr>\n",
       "      <th>2</th>\n",
       "      <td>Meal</td>\n",
       "      <td>10.032110</td>\n",
       "      <td>10.0</td>\n",
       "      <td>26.225688</td>\n",
       "      <td>25.0</td>\n",
       "    </tr>\n",
       "    <tr>\n",
       "      <th>3</th>\n",
       "      <td>Snack</td>\n",
       "      <td>9.977252</td>\n",
       "      <td>10.0</td>\n",
       "      <td>26.482257</td>\n",
       "      <td>26.0</td>\n",
       "    </tr>\n",
       "  </tbody>\n",
       "</table>\n",
       "</div>"
      ],
      "text/plain": [
       "  Type_of_order Time_to_pick        Time_to_delivery       \n",
       "                        mean median             mean median\n",
       "0        Buffet     9.781784   10.0        26.122391   25.0\n",
       "1        Drinks     9.841954   10.0        26.286398   25.5\n",
       "2          Meal    10.032110   10.0        26.225688   25.0\n",
       "3         Snack     9.977252   10.0        26.482257   26.0"
      ]
     },
     "execution_count": 16,
     "metadata": {},
     "output_type": "execute_result"
    }
   ],
   "source": [
    "df_aux = df_clear[[\"Time_Ordered\", \"Time_Order_picked\", \"Time_Order_delivered\", \"Type_of_order\"]].dropna()\n",
    "df_aux[\"Time_to_pick\"] = (df_aux[\"Time_Order_picked\"] - df_aux[\"Time_Ordered\"]).dt.total_seconds() / 60\n",
    "df_aux[\"Time_to_delivery\"] = (df_aux[\"Time_Order_delivered\"] - df_aux[\"Time_Order_picked\"]).dt.total_seconds() / 60\n",
    "df_aux = df_aux.drop(columns=[\"Time_Ordered\", \"Time_Order_picked\", \"Time_Order_delivered\"])\n",
    "df_times_grouped = df_aux.groupby([\"Type_of_order\"]).agg([\"mean\", \"median\"]).reset_index()\n",
    "df_times_grouped"
   ]
  },
  {
   "cell_type": "markdown",
   "id": "ea438aed",
   "metadata": {},
   "source": [
    "A suposição não foi exatamente verdadeira, mas a mediana de \"Time_to_pick\" pode ser usada para calcular quando os pedidos com NaNs foram feitos sem muita distorção nos dados."
   ]
  },
  {
   "cell_type": "code",
   "execution_count": 17,
   "id": "f9ba0c08",
   "metadata": {},
   "outputs": [],
   "source": [
    "df_clear[\"Time_Ordered\"] = df_clear[\"Time_Ordered\"].fillna(df_clear[\"Time_Order_picked\"] - pd.to_timedelta(df_times_grouped.loc[0, (\"Time_to_pick\", \"median\")], unit=\"m\"))"
   ]
  },
  {
   "cell_type": "markdown",
   "id": "65bbb6b1",
   "metadata": {},
   "source": [
    "Em \"multiple_delivery\", a suposição é: se não é uma entrega múltipla, essa entrada não foi preenchida, então os NaNs serão preenchidos com 1."
   ]
  },
  {
   "cell_type": "code",
   "execution_count": 18,
   "id": "5b2632fa",
   "metadata": {},
   "outputs": [],
   "source": [
    "df_clear[\"multiple_deliveries\"] = df_clear[\"multiple_deliveries\"].fillna(1)"
   ]
  },
  {
   "cell_type": "code",
   "execution_count": 19,
   "id": "ec2b1f93",
   "metadata": {},
   "outputs": [
    {
     "name": "stdout",
     "output_type": "stream",
     "text": [
      "\n",
      "Info dos valores:\n",
      "\n",
      "<class 'pandas.core.frame.DataFrame'>\n",
      "RangeIndex: 4291 entries, 0 to 4290\n",
      "Data columns (total 17 columns):\n",
      " #   Column                   Non-Null Count  Dtype         \n",
      "---  ------                   --------------  -----         \n",
      " 0   ID                       4291 non-null   object        \n",
      " 1   Delivery_person_ID       4291 non-null   object        \n",
      " 2   Delivery_person_Age      4291 non-null   Int64         \n",
      " 3   Delivery_person_Ratings  4291 non-null   float64       \n",
      " 4   Time_Ordered             4291 non-null   datetime64[ns]\n",
      " 5   Time_Order_picked        4291 non-null   datetime64[ns]\n",
      " 6   Weatherconditions        4291 non-null   object        \n",
      " 7   Road_traffic_density     4291 non-null   object        \n",
      " 8   Vehicle_condition        4291 non-null   int64         \n",
      " 9   Type_of_order            4291 non-null   object        \n",
      " 10  Type_of_vehicle          4291 non-null   object        \n",
      " 11  multiple_deliveries      4291 non-null   Int64         \n",
      " 12  Festival                 4291 non-null   object        \n",
      " 13  City                     4291 non-null   object        \n",
      " 14  Restaurant_location      4291 non-null   object        \n",
      " 15  Delivery_location        4291 non-null   object        \n",
      " 16  Time_Order_delivered     4291 non-null   datetime64[ns]\n",
      "dtypes: Int64(2), datetime64[ns](3), float64(1), int64(1), object(10)\n",
      "memory usage: 578.4+ KB\n",
      "None\n",
      "\n",
      "Descrição dos dados:\n",
      "\n",
      "       Delivery_person_Age  Delivery_person_Ratings  \\\n",
      "count               4291.0              4291.000000   \n",
      "mean             29.448147                 4.630762   \n",
      "min                   15.0                 1.000000   \n",
      "25%                   25.0                 4.500000   \n",
      "50%                   29.0                 4.700000   \n",
      "75%                   34.0                 4.800000   \n",
      "max                   50.0                 5.000000   \n",
      "std               5.779419                 0.329956   \n",
      "\n",
      "                        Time_Ordered              Time_Order_picked  \\\n",
      "count                           4291                           4291   \n",
      "mean   2022-03-14 13:26:58.503845120  2022-03-14 13:36:53.120484864   \n",
      "min              2022-02-11 00:00:00            2022-02-11 00:10:00   \n",
      "25%              2022-03-05 09:57:30            2022-03-05 10:10:00   \n",
      "50%              2022-03-15 17:50:00            2022-03-15 18:00:00   \n",
      "75%              2022-03-27 19:35:00            2022-03-27 19:45:00   \n",
      "max              2022-04-06 23:55:00            2022-04-07 00:05:00   \n",
      "std                              NaN                            NaN   \n",
      "\n",
      "       Vehicle_condition  multiple_deliveries           Time_Order_delivered  \n",
      "count        4291.000000               4291.0                           4291  \n",
      "mean            1.000233             0.767653  2022-03-14 14:03:09.745979904  \n",
      "min             0.000000                  0.0            2022-02-11 00:27:00  \n",
      "25%             0.000000                  0.0            2022-03-05 10:32:30  \n",
      "50%             1.000000                  1.0            2022-03-15 18:38:00  \n",
      "75%             2.000000                  1.0            2022-03-27 20:14:00  \n",
      "max             3.000000                  3.0            2022-04-07 00:48:00  \n",
      "std             0.819204             0.584044                            NaN  \n"
     ]
    }
   ],
   "source": [
    "checkData(df_clear)"
   ]
  },
  {
   "cell_type": "markdown",
   "id": "dd0337ed",
   "metadata": {},
   "source": [
    "# 5.0 Análise descritiva"
   ]
  },
  {
   "cell_type": "markdown",
   "id": "cf3c63e7",
   "metadata": {},
   "source": [
    "## 5.1 Primeiras KBQs\n",
    "Por enquanto, as perguntas de négocio serão respondidas sem o uso de técnicas intermediárias/avançadas como groupby, agg, plotting, machine learning, etc..."
   ]
  },
  {
   "cell_type": "markdown",
   "id": "12eda52e",
   "metadata": {},
   "source": [
    "### 1. Qual o número total de entregas cadastradas na base de dados?\n",
    "**Resposta:** O número total de entregas cadastrados na base de dados é 4291."
   ]
  },
  {
   "cell_type": "code",
   "execution_count": 20,
   "id": "263d805a",
   "metadata": {},
   "outputs": [
    {
     "data": {
      "text/plain": [
       "4291"
      ]
     },
     "execution_count": 20,
     "metadata": {},
     "output_type": "execute_result"
    }
   ],
   "source": [
    "len(df_clear)"
   ]
  },
  {
   "cell_type": "markdown",
   "id": "21050a20",
   "metadata": {},
   "source": [
    "### 2. Quantos entregadores únicos existem na base de dados?\n",
    "**Resposta:** Há 1131 IDs únicos na base de dados, porem aparentemente não são entregadores, mas sim empresas que oferecem o serviço de entrega, pois há multiplas idades para o mesmo ID de entregador."
   ]
  },
  {
   "cell_type": "markdown",
   "id": "5948c608",
   "metadata": {},
   "source": [
    "Primeiramente foi notado nos datasets abaixo que há multiplas idades para o mesmo ID de entregador, o que sugere que provavelmente o ID não é do entregador, mas provavelmente da empresa que oferece o serviço de entrega.\n",
    "Note que, apesar de não ser usado técnicas como groupby e agg, foi aberto uma exceção para o código abaixo, pois ele não visa responder a pergunta, mas sim apontar uma inconsistência na base de dados."
   ]
  },
  {
   "cell_type": "code",
   "execution_count": 21,
   "id": "ef1042c2",
   "metadata": {},
   "outputs": [
    {
     "data": {
      "text/html": [
       "<div>\n",
       "<style scoped>\n",
       "    .dataframe tbody tr th:only-of-type {\n",
       "        vertical-align: middle;\n",
       "    }\n",
       "\n",
       "    .dataframe tbody tr th {\n",
       "        vertical-align: top;\n",
       "    }\n",
       "\n",
       "    .dataframe thead tr th {\n",
       "        text-align: left;\n",
       "    }\n",
       "</style>\n",
       "<table border=\"1\" class=\"dataframe\">\n",
       "  <thead>\n",
       "    <tr>\n",
       "      <th></th>\n",
       "      <th>Delivery_person_ID</th>\n",
       "      <th>Delivery_person_Age</th>\n",
       "    </tr>\n",
       "    <tr>\n",
       "      <th></th>\n",
       "      <th></th>\n",
       "      <th>count</th>\n",
       "    </tr>\n",
       "  </thead>\n",
       "  <tbody>\n",
       "    <tr>\n",
       "      <th>0</th>\n",
       "      <td>AGRRES010DEL01</td>\n",
       "      <td>1</td>\n",
       "    </tr>\n",
       "    <tr>\n",
       "      <th>1</th>\n",
       "      <td>AGRRES010DEL02</td>\n",
       "      <td>2</td>\n",
       "    </tr>\n",
       "    <tr>\n",
       "      <th>2</th>\n",
       "      <td>AGRRES01DEL02</td>\n",
       "      <td>1</td>\n",
       "    </tr>\n",
       "    <tr>\n",
       "      <th>3</th>\n",
       "      <td>AGRRES01DEL03</td>\n",
       "      <td>1</td>\n",
       "    </tr>\n",
       "    <tr>\n",
       "      <th>4</th>\n",
       "      <td>AGRRES02DEL02</td>\n",
       "      <td>1</td>\n",
       "    </tr>\n",
       "    <tr>\n",
       "      <th>...</th>\n",
       "      <td>...</td>\n",
       "      <td>...</td>\n",
       "    </tr>\n",
       "    <tr>\n",
       "      <th>1126</th>\n",
       "      <td>VADRES19DEL02</td>\n",
       "      <td>7</td>\n",
       "    </tr>\n",
       "    <tr>\n",
       "      <th>1127</th>\n",
       "      <td>VADRES19DEL03</td>\n",
       "      <td>5</td>\n",
       "    </tr>\n",
       "    <tr>\n",
       "      <th>1128</th>\n",
       "      <td>VADRES20DEL01</td>\n",
       "      <td>5</td>\n",
       "    </tr>\n",
       "    <tr>\n",
       "      <th>1129</th>\n",
       "      <td>VADRES20DEL02</td>\n",
       "      <td>7</td>\n",
       "    </tr>\n",
       "    <tr>\n",
       "      <th>1130</th>\n",
       "      <td>VADRES20DEL03</td>\n",
       "      <td>1</td>\n",
       "    </tr>\n",
       "  </tbody>\n",
       "</table>\n",
       "<p>1131 rows × 2 columns</p>\n",
       "</div>"
      ],
      "text/plain": [
       "     Delivery_person_ID Delivery_person_Age\n",
       "                                      count\n",
       "0        AGRRES010DEL01                   1\n",
       "1        AGRRES010DEL02                   2\n",
       "2         AGRRES01DEL02                   1\n",
       "3         AGRRES01DEL03                   1\n",
       "4         AGRRES02DEL02                   1\n",
       "...                 ...                 ...\n",
       "1126      VADRES19DEL02                   7\n",
       "1127      VADRES19DEL03                   5\n",
       "1128      VADRES20DEL01                   5\n",
       "1129      VADRES20DEL02                   7\n",
       "1130      VADRES20DEL03                   1\n",
       "\n",
       "[1131 rows x 2 columns]"
      ]
     },
     "execution_count": 21,
     "metadata": {},
     "output_type": "execute_result"
    }
   ],
   "source": [
    "df_aux = df_clear[[\"Delivery_person_ID\", \"Delivery_person_Age\"]].dropna()\n",
    "df_age_grouped = df_aux.groupby([\"Delivery_person_ID\"]).agg([\"count\"]).reset_index()\n",
    "df_age_grouped"
   ]
  },
  {
   "cell_type": "code",
   "execution_count": 22,
   "id": "ae698ec5",
   "metadata": {},
   "outputs": [
    {
     "data": {
      "text/html": [
       "<div>\n",
       "<style scoped>\n",
       "    .dataframe tbody tr th:only-of-type {\n",
       "        vertical-align: middle;\n",
       "    }\n",
       "\n",
       "    .dataframe tbody tr th {\n",
       "        vertical-align: top;\n",
       "    }\n",
       "\n",
       "    .dataframe thead th {\n",
       "        text-align: right;\n",
       "    }\n",
       "</style>\n",
       "<table border=\"1\" class=\"dataframe\">\n",
       "  <thead>\n",
       "    <tr style=\"text-align: right;\">\n",
       "      <th></th>\n",
       "      <th>Delivery_person_ID</th>\n",
       "      <th>Delivery_person_Age</th>\n",
       "    </tr>\n",
       "  </thead>\n",
       "  <tbody>\n",
       "    <tr>\n",
       "      <th>921</th>\n",
       "      <td>VADRES19DEL02</td>\n",
       "      <td>38</td>\n",
       "    </tr>\n",
       "    <tr>\n",
       "      <th>2160</th>\n",
       "      <td>VADRES19DEL02</td>\n",
       "      <td>33</td>\n",
       "    </tr>\n",
       "    <tr>\n",
       "      <th>2972</th>\n",
       "      <td>VADRES19DEL02</td>\n",
       "      <td>34</td>\n",
       "    </tr>\n",
       "    <tr>\n",
       "      <th>3091</th>\n",
       "      <td>VADRES19DEL02</td>\n",
       "      <td>28</td>\n",
       "    </tr>\n",
       "    <tr>\n",
       "      <th>3326</th>\n",
       "      <td>VADRES19DEL02</td>\n",
       "      <td>36</td>\n",
       "    </tr>\n",
       "    <tr>\n",
       "      <th>3390</th>\n",
       "      <td>VADRES19DEL02</td>\n",
       "      <td>28</td>\n",
       "    </tr>\n",
       "    <tr>\n",
       "      <th>4205</th>\n",
       "      <td>VADRES19DEL02</td>\n",
       "      <td>38</td>\n",
       "    </tr>\n",
       "  </tbody>\n",
       "</table>\n",
       "</div>"
      ],
      "text/plain": [
       "     Delivery_person_ID  Delivery_person_Age\n",
       "921       VADRES19DEL02                   38\n",
       "2160      VADRES19DEL02                   33\n",
       "2972      VADRES19DEL02                   34\n",
       "3091      VADRES19DEL02                   28\n",
       "3326      VADRES19DEL02                   36\n",
       "3390      VADRES19DEL02                   28\n",
       "4205      VADRES19DEL02                   38"
      ]
     },
     "execution_count": 22,
     "metadata": {},
     "output_type": "execute_result"
    }
   ],
   "source": [
    "df_clear.loc[df_clear['Delivery_person_ID'] == 'VADRES19DEL02', [\"Delivery_person_ID\", \"Delivery_person_Age\"]]"
   ]
  },
  {
   "cell_type": "markdown",
   "id": "c4414bcc",
   "metadata": {},
   "source": [
    "Portanto será tratado como \"ID único\" e não \"entregador único\"."
   ]
  },
  {
   "cell_type": "code",
   "execution_count": 23,
   "id": "eb0e6bd3",
   "metadata": {},
   "outputs": [
    {
     "data": {
      "text/plain": [
       "1131"
      ]
     },
     "execution_count": 23,
     "metadata": {},
     "output_type": "execute_result"
    }
   ],
   "source": [
    "# Get the size of the unique values in the column Delivery_person_ID\n",
    "len(df_clear[\"Delivery_person_ID\"].unique())"
   ]
  },
  {
   "cell_type": "markdown",
   "id": "c53287dc",
   "metadata": {},
   "source": [
    "### 3. Qual a idade do entregador mais velho? E do mais novo?\n",
    "**Resposta:** A maior idadeade é 50 anos e a menor idade é 15 anos."
   ]
  },
  {
   "cell_type": "code",
   "execution_count": 24,
   "id": "fc957187",
   "metadata": {},
   "outputs": [
    {
     "data": {
      "text/plain": [
       "2292    15\n",
       "2787    15\n",
       "2833    15\n",
       "1944    20\n",
       "3031    20\n",
       "        ..\n",
       "65      39\n",
       "2976    39\n",
       "3029    39\n",
       "4277    39\n",
       "3448    50\n",
       "Name: Delivery_person_Age, Length: 4291, dtype: Int64"
      ]
     },
     "execution_count": 24,
     "metadata": {},
     "output_type": "execute_result"
    }
   ],
   "source": [
    "df_clear[\"Delivery_person_Age\"].sort_values(ascending=True)"
   ]
  },
  {
   "cell_type": "markdown",
   "id": "7f7012f3",
   "metadata": {},
   "source": [
    "### 4. Qual o ID do entregador com a maior idade? E o ID do entregador com a menor idade?\n",
    "**Resposta:** O ID do entregador mais velho é \"BANGRES05DEL01\" e o ID do entregador mais novo é \"JAPRES15DEL03\"."
   ]
  },
  {
   "cell_type": "code",
   "execution_count": 25,
   "id": "72995e1d",
   "metadata": {},
   "outputs": [
    {
     "data": {
      "text/plain": [
       "{'max': {'Delivery_person_ID': 'BANGRES05DEL01', 'Delivery_person_Age': 50},\n",
       " 'min': {'Delivery_person_ID': 'JAPRES15DEL03', 'Delivery_person_Age': 15}}"
      ]
     },
     "execution_count": 25,
     "metadata": {},
     "output_type": "execute_result"
    }
   ],
   "source": [
    "max_age_row = df_clear.loc[df_clear[\"Delivery_person_Age\"].idxmax()]\n",
    "min_age_row = df_clear.loc[df_clear[\"Delivery_person_Age\"].idxmin()]\n",
    "age_max_min = {\n",
    "    \"max\": {\n",
    "        \"Delivery_person_ID\": str(max_age_row[\"Delivery_person_ID\"]),\n",
    "        \"Delivery_person_Age\": int(max_age_row[\"Delivery_person_Age\"])\n",
    "    },\n",
    "    \"min\": {\n",
    "        \"Delivery_person_ID\": str(min_age_row[\"Delivery_person_ID\"]),\n",
    "        \"Delivery_person_Age\": int(min_age_row[\"Delivery_person_Age\"])\n",
    "    }\n",
    "}\n",
    "age_max_min\n"
   ]
  },
  {
   "cell_type": "markdown",
   "id": "d4e24c57",
   "metadata": {},
   "source": [
    "### 5. Quais os nomes das condições climáticas?\n",
    "**Resposta:** As condições climáticas são: \n",
    "- \"Sunny\"\n",
    "- \"Stormy\"\n",
    "- \"Sandstorms\"\n",
    "- \"Cloudy\"\n",
    "- \"Fog\"\n",
    "- \"Windy\"\n",
    "- \"Unknown\".\n",
    "\n",
    "Lembrando que \"Unknown\" foi criado para conter os valores nulos da coluna."
   ]
  },
  {
   "cell_type": "code",
   "execution_count": 26,
   "id": "1cd0faf4",
   "metadata": {},
   "outputs": [
    {
     "data": {
      "text/plain": [
       "array(['Sunny', 'Stormy', 'Sandstorms', 'Cloudy', 'Fog', 'Windy',\n",
       "       'Unknown'], dtype=object)"
      ]
     },
     "execution_count": 26,
     "metadata": {},
     "output_type": "execute_result"
    }
   ],
   "source": [
    "df_clear[\"Weatherconditions\"].unique()"
   ]
  },
  {
   "cell_type": "markdown",
   "id": "0f460ee8",
   "metadata": {},
   "source": [
    "### 6. Quantas entregas foram realizadas sob condições climáticas de tempestade de areia (Sandstorms)?\n",
    "**Resposta:** Foram feitas 697 entregas com a condição \"Sandstorms\"."
   ]
  },
  {
   "cell_type": "code",
   "execution_count": 27,
   "id": "5bfc78aa",
   "metadata": {},
   "outputs": [
    {
     "data": {
      "text/plain": [
       "697"
      ]
     },
     "execution_count": 27,
     "metadata": {},
     "output_type": "execute_result"
    }
   ],
   "source": [
    "len(df_clear.loc[df_clear[\"Weatherconditions\"] == \"Sandstorms\", \"Weatherconditions\"])"
   ]
  },
  {
   "cell_type": "markdown",
   "id": "b0c74046",
   "metadata": {},
   "source": [
    "### 7. Quais eram as condicões climáticas da data mais recente de entrega?\n",
    "**Resposta:** A condição climática da data mais recente de entrega foi \"Fog\" (Neblina)."
   ]
  },
  {
   "cell_type": "code",
   "execution_count": 28,
   "id": "81a018f0",
   "metadata": {},
   "outputs": [
    {
     "data": {
      "text/plain": [
       "1288    Fog\n",
       "Name: Weatherconditions, dtype: object"
      ]
     },
     "execution_count": 28,
     "metadata": {},
     "output_type": "execute_result"
    }
   ],
   "source": [
    "df_clear.loc[df_clear[\"Time_Order_delivered\"] == df_clear[\"Time_Order_delivered\"].max(), \"Weatherconditions\"]"
   ]
  },
  {
   "cell_type": "markdown",
   "id": "ad047601",
   "metadata": {},
   "source": [
    "### 8. Quantos tipos de densidade de trânsito existem na base de dados? Quais os nomes delas?\n",
    "**Resposta:** Existem 5 tipos de densidade de trânsito na base de dados:\n",
    "- High\n",
    "- Jam\n",
    "- Low\n",
    "- Medium\n",
    "- Unknown\n",
    "\n",
    "Lembrando que \"Unknown\" foi criado para conter os valores nulos da coluna."
   ]
  },
  {
   "cell_type": "code",
   "execution_count": 29,
   "id": "56c3ea27",
   "metadata": {},
   "outputs": [
    {
     "name": "stdout",
     "output_type": "stream",
     "text": [
      "5 tipos de densidade.\n",
      "['High' 'Jam' 'Low' 'Medium' 'Unknown'].\n"
     ]
    }
   ],
   "source": [
    "print(f\"{len(df_clear[\"Road_traffic_density\"].unique())} tipos de densidade.\\n{df_clear[\"Road_traffic_density\"].unique()}.\")"
   ]
  },
  {
   "cell_type": "markdown",
   "id": "53f54e99",
   "metadata": {},
   "source": [
    "### 9. Quantas entregas foram feitas em cada condição climática?\n",
    "**Resposta:** A quantidade de entregas feitas em cada condição climática é: \n",
    "1. Fog: 758\n",
    "2. Windy: 725\n",
    "3. Cloudy: 707\n",
    "4. Stormy: 704\n",
    "5. Sandstorms: 697\n",
    "6. Sunny: 696\n",
    "7. Unknown: 4"
   ]
  },
  {
   "cell_type": "code",
   "execution_count": 30,
   "id": "1a8ef77d",
   "metadata": {},
   "outputs": [
    {
     "name": "stdout",
     "output_type": "stream",
     "text": [
      "Sunny: 696\n",
      "Stormy: 704\n",
      "Sandstorms: 697\n",
      "Cloudy: 707\n",
      "Fog: 758\n",
      "Windy: 725\n",
      "Unknown: 4\n"
     ]
    }
   ],
   "source": [
    "for condition in df_clear[\"Weatherconditions\"].unique():\n",
    "    print(f\"{condition}: {len(df_clear.loc[df_clear[\"Weatherconditions\"] == condition, \"Weatherconditions\"])}\")"
   ]
  },
  {
   "cell_type": "markdown",
   "id": "60a27bd2",
   "metadata": {},
   "source": [
    "### 10. Quantos entregadores únicos fizeram entregas em cada condição climática?\n",
    "**Resposta:** A quantidade de entregadores únicos que fizeram entregas em cada condição climática é: \n",
    "1. Sunny: 529\n",
    "2. Windy: 523\n",
    "3. Cloudy: 520\n",
    "4. Fog: 511\n",
    "5. Stormy: 504\n",
    "6. Sandstorms: 504\n",
    "7. Unknown: 4"
   ]
  },
  {
   "cell_type": "code",
   "execution_count": 31,
   "id": "d6b8eb2a",
   "metadata": {},
   "outputs": [
    {
     "name": "stdout",
     "output_type": "stream",
     "text": [
      "Sunny: 529\n",
      "Stormy: 504\n",
      "Sandstorms: 504\n",
      "Cloudy: 520\n",
      "Fog: 511\n",
      "Windy: 523\n",
      "Unknown: 4\n"
     ]
    }
   ],
   "source": [
    "for condition in df_clear[\"Weatherconditions\"].unique():\n",
    "    print(f\"{condition}: {df_clear.loc[df_clear[\"Weatherconditions\"] == condition, \"Delivery_person_ID\"].nunique()}\")"
   ]
  },
  {
   "cell_type": "markdown",
   "id": "0032b2fa",
   "metadata": {},
   "source": [
    "### 11. Quantas entregas foram feitas em cada tipo de densidade de trânsito?\n",
    "**Resposta:** A quantidade de entregas feitas em cada condição de transito é: \n",
    "1. Low: 1504\n",
    "2. Jam: 1303\n",
    "3. Medium: 1059\n",
    "4. High: 421\n",
    "5. Unknown: 4"
   ]
  },
  {
   "cell_type": "code",
   "execution_count": 32,
   "id": "50e4fc39",
   "metadata": {},
   "outputs": [
    {
     "name": "stdout",
     "output_type": "stream",
     "text": [
      "High: 421\n",
      "Jam: 1303\n",
      "Low: 1504\n",
      "Medium: 1059\n",
      "Unknown: 4\n"
     ]
    }
   ],
   "source": [
    "for condition in df_clear[\"Road_traffic_density\"].unique():\n",
    "    print(f\"{condition}: {len(df_clear.loc[df_clear[\"Road_traffic_density\"] == condition, \"Road_traffic_density\"])}\")"
   ]
  },
  {
   "cell_type": "markdown",
   "id": "c1c8a847",
   "metadata": {},
   "source": [
    "### 12. Quantos entregadores únicos fizeram entregas em cada tipo de densidade de trânsito?\n",
    "**Resposta:** A quantidade de entregadores únicos que fizeram entregas em cada densidade de trânsito é: \n",
    "1. Low: 784\n",
    "2. Jam: 740\n",
    "3. Medium: 649\n",
    "4. High: 293\n",
    "5. Unknown: 4"
   ]
  },
  {
   "cell_type": "code",
   "execution_count": 33,
   "id": "a13789c7",
   "metadata": {},
   "outputs": [
    {
     "name": "stdout",
     "output_type": "stream",
     "text": [
      "High: 293\n",
      "Jam: 740\n",
      "Low: 784\n",
      "Medium: 649\n",
      "Unknown: 4\n"
     ]
    }
   ],
   "source": [
    "for condition in df_clear[\"Road_traffic_density\"].unique():\n",
    "    print(f\"{condition}: {df_clear.loc[df_clear[\"Road_traffic_density\"] == condition, \"Delivery_person_ID\"].nunique()}\")"
   ]
  },
  {
   "cell_type": "markdown",
   "id": "f0a0de1a",
   "metadata": {},
   "source": [
    "### 13. Quantos tipos de cidades únicas existem na base? Quais são os seus nomes?\n",
    "***Resposta:*** Há 4 tipos de cidades únicas na base e seus nomes são: \n",
    "- Urban\n",
    "- Metropolitian\n",
    "- Semi-Urban\n",
    "- Unknown"
   ]
  },
  {
   "cell_type": "code",
   "execution_count": 34,
   "id": "69052115",
   "metadata": {},
   "outputs": [
    {
     "name": "stdout",
     "output_type": "stream",
     "text": [
      "Há 4 tipos de cidades únicas na base e seus nomes são: ['Urban' 'Metropolitan' 'Semi-Urban' 'Unknown'].\n"
     ]
    }
   ],
   "source": [
    "print(f\"Há {len(df_clear[\"City\"].unique())} tipos de cidades únicas na base e seus nomes são: {df_clear[\"City\"].unique()}.\")"
   ]
  },
  {
   "cell_type": "markdown",
   "id": "a67ecbea",
   "metadata": {},
   "source": [
    "### 14. Quantos tipos de veículos únicos existem na base? Quais são seus nomes?\n",
    "***Resposta:*** Há 4 tipos de veículos únicos na base e seus nomes são:\n",
    "- Bicycle\n",
    "- scooter\n",
    "- motorcycle\n",
    "- electric_scooter"
   ]
  },
  {
   "cell_type": "code",
   "execution_count": 35,
   "id": "e77cf637",
   "metadata": {},
   "outputs": [
    {
     "name": "stdout",
     "output_type": "stream",
     "text": [
      "Há 4 tipos de veículos únicos na base e seus nomes são: ['motorcycle' 'scooter' 'electric_scooter' 'bicycle'].\n"
     ]
    }
   ],
   "source": [
    "print(f\"Há {len(df_clear[\"Type_of_vehicle\"].unique())} tipos de veículos únicos na base e seus nomes são: {df_clear[\"Type_of_vehicle\"].unique()}.\")"
   ]
  },
  {
   "cell_type": "markdown",
   "id": "801e4305",
   "metadata": {},
   "source": [
    "### 15. Qual o tipo de veículo que mais vez entregas com a condição de trânsito pesado (High)?\n",
    "***Resposta:*** O tipo de veículo que mais fez entregas com a condição de trânsito pesado foi motorcycle, com 250 entregas."
   ]
  },
  {
   "cell_type": "code",
   "execution_count": 36,
   "id": "70628e15",
   "metadata": {},
   "outputs": [
    {
     "data": {
      "text/plain": [
       "Type_of_vehicle\n",
       "motorcycle          250\n",
       "scooter             140\n",
       "electric_scooter     31\n",
       "Name: count, dtype: int64"
      ]
     },
     "execution_count": 36,
     "metadata": {},
     "output_type": "execute_result"
    }
   ],
   "source": [
    "df_clear.loc[df_clear[\"Road_traffic_density\"] == \"High\", \"Type_of_vehicle\"].value_counts()"
   ]
  },
  {
   "cell_type": "markdown",
   "id": "9eaf1642",
   "metadata": {},
   "source": [
    "### 16. Qual o tipo de pedido mais feito durante condições climáticas de tempestade de areia?\n",
    "***Resposta:*** O tipo de pedido mas feito durante a condição climáticas de tempestade de areia foi meal, com 193 entregas."
   ]
  },
  {
   "cell_type": "code",
   "execution_count": 37,
   "id": "4feddc77",
   "metadata": {},
   "outputs": [
    {
     "data": {
      "text/plain": [
       "Type_of_order\n",
       "Meal      193\n",
       "Snack     182\n",
       "Buffet    161\n",
       "Drinks    161\n",
       "Name: count, dtype: int64"
      ]
     },
     "execution_count": 37,
     "metadata": {},
     "output_type": "execute_result"
    }
   ],
   "source": [
    "df_clear.loc[df_clear[\"Weatherconditions\"] == \"Sandstorms\", \"Type_of_order\"].value_counts()"
   ]
  },
  {
   "cell_type": "markdown",
   "id": "4ac3d218",
   "metadata": {},
   "source": [
    "### 17. Qual o tipo de cidade com o maior número de pedidos de Bebidas (Drinks) feito em Scooter?\n",
    "***Resposta:*** O tipo de cidade com o maior número de pedidos de bebidas feito em scooter foi Metropolitan, com 260 pedidos."
   ]
  },
  {
   "cell_type": "code",
   "execution_count": 38,
   "id": "d6d0d1a6",
   "metadata": {},
   "outputs": [
    {
     "data": {
      "text/plain": [
       "City\n",
       "Metropolitan    260\n",
       "Urban            75\n",
       "Unknown          15\n",
       "Name: count, dtype: int64"
      ]
     },
     "execution_count": 38,
     "metadata": {},
     "output_type": "execute_result"
    }
   ],
   "source": [
    "df_clear.loc[(df_clear[\"Type_of_order\"] == \"Drinks\") & (df_clear[\"Type_of_vehicle\"] == \"scooter\"), \"City\"].value_counts()"
   ]
  },
  {
   "cell_type": "markdown",
   "id": "db1d8d53",
   "metadata": {},
   "source": [
    "### 18. Qual o tipo de cidade com o (os) entregador mais velho? E o nome da cidade com o (os) entregadores mais novos?\n",
    "***Resposta:*** O tipo de cidade com o entregador mais velho é Urban e o tipo de cidade com 2 dos 3 entregadores mais novos é Metropolitan."
   ]
  },
  {
   "cell_type": "code",
   "execution_count": 39,
   "id": "c911b513",
   "metadata": {},
   "outputs": [
    {
     "data": {
      "text/plain": [
       "3448    Urban\n",
       "Name: City, dtype: object"
      ]
     },
     "execution_count": 39,
     "metadata": {},
     "output_type": "execute_result"
    }
   ],
   "source": [
    "df_clear.loc[df_clear[\"Delivery_person_Age\"] == df_clear[\"Delivery_person_Age\"].max(), \"City\"]"
   ]
  },
  {
   "cell_type": "markdown",
   "id": "c1c90906",
   "metadata": {},
   "source": [
    "Há um unico entregador mais velho, que está no tipo de cidade Urban."
   ]
  },
  {
   "cell_type": "code",
   "execution_count": 40,
   "id": "1ff81855",
   "metadata": {},
   "outputs": [
    {
     "data": {
      "text/plain": [
       "2292           Urban\n",
       "2787    Metropolitan\n",
       "2833    Metropolitan\n",
       "Name: City, dtype: object"
      ]
     },
     "execution_count": 40,
     "metadata": {},
     "output_type": "execute_result"
    }
   ],
   "source": [
    "df_clear.loc[df_clear[\"Delivery_person_Age\"] == df_clear[\"Delivery_person_Age\"].min(), \"City\"]"
   ]
  },
  {
   "cell_type": "markdown",
   "id": "13337bac",
   "metadata": {},
   "source": [
    "Há 3 entregadores mais novos, onde 2 estão no tipo de cidade Metropolitan."
   ]
  },
  {
   "cell_type": "markdown",
   "id": "516bf16c",
   "metadata": {},
   "source": [
    "### 19. Quantas entregas foram feitas durante o Festival?\n",
    "***Resposta:*** Foram feitas 91 entregas durante o Festival."
   ]
  },
  {
   "cell_type": "code",
   "execution_count": 41,
   "id": "dd179ab7",
   "metadata": {},
   "outputs": [
    {
     "data": {
      "text/plain": [
       "91"
      ]
     },
     "execution_count": 41,
     "metadata": {},
     "output_type": "execute_result"
    }
   ],
   "source": [
    "len(df_clear.loc[df_clear[\"Festival\"] == \"Yes\", \"ID\"])"
   ]
  },
  {
   "cell_type": "markdown",
   "id": "ce9175c7",
   "metadata": {},
   "source": [
    "### 20. Quantos tipos de cidades únicas tiveram entregas feitas durante o Festival?\n",
    "***Resposta:*** Houve 4 tipos de cidades únicas que tiveram entregas feitas durante o Festival."
   ]
  },
  {
   "cell_type": "code",
   "execution_count": 42,
   "id": "b017caf8",
   "metadata": {},
   "outputs": [
    {
     "data": {
      "text/plain": [
       "4"
      ]
     },
     "execution_count": 42,
     "metadata": {},
     "output_type": "execute_result"
    }
   ],
   "source": [
    "df_clear.loc[df_clear[\"Festival\"] == \"Yes\", \"City\"].nunique()"
   ]
  },
  {
   "cell_type": "markdown",
   "id": "ec936bda",
   "metadata": {},
   "source": [
    "### 21. Quantas entregas foram feitas durante o Festival no tipo de cidade Urban?\n",
    "***Resposta:*** Foram feitas 18 entregas durante o Festival no tipo de cidade Urban."
   ]
  },
  {
   "cell_type": "code",
   "execution_count": 43,
   "id": "07ddd27a",
   "metadata": {},
   "outputs": [
    {
     "data": {
      "text/plain": [
       "np.int64(18)"
      ]
     },
     "execution_count": 43,
     "metadata": {},
     "output_type": "execute_result"
    }
   ],
   "source": [
    "df_clear.loc[(df_clear[\"Festival\"] == \"Yes\") & (df_clear[\"City\"] == \"Urban\"), \"ID\"].count()"
   ]
  },
  {
   "cell_type": "markdown",
   "id": "4d94484f",
   "metadata": {},
   "source": [
    "## 5.2 Próximas KBQs\n",
    "As próximas perguntas de negócio serão respondidas usando o método SAPE e o uso de tecnicas intermediarias como groupby e agg."
   ]
  },
  {
   "cell_type": "markdown",
   "id": "a44016df",
   "metadata": {},
   "source": [
    "### 1. Qual a média e mediana de idade dos entregadores por tipo de cidade?\n",
    "**Resposta:** A média e mediana de idade dos entregadores por tipo de cidade é:\n",
    "- Metropolitian: Média: 29.68, Mediana: 30\n",
    "- Urban: Média: 28.66, Mediana: 28\n",
    "- Semi-Urban: Média: 34.33, Mediana: 36\n",
    "- Unknown: Média: 28.72, Mediana: 28.0"
   ]
  },
  {
   "cell_type": "code",
   "execution_count": 44,
   "id": "52dcb6d8",
   "metadata": {},
   "outputs": [
    {
     "data": {
      "text/html": [
       "<div>\n",
       "<style scoped>\n",
       "    .dataframe tbody tr th:only-of-type {\n",
       "        vertical-align: middle;\n",
       "    }\n",
       "\n",
       "    .dataframe tbody tr th {\n",
       "        vertical-align: top;\n",
       "    }\n",
       "\n",
       "    .dataframe thead tr th {\n",
       "        text-align: left;\n",
       "    }\n",
       "\n",
       "    .dataframe thead tr:last-of-type th {\n",
       "        text-align: right;\n",
       "    }\n",
       "</style>\n",
       "<table border=\"1\" class=\"dataframe\">\n",
       "  <thead>\n",
       "    <tr>\n",
       "      <th></th>\n",
       "      <th colspan=\"2\" halign=\"left\">Delivery_person_Age</th>\n",
       "    </tr>\n",
       "    <tr>\n",
       "      <th></th>\n",
       "      <th>mean</th>\n",
       "      <th>median</th>\n",
       "    </tr>\n",
       "    <tr>\n",
       "      <th>City</th>\n",
       "      <th></th>\n",
       "      <th></th>\n",
       "    </tr>\n",
       "  </thead>\n",
       "  <tbody>\n",
       "    <tr>\n",
       "      <th>Metropolitan</th>\n",
       "      <td>29.685919</td>\n",
       "      <td>30.0</td>\n",
       "    </tr>\n",
       "    <tr>\n",
       "      <th>Semi-Urban</th>\n",
       "      <td>34.333333</td>\n",
       "      <td>36.0</td>\n",
       "    </tr>\n",
       "    <tr>\n",
       "      <th>Unknown</th>\n",
       "      <td>28.722222</td>\n",
       "      <td>28.0</td>\n",
       "    </tr>\n",
       "    <tr>\n",
       "      <th>Urban</th>\n",
       "      <td>28.663147</td>\n",
       "      <td>28.0</td>\n",
       "    </tr>\n",
       "  </tbody>\n",
       "</table>\n",
       "</div>"
      ],
      "text/plain": [
       "             Delivery_person_Age       \n",
       "                            mean median\n",
       "City                                   \n",
       "Metropolitan           29.685919   30.0\n",
       "Semi-Urban             34.333333   36.0\n",
       "Unknown                28.722222   28.0\n",
       "Urban                  28.663147   28.0"
      ]
     },
     "execution_count": 44,
     "metadata": {},
     "output_type": "execute_result"
    }
   ],
   "source": [
    "# SAída: DataFrame com a média e mediana de idade dos entregadores agrupado por tipo de cidade\n",
    "# Processo: Agrupar os dados por tipo de cidade e calcular a média e mediana da idade dos entregadores\n",
    "# Entrada: DataFrame com os dados limpos\n",
    "df_clear.groupby(\"City\").agg({\"Delivery_person_Age\": [\"mean\", \"median\"]})"
   ]
  },
  {
   "cell_type": "markdown",
   "id": "01bf1e1e",
   "metadata": {},
   "source": [
    "### 2. Qual a média das avaliações das entregas feitas por densidade de tráfego?\n",
    "**Resposta:** A média das avaliações das entregas feitas por densidade de tráfego é:\n",
    "- Low: 4.63\n",
    "- Medium: 4.65\n",
    "- High: 4.67\n",
    "- Jam: 4.60\n",
    "- Unknown: 2.00"
   ]
  },
  {
   "cell_type": "code",
   "execution_count": 45,
   "id": "483fcece",
   "metadata": {},
   "outputs": [
    {
     "data": {
      "text/html": [
       "<div>\n",
       "<style scoped>\n",
       "    .dataframe tbody tr th:only-of-type {\n",
       "        vertical-align: middle;\n",
       "    }\n",
       "\n",
       "    .dataframe tbody tr th {\n",
       "        vertical-align: top;\n",
       "    }\n",
       "\n",
       "    .dataframe thead th {\n",
       "        text-align: right;\n",
       "    }\n",
       "</style>\n",
       "<table border=\"1\" class=\"dataframe\">\n",
       "  <thead>\n",
       "    <tr style=\"text-align: right;\">\n",
       "      <th></th>\n",
       "      <th>Delivery_person_Ratings</th>\n",
       "    </tr>\n",
       "    <tr>\n",
       "      <th>Road_traffic_density</th>\n",
       "      <th></th>\n",
       "    </tr>\n",
       "  </thead>\n",
       "  <tbody>\n",
       "    <tr>\n",
       "      <th>High</th>\n",
       "      <td>4.674525</td>\n",
       "    </tr>\n",
       "    <tr>\n",
       "      <th>Jam</th>\n",
       "      <td>4.601318</td>\n",
       "    </tr>\n",
       "    <tr>\n",
       "      <th>Low</th>\n",
       "      <td>4.635853</td>\n",
       "    </tr>\n",
       "    <tr>\n",
       "      <th>Medium</th>\n",
       "      <td>4.652297</td>\n",
       "    </tr>\n",
       "    <tr>\n",
       "      <th>Unknown</th>\n",
       "      <td>2.000000</td>\n",
       "    </tr>\n",
       "  </tbody>\n",
       "</table>\n",
       "</div>"
      ],
      "text/plain": [
       "                      Delivery_person_Ratings\n",
       "Road_traffic_density                         \n",
       "High                                 4.674525\n",
       "Jam                                  4.601318\n",
       "Low                                  4.635853\n",
       "Medium                               4.652297\n",
       "Unknown                              2.000000"
      ]
     },
     "execution_count": 45,
     "metadata": {},
     "output_type": "execute_result"
    }
   ],
   "source": [
    "# SAída: DataFrame com a média das avaliações das entregas feitas agrupadas por densidade de tráfego\n",
    "# Processo: Agrupar os dados por densidade de tráfego e calcular a média das avaliações das entregas\n",
    "# Entrada: DataFrame com os dados limpos\n",
    "df_clear.groupby(\"Road_traffic_density\").agg({\"Delivery_person_Ratings\": \"mean\"})"
   ]
  },
  {
   "cell_type": "markdown",
   "id": "213e9063",
   "metadata": {},
   "source": [
    "### 3. Qual a média, mediana e desvio padrão das entregas feitas agrupadas por tipo de cidade e tipo de veículo?\n",
    "**Resposta:** Agrupados por tipo de cidade e tipo de veículo, a média, mediana e desvio padrão das entregas feitas é:\n",
    "- Metropolitan\n",
    "    - Bicyle: média 20.00, mediana 20.00, desvio padrão NaN\n",
    "    - Electric Scooter: média 25.51, mediana 26.00, desvio padrão 8.39\n",
    "    - Motorcycle: média 28.41, mediana 27.00, desvio padrão 9.35\n",
    "    - Scooter: média 25.51, mediana 25.00, desvio padrão 8.62\n",
    "- Urban\n",
    "    - Scooter: média 21.33, mediana 19.50, desvio padrão 7.85\n",
    "    - Electric Scooter: média 20.82, mediana 19.00, desvio padrão 7.65\n",
    "    - Motorcycle: média 24.06, mediana 23.00, desvio padrão 9.58\n",
    "- Semi-Urban\n",
    "    - Scooter: média 49.00, mediana 49.00, desvio padrão NaN\n",
    "    - Motorcycle: média 50.21, mediana 50.00, desvio padrão 2.60\n",
    "- Unknown\n",
    "    - Electric Scooter: média 20.82, mediana 19.00, desvio padrão 7.65\n",
    "    - Mortorcycle: média 24.46, mediana 23.00, desvio padrão 9.58\n",
    "    - Scooter: média 21.33, mediana 19.50, desvio padrão 7.85\n",
    "\n",
    "*OBS:*<br>\n",
    "&nbsp;&nbsp;&nbsp;&nbsp; - *Valores representam minutos, por exemplo, 1.5 representa 1 minuto e 30 segundos.*<br>\n",
    "&nbsp;&nbsp;&nbsp;&nbsp; - *Valores NaN indicam que não há variação, ou seja, só há um valor para aquele grupo.*"
   ]
  },
  {
   "cell_type": "code",
   "execution_count": 46,
   "id": "f36fa437",
   "metadata": {},
   "outputs": [
    {
     "data": {
      "text/html": [
       "<div>\n",
       "<style scoped>\n",
       "    .dataframe tbody tr th:only-of-type {\n",
       "        vertical-align: middle;\n",
       "    }\n",
       "\n",
       "    .dataframe tbody tr th {\n",
       "        vertical-align: top;\n",
       "    }\n",
       "\n",
       "    .dataframe thead tr th {\n",
       "        text-align: left;\n",
       "    }\n",
       "\n",
       "    .dataframe thead tr:last-of-type th {\n",
       "        text-align: right;\n",
       "    }\n",
       "</style>\n",
       "<table border=\"1\" class=\"dataframe\">\n",
       "  <thead>\n",
       "    <tr>\n",
       "      <th></th>\n",
       "      <th></th>\n",
       "      <th colspan=\"3\" halign=\"left\">time_diff(min)</th>\n",
       "    </tr>\n",
       "    <tr>\n",
       "      <th></th>\n",
       "      <th></th>\n",
       "      <th>mean</th>\n",
       "      <th>median</th>\n",
       "      <th>std</th>\n",
       "    </tr>\n",
       "    <tr>\n",
       "      <th>City</th>\n",
       "      <th>Type_of_vehicle</th>\n",
       "      <th></th>\n",
       "      <th></th>\n",
       "      <th></th>\n",
       "    </tr>\n",
       "  </thead>\n",
       "  <tbody>\n",
       "    <tr>\n",
       "      <th rowspan=\"4\" valign=\"top\">Metropolitan</th>\n",
       "      <th>bicycle</th>\n",
       "      <td>20.000000</td>\n",
       "      <td>20.0</td>\n",
       "      <td>NaN</td>\n",
       "    </tr>\n",
       "    <tr>\n",
       "      <th>electric_scooter</th>\n",
       "      <td>25.518987</td>\n",
       "      <td>26.0</td>\n",
       "      <td>8.396722</td>\n",
       "    </tr>\n",
       "    <tr>\n",
       "      <th>motorcycle</th>\n",
       "      <td>28.413066</td>\n",
       "      <td>27.0</td>\n",
       "      <td>9.350148</td>\n",
       "    </tr>\n",
       "    <tr>\n",
       "      <th>scooter</th>\n",
       "      <td>25.519099</td>\n",
       "      <td>25.0</td>\n",
       "      <td>8.624229</td>\n",
       "    </tr>\n",
       "    <tr>\n",
       "      <th rowspan=\"2\" valign=\"top\">Semi-Urban</th>\n",
       "      <th>motorcycle</th>\n",
       "      <td>50.214286</td>\n",
       "      <td>50.0</td>\n",
       "      <td>2.607049</td>\n",
       "    </tr>\n",
       "    <tr>\n",
       "      <th>scooter</th>\n",
       "      <td>49.000000</td>\n",
       "      <td>49.0</td>\n",
       "      <td>NaN</td>\n",
       "    </tr>\n",
       "    <tr>\n",
       "      <th rowspan=\"3\" valign=\"top\">Unknown</th>\n",
       "      <th>electric_scooter</th>\n",
       "      <td>14.818182</td>\n",
       "      <td>15.0</td>\n",
       "      <td>2.891995</td>\n",
       "    </tr>\n",
       "    <tr>\n",
       "      <th>motorcycle</th>\n",
       "      <td>24.067797</td>\n",
       "      <td>24.0</td>\n",
       "      <td>8.571936</td>\n",
       "    </tr>\n",
       "    <tr>\n",
       "      <th>scooter</th>\n",
       "      <td>22.750000</td>\n",
       "      <td>21.5</td>\n",
       "      <td>8.739149</td>\n",
       "    </tr>\n",
       "    <tr>\n",
       "      <th rowspan=\"3\" valign=\"top\">Urban</th>\n",
       "      <th>electric_scooter</th>\n",
       "      <td>20.827586</td>\n",
       "      <td>19.0</td>\n",
       "      <td>7.658719</td>\n",
       "    </tr>\n",
       "    <tr>\n",
       "      <th>motorcycle</th>\n",
       "      <td>24.467308</td>\n",
       "      <td>23.0</td>\n",
       "      <td>9.585378</td>\n",
       "    </tr>\n",
       "    <tr>\n",
       "      <th>scooter</th>\n",
       "      <td>21.332353</td>\n",
       "      <td>19.5</td>\n",
       "      <td>7.856652</td>\n",
       "    </tr>\n",
       "  </tbody>\n",
       "</table>\n",
       "</div>"
      ],
      "text/plain": [
       "                              time_diff(min)                 \n",
       "                                        mean median       std\n",
       "City         Type_of_vehicle                                 \n",
       "Metropolitan bicycle               20.000000   20.0       NaN\n",
       "             electric_scooter      25.518987   26.0  8.396722\n",
       "             motorcycle            28.413066   27.0  9.350148\n",
       "             scooter               25.519099   25.0  8.624229\n",
       "Semi-Urban   motorcycle            50.214286   50.0  2.607049\n",
       "             scooter               49.000000   49.0       NaN\n",
       "Unknown      electric_scooter      14.818182   15.0  2.891995\n",
       "             motorcycle            24.067797   24.0  8.571936\n",
       "             scooter               22.750000   21.5  8.739149\n",
       "Urban        electric_scooter      20.827586   19.0  7.658719\n",
       "             motorcycle            24.467308   23.0  9.585378\n",
       "             scooter               21.332353   19.5  7.856652"
      ]
     },
     "execution_count": 46,
     "metadata": {},
     "output_type": "execute_result"
    }
   ],
   "source": [
    "# SAída: DataFrame com a média, mediana e desvio padrão das entregas feitas agrupadas por tipo de cidade e tipo de veículo\n",
    "# Processo: Agrupar as entregas por tipo de cidade e tipo de veículo e calcular a média, mediana e desvio padrão\n",
    "# Entrada: DataFrame com os dados limpos\n",
    "df = df_clear[[\"City\", \"Type_of_vehicle\"]].copy()\n",
    "df[\"time_diff(min)\"] = (df_clear[\"Time_Order_delivered\"] - df_clear[\"Time_Order_picked\"]).dt.total_seconds() / 60\n",
    "df.groupby([\"City\", \"Type_of_vehicle\"]).agg({\"time_diff(min)\": [\"mean\", \"median\", \"std\"]})\n"
   ]
  },
  {
   "cell_type": "markdown",
   "id": "4ab7719a",
   "metadata": {},
   "source": [
    "### 4. Qual a primeira e a última data de entrega por cada tipo de cidade?\n",
    "**Resposta:** A primeira e última data de entrega por cada tipo de cidade são as seguintes:\t\n",
    "- Metropolitan: primeira em *2022-02-11 08:49:00*, e última em *2022-04-07 00:40:00*\n",
    "- Semi-Urban: primeira em *2022-02-12 20:25:00*, e última em *2022-04-04 22:19:00*\n",
    "- Unknown: primeira em *2022-02-11 23:55:00*, e última em\t*2022-04-07 00:48:00*\n",
    "- Urban: primeira em *2022-02-11 00:27:00*, e última em *2022-04-07 00:22:00*"
   ]
  },
  {
   "cell_type": "code",
   "execution_count": 47,
   "id": "a29a9976",
   "metadata": {},
   "outputs": [
    {
     "data": {
      "text/html": [
       "<div>\n",
       "<style scoped>\n",
       "    .dataframe tbody tr th:only-of-type {\n",
       "        vertical-align: middle;\n",
       "    }\n",
       "\n",
       "    .dataframe tbody tr th {\n",
       "        vertical-align: top;\n",
       "    }\n",
       "\n",
       "    .dataframe thead th {\n",
       "        text-align: right;\n",
       "    }\n",
       "</style>\n",
       "<table border=\"1\" class=\"dataframe\">\n",
       "  <thead>\n",
       "    <tr style=\"text-align: right;\">\n",
       "      <th></th>\n",
       "      <th>min</th>\n",
       "      <th>max</th>\n",
       "    </tr>\n",
       "    <tr>\n",
       "      <th>City</th>\n",
       "      <th></th>\n",
       "      <th></th>\n",
       "    </tr>\n",
       "  </thead>\n",
       "  <tbody>\n",
       "    <tr>\n",
       "      <th>Metropolitan</th>\n",
       "      <td>2022-02-11 08:49:00</td>\n",
       "      <td>2022-04-07 00:40:00</td>\n",
       "    </tr>\n",
       "    <tr>\n",
       "      <th>Semi-Urban</th>\n",
       "      <td>2022-02-12 20:25:00</td>\n",
       "      <td>2022-04-04 22:19:00</td>\n",
       "    </tr>\n",
       "    <tr>\n",
       "      <th>Unknown</th>\n",
       "      <td>2022-02-11 23:55:00</td>\n",
       "      <td>2022-04-07 00:48:00</td>\n",
       "    </tr>\n",
       "    <tr>\n",
       "      <th>Urban</th>\n",
       "      <td>2022-02-11 00:27:00</td>\n",
       "      <td>2022-04-07 00:22:00</td>\n",
       "    </tr>\n",
       "  </tbody>\n",
       "</table>\n",
       "</div>"
      ],
      "text/plain": [
       "                             min                 max\n",
       "City                                                \n",
       "Metropolitan 2022-02-11 08:49:00 2022-04-07 00:40:00\n",
       "Semi-Urban   2022-02-12 20:25:00 2022-04-04 22:19:00\n",
       "Unknown      2022-02-11 23:55:00 2022-04-07 00:48:00\n",
       "Urban        2022-02-11 00:27:00 2022-04-07 00:22:00"
      ]
     },
     "execution_count": 47,
     "metadata": {},
     "output_type": "execute_result"
    }
   ],
   "source": [
    "# SAída: DataFrame com a primeira e a última data de entrega por cada tipo de cidade\n",
    "# Processo: Agrupar as entregas por tipo de cidade e recuperar a primeira e a última data de entrega\n",
    "# Entrada: DataFrame com os dados limpos\n",
    "df_clear.groupby(\"City\")[\"Time_Order_delivered\"].agg([\"min\", \"max\"])"
   ]
  },
  {
   "cell_type": "markdown",
   "id": "cc8af8b3",
   "metadata": {},
   "source": [
    "### 5. Qual a média de avaliações das entregas feitas por condições climáticas?\n",
    "**Resposta:** A média de avaliações das entregas feitas agrupadas por condições climáticas é:\n",
    "1. Fog:           4.65\n",
    "2. Sunny:         4.64\n",
    "3. Sandstorms:    4.63\n",
    "4. Cloudy:        4.62\n",
    "5. Windy:         4.62\n",
    "6. Stormy:        4.61\n",
    "7. Unknown:       2.00"
   ]
  },
  {
   "cell_type": "code",
   "execution_count": 48,
   "id": "a2176ad3",
   "metadata": {},
   "outputs": [
    {
     "data": {
      "text/plain": [
       "Weatherconditions\n",
       "Cloudy        4.624656\n",
       "Fog           4.652101\n",
       "Sandstorms    4.633193\n",
       "Stormy        4.614725\n",
       "Sunny         4.648521\n",
       "Unknown       2.000000\n",
       "Windy         4.625103\n",
       "Name: Delivery_person_Ratings, dtype: float64"
      ]
     },
     "execution_count": 48,
     "metadata": {},
     "output_type": "execute_result"
    }
   ],
   "source": [
    "# SAída: Média de avaliações das entregas feitas por condições climáticas\n",
    "# Processo: Agrupar as entregas por condições climáticas e calcular a média das avaliações\n",
    "# Entrada: DataFrame com os dados limpos\n",
    "df_clear.groupby(\"Weatherconditions\")[\"Delivery_person_Ratings\"].mean()"
   ]
  },
  {
   "cell_type": "markdown",
   "id": "95ea0e71",
   "metadata": {},
   "source": [
    "### 6. Qual o valor da avaliação mais baixa feita por tipo de condição climática e densidade de tráfego?\n",
    "**Resposta:** Os valores das avaliações mais baixas feitas agrupadas por tipo de condição climática e densidade de tráfego são as seguintes:\n",
    "- Cloudy: \n",
    "    - High: 4.0\n",
    "    - Jam: 4.0\n",
    "    - Low: 3.5\n",
    "    - Medium: 4.0\n",
    "- Fog:\n",
    "    - High: 4.0\n",
    "    - Jam: 4.0\n",
    "    - Low: 3.5\n",
    "    - Medium: 4.0\n",
    "- Sandstorms:\n",
    "    - High: 4.0\n",
    "    - Jam: 3.5\n",
    "    - Low: 4.0\n",
    "    - Medium: 3.5\n",
    "- Stormy:\n",
    "    - High: 4.0\n",
    "    - Jam: 3.5\n",
    "    - Low: 4.0\n",
    "    - Medium: 3.5\n",
    "- Sunny:\n",
    "    - High: 3.5\n",
    "    - Jam: 3.5\n",
    "    - Low: 2.5\n",
    "    - Medium: 4.0\n",
    "- Windy:\n",
    "    - High: 4.0\n",
    "    - Jam: 3.5\n",
    "    - Low: 4.0\n",
    "    - Medium: 3.5\n",
    "- Unknown:\n",
    "    - Unknown: 1.0"
   ]
  },
  {
   "cell_type": "code",
   "execution_count": 49,
   "id": "98ad0fd1",
   "metadata": {},
   "outputs": [
    {
     "data": {
      "text/html": [
       "<div>\n",
       "<style scoped>\n",
       "    .dataframe tbody tr th:only-of-type {\n",
       "        vertical-align: middle;\n",
       "    }\n",
       "\n",
       "    .dataframe tbody tr th {\n",
       "        vertical-align: top;\n",
       "    }\n",
       "\n",
       "    .dataframe thead th {\n",
       "        text-align: right;\n",
       "    }\n",
       "</style>\n",
       "<table border=\"1\" class=\"dataframe\">\n",
       "  <thead>\n",
       "    <tr style=\"text-align: right;\">\n",
       "      <th></th>\n",
       "      <th></th>\n",
       "      <th>min</th>\n",
       "    </tr>\n",
       "    <tr>\n",
       "      <th>Weatherconditions</th>\n",
       "      <th>Road_traffic_density</th>\n",
       "      <th></th>\n",
       "    </tr>\n",
       "  </thead>\n",
       "  <tbody>\n",
       "    <tr>\n",
       "      <th rowspan=\"4\" valign=\"top\">Cloudy</th>\n",
       "      <th>High</th>\n",
       "      <td>4.0</td>\n",
       "    </tr>\n",
       "    <tr>\n",
       "      <th>Jam</th>\n",
       "      <td>4.0</td>\n",
       "    </tr>\n",
       "    <tr>\n",
       "      <th>Low</th>\n",
       "      <td>3.5</td>\n",
       "    </tr>\n",
       "    <tr>\n",
       "      <th>Medium</th>\n",
       "      <td>4.0</td>\n",
       "    </tr>\n",
       "    <tr>\n",
       "      <th rowspan=\"4\" valign=\"top\">Fog</th>\n",
       "      <th>High</th>\n",
       "      <td>4.0</td>\n",
       "    </tr>\n",
       "    <tr>\n",
       "      <th>Jam</th>\n",
       "      <td>4.0</td>\n",
       "    </tr>\n",
       "    <tr>\n",
       "      <th>Low</th>\n",
       "      <td>3.5</td>\n",
       "    </tr>\n",
       "    <tr>\n",
       "      <th>Medium</th>\n",
       "      <td>4.0</td>\n",
       "    </tr>\n",
       "    <tr>\n",
       "      <th rowspan=\"4\" valign=\"top\">Sandstorms</th>\n",
       "      <th>High</th>\n",
       "      <td>4.0</td>\n",
       "    </tr>\n",
       "    <tr>\n",
       "      <th>Jam</th>\n",
       "      <td>3.5</td>\n",
       "    </tr>\n",
       "    <tr>\n",
       "      <th>Low</th>\n",
       "      <td>4.0</td>\n",
       "    </tr>\n",
       "    <tr>\n",
       "      <th>Medium</th>\n",
       "      <td>3.5</td>\n",
       "    </tr>\n",
       "    <tr>\n",
       "      <th rowspan=\"4\" valign=\"top\">Stormy</th>\n",
       "      <th>High</th>\n",
       "      <td>4.0</td>\n",
       "    </tr>\n",
       "    <tr>\n",
       "      <th>Jam</th>\n",
       "      <td>3.5</td>\n",
       "    </tr>\n",
       "    <tr>\n",
       "      <th>Low</th>\n",
       "      <td>4.0</td>\n",
       "    </tr>\n",
       "    <tr>\n",
       "      <th>Medium</th>\n",
       "      <td>3.5</td>\n",
       "    </tr>\n",
       "    <tr>\n",
       "      <th rowspan=\"4\" valign=\"top\">Sunny</th>\n",
       "      <th>High</th>\n",
       "      <td>3.5</td>\n",
       "    </tr>\n",
       "    <tr>\n",
       "      <th>Jam</th>\n",
       "      <td>3.5</td>\n",
       "    </tr>\n",
       "    <tr>\n",
       "      <th>Low</th>\n",
       "      <td>2.5</td>\n",
       "    </tr>\n",
       "    <tr>\n",
       "      <th>Medium</th>\n",
       "      <td>4.0</td>\n",
       "    </tr>\n",
       "    <tr>\n",
       "      <th>Unknown</th>\n",
       "      <th>Unknown</th>\n",
       "      <td>1.0</td>\n",
       "    </tr>\n",
       "    <tr>\n",
       "      <th rowspan=\"4\" valign=\"top\">Windy</th>\n",
       "      <th>High</th>\n",
       "      <td>4.0</td>\n",
       "    </tr>\n",
       "    <tr>\n",
       "      <th>Jam</th>\n",
       "      <td>3.5</td>\n",
       "    </tr>\n",
       "    <tr>\n",
       "      <th>Low</th>\n",
       "      <td>4.0</td>\n",
       "    </tr>\n",
       "    <tr>\n",
       "      <th>Medium</th>\n",
       "      <td>3.5</td>\n",
       "    </tr>\n",
       "  </tbody>\n",
       "</table>\n",
       "</div>"
      ],
      "text/plain": [
       "                                        min\n",
       "Weatherconditions Road_traffic_density     \n",
       "Cloudy            High                  4.0\n",
       "                  Jam                   4.0\n",
       "                  Low                   3.5\n",
       "                  Medium                4.0\n",
       "Fog               High                  4.0\n",
       "                  Jam                   4.0\n",
       "                  Low                   3.5\n",
       "                  Medium                4.0\n",
       "Sandstorms        High                  4.0\n",
       "                  Jam                   3.5\n",
       "                  Low                   4.0\n",
       "                  Medium                3.5\n",
       "Stormy            High                  4.0\n",
       "                  Jam                   3.5\n",
       "                  Low                   4.0\n",
       "                  Medium                3.5\n",
       "Sunny             High                  3.5\n",
       "                  Jam                   3.5\n",
       "                  Low                   2.5\n",
       "                  Medium                4.0\n",
       "Unknown           Unknown               1.0\n",
       "Windy             High                  4.0\n",
       "                  Jam                   3.5\n",
       "                  Low                   4.0\n",
       "                  Medium                3.5"
      ]
     },
     "execution_count": 49,
     "metadata": {},
     "output_type": "execute_result"
    }
   ],
   "source": [
    "# SAída: Valor da avaliação mais baixa agrupada por tipo de condição climática e densidade de tráfego\n",
    "# Processo: Agrupar as entregas por tipo de condição climática e densidade de tráfego e calcular o valor mínimo das avaliações\n",
    "# Entrada: DataFrame com os dados limpos\n",
    "df_clear.groupby([\"Weatherconditions\", \"Road_traffic_density\"])[\"Delivery_person_Ratings\"].agg([\"min\"])"
   ]
  },
  {
   "cell_type": "markdown",
   "id": "eb0821a6",
   "metadata": {},
   "source": [
    "### 7. Qual a média, mediana e desvio padrão das avaliações por cada tipo de condições de veículos?\n",
    "**Resposta:** A média, mediana e desvio padrão das avaliações por cada tipo de condições de veículos são as seguintes:\n",
    "- 0:\n",
    "    - média: 4.60\n",
    "    - mediana: 4.7\n",
    "    - desvio padrão: 0.29\n",
    "- 1:\n",
    "    - média: 4.63\n",
    "    - mediana: 4.7\n",
    "    - desvio padrão: 0.35\n",
    "- 2:\n",
    "    - média: 4.65\n",
    "    - mediana: 4.7\n",
    "    - desvio padrão: 0.29\n",
    "- 3:\n",
    "    - média: 2.00\n",
    "    - mediana:\t1.00\n",
    "    - desvio padrão:\t2.00"
   ]
  },
  {
   "cell_type": "code",
   "execution_count": 50,
   "id": "39902b5e",
   "metadata": {},
   "outputs": [
    {
     "data": {
      "text/html": [
       "<div>\n",
       "<style scoped>\n",
       "    .dataframe tbody tr th:only-of-type {\n",
       "        vertical-align: middle;\n",
       "    }\n",
       "\n",
       "    .dataframe tbody tr th {\n",
       "        vertical-align: top;\n",
       "    }\n",
       "\n",
       "    .dataframe thead th {\n",
       "        text-align: right;\n",
       "    }\n",
       "</style>\n",
       "<table border=\"1\" class=\"dataframe\">\n",
       "  <thead>\n",
       "    <tr style=\"text-align: right;\">\n",
       "      <th></th>\n",
       "      <th>mean</th>\n",
       "      <th>median</th>\n",
       "      <th>std</th>\n",
       "    </tr>\n",
       "    <tr>\n",
       "      <th>Vehicle_condition</th>\n",
       "      <th></th>\n",
       "      <th></th>\n",
       "      <th></th>\n",
       "    </tr>\n",
       "  </thead>\n",
       "  <tbody>\n",
       "    <tr>\n",
       "      <th>0</th>\n",
       "      <td>4.609922</td>\n",
       "      <td>4.7</td>\n",
       "      <td>0.293908</td>\n",
       "    </tr>\n",
       "    <tr>\n",
       "      <th>1</th>\n",
       "      <td>4.631220</td>\n",
       "      <td>4.7</td>\n",
       "      <td>0.353454</td>\n",
       "    </tr>\n",
       "    <tr>\n",
       "      <th>2</th>\n",
       "      <td>4.658615</td>\n",
       "      <td>4.7</td>\n",
       "      <td>0.294774</td>\n",
       "    </tr>\n",
       "    <tr>\n",
       "      <th>3</th>\n",
       "      <td>2.000000</td>\n",
       "      <td>1.0</td>\n",
       "      <td>2.000000</td>\n",
       "    </tr>\n",
       "  </tbody>\n",
       "</table>\n",
       "</div>"
      ],
      "text/plain": [
       "                       mean  median       std\n",
       "Vehicle_condition                            \n",
       "0                  4.609922     4.7  0.293908\n",
       "1                  4.631220     4.7  0.353454\n",
       "2                  4.658615     4.7  0.294774\n",
       "3                  2.000000     1.0  2.000000"
      ]
     },
     "execution_count": 50,
     "metadata": {},
     "output_type": "execute_result"
    }
   ],
   "source": [
    "# SAída: DataFrame com a média, mediana e desvio padrão das avaliações por cada tipo de condições de veículos\n",
    "# Processo: Agrupar as entregas por tipo de condições de veículos e calcular a média, mediana e desvio padrão das avaliações\n",
    "# Entrada: DataFrame com os dados limpos\n",
    "df_clear.groupby(\"Vehicle_condition\")[\"Delivery_person_Ratings\"].agg([\"mean\", \"median\", \"std\"])"
   ]
  },
  {
   "cell_type": "markdown",
   "id": "f2db3084",
   "metadata": {},
   "source": [
    "### 8. Qual a avaliação média das entregas feitas durante o Festival?\n",
    "**Resposta:** A média das das avaliações das entregas feitas durante o Festival é 4.46."
   ]
  },
  {
   "cell_type": "code",
   "execution_count": 51,
   "id": "4c4fce4b",
   "metadata": {},
   "outputs": [
    {
     "data": {
      "text/plain": [
       "np.float64(4.461538461538461)"
      ]
     },
     "execution_count": 51,
     "metadata": {},
     "output_type": "execute_result"
    }
   ],
   "source": [
    "# SAída: Avaliação média das entregas feitas durante o Festival\n",
    "# Processo: Filtrar as entregas feitas durante o Festival e calcular a média das avaliações\n",
    "# Entrada: DataFrame com os dados limpos\n",
    "df_clear[df_clear[\"Festival\"] == \"Yes\"][\"Delivery_person_Ratings\"].mean()"
   ]
  },
  {
   "cell_type": "markdown",
   "id": "ba65013c",
   "metadata": {},
   "source": [
    "### 9. Qual a menor avaliação feita em uma entrega durante o Festival por cidade?\n",
    "**Resposta:** As menores avaliações feitas em uma entrega durante o Festival agrupada por cidade são as seguintes:\n",
    "- Metropolitan: 2.5\n",
    "- Semi-Urban: 3.5\n",
    "- Urban: 3.5\n",
    "- Unknown: 4.6"
   ]
  },
  {
   "cell_type": "code",
   "execution_count": 52,
   "id": "4816ffe1",
   "metadata": {},
   "outputs": [
    {
     "data": {
      "text/plain": [
       "City\n",
       "Metropolitan    2.5\n",
       "Semi-Urban      3.5\n",
       "Unknown         4.6\n",
       "Urban           3.5\n",
       "Name: Delivery_person_Ratings, dtype: float64"
      ]
     },
     "execution_count": 52,
     "metadata": {},
     "output_type": "execute_result"
    }
   ],
   "source": [
    "# SAída: Menor avaliação feita em uma entrega durante o Festival por cidade\n",
    "# Processo: Filtrar as entregas feitas durante o Festival e agrupar por cidade para encontrar a menor avaliação\n",
    "# Entrada: DataFrame com os dados limpos\n",
    "df_clear[df_clear[\"Festival\"] == \"Yes\"].groupby(\"City\")[\"Delivery_person_Ratings\"].min()"
   ]
  },
  {
   "cell_type": "markdown",
   "id": "b6d57f9c",
   "metadata": {},
   "source": [
    "### 10. Qual a maior avaliação feita por tipo de pedido?\n",
    "**Resposta:** As maiores avaliações agrupadas por tipo de pedido são:\n",
    "- Buffet: 5.0\n",
    "- Drinks: 5.0\n",
    "- Meal: 5.0\n",
    "- Snack: 5.0"
   ]
  },
  {
   "cell_type": "code",
   "execution_count": 53,
   "id": "5f124bc8",
   "metadata": {},
   "outputs": [
    {
     "data": {
      "text/plain": [
       "Type_of_order\n",
       "Buffet    5.0\n",
       "Drinks    5.0\n",
       "Meal      5.0\n",
       "Snack     5.0\n",
       "Name: Delivery_person_Ratings, dtype: float64"
      ]
     },
     "execution_count": 53,
     "metadata": {},
     "output_type": "execute_result"
    }
   ],
   "source": [
    "# SAída: Maior avaliação feita por tipo de pedido\n",
    "# Processo: Agrupar por tipo de pedido e encontrar a maior avaliação\n",
    "# Entrada: DataFrame com os dados limpos\n",
    "df_clear.groupby(\"Type_of_order\")[\"Delivery_person_Ratings\"].max()"
   ]
  },
  {
   "cell_type": "markdown",
   "id": "221d9555",
   "metadata": {},
   "source": [
    "# 6.0 Converter notebook para Markdown"
   ]
  },
  {
   "cell_type": "code",
   "execution_count": 54,
   "id": "a97262ff",
   "metadata": {},
   "outputs": [],
   "source": [
    "# Carregar o notebook\n",
    "notebook_filename = \"notebook.ipynb\"\n",
    "with open(notebook_filename, 'r', encoding='utf-8') as f:\n",
    "    notebook_content = read(f, as_version=4)\n",
    "# Converter para Markdown\n",
    "exporter = MarkdownExporter()\n",
    "markdown_content, resources = exporter.from_notebook_node(notebook_content)\n",
    "markdown_filename = os.path.splitext(notebook_filename)[0] + \".md\"\n",
    "with open(markdown_filename, 'w', encoding='utf-8') as f:\n",
    "    f.write(markdown_content)\n",
    "# Salvar recursos adicionais, se existirem\n",
    "if 'outputs' in resources:\n",
    "    output_dir = os.path.splitext(notebook_filename)[0] + \"_files\"\n",
    "    os.makedirs(output_dir, exist_ok=True)\n",
    "    for resource_name, resource_data in resources['outputs'].items():\n",
    "        with open(os.path.join(output_dir, resource_name), 'wb') as f:\n",
    "            f.write(resource_data)"
   ]
  }
 ],
 "metadata": {
  "kernelspec": {
   "display_name": ".venv",
   "language": "python",
   "name": "python3"
  },
  "language_info": {
   "codemirror_mode": {
    "name": "ipython",
    "version": 3
   },
   "file_extension": ".py",
   "mimetype": "text/x-python",
   "name": "python",
   "nbconvert_exporter": "python",
   "pygments_lexer": "ipython3",
   "version": "3.13.2"
  }
 },
 "nbformat": 4,
 "nbformat_minor": 5
}
