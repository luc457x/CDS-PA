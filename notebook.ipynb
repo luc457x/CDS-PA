{
 "cells": [
  {
   "cell_type": "markdown",
   "id": "4e32017a",
   "metadata": {},
   "source": [
    "# 1.0 Setup"
   ]
  },
  {
   "cell_type": "code",
   "execution_count": 1,
   "id": "edd2d0ab",
   "metadata": {},
   "outputs": [],
   "source": [
    "from utils import *"
   ]
  },
  {
   "cell_type": "markdown",
   "id": "297c1e14",
   "metadata": {},
   "source": [
    "# 2.0 Carregamento e Checagem"
   ]
  },
  {
   "cell_type": "code",
   "execution_count": 2,
   "id": "9d188a52",
   "metadata": {},
   "outputs": [],
   "source": [
    "DF_RAW = pd.read_csv(\"train.csv\")\n"
   ]
  },
  {
   "cell_type": "code",
   "execution_count": 3,
   "id": "7c6bc5ea",
   "metadata": {},
   "outputs": [
    {
     "name": "stdout",
     "output_type": "stream",
     "text": [
      "<class 'pandas.core.frame.DataFrame'>\n",
      "RangeIndex: 4467 entries, 0 to 4466\n",
      "Data columns (total 20 columns):\n",
      " #   Column                       Non-Null Count  Dtype  \n",
      "---  ------                       --------------  -----  \n",
      " 0   ID                           4467 non-null   object \n",
      " 1   Delivery_person_ID           4467 non-null   object \n",
      " 2   Delivery_person_Age          4467 non-null   object \n",
      " 3   Delivery_person_Ratings      4467 non-null   object \n",
      " 4   Restaurant_latitude          4467 non-null   float64\n",
      " 5   Restaurant_longitude         4467 non-null   float64\n",
      " 6   Delivery_location_latitude   4467 non-null   float64\n",
      " 7   Delivery_location_longitude  4467 non-null   float64\n",
      " 8   Order_Date                   4467 non-null   object \n",
      " 9   Time_Orderd                  4467 non-null   object \n",
      " 10  Time_Order_picked            4467 non-null   object \n",
      " 11  Weatherconditions            4467 non-null   object \n",
      " 12  Road_traffic_density         4467 non-null   object \n",
      " 13  Vehicle_condition            4467 non-null   int64  \n",
      " 14  Type_of_order                4467 non-null   object \n",
      " 15  Type_of_vehicle              4467 non-null   object \n",
      " 16  multiple_deliveries          4467 non-null   object \n",
      " 17  Festival                     4467 non-null   object \n",
      " 18  City                         4466 non-null   object \n",
      " 19  Time_taken(min)              4466 non-null   object \n",
      "dtypes: float64(4), int64(1), object(15)\n",
      "memory usage: 698.1+ KB\n"
     ]
    }
   ],
   "source": [
    "DF_RAW.info()"
   ]
  },
  {
   "cell_type": "code",
   "execution_count": 4,
   "id": "09600ad3",
   "metadata": {},
   "outputs": [
    {
     "data": {
      "text/html": [
       "<div>\n",
       "<style scoped>\n",
       "    .dataframe tbody tr th:only-of-type {\n",
       "        vertical-align: middle;\n",
       "    }\n",
       "\n",
       "    .dataframe tbody tr th {\n",
       "        vertical-align: top;\n",
       "    }\n",
       "\n",
       "    .dataframe thead th {\n",
       "        text-align: right;\n",
       "    }\n",
       "</style>\n",
       "<table border=\"1\" class=\"dataframe\">\n",
       "  <thead>\n",
       "    <tr style=\"text-align: right;\">\n",
       "      <th></th>\n",
       "      <th>Restaurant_latitude</th>\n",
       "      <th>Restaurant_longitude</th>\n",
       "      <th>Delivery_location_latitude</th>\n",
       "      <th>Delivery_location_longitude</th>\n",
       "      <th>Vehicle_condition</th>\n",
       "    </tr>\n",
       "  </thead>\n",
       "  <tbody>\n",
       "    <tr>\n",
       "      <th>count</th>\n",
       "      <td>4467.000000</td>\n",
       "      <td>4467.000000</td>\n",
       "      <td>4467.000000</td>\n",
       "      <td>4467.000000</td>\n",
       "      <td>4467.000000</td>\n",
       "    </tr>\n",
       "    <tr>\n",
       "      <th>mean</th>\n",
       "      <td>16.873720</td>\n",
       "      <td>69.855186</td>\n",
       "      <td>17.345751</td>\n",
       "      <td>70.509414</td>\n",
       "      <td>1.022386</td>\n",
       "    </tr>\n",
       "    <tr>\n",
       "      <th>std</th>\n",
       "      <td>8.320083</td>\n",
       "      <td>23.490634</td>\n",
       "      <td>7.436276</td>\n",
       "      <td>21.655254</td>\n",
       "      <td>0.840340</td>\n",
       "    </tr>\n",
       "    <tr>\n",
       "      <th>min</th>\n",
       "      <td>-30.902872</td>\n",
       "      <td>-88.322337</td>\n",
       "      <td>0.010000</td>\n",
       "      <td>0.010000</td>\n",
       "      <td>0.000000</td>\n",
       "    </tr>\n",
       "    <tr>\n",
       "      <th>25%</th>\n",
       "      <td>12.906229</td>\n",
       "      <td>73.170000</td>\n",
       "      <td>12.969496</td>\n",
       "      <td>73.280937</td>\n",
       "      <td>0.000000</td>\n",
       "    </tr>\n",
       "    <tr>\n",
       "      <th>50%</th>\n",
       "      <td>18.546258</td>\n",
       "      <td>75.894377</td>\n",
       "      <td>18.619299</td>\n",
       "      <td>75.996362</td>\n",
       "      <td>1.000000</td>\n",
       "    </tr>\n",
       "    <tr>\n",
       "      <th>75%</th>\n",
       "      <td>22.725835</td>\n",
       "      <td>78.013330</td>\n",
       "      <td>22.781857</td>\n",
       "      <td>78.081576</td>\n",
       "      <td>2.000000</td>\n",
       "    </tr>\n",
       "    <tr>\n",
       "      <th>max</th>\n",
       "      <td>30.914057</td>\n",
       "      <td>88.433452</td>\n",
       "      <td>31.035562</td>\n",
       "      <td>88.563452</td>\n",
       "      <td>3.000000</td>\n",
       "    </tr>\n",
       "  </tbody>\n",
       "</table>\n",
       "</div>"
      ],
      "text/plain": [
       "       Restaurant_latitude  Restaurant_longitude  Delivery_location_latitude  \\\n",
       "count          4467.000000           4467.000000                 4467.000000   \n",
       "mean             16.873720             69.855186                   17.345751   \n",
       "std               8.320083             23.490634                    7.436276   \n",
       "min             -30.902872            -88.322337                    0.010000   \n",
       "25%              12.906229             73.170000                   12.969496   \n",
       "50%              18.546258             75.894377                   18.619299   \n",
       "75%              22.725835             78.013330                   22.781857   \n",
       "max              30.914057             88.433452                   31.035562   \n",
       "\n",
       "       Delivery_location_longitude  Vehicle_condition  \n",
       "count                  4467.000000        4467.000000  \n",
       "mean                     70.509414           1.022386  \n",
       "std                      21.655254           0.840340  \n",
       "min                       0.010000           0.000000  \n",
       "25%                      73.280937           0.000000  \n",
       "50%                      75.996362           1.000000  \n",
       "75%                      78.081576           2.000000  \n",
       "max                      88.563452           3.000000  "
      ]
     },
     "execution_count": 4,
     "metadata": {},
     "output_type": "execute_result"
    }
   ],
   "source": [
    "DF_RAW.describe()"
   ]
  },
  {
   "cell_type": "code",
   "execution_count": 5,
   "id": "16cd7d61",
   "metadata": {},
   "outputs": [
    {
     "data": {
      "text/html": [
       "<div>\n",
       "<style scoped>\n",
       "    .dataframe tbody tr th:only-of-type {\n",
       "        vertical-align: middle;\n",
       "    }\n",
       "\n",
       "    .dataframe tbody tr th {\n",
       "        vertical-align: top;\n",
       "    }\n",
       "\n",
       "    .dataframe thead th {\n",
       "        text-align: right;\n",
       "    }\n",
       "</style>\n",
       "<table border=\"1\" class=\"dataframe\">\n",
       "  <thead>\n",
       "    <tr style=\"text-align: right;\">\n",
       "      <th></th>\n",
       "      <th>ID</th>\n",
       "      <th>Delivery_person_ID</th>\n",
       "      <th>Delivery_person_Age</th>\n",
       "      <th>Delivery_person_Ratings</th>\n",
       "      <th>Restaurant_latitude</th>\n",
       "      <th>Restaurant_longitude</th>\n",
       "      <th>Delivery_location_latitude</th>\n",
       "      <th>Delivery_location_longitude</th>\n",
       "      <th>Order_Date</th>\n",
       "      <th>Time_Orderd</th>\n",
       "      <th>Time_Order_picked</th>\n",
       "      <th>Weatherconditions</th>\n",
       "      <th>Road_traffic_density</th>\n",
       "      <th>Vehicle_condition</th>\n",
       "      <th>Type_of_order</th>\n",
       "      <th>Type_of_vehicle</th>\n",
       "      <th>multiple_deliveries</th>\n",
       "      <th>Festival</th>\n",
       "      <th>City</th>\n",
       "      <th>Time_taken(min)</th>\n",
       "    </tr>\n",
       "  </thead>\n",
       "  <tbody>\n",
       "    <tr>\n",
       "      <th>3087</th>\n",
       "      <td>0x335c</td>\n",
       "      <td>CHENRES09DEL02</td>\n",
       "      <td>31</td>\n",
       "      <td>4.4</td>\n",
       "      <td>13.044694</td>\n",
       "      <td>80.261470</td>\n",
       "      <td>13.124694</td>\n",
       "      <td>80.341470</td>\n",
       "      <td>10-03-2022</td>\n",
       "      <td>18:55:00</td>\n",
       "      <td>19:05:00</td>\n",
       "      <td>conditions Fog</td>\n",
       "      <td>Medium</td>\n",
       "      <td>1</td>\n",
       "      <td>Meal</td>\n",
       "      <td>motorcycle</td>\n",
       "      <td>1</td>\n",
       "      <td>No</td>\n",
       "      <td>Metropolitian</td>\n",
       "      <td>(min) 38</td>\n",
       "    </tr>\n",
       "    <tr>\n",
       "      <th>1698</th>\n",
       "      <td>0xc8f9</td>\n",
       "      <td>GOARES14DEL03</td>\n",
       "      <td>37</td>\n",
       "      <td>4.6</td>\n",
       "      <td>15.157944</td>\n",
       "      <td>73.950889</td>\n",
       "      <td>15.247944</td>\n",
       "      <td>74.040889</td>\n",
       "      <td>16-02-2022</td>\n",
       "      <td>19:10:00</td>\n",
       "      <td>19:15:00</td>\n",
       "      <td>conditions Fog</td>\n",
       "      <td>Jam</td>\n",
       "      <td>0</td>\n",
       "      <td>Meal</td>\n",
       "      <td>motorcycle</td>\n",
       "      <td>1</td>\n",
       "      <td>Yes</td>\n",
       "      <td>Metropolitian</td>\n",
       "      <td>(min) 48</td>\n",
       "    </tr>\n",
       "    <tr>\n",
       "      <th>4116</th>\n",
       "      <td>0x6cf3</td>\n",
       "      <td>RANCHIRES20DEL02</td>\n",
       "      <td>25</td>\n",
       "      <td>4.6</td>\n",
       "      <td>23.399250</td>\n",
       "      <td>85.390464</td>\n",
       "      <td>23.529250</td>\n",
       "      <td>85.520464</td>\n",
       "      <td>06-03-2022</td>\n",
       "      <td>19:55:00</td>\n",
       "      <td>20:05:00</td>\n",
       "      <td>conditions Sandstorms</td>\n",
       "      <td>Jam</td>\n",
       "      <td>0</td>\n",
       "      <td>Drinks</td>\n",
       "      <td>motorcycle</td>\n",
       "      <td>1</td>\n",
       "      <td>No</td>\n",
       "      <td>Metropolitian</td>\n",
       "      <td>(min) 31</td>\n",
       "    </tr>\n",
       "    <tr>\n",
       "      <th>4369</th>\n",
       "      <td>0x6156</td>\n",
       "      <td>JAPRES010DEL03</td>\n",
       "      <td>35</td>\n",
       "      <td>4.9</td>\n",
       "      <td>26.921411</td>\n",
       "      <td>75.793604</td>\n",
       "      <td>27.011411</td>\n",
       "      <td>75.883604</td>\n",
       "      <td>02-03-2022</td>\n",
       "      <td>21:30:00</td>\n",
       "      <td>21:45:00</td>\n",
       "      <td>conditions Fog</td>\n",
       "      <td>Jam</td>\n",
       "      <td>2</td>\n",
       "      <td>Drinks</td>\n",
       "      <td>scooter</td>\n",
       "      <td>1</td>\n",
       "      <td>No</td>\n",
       "      <td>Metropolitian</td>\n",
       "      <td>(min) 43</td>\n",
       "    </tr>\n",
       "    <tr>\n",
       "      <th>3694</th>\n",
       "      <td>0x2741</td>\n",
       "      <td>MUMRES17DEL02</td>\n",
       "      <td>23</td>\n",
       "      <td>4.6</td>\n",
       "      <td>19.121999</td>\n",
       "      <td>72.908493</td>\n",
       "      <td>19.201999</td>\n",
       "      <td>72.988493</td>\n",
       "      <td>31-03-2022</td>\n",
       "      <td>17:20:00</td>\n",
       "      <td>17:35:00</td>\n",
       "      <td>conditions Windy</td>\n",
       "      <td>Medium</td>\n",
       "      <td>2</td>\n",
       "      <td>Buffet</td>\n",
       "      <td>scooter</td>\n",
       "      <td>1</td>\n",
       "      <td>No</td>\n",
       "      <td>Urban</td>\n",
       "      <td>(min) 20</td>\n",
       "    </tr>\n",
       "    <tr>\n",
       "      <th>473</th>\n",
       "      <td>0x50c4</td>\n",
       "      <td>MYSRES15DEL01</td>\n",
       "      <td>28</td>\n",
       "      <td>4.7</td>\n",
       "      <td>12.352058</td>\n",
       "      <td>76.606650</td>\n",
       "      <td>12.462058</td>\n",
       "      <td>76.716650</td>\n",
       "      <td>25-03-2022</td>\n",
       "      <td>18:20:00</td>\n",
       "      <td>18:30:00</td>\n",
       "      <td>conditions Sandstorms</td>\n",
       "      <td>Medium</td>\n",
       "      <td>1</td>\n",
       "      <td>Buffet</td>\n",
       "      <td>motorcycle</td>\n",
       "      <td>NaN</td>\n",
       "      <td>No</td>\n",
       "      <td>Metropolitian</td>\n",
       "      <td>(min) 25</td>\n",
       "    </tr>\n",
       "    <tr>\n",
       "      <th>3763</th>\n",
       "      <td>0x14c1</td>\n",
       "      <td>CHENRES03DEL02</td>\n",
       "      <td>23</td>\n",
       "      <td>4.7</td>\n",
       "      <td>13.091809</td>\n",
       "      <td>80.219104</td>\n",
       "      <td>13.171809</td>\n",
       "      <td>80.299104</td>\n",
       "      <td>16-03-2022</td>\n",
       "      <td>23:30:00</td>\n",
       "      <td>23:45:00</td>\n",
       "      <td>conditions Fog</td>\n",
       "      <td>Low</td>\n",
       "      <td>0</td>\n",
       "      <td>Drinks</td>\n",
       "      <td>motorcycle</td>\n",
       "      <td>1</td>\n",
       "      <td>No</td>\n",
       "      <td>Urban</td>\n",
       "      <td>(min) 24</td>\n",
       "    </tr>\n",
       "    <tr>\n",
       "      <th>3620</th>\n",
       "      <td>0x3841</td>\n",
       "      <td>CHENRES01DEL02</td>\n",
       "      <td>27</td>\n",
       "      <td>4.8</td>\n",
       "      <td>13.005801</td>\n",
       "      <td>80.250744</td>\n",
       "      <td>13.025801</td>\n",
       "      <td>80.270744</td>\n",
       "      <td>03-03-2022</td>\n",
       "      <td>10:35:00</td>\n",
       "      <td>10:50:00</td>\n",
       "      <td>conditions Stormy</td>\n",
       "      <td>Low</td>\n",
       "      <td>2</td>\n",
       "      <td>Snack</td>\n",
       "      <td>motorcycle</td>\n",
       "      <td>1</td>\n",
       "      <td>No</td>\n",
       "      <td>Metropolitian</td>\n",
       "      <td>(min) 19</td>\n",
       "    </tr>\n",
       "    <tr>\n",
       "      <th>4296</th>\n",
       "      <td>0xad82</td>\n",
       "      <td>JAPRES14DEL02</td>\n",
       "      <td>26</td>\n",
       "      <td>4.8</td>\n",
       "      <td>26.888420</td>\n",
       "      <td>75.800689</td>\n",
       "      <td>26.938420</td>\n",
       "      <td>75.850689</td>\n",
       "      <td>05-04-2022</td>\n",
       "      <td>19:15:00</td>\n",
       "      <td>19:20:00</td>\n",
       "      <td>conditions Fog</td>\n",
       "      <td>Jam</td>\n",
       "      <td>0</td>\n",
       "      <td>Drinks</td>\n",
       "      <td>motorcycle</td>\n",
       "      <td>1</td>\n",
       "      <td>No</td>\n",
       "      <td>Urban</td>\n",
       "      <td>(min) 23</td>\n",
       "    </tr>\n",
       "    <tr>\n",
       "      <th>2108</th>\n",
       "      <td>0x7704</td>\n",
       "      <td>JAPRES09DEL02</td>\n",
       "      <td>34</td>\n",
       "      <td>4.1</td>\n",
       "      <td>26.911378</td>\n",
       "      <td>75.789034</td>\n",
       "      <td>26.961378</td>\n",
       "      <td>75.839034</td>\n",
       "      <td>19-03-2022</td>\n",
       "      <td>20:45:00</td>\n",
       "      <td>20:50:00</td>\n",
       "      <td>conditions Cloudy</td>\n",
       "      <td>Jam</td>\n",
       "      <td>1</td>\n",
       "      <td>Snack</td>\n",
       "      <td>scooter</td>\n",
       "      <td>1</td>\n",
       "      <td>No</td>\n",
       "      <td>Metropolitian</td>\n",
       "      <td>(min) 38</td>\n",
       "    </tr>\n",
       "    <tr>\n",
       "      <th>2600</th>\n",
       "      <td>0x113a</td>\n",
       "      <td>SURRES14DEL02</td>\n",
       "      <td>21</td>\n",
       "      <td>4.7</td>\n",
       "      <td>21.157729</td>\n",
       "      <td>72.768726</td>\n",
       "      <td>21.287729</td>\n",
       "      <td>72.898726</td>\n",
       "      <td>06-04-2022</td>\n",
       "      <td>18:20:00</td>\n",
       "      <td>18:30:00</td>\n",
       "      <td>conditions Stormy</td>\n",
       "      <td>Medium</td>\n",
       "      <td>1</td>\n",
       "      <td>Buffet</td>\n",
       "      <td>scooter</td>\n",
       "      <td>0</td>\n",
       "      <td>No</td>\n",
       "      <td>Metropolitian</td>\n",
       "      <td>(min) 26</td>\n",
       "    </tr>\n",
       "    <tr>\n",
       "      <th>1787</th>\n",
       "      <td>0x3f2b</td>\n",
       "      <td>MUMRES17DEL02</td>\n",
       "      <td>26</td>\n",
       "      <td>4.6</td>\n",
       "      <td>19.121999</td>\n",
       "      <td>72.908493</td>\n",
       "      <td>19.201999</td>\n",
       "      <td>72.988493</td>\n",
       "      <td>04-04-2022</td>\n",
       "      <td>23:20:00</td>\n",
       "      <td>23:30:00</td>\n",
       "      <td>conditions Windy</td>\n",
       "      <td>Low</td>\n",
       "      <td>2</td>\n",
       "      <td>Buffet</td>\n",
       "      <td>scooter</td>\n",
       "      <td>0</td>\n",
       "      <td>No</td>\n",
       "      <td>Metropolitian</td>\n",
       "      <td>(min) 17</td>\n",
       "    </tr>\n",
       "    <tr>\n",
       "      <th>4164</th>\n",
       "      <td>0x868</td>\n",
       "      <td>SURRES07DEL02</td>\n",
       "      <td>NaN</td>\n",
       "      <td>NaN</td>\n",
       "      <td>21.170798</td>\n",
       "      <td>72.790489</td>\n",
       "      <td>21.250798</td>\n",
       "      <td>72.870489</td>\n",
       "      <td>25-03-2022</td>\n",
       "      <td>NaN</td>\n",
       "      <td>19:20:00</td>\n",
       "      <td>conditions Fog</td>\n",
       "      <td>Jam</td>\n",
       "      <td>0</td>\n",
       "      <td>Buffet</td>\n",
       "      <td>motorcycle</td>\n",
       "      <td>3</td>\n",
       "      <td>Yes</td>\n",
       "      <td>Urban</td>\n",
       "      <td>(min) 44</td>\n",
       "    </tr>\n",
       "    <tr>\n",
       "      <th>2351</th>\n",
       "      <td>0x50d</td>\n",
       "      <td>PUNERES12DEL03</td>\n",
       "      <td>NaN</td>\n",
       "      <td>NaN</td>\n",
       "      <td>-18.520016</td>\n",
       "      <td>-73.830547</td>\n",
       "      <td>18.580016</td>\n",
       "      <td>73.890547</td>\n",
       "      <td>17-03-2022</td>\n",
       "      <td>NaN</td>\n",
       "      <td>22:05:00</td>\n",
       "      <td>conditions NaN</td>\n",
       "      <td>NaN</td>\n",
       "      <td>2</td>\n",
       "      <td>Drinks</td>\n",
       "      <td>scooter</td>\n",
       "      <td>1</td>\n",
       "      <td>No</td>\n",
       "      <td>Metropolitian</td>\n",
       "      <td>(min) 31</td>\n",
       "    </tr>\n",
       "    <tr>\n",
       "      <th>3310</th>\n",
       "      <td>0xb588</td>\n",
       "      <td>SURRES02DEL03</td>\n",
       "      <td>33</td>\n",
       "      <td>4.9</td>\n",
       "      <td>21.186608</td>\n",
       "      <td>72.794136</td>\n",
       "      <td>21.246608</td>\n",
       "      <td>72.854136</td>\n",
       "      <td>21-03-2022</td>\n",
       "      <td>17:50:00</td>\n",
       "      <td>17:55:00</td>\n",
       "      <td>conditions Sandstorms</td>\n",
       "      <td>Medium</td>\n",
       "      <td>2</td>\n",
       "      <td>Buffet</td>\n",
       "      <td>scooter</td>\n",
       "      <td>1</td>\n",
       "      <td>No</td>\n",
       "      <td>Metropolitian</td>\n",
       "      <td>(min) 29</td>\n",
       "    </tr>\n",
       "    <tr>\n",
       "      <th>2279</th>\n",
       "      <td>0x8620</td>\n",
       "      <td>JAPRES13DEL02</td>\n",
       "      <td>38</td>\n",
       "      <td>4.4</td>\n",
       "      <td>26.846156</td>\n",
       "      <td>75.802300</td>\n",
       "      <td>26.866156</td>\n",
       "      <td>75.822300</td>\n",
       "      <td>26-03-2022</td>\n",
       "      <td>11:00:00</td>\n",
       "      <td>11:10:00</td>\n",
       "      <td>conditions Windy</td>\n",
       "      <td>Low</td>\n",
       "      <td>0</td>\n",
       "      <td>Drinks</td>\n",
       "      <td>motorcycle</td>\n",
       "      <td>1</td>\n",
       "      <td>No</td>\n",
       "      <td>Urban</td>\n",
       "      <td>(min) 29</td>\n",
       "    </tr>\n",
       "    <tr>\n",
       "      <th>4304</th>\n",
       "      <td>0x159e</td>\n",
       "      <td>INDORES09DEL02</td>\n",
       "      <td>39</td>\n",
       "      <td>4.7</td>\n",
       "      <td>22.725835</td>\n",
       "      <td>75.887648</td>\n",
       "      <td>22.855835</td>\n",
       "      <td>76.017648</td>\n",
       "      <td>16-03-2022</td>\n",
       "      <td>21:20:00</td>\n",
       "      <td>21:35:00</td>\n",
       "      <td>conditions Windy</td>\n",
       "      <td>Jam</td>\n",
       "      <td>2</td>\n",
       "      <td>Buffet</td>\n",
       "      <td>scooter</td>\n",
       "      <td>1</td>\n",
       "      <td>No</td>\n",
       "      <td>Metropolitian</td>\n",
       "      <td>(min) 28</td>\n",
       "    </tr>\n",
       "    <tr>\n",
       "      <th>1789</th>\n",
       "      <td>0x6343</td>\n",
       "      <td>COIMBRES02DEL01</td>\n",
       "      <td>25</td>\n",
       "      <td>5</td>\n",
       "      <td>11.022477</td>\n",
       "      <td>76.995667</td>\n",
       "      <td>11.132477</td>\n",
       "      <td>77.105667</td>\n",
       "      <td>29-03-2022</td>\n",
       "      <td>18:15:00</td>\n",
       "      <td>18:25:00</td>\n",
       "      <td>conditions Sandstorms</td>\n",
       "      <td>Medium</td>\n",
       "      <td>2</td>\n",
       "      <td>Snack</td>\n",
       "      <td>scooter</td>\n",
       "      <td>1</td>\n",
       "      <td>No</td>\n",
       "      <td>Metropolitian</td>\n",
       "      <td>(min) 18</td>\n",
       "    </tr>\n",
       "    <tr>\n",
       "      <th>1294</th>\n",
       "      <td>0x904f</td>\n",
       "      <td>HYDRES05DEL02</td>\n",
       "      <td>20</td>\n",
       "      <td>4.5</td>\n",
       "      <td>17.433809</td>\n",
       "      <td>78.386744</td>\n",
       "      <td>17.483809</td>\n",
       "      <td>78.436744</td>\n",
       "      <td>26-03-2022</td>\n",
       "      <td>18:15:00</td>\n",
       "      <td>18:30:00</td>\n",
       "      <td>conditions Sandstorms</td>\n",
       "      <td>Medium</td>\n",
       "      <td>2</td>\n",
       "      <td>Drinks</td>\n",
       "      <td>motorcycle</td>\n",
       "      <td>1</td>\n",
       "      <td>No</td>\n",
       "      <td>Metropolitian</td>\n",
       "      <td>(min) 24</td>\n",
       "    </tr>\n",
       "    <tr>\n",
       "      <th>2497</th>\n",
       "      <td>0x6f8e</td>\n",
       "      <td>MYSRES04DEL01</td>\n",
       "      <td>22</td>\n",
       "      <td>4.6</td>\n",
       "      <td>12.308500</td>\n",
       "      <td>76.665808</td>\n",
       "      <td>12.318500</td>\n",
       "      <td>76.675808</td>\n",
       "      <td>13-03-2022</td>\n",
       "      <td>08:40:00</td>\n",
       "      <td>08:55:00</td>\n",
       "      <td>conditions Stormy</td>\n",
       "      <td>Low</td>\n",
       "      <td>2</td>\n",
       "      <td>Snack</td>\n",
       "      <td>electric_scooter</td>\n",
       "      <td>1</td>\n",
       "      <td>No</td>\n",
       "      <td>Urban</td>\n",
       "      <td>(min) 14</td>\n",
       "    </tr>\n",
       "    <tr>\n",
       "      <th>29</th>\n",
       "      <td>0x3e60</td>\n",
       "      <td>COIMBRES02DEL03</td>\n",
       "      <td>31</td>\n",
       "      <td>4.8</td>\n",
       "      <td>11.022477</td>\n",
       "      <td>76.995667</td>\n",
       "      <td>11.052477</td>\n",
       "      <td>77.025667</td>\n",
       "      <td>01-04-2022</td>\n",
       "      <td>22:35:00</td>\n",
       "      <td>22:50:00</td>\n",
       "      <td>conditions Sandstorms</td>\n",
       "      <td>Low</td>\n",
       "      <td>2</td>\n",
       "      <td>Drinks</td>\n",
       "      <td>motorcycle</td>\n",
       "      <td>1</td>\n",
       "      <td>No</td>\n",
       "      <td>Metropolitian</td>\n",
       "      <td>(min) 26</td>\n",
       "    </tr>\n",
       "    <tr>\n",
       "      <th>2112</th>\n",
       "      <td>0x4546</td>\n",
       "      <td>PUNERES06DEL03</td>\n",
       "      <td>37</td>\n",
       "      <td>3.6</td>\n",
       "      <td>18.546258</td>\n",
       "      <td>73.904337</td>\n",
       "      <td>18.636258</td>\n",
       "      <td>73.994337</td>\n",
       "      <td>12-03-2022</td>\n",
       "      <td>17:40:00</td>\n",
       "      <td>17:50:00</td>\n",
       "      <td>conditions Windy</td>\n",
       "      <td>Medium</td>\n",
       "      <td>1</td>\n",
       "      <td>Drinks</td>\n",
       "      <td>scooter</td>\n",
       "      <td>1</td>\n",
       "      <td>No</td>\n",
       "      <td>Metropolitian</td>\n",
       "      <td>(min) 36</td>\n",
       "    </tr>\n",
       "    <tr>\n",
       "      <th>2081</th>\n",
       "      <td>0xbfa6</td>\n",
       "      <td>BHPRES07DEL02</td>\n",
       "      <td>32</td>\n",
       "      <td>NaN</td>\n",
       "      <td>0.000000</td>\n",
       "      <td>0.000000</td>\n",
       "      <td>0.050000</td>\n",
       "      <td>0.050000</td>\n",
       "      <td>11-02-2022</td>\n",
       "      <td>20:50:00</td>\n",
       "      <td>21:00:00</td>\n",
       "      <td>conditions Sandstorms</td>\n",
       "      <td>Jam</td>\n",
       "      <td>0</td>\n",
       "      <td>Drinks</td>\n",
       "      <td>motorcycle</td>\n",
       "      <td>1</td>\n",
       "      <td>No</td>\n",
       "      <td>Urban</td>\n",
       "      <td>(min) 37</td>\n",
       "    </tr>\n",
       "    <tr>\n",
       "      <th>3084</th>\n",
       "      <td>0x2e70</td>\n",
       "      <td>RANCHIRES11DEL02</td>\n",
       "      <td>27</td>\n",
       "      <td>4.2</td>\n",
       "      <td>23.359194</td>\n",
       "      <td>85.325447</td>\n",
       "      <td>23.379194</td>\n",
       "      <td>85.345447</td>\n",
       "      <td>13-03-2022</td>\n",
       "      <td>09:55:00</td>\n",
       "      <td>10:00:00</td>\n",
       "      <td>conditions Sandstorms</td>\n",
       "      <td>Low</td>\n",
       "      <td>0</td>\n",
       "      <td>Snack</td>\n",
       "      <td>motorcycle</td>\n",
       "      <td>1</td>\n",
       "      <td>No</td>\n",
       "      <td>Urban</td>\n",
       "      <td>(min) 28</td>\n",
       "    </tr>\n",
       "    <tr>\n",
       "      <th>1155</th>\n",
       "      <td>0xa5a3</td>\n",
       "      <td>HYDRES11DEL02</td>\n",
       "      <td>28</td>\n",
       "      <td>4.8</td>\n",
       "      <td>17.430448</td>\n",
       "      <td>78.418213</td>\n",
       "      <td>17.450448</td>\n",
       "      <td>78.438213</td>\n",
       "      <td>15-03-2022</td>\n",
       "      <td>09:25:00</td>\n",
       "      <td>09:35:00</td>\n",
       "      <td>conditions Sunny</td>\n",
       "      <td>Low</td>\n",
       "      <td>2</td>\n",
       "      <td>Meal</td>\n",
       "      <td>motorcycle</td>\n",
       "      <td>0</td>\n",
       "      <td>No</td>\n",
       "      <td>Metropolitian</td>\n",
       "      <td>(min) 19</td>\n",
       "    </tr>\n",
       "    <tr>\n",
       "      <th>3245</th>\n",
       "      <td>0xa394</td>\n",
       "      <td>JAPRES05DEL03</td>\n",
       "      <td>21</td>\n",
       "      <td>4.6</td>\n",
       "      <td>26.905287</td>\n",
       "      <td>75.794592</td>\n",
       "      <td>26.935287</td>\n",
       "      <td>75.824592</td>\n",
       "      <td>11-03-2022</td>\n",
       "      <td>20:20:00</td>\n",
       "      <td>20:25:00</td>\n",
       "      <td>conditions Windy</td>\n",
       "      <td>Jam</td>\n",
       "      <td>1</td>\n",
       "      <td>Drinks</td>\n",
       "      <td>scooter</td>\n",
       "      <td>0</td>\n",
       "      <td>No</td>\n",
       "      <td>Metropolitian</td>\n",
       "      <td>(min) 25</td>\n",
       "    </tr>\n",
       "    <tr>\n",
       "      <th>3727</th>\n",
       "      <td>0xdd4</td>\n",
       "      <td>RANCHIRES06DEL02</td>\n",
       "      <td>NaN</td>\n",
       "      <td>NaN</td>\n",
       "      <td>23.357804</td>\n",
       "      <td>85.325146</td>\n",
       "      <td>23.487804</td>\n",
       "      <td>85.455146</td>\n",
       "      <td>06-03-2022</td>\n",
       "      <td>NaN</td>\n",
       "      <td>21:15:00</td>\n",
       "      <td>conditions Cloudy</td>\n",
       "      <td>Jam</td>\n",
       "      <td>0</td>\n",
       "      <td>Drinks</td>\n",
       "      <td>motorcycle</td>\n",
       "      <td>1</td>\n",
       "      <td>Yes</td>\n",
       "      <td>Metropolitian</td>\n",
       "      <td>(min) 49</td>\n",
       "    </tr>\n",
       "    <tr>\n",
       "      <th>487</th>\n",
       "      <td>0x5d2d</td>\n",
       "      <td>JAPRES20DEL01</td>\n",
       "      <td>24</td>\n",
       "      <td>4.5</td>\n",
       "      <td>26.956431</td>\n",
       "      <td>75.776649</td>\n",
       "      <td>27.066431</td>\n",
       "      <td>75.886649</td>\n",
       "      <td>08-03-2022</td>\n",
       "      <td>23:30:00</td>\n",
       "      <td>23:40:00</td>\n",
       "      <td>conditions Stormy</td>\n",
       "      <td>Low</td>\n",
       "      <td>1</td>\n",
       "      <td>Meal</td>\n",
       "      <td>scooter</td>\n",
       "      <td>1</td>\n",
       "      <td>No</td>\n",
       "      <td>Metropolitian</td>\n",
       "      <td>(min) 14</td>\n",
       "    </tr>\n",
       "    <tr>\n",
       "      <th>582</th>\n",
       "      <td>0x21c3</td>\n",
       "      <td>HYDRES02DEL03</td>\n",
       "      <td>34</td>\n",
       "      <td>3.9</td>\n",
       "      <td>17.412330</td>\n",
       "      <td>78.449654</td>\n",
       "      <td>17.502330</td>\n",
       "      <td>78.539654</td>\n",
       "      <td>29-03-2022</td>\n",
       "      <td>23:10:00</td>\n",
       "      <td>23:15:00</td>\n",
       "      <td>conditions Fog</td>\n",
       "      <td>Low</td>\n",
       "      <td>2</td>\n",
       "      <td>Meal</td>\n",
       "      <td>scooter</td>\n",
       "      <td>1</td>\n",
       "      <td>No</td>\n",
       "      <td>Metropolitian</td>\n",
       "      <td>(min) 37</td>\n",
       "    </tr>\n",
       "    <tr>\n",
       "      <th>987</th>\n",
       "      <td>0xd674</td>\n",
       "      <td>KOLRES07DEL02</td>\n",
       "      <td>33</td>\n",
       "      <td>4.9</td>\n",
       "      <td>22.547186</td>\n",
       "      <td>88.350680</td>\n",
       "      <td>22.567186</td>\n",
       "      <td>88.370680</td>\n",
       "      <td>17-02-2022</td>\n",
       "      <td>11:20:00</td>\n",
       "      <td>11:35:00</td>\n",
       "      <td>conditions Stormy</td>\n",
       "      <td>High</td>\n",
       "      <td>0</td>\n",
       "      <td>Snack</td>\n",
       "      <td>motorcycle</td>\n",
       "      <td>1</td>\n",
       "      <td>No</td>\n",
       "      <td>Metropolitian</td>\n",
       "      <td>(min) 36</td>\n",
       "    </tr>\n",
       "  </tbody>\n",
       "</table>\n",
       "</div>"
      ],
      "text/plain": [
       "           ID Delivery_person_ID Delivery_person_Age Delivery_person_Ratings  \\\n",
       "3087  0x335c     CHENRES09DEL02                   31                     4.4   \n",
       "1698  0xc8f9      GOARES14DEL03                   37                     4.6   \n",
       "4116  0x6cf3   RANCHIRES20DEL02                   25                     4.6   \n",
       "4369  0x6156     JAPRES010DEL03                   35                     4.9   \n",
       "3694  0x2741      MUMRES17DEL02                   23                     4.6   \n",
       "473   0x50c4      MYSRES15DEL01                   28                     4.7   \n",
       "3763  0x14c1     CHENRES03DEL02                   23                     4.7   \n",
       "3620  0x3841     CHENRES01DEL02                   27                     4.8   \n",
       "4296  0xad82      JAPRES14DEL02                   26                     4.8   \n",
       "2108  0x7704      JAPRES09DEL02                   34                     4.1   \n",
       "2600  0x113a      SURRES14DEL02                   21                     4.7   \n",
       "1787  0x3f2b      MUMRES17DEL02                   26                     4.6   \n",
       "4164   0x868      SURRES07DEL02                 NaN                     NaN    \n",
       "2351   0x50d     PUNERES12DEL03                 NaN                     NaN    \n",
       "3310  0xb588      SURRES02DEL03                   33                     4.9   \n",
       "2279  0x8620      JAPRES13DEL02                   38                     4.4   \n",
       "4304  0x159e     INDORES09DEL02                   39                     4.7   \n",
       "1789  0x6343    COIMBRES02DEL01                   25                       5   \n",
       "1294  0x904f      HYDRES05DEL02                   20                     4.5   \n",
       "2497  0x6f8e      MYSRES04DEL01                   22                     4.6   \n",
       "29    0x3e60    COIMBRES02DEL03                   31                     4.8   \n",
       "2112  0x4546     PUNERES06DEL03                   37                     3.6   \n",
       "2081  0xbfa6      BHPRES07DEL02                   32                    NaN    \n",
       "3084  0x2e70   RANCHIRES11DEL02                   27                     4.2   \n",
       "1155  0xa5a3      HYDRES11DEL02                   28                     4.8   \n",
       "3245  0xa394      JAPRES05DEL03                   21                     4.6   \n",
       "3727   0xdd4   RANCHIRES06DEL02                 NaN                     NaN    \n",
       "487   0x5d2d      JAPRES20DEL01                   24                     4.5   \n",
       "582   0x21c3      HYDRES02DEL03                   34                     3.9   \n",
       "987   0xd674      KOLRES07DEL02                   33                     4.9   \n",
       "\n",
       "      Restaurant_latitude  Restaurant_longitude  Delivery_location_latitude  \\\n",
       "3087            13.044694             80.261470                   13.124694   \n",
       "1698            15.157944             73.950889                   15.247944   \n",
       "4116            23.399250             85.390464                   23.529250   \n",
       "4369            26.921411             75.793604                   27.011411   \n",
       "3694            19.121999             72.908493                   19.201999   \n",
       "473             12.352058             76.606650                   12.462058   \n",
       "3763            13.091809             80.219104                   13.171809   \n",
       "3620            13.005801             80.250744                   13.025801   \n",
       "4296            26.888420             75.800689                   26.938420   \n",
       "2108            26.911378             75.789034                   26.961378   \n",
       "2600            21.157729             72.768726                   21.287729   \n",
       "1787            19.121999             72.908493                   19.201999   \n",
       "4164            21.170798             72.790489                   21.250798   \n",
       "2351           -18.520016            -73.830547                   18.580016   \n",
       "3310            21.186608             72.794136                   21.246608   \n",
       "2279            26.846156             75.802300                   26.866156   \n",
       "4304            22.725835             75.887648                   22.855835   \n",
       "1789            11.022477             76.995667                   11.132477   \n",
       "1294            17.433809             78.386744                   17.483809   \n",
       "2497            12.308500             76.665808                   12.318500   \n",
       "29              11.022477             76.995667                   11.052477   \n",
       "2112            18.546258             73.904337                   18.636258   \n",
       "2081             0.000000              0.000000                    0.050000   \n",
       "3084            23.359194             85.325447                   23.379194   \n",
       "1155            17.430448             78.418213                   17.450448   \n",
       "3245            26.905287             75.794592                   26.935287   \n",
       "3727            23.357804             85.325146                   23.487804   \n",
       "487             26.956431             75.776649                   27.066431   \n",
       "582             17.412330             78.449654                   17.502330   \n",
       "987             22.547186             88.350680                   22.567186   \n",
       "\n",
       "      Delivery_location_longitude  Order_Date Time_Orderd Time_Order_picked  \\\n",
       "3087                    80.341470  10-03-2022    18:55:00          19:05:00   \n",
       "1698                    74.040889  16-02-2022    19:10:00          19:15:00   \n",
       "4116                    85.520464  06-03-2022    19:55:00          20:05:00   \n",
       "4369                    75.883604  02-03-2022    21:30:00          21:45:00   \n",
       "3694                    72.988493  31-03-2022    17:20:00          17:35:00   \n",
       "473                     76.716650  25-03-2022    18:20:00          18:30:00   \n",
       "3763                    80.299104  16-03-2022    23:30:00          23:45:00   \n",
       "3620                    80.270744  03-03-2022    10:35:00          10:50:00   \n",
       "4296                    75.850689  05-04-2022    19:15:00          19:20:00   \n",
       "2108                    75.839034  19-03-2022    20:45:00          20:50:00   \n",
       "2600                    72.898726  06-04-2022    18:20:00          18:30:00   \n",
       "1787                    72.988493  04-04-2022    23:20:00          23:30:00   \n",
       "4164                    72.870489  25-03-2022        NaN           19:20:00   \n",
       "2351                    73.890547  17-03-2022        NaN           22:05:00   \n",
       "3310                    72.854136  21-03-2022    17:50:00          17:55:00   \n",
       "2279                    75.822300  26-03-2022    11:00:00          11:10:00   \n",
       "4304                    76.017648  16-03-2022    21:20:00          21:35:00   \n",
       "1789                    77.105667  29-03-2022    18:15:00          18:25:00   \n",
       "1294                    78.436744  26-03-2022    18:15:00          18:30:00   \n",
       "2497                    76.675808  13-03-2022    08:40:00          08:55:00   \n",
       "29                      77.025667  01-04-2022    22:35:00          22:50:00   \n",
       "2112                    73.994337  12-03-2022    17:40:00          17:50:00   \n",
       "2081                     0.050000  11-02-2022    20:50:00          21:00:00   \n",
       "3084                    85.345447  13-03-2022    09:55:00          10:00:00   \n",
       "1155                    78.438213  15-03-2022    09:25:00          09:35:00   \n",
       "3245                    75.824592  11-03-2022    20:20:00          20:25:00   \n",
       "3727                    85.455146  06-03-2022        NaN           21:15:00   \n",
       "487                     75.886649  08-03-2022    23:30:00          23:40:00   \n",
       "582                     78.539654  29-03-2022    23:10:00          23:15:00   \n",
       "987                     88.370680  17-02-2022    11:20:00          11:35:00   \n",
       "\n",
       "          Weatherconditions Road_traffic_density  Vehicle_condition  \\\n",
       "3087         conditions Fog              Medium                   1   \n",
       "1698         conditions Fog                 Jam                   0   \n",
       "4116  conditions Sandstorms                 Jam                   0   \n",
       "4369         conditions Fog                 Jam                   2   \n",
       "3694       conditions Windy              Medium                   2   \n",
       "473   conditions Sandstorms              Medium                   1   \n",
       "3763         conditions Fog                 Low                   0   \n",
       "3620      conditions Stormy                 Low                   2   \n",
       "4296         conditions Fog                 Jam                   0   \n",
       "2108      conditions Cloudy                 Jam                   1   \n",
       "2600      conditions Stormy              Medium                   1   \n",
       "1787       conditions Windy                 Low                   2   \n",
       "4164         conditions Fog                 Jam                   0   \n",
       "2351         conditions NaN                 NaN                   2   \n",
       "3310  conditions Sandstorms              Medium                   2   \n",
       "2279       conditions Windy                 Low                   0   \n",
       "4304       conditions Windy                 Jam                   2   \n",
       "1789  conditions Sandstorms              Medium                   2   \n",
       "1294  conditions Sandstorms              Medium                   2   \n",
       "2497      conditions Stormy                 Low                   2   \n",
       "29    conditions Sandstorms                 Low                   2   \n",
       "2112       conditions Windy              Medium                   1   \n",
       "2081  conditions Sandstorms                 Jam                   0   \n",
       "3084  conditions Sandstorms                 Low                   0   \n",
       "1155       conditions Sunny                 Low                   2   \n",
       "3245       conditions Windy                 Jam                   1   \n",
       "3727      conditions Cloudy                 Jam                   0   \n",
       "487       conditions Stormy                 Low                   1   \n",
       "582          conditions Fog                 Low                   2   \n",
       "987       conditions Stormy                High                   0   \n",
       "\n",
       "     Type_of_order    Type_of_vehicle multiple_deliveries Festival  \\\n",
       "3087         Meal         motorcycle                    1      No    \n",
       "1698         Meal         motorcycle                    1     Yes    \n",
       "4116       Drinks         motorcycle                    1      No    \n",
       "4369       Drinks            scooter                    1      No    \n",
       "3694       Buffet            scooter                    1      No    \n",
       "473        Buffet         motorcycle                 NaN       No    \n",
       "3763       Drinks         motorcycle                    1      No    \n",
       "3620        Snack         motorcycle                    1      No    \n",
       "4296       Drinks         motorcycle                    1      No    \n",
       "2108        Snack            scooter                    1      No    \n",
       "2600       Buffet            scooter                    0      No    \n",
       "1787       Buffet            scooter                    0      No    \n",
       "4164       Buffet         motorcycle                    3     Yes    \n",
       "2351       Drinks            scooter                    1      No    \n",
       "3310       Buffet            scooter                    1      No    \n",
       "2279       Drinks         motorcycle                    1      No    \n",
       "4304       Buffet            scooter                    1      No    \n",
       "1789        Snack            scooter                    1      No    \n",
       "1294       Drinks         motorcycle                    1      No    \n",
       "2497        Snack   electric_scooter                    1      No    \n",
       "29         Drinks         motorcycle                    1      No    \n",
       "2112       Drinks            scooter                    1      No    \n",
       "2081       Drinks         motorcycle                    1      No    \n",
       "3084        Snack         motorcycle                    1      No    \n",
       "1155         Meal         motorcycle                    0      No    \n",
       "3245       Drinks            scooter                    0      No    \n",
       "3727       Drinks         motorcycle                    1     Yes    \n",
       "487          Meal            scooter                    1      No    \n",
       "582          Meal            scooter                    1      No    \n",
       "987         Snack         motorcycle                    1      No    \n",
       "\n",
       "                City Time_taken(min)  \n",
       "3087  Metropolitian         (min) 38  \n",
       "1698  Metropolitian         (min) 48  \n",
       "4116  Metropolitian         (min) 31  \n",
       "4369  Metropolitian         (min) 43  \n",
       "3694          Urban         (min) 20  \n",
       "473   Metropolitian         (min) 25  \n",
       "3763          Urban         (min) 24  \n",
       "3620  Metropolitian         (min) 19  \n",
       "4296          Urban         (min) 23  \n",
       "2108  Metropolitian         (min) 38  \n",
       "2600  Metropolitian         (min) 26  \n",
       "1787  Metropolitian         (min) 17  \n",
       "4164          Urban         (min) 44  \n",
       "2351  Metropolitian         (min) 31  \n",
       "3310  Metropolitian         (min) 29  \n",
       "2279          Urban         (min) 29  \n",
       "4304  Metropolitian         (min) 28  \n",
       "1789  Metropolitian         (min) 18  \n",
       "1294  Metropolitian         (min) 24  \n",
       "2497          Urban         (min) 14  \n",
       "29    Metropolitian         (min) 26  \n",
       "2112  Metropolitian         (min) 36  \n",
       "2081          Urban         (min) 37  \n",
       "3084          Urban         (min) 28  \n",
       "1155  Metropolitian         (min) 19  \n",
       "3245  Metropolitian         (min) 25  \n",
       "3727  Metropolitian         (min) 49  \n",
       "487   Metropolitian         (min) 14  \n",
       "582   Metropolitian         (min) 37  \n",
       "987   Metropolitian         (min) 36  "
      ]
     },
     "execution_count": 5,
     "metadata": {},
     "output_type": "execute_result"
    }
   ],
   "source": [
    "DF_RAW.sample(30)"
   ]
  },
  {
   "cell_type": "markdown",
   "id": "17db6691",
   "metadata": {},
   "source": [
    "# 3.0 Limpeza & Transansformação"
   ]
  },
  {
   "cell_type": "markdown",
   "id": "93b28f0b",
   "metadata": {},
   "source": [
    "Claramente algumas colunas possuem valores NaN, mas eles não estão aparecendo na checagem de NaNs. Isso pode ser porque eles são do tipo objeto ou estão armazenados como string e possuem algum formato estranho como \" NaN\", com um espaço em branco.<br>Os primeiros passos serão: remover todos os espaços das colunas com string, convertê-las para o tipo apropriado e remover excesso de NaNs."
   ]
  },
  {
   "cell_type": "markdown",
   "id": "5014d4da",
   "metadata": {},
   "source": [
    "## 3.1 Remover espaços & Corrigir tipos de dados e erros de escrita"
   ]
  },
  {
   "cell_type": "code",
   "execution_count": 6,
   "id": "05ddf976",
   "metadata": {},
   "outputs": [],
   "source": [
    "df_clear = DF_RAW.copy()\n",
    "# Remover espaços em branco no início e no final das strings\n",
    "df_clear = df_clear.apply(lambda x: x.str.strip() if x.dtype == \"object\" else x)\n",
    "# Converter para tipos númericos onde for necessario\n",
    "df_clear[\"Delivery_person_Age\"] = df_clear[\"Delivery_person_Age\"].apply(pd.to_numeric, errors=\"coerce\").astype(\"Int64\")\n",
    "df_clear[\"Delivery_person_Ratings\"] = df_clear[\"Delivery_person_Ratings\"].apply(pd.to_numeric, errors=\"coerce\")\n",
    "df_clear[\"multiple_deliveries\"] = df_clear[\"multiple_deliveries\"].apply(pd.to_numeric, errors=\"coerce\").astype(\"Int64\")\n",
    "# Corrigir erro de escrita em colunas\n",
    "df_clear.rename(columns={\"Time_Orderd\": \"Time_Ordered\"}, inplace=True)\n",
    "# Corrigir erro de escrita em valores\n",
    "df_clear[\"City\"] = df_clear[\"City\"].str.replace(\"Metropolitian\", \"Metropolitan\", regex=False)\n",
    "# Converter para tipo date.time para melhor manipulá-los\n",
    "df_clear[\"Order_Date\"] = pd.to_datetime(df_clear[\"Order_Date\"], format=\"%d-%m-%Y\").astype(\"string\")\n",
    "df_clear[\"Time_Ordered\"] = pd.to_datetime(df_clear[\"Time_Ordered\"], format=\"%H:%M:%S\").dt.time.astype(\"string\")\n",
    "df_clear[\"Time_Order_picked\"] = pd.to_datetime(df_clear[\"Time_Order_picked\"], format=\"%H:%M:%S\").dt.time.astype(\"string\")\n",
    "# Remover letras da coluna \"Time_taken(min)\" e conberter tipo para \"Int64\"\n",
    "df_clear[\"Time_taken(min)\"] = df_clear[\"Time_taken(min)\"].str.extract(r'(\\d+)').astype(\"Int64\")\n",
    "# Remover excesso de palavras na coluna \"Weatherconditions\"\n",
    "df_clear[\"Weatherconditions\"] = df_clear[\"Weatherconditions\"].str.replace(\"conditions \", \"\", regex=False)\n",
    "# Mudar NaNs para \"Unknown\" em colunas que não guardam valores numéricos\n",
    "df_clear[\"Weatherconditions\"] = df_clear[\"Weatherconditions\"].str.replace(\"NaN\", \"Unknown\", regex=False)\n",
    "df_clear[\"Road_traffic_density\"] = df_clear[\"Road_traffic_density\"].str.replace(\"NaN\", \"Unknown\", regex=False)\n",
    "df_clear[\"City\"] = df_clear[\"City\"].str.replace(\"NaN\", \"Unknown\", regex=False)\n",
    "df_clear[\"Festival\"] = df_clear[\"Festival\"].str.replace(\"NaN\", \"Unknown\", regex=False)\n"
   ]
  },
  {
   "cell_type": "code",
   "execution_count": 7,
   "id": "403902e4",
   "metadata": {},
   "outputs": [
    {
     "name": "stdout",
     "output_type": "stream",
     "text": [
      "Max rating: 6.0\n",
      "Min rating: 1.0\n"
     ]
    },
    {
     "data": {
      "text/html": [
       "<div>\n",
       "<style scoped>\n",
       "    .dataframe tbody tr th:only-of-type {\n",
       "        vertical-align: middle;\n",
       "    }\n",
       "\n",
       "    .dataframe tbody tr th {\n",
       "        vertical-align: top;\n",
       "    }\n",
       "\n",
       "    .dataframe thead th {\n",
       "        text-align: right;\n",
       "    }\n",
       "</style>\n",
       "<table border=\"1\" class=\"dataframe\">\n",
       "  <thead>\n",
       "    <tr style=\"text-align: right;\">\n",
       "      <th></th>\n",
       "      <th>ID</th>\n",
       "      <th>Delivery_person_ID</th>\n",
       "      <th>Delivery_person_Age</th>\n",
       "      <th>Delivery_person_Ratings</th>\n",
       "      <th>Restaurant_latitude</th>\n",
       "      <th>Restaurant_longitude</th>\n",
       "      <th>Delivery_location_latitude</th>\n",
       "      <th>Delivery_location_longitude</th>\n",
       "      <th>Order_Date</th>\n",
       "      <th>Time_Ordered</th>\n",
       "      <th>Time_Order_picked</th>\n",
       "      <th>Weatherconditions</th>\n",
       "      <th>Road_traffic_density</th>\n",
       "      <th>Vehicle_condition</th>\n",
       "      <th>Type_of_order</th>\n",
       "      <th>Type_of_vehicle</th>\n",
       "      <th>multiple_deliveries</th>\n",
       "      <th>Festival</th>\n",
       "      <th>City</th>\n",
       "      <th>Time_taken(min)</th>\n",
       "    </tr>\n",
       "  </thead>\n",
       "  <tbody>\n",
       "    <tr>\n",
       "      <th>3586</th>\n",
       "      <td>0x46d</td>\n",
       "      <td>BANGRES05DEL01</td>\n",
       "      <td>50</td>\n",
       "      <td>6.0</td>\n",
       "      <td>-12.970324</td>\n",
       "      <td>-77.645748</td>\n",
       "      <td>13.010324</td>\n",
       "      <td>77.685748</td>\n",
       "      <td>2022-03-13</td>\n",
       "      <td>&lt;NA&gt;</td>\n",
       "      <td>12:30:00</td>\n",
       "      <td>Unknown</td>\n",
       "      <td>Unknown</td>\n",
       "      <td>3</td>\n",
       "      <td>Meal</td>\n",
       "      <td>electric_scooter</td>\n",
       "      <td>0</td>\n",
       "      <td>No</td>\n",
       "      <td>Urban</td>\n",
       "      <td>25</td>\n",
       "    </tr>\n",
       "  </tbody>\n",
       "</table>\n",
       "</div>"
      ],
      "text/plain": [
       "         ID Delivery_person_ID  Delivery_person_Age  Delivery_person_Ratings  \\\n",
       "3586  0x46d     BANGRES05DEL01                   50                      6.0   \n",
       "\n",
       "      Restaurant_latitude  Restaurant_longitude  Delivery_location_latitude  \\\n",
       "3586           -12.970324            -77.645748                   13.010324   \n",
       "\n",
       "      Delivery_location_longitude  Order_Date Time_Ordered Time_Order_picked  \\\n",
       "3586                    77.685748  2022-03-13         <NA>          12:30:00   \n",
       "\n",
       "     Weatherconditions Road_traffic_density  Vehicle_condition Type_of_order  \\\n",
       "3586           Unknown              Unknown                  3          Meal   \n",
       "\n",
       "       Type_of_vehicle  multiple_deliveries Festival   City  Time_taken(min)  \n",
       "3586  electric_scooter                    0       No  Urban               25  "
      ]
     },
     "execution_count": 7,
     "metadata": {},
     "output_type": "execute_result"
    }
   ],
   "source": [
    "print(f\"Max rating: {df_clear[\"Delivery_person_Ratings\"].max()}\\nMin rating: {df_clear[\"Delivery_person_Ratings\"].min()}\")\n",
    "df_clear[df_clear[\"Delivery_person_Ratings\"] > 5.0]"
   ]
  },
  {
   "cell_type": "markdown",
   "id": "d69cec03",
   "metadata": {},
   "source": [
    "Há um valor de avaliação de 6,0. Como há apenas um valor \"errado\" e, assumindo que o máximo é 5 \"estrelas\", ele será corrigido para 5."
   ]
  },
  {
   "cell_type": "code",
   "execution_count": 8,
   "id": "5a073f4b",
   "metadata": {},
   "outputs": [],
   "source": [
    "df_clear.loc[df_clear[\"Delivery_person_Ratings\"] > 5.0, \"Delivery_person_Ratings\"] = 5.0"
   ]
  },
  {
   "cell_type": "markdown",
   "id": "68f43841",
   "metadata": {},
   "source": [
    "## 3.2 Remover excesso de NaNs"
   ]
  },
  {
   "cell_type": "code",
   "execution_count": 9,
   "id": "7539f25f",
   "metadata": {},
   "outputs": [],
   "source": [
    "# Para manter a análise simples, linhas com mais de 2 NaNs serão removidas, o que dá ~5% dos dados\n",
    "df_clear = df_clear.dropna(thresh=len(df_clear.columns) - 2).reset_index(drop=True)\n",
    "# Há somente 1 NaN em \"Time_taken(min)\", que será substituído removido pois o trabalho para estipula-lo não é viável\n",
    "df_clear = df_clear.dropna(subset=[\"Time_taken(min)\"]).reset_index(drop=True)"
   ]
  },
  {
   "cell_type": "code",
   "execution_count": 10,
   "id": "e9da250d",
   "metadata": {},
   "outputs": [
    {
     "name": "stdout",
     "output_type": "stream",
     "text": [
      "<class 'pandas.core.frame.DataFrame'>\n",
      "RangeIndex: 4291 entries, 0 to 4290\n",
      "Data columns (total 20 columns):\n",
      " #   Column                       Non-Null Count  Dtype  \n",
      "---  ------                       --------------  -----  \n",
      " 0   ID                           4291 non-null   object \n",
      " 1   Delivery_person_ID           4291 non-null   object \n",
      " 2   Delivery_person_Age          4277 non-null   Int64  \n",
      " 3   Delivery_person_Ratings      4271 non-null   float64\n",
      " 4   Restaurant_latitude          4291 non-null   float64\n",
      " 5   Restaurant_longitude         4291 non-null   float64\n",
      " 6   Delivery_location_latitude   4291 non-null   float64\n",
      " 7   Delivery_location_longitude  4291 non-null   float64\n",
      " 8   Order_Date                   4291 non-null   string \n",
      " 9   Time_Ordered                 4287 non-null   string \n",
      " 10  Time_Order_picked            4291 non-null   string \n",
      " 11  Weatherconditions            4291 non-null   object \n",
      " 12  Road_traffic_density         4291 non-null   object \n",
      " 13  Vehicle_condition            4291 non-null   int64  \n",
      " 14  Type_of_order                4291 non-null   object \n",
      " 15  Type_of_vehicle              4291 non-null   object \n",
      " 16  multiple_deliveries          4189 non-null   Int64  \n",
      " 17  Festival                     4291 non-null   object \n",
      " 18  City                         4291 non-null   object \n",
      " 19  Time_taken(min)              4291 non-null   Int64  \n",
      "dtypes: Int64(3), float64(5), int64(1), object(8), string(3)\n",
      "memory usage: 683.2+ KB\n"
     ]
    }
   ],
   "source": [
    "df_clear.info()"
   ]
  },
  {
   "cell_type": "markdown",
   "id": "0497f1e4",
   "metadata": {},
   "source": [
    "## 3.3 Unir coordenadas em uma tupla em nova coluna"
   ]
  },
  {
   "cell_type": "markdown",
   "id": "1707d9dd",
   "metadata": {},
   "source": [
    "Para melhor trabalhar com as coordenadas, elas serão armazenadas como uma tupla.\n"
   ]
  },
  {
   "cell_type": "code",
   "execution_count": 11,
   "id": "6dde7a16",
   "metadata": {},
   "outputs": [],
   "source": [
    "df_clear[\"Restaurant_location\"] = list(zip(df_clear[\"Restaurant_latitude\"], df_clear[\"Restaurant_longitude\"]))\n",
    "df_clear[\"Delivery_location\"] = list(zip(df_clear[\"Delivery_location_latitude\"], df_clear[\"Delivery_location_longitude\"]))\n",
    "df_clear.drop(columns=[\"Restaurant_latitude\", \"Restaurant_longitude\", \"Delivery_location_latitude\", \"Delivery_location_longitude\"], inplace=True)"
   ]
  },
  {
   "cell_type": "markdown",
   "id": "ad2408d3",
   "metadata": {},
   "source": [
    "## 3.4 Unir datas e horas"
   ]
  },
  {
   "cell_type": "markdown",
   "id": "5322660e",
   "metadata": {},
   "source": [
    "Para melhor trabalhar com o tempo, \"Order_date\" será unido com \"Time_Ordered\" e \"Time_Order_picked\". Pelo mesmo motivo, \"Time_taken(min)\" será transformado em um date.time baseado em \"Time_Order_picked\" + \"Time_taken(min)\"."
   ]
  },
  {
   "cell_type": "code",
   "execution_count": 12,
   "id": "b53fb758",
   "metadata": {},
   "outputs": [],
   "source": [
    "# Une as colunas de data e hora para uma melhor manipulação\n",
    "df_clear[\"Time_Ordered\"] = pd.to_datetime(df_clear[\"Order_Date\"] + \" \" + df_clear[\"Time_Ordered\"], format=\"%Y-%m-%d %H:%M:%S\")\n",
    "df_clear[\"Time_Order_picked\"] = pd.to_datetime(df_clear['Order_Date'] + \" \" + df_clear[\"Time_Order_picked\"], format=\"%Y-%m-%d %H:%M:%S\")\n",
    "# Adiciona 1 dia para pedidos feitos antes da meia noite e entregues depois da meia\n",
    "df_clear[\"Time_Order_picked\"] = df_clear.apply(lambda row: row[\"Time_Order_picked\"] + pd.Timedelta(days=1) if row[\"Time_Ordered\"] > row[\"Time_Order_picked\"] else row[\"Time_Order_picked\"], axis=1)\n",
    "# Calcula a hora da entrega baseado em Time_order_pick + time_taken\n",
    "df_clear[\"Time_Order_delivered\"] = df_clear[\"Time_Order_picked\"] + pd.to_timedelta(df_clear[\"Time_taken(min)\"], unit=\"m\")\n",
    "# Remove as colunas originais de data e tempo\n",
    "df_clear.drop([\"Order_Date\", \"Time_taken(min)\"], axis=1, inplace=True)"
   ]
  },
  {
   "cell_type": "markdown",
   "id": "2382858a",
   "metadata": {},
   "source": [
    "## 3.5 Preenchendo NaNs"
   ]
  },
  {
   "cell_type": "code",
   "execution_count": 13,
   "id": "3a20e734",
   "metadata": {},
   "outputs": [
    {
     "name": "stdout",
     "output_type": "stream",
     "text": [
      "Mediana de \"Delivery_person_Age\": 29.0\n",
      "Média de \"Delivery_person_Age\": 29.449614215571664\n"
     ]
    }
   ],
   "source": [
    "print(f'Mediana de \"Delivery_person_Age\": {df_clear['Delivery_person_Age'].median()}')\n",
    "print(f'Média de \"Delivery_person_Age\": {df_clear['Delivery_person_Age'].mean()}')"
   ]
  },
  {
   "cell_type": "markdown",
   "id": "d7cf6ed5",
   "metadata": {},
   "source": [
    "A coluna \"Delivery_person_Age\" possui o valor de ~29 tanto para a mediana quanto para a média, então vamos preencher os NaNs com a mediana, pois é um Int e a média é um float.<br>Uma abordagem melhor seria aplicar um método como \"KNN\", mas neste exercício vamos nos manter no simples."
   ]
  },
  {
   "cell_type": "code",
   "execution_count": 14,
   "id": "ce846c53",
   "metadata": {},
   "outputs": [],
   "source": [
    "df_clear[\"Delivery_person_Age\"] = df_clear['Delivery_person_Age'].fillna(df_clear['Delivery_person_Age'].median())"
   ]
  },
  {
   "cell_type": "markdown",
   "id": "24a06201",
   "metadata": {},
   "source": [
    "\"Delivery_person_Ratings\" pode ser preenchido com a média baseada no \"Delivery_person_ID\"."
   ]
  },
  {
   "cell_type": "code",
   "execution_count": 15,
   "id": "6a2dcd9a",
   "metadata": {},
   "outputs": [],
   "source": [
    "df_aux = df_clear[[\"Delivery_person_ID\", \"Delivery_person_Ratings\"]].dropna()\n",
    "df_aux = df_aux.groupby([\"Delivery_person_ID\"]).mean().reset_index()\n",
    "df_clear = df_clear.merge(df_aux, on=\"Delivery_person_ID\", how=\"left\", suffixes=('', '_mean'))\n",
    "df_clear[\"Delivery_person_Ratings\"] = df_clear[\"Delivery_person_Ratings\"].fillna(df_clear[\"Delivery_person_Ratings_mean\"])\n",
    "df_clear.drop(columns=[\"Delivery_person_Ratings_mean\"], inplace=True)"
   ]
  },
  {
   "cell_type": "markdown",
   "id": "4bfc2601",
   "metadata": {},
   "source": [
    "NaNs em \"Time_ordered\" podem ser preenchidos com base nos outros pedidos, agrupados pelo tipo de pedido.<br>A suposição aqui é que as refeições provavelmente têm um tempo de preparo mais longo do que o buffet, que tem um tempo mais longo do que as bebidas, que têm um tempo mais longo do que as lanches."
   ]
  },
  {
   "cell_type": "code",
   "execution_count": 16,
   "id": "07699968",
   "metadata": {},
   "outputs": [
    {
     "data": {
      "text/html": [
       "<div>\n",
       "<style scoped>\n",
       "    .dataframe tbody tr th:only-of-type {\n",
       "        vertical-align: middle;\n",
       "    }\n",
       "\n",
       "    .dataframe tbody tr th {\n",
       "        vertical-align: top;\n",
       "    }\n",
       "\n",
       "    .dataframe thead tr th {\n",
       "        text-align: left;\n",
       "    }\n",
       "</style>\n",
       "<table border=\"1\" class=\"dataframe\">\n",
       "  <thead>\n",
       "    <tr>\n",
       "      <th></th>\n",
       "      <th>Type_of_order</th>\n",
       "      <th colspan=\"2\" halign=\"left\">Time_to_pick</th>\n",
       "      <th colspan=\"2\" halign=\"left\">Time_to_delivery</th>\n",
       "    </tr>\n",
       "    <tr>\n",
       "      <th></th>\n",
       "      <th></th>\n",
       "      <th>mean</th>\n",
       "      <th>median</th>\n",
       "      <th>mean</th>\n",
       "      <th>median</th>\n",
       "    </tr>\n",
       "  </thead>\n",
       "  <tbody>\n",
       "    <tr>\n",
       "      <th>0</th>\n",
       "      <td>Buffet</td>\n",
       "      <td>9.781784</td>\n",
       "      <td>10.0</td>\n",
       "      <td>26.122391</td>\n",
       "      <td>25.0</td>\n",
       "    </tr>\n",
       "    <tr>\n",
       "      <th>1</th>\n",
       "      <td>Drinks</td>\n",
       "      <td>9.841954</td>\n",
       "      <td>10.0</td>\n",
       "      <td>26.286398</td>\n",
       "      <td>25.5</td>\n",
       "    </tr>\n",
       "    <tr>\n",
       "      <th>2</th>\n",
       "      <td>Meal</td>\n",
       "      <td>10.032110</td>\n",
       "      <td>10.0</td>\n",
       "      <td>26.225688</td>\n",
       "      <td>25.0</td>\n",
       "    </tr>\n",
       "    <tr>\n",
       "      <th>3</th>\n",
       "      <td>Snack</td>\n",
       "      <td>9.977252</td>\n",
       "      <td>10.0</td>\n",
       "      <td>26.482257</td>\n",
       "      <td>26.0</td>\n",
       "    </tr>\n",
       "  </tbody>\n",
       "</table>\n",
       "</div>"
      ],
      "text/plain": [
       "  Type_of_order Time_to_pick        Time_to_delivery       \n",
       "                        mean median             mean median\n",
       "0        Buffet     9.781784   10.0        26.122391   25.0\n",
       "1        Drinks     9.841954   10.0        26.286398   25.5\n",
       "2          Meal    10.032110   10.0        26.225688   25.0\n",
       "3         Snack     9.977252   10.0        26.482257   26.0"
      ]
     },
     "execution_count": 16,
     "metadata": {},
     "output_type": "execute_result"
    }
   ],
   "source": [
    "df_aux = df_clear[[\"Time_Ordered\", \"Time_Order_picked\", \"Time_Order_delivered\", \"Type_of_order\"]].dropna()\n",
    "df_aux[\"Time_to_pick\"] = (df_aux[\"Time_Order_picked\"] - df_aux[\"Time_Ordered\"]).dt.total_seconds() / 60\n",
    "df_aux[\"Time_to_delivery\"] = (df_aux[\"Time_Order_delivered\"] - df_aux[\"Time_Order_picked\"]).dt.total_seconds() / 60\n",
    "df_aux = df_aux.drop(columns=[\"Time_Ordered\", \"Time_Order_picked\", \"Time_Order_delivered\"])\n",
    "df_times_grouped = df_aux.groupby([\"Type_of_order\"]).agg([\"mean\", \"median\"]).reset_index()\n",
    "df_times_grouped"
   ]
  },
  {
   "cell_type": "markdown",
   "id": "ea438aed",
   "metadata": {},
   "source": [
    "A suposição não foi exatamente verdadeira, mas a mediana de \"Time_to_pick\" pode ser usada para calcular quando os pedidos com NaNs foram feitos sem muita distorção nos dados."
   ]
  },
  {
   "cell_type": "code",
   "execution_count": 17,
   "id": "f9ba0c08",
   "metadata": {},
   "outputs": [],
   "source": [
    "df_clear[\"Time_Ordered\"] = df_clear[\"Time_Ordered\"].fillna(df_clear[\"Time_Order_picked\"] - pd.to_timedelta(df_times_grouped.loc[0, (\"Time_to_pick\", \"median\")], unit=\"m\"))"
   ]
  },
  {
   "cell_type": "markdown",
   "id": "65bbb6b1",
   "metadata": {},
   "source": [
    "Em \"multiple_delivery\", a suposição é: se não é uma entrega múltipla, essa entrada não foi preenchida, então os NaNs serão preenchidos com 1."
   ]
  },
  {
   "cell_type": "code",
   "execution_count": 18,
   "id": "5b2632fa",
   "metadata": {},
   "outputs": [],
   "source": [
    "df_clear[\"multiple_deliveries\"] = df_clear[\"multiple_deliveries\"].fillna(1)"
   ]
  },
  {
   "cell_type": "code",
   "execution_count": 19,
   "id": "ec2b1f93",
   "metadata": {},
   "outputs": [
    {
     "name": "stdout",
     "output_type": "stream",
     "text": [
      "<class 'pandas.core.frame.DataFrame'>\n",
      "RangeIndex: 4291 entries, 0 to 4290\n",
      "Data columns (total 17 columns):\n",
      " #   Column                   Non-Null Count  Dtype         \n",
      "---  ------                   --------------  -----         \n",
      " 0   ID                       4291 non-null   object        \n",
      " 1   Delivery_person_ID       4291 non-null   object        \n",
      " 2   Delivery_person_Age      4291 non-null   Int64         \n",
      " 3   Delivery_person_Ratings  4291 non-null   float64       \n",
      " 4   Time_Ordered             4291 non-null   datetime64[ns]\n",
      " 5   Time_Order_picked        4291 non-null   datetime64[ns]\n",
      " 6   Weatherconditions        4291 non-null   object        \n",
      " 7   Road_traffic_density     4291 non-null   object        \n",
      " 8   Vehicle_condition        4291 non-null   int64         \n",
      " 9   Type_of_order            4291 non-null   object        \n",
      " 10  Type_of_vehicle          4291 non-null   object        \n",
      " 11  multiple_deliveries      4291 non-null   Int64         \n",
      " 12  Festival                 4291 non-null   object        \n",
      " 13  City                     4291 non-null   object        \n",
      " 14  Restaurant_location      4291 non-null   object        \n",
      " 15  Delivery_location        4291 non-null   object        \n",
      " 16  Time_Order_delivered     4291 non-null   datetime64[ns]\n",
      "dtypes: Int64(2), datetime64[ns](3), float64(1), int64(1), object(10)\n",
      "memory usage: 578.4+ KB\n"
     ]
    }
   ],
   "source": [
    "df_clear.info()"
   ]
  },
  {
   "cell_type": "markdown",
   "id": "dd0337ed",
   "metadata": {},
   "source": [
    "# 4.0 Análise descritiva"
   ]
  },
  {
   "cell_type": "code",
   "execution_count": 20,
   "id": "3f7fa838",
   "metadata": {},
   "outputs": [],
   "source": [
    "df_work = df_clear.copy()"
   ]
  },
  {
   "cell_type": "markdown",
   "id": "cf3c63e7",
   "metadata": {},
   "source": [
    "## 4.1 Primeiras KBQs\n",
    "Por enquanto, as perguntas de négocio serão respondidas sem o uso de técnicas intermediárias/avançadas como groupby, agg, plotting, machine learning, etc..."
   ]
  },
  {
   "cell_type": "markdown",
   "id": "12eda52e",
   "metadata": {},
   "source": [
    "### 1. Qual o número total de entregas cadastradas na base de dados?\n",
    "**Resposta:** O número total de entregas cadastrados na base de dados é 4291."
   ]
  },
  {
   "cell_type": "code",
   "execution_count": 21,
   "id": "263d805a",
   "metadata": {},
   "outputs": [
    {
     "data": {
      "text/plain": [
       "4291"
      ]
     },
     "execution_count": 21,
     "metadata": {},
     "output_type": "execute_result"
    }
   ],
   "source": [
    "len(df_clear)"
   ]
  },
  {
   "cell_type": "markdown",
   "id": "21050a20",
   "metadata": {},
   "source": [
    "### 2. Quantos entregadores únicos existem na base de dados?\n",
    "**Resposta:** Há 1131 IDs únicos na base de dados, porem aparentemente não são entregadores, mas sim empresas que oferecem o serviço de entrega, pois há multiplas idades para o mesmo ID de entregador."
   ]
  },
  {
   "cell_type": "markdown",
   "id": "5948c608",
   "metadata": {},
   "source": [
    "Primeiramente foi notado nos datasets abaixo que há multiplas idades para o mesmo ID de entregador, o que sugere que provavelmente o ID não é do entregador, mas provavelmente da empresa que oferece o serviço de entrega.\n",
    "Note que, apesar de não ser usado técnicas como groupby e agg, foi aberto uma exceção para o código abaixo, pois ele não visa responder a pergunta, mas sim apontar uma inconsistência na base de dados."
   ]
  },
  {
   "cell_type": "code",
   "execution_count": 22,
   "id": "ef1042c2",
   "metadata": {},
   "outputs": [
    {
     "data": {
      "text/html": [
       "<div>\n",
       "<style scoped>\n",
       "    .dataframe tbody tr th:only-of-type {\n",
       "        vertical-align: middle;\n",
       "    }\n",
       "\n",
       "    .dataframe tbody tr th {\n",
       "        vertical-align: top;\n",
       "    }\n",
       "\n",
       "    .dataframe thead tr th {\n",
       "        text-align: left;\n",
       "    }\n",
       "</style>\n",
       "<table border=\"1\" class=\"dataframe\">\n",
       "  <thead>\n",
       "    <tr>\n",
       "      <th></th>\n",
       "      <th>Delivery_person_ID</th>\n",
       "      <th>Delivery_person_Age</th>\n",
       "    </tr>\n",
       "    <tr>\n",
       "      <th></th>\n",
       "      <th></th>\n",
       "      <th>count</th>\n",
       "    </tr>\n",
       "  </thead>\n",
       "  <tbody>\n",
       "    <tr>\n",
       "      <th>0</th>\n",
       "      <td>AGRRES010DEL01</td>\n",
       "      <td>1</td>\n",
       "    </tr>\n",
       "    <tr>\n",
       "      <th>1</th>\n",
       "      <td>AGRRES010DEL02</td>\n",
       "      <td>2</td>\n",
       "    </tr>\n",
       "    <tr>\n",
       "      <th>2</th>\n",
       "      <td>AGRRES01DEL02</td>\n",
       "      <td>1</td>\n",
       "    </tr>\n",
       "    <tr>\n",
       "      <th>3</th>\n",
       "      <td>AGRRES01DEL03</td>\n",
       "      <td>1</td>\n",
       "    </tr>\n",
       "    <tr>\n",
       "      <th>4</th>\n",
       "      <td>AGRRES02DEL02</td>\n",
       "      <td>1</td>\n",
       "    </tr>\n",
       "    <tr>\n",
       "      <th>...</th>\n",
       "      <td>...</td>\n",
       "      <td>...</td>\n",
       "    </tr>\n",
       "    <tr>\n",
       "      <th>1126</th>\n",
       "      <td>VADRES19DEL02</td>\n",
       "      <td>7</td>\n",
       "    </tr>\n",
       "    <tr>\n",
       "      <th>1127</th>\n",
       "      <td>VADRES19DEL03</td>\n",
       "      <td>5</td>\n",
       "    </tr>\n",
       "    <tr>\n",
       "      <th>1128</th>\n",
       "      <td>VADRES20DEL01</td>\n",
       "      <td>5</td>\n",
       "    </tr>\n",
       "    <tr>\n",
       "      <th>1129</th>\n",
       "      <td>VADRES20DEL02</td>\n",
       "      <td>7</td>\n",
       "    </tr>\n",
       "    <tr>\n",
       "      <th>1130</th>\n",
       "      <td>VADRES20DEL03</td>\n",
       "      <td>1</td>\n",
       "    </tr>\n",
       "  </tbody>\n",
       "</table>\n",
       "<p>1131 rows × 2 columns</p>\n",
       "</div>"
      ],
      "text/plain": [
       "     Delivery_person_ID Delivery_person_Age\n",
       "                                      count\n",
       "0        AGRRES010DEL01                   1\n",
       "1        AGRRES010DEL02                   2\n",
       "2         AGRRES01DEL02                   1\n",
       "3         AGRRES01DEL03                   1\n",
       "4         AGRRES02DEL02                   1\n",
       "...                 ...                 ...\n",
       "1126      VADRES19DEL02                   7\n",
       "1127      VADRES19DEL03                   5\n",
       "1128      VADRES20DEL01                   5\n",
       "1129      VADRES20DEL02                   7\n",
       "1130      VADRES20DEL03                   1\n",
       "\n",
       "[1131 rows x 2 columns]"
      ]
     },
     "execution_count": 22,
     "metadata": {},
     "output_type": "execute_result"
    }
   ],
   "source": [
    "df_aux = df_clear[[\"Delivery_person_ID\", \"Delivery_person_Age\"]].dropna()\n",
    "df_age_grouped = df_aux.groupby([\"Delivery_person_ID\"]).agg([\"count\"]).reset_index()\n",
    "df_age_grouped"
   ]
  },
  {
   "cell_type": "code",
   "execution_count": 23,
   "id": "ae698ec5",
   "metadata": {},
   "outputs": [
    {
     "data": {
      "text/html": [
       "<div>\n",
       "<style scoped>\n",
       "    .dataframe tbody tr th:only-of-type {\n",
       "        vertical-align: middle;\n",
       "    }\n",
       "\n",
       "    .dataframe tbody tr th {\n",
       "        vertical-align: top;\n",
       "    }\n",
       "\n",
       "    .dataframe thead th {\n",
       "        text-align: right;\n",
       "    }\n",
       "</style>\n",
       "<table border=\"1\" class=\"dataframe\">\n",
       "  <thead>\n",
       "    <tr style=\"text-align: right;\">\n",
       "      <th></th>\n",
       "      <th>Delivery_person_ID</th>\n",
       "      <th>Delivery_person_Age</th>\n",
       "    </tr>\n",
       "  </thead>\n",
       "  <tbody>\n",
       "    <tr>\n",
       "      <th>921</th>\n",
       "      <td>VADRES19DEL02</td>\n",
       "      <td>38</td>\n",
       "    </tr>\n",
       "    <tr>\n",
       "      <th>2160</th>\n",
       "      <td>VADRES19DEL02</td>\n",
       "      <td>33</td>\n",
       "    </tr>\n",
       "    <tr>\n",
       "      <th>2972</th>\n",
       "      <td>VADRES19DEL02</td>\n",
       "      <td>34</td>\n",
       "    </tr>\n",
       "    <tr>\n",
       "      <th>3091</th>\n",
       "      <td>VADRES19DEL02</td>\n",
       "      <td>28</td>\n",
       "    </tr>\n",
       "    <tr>\n",
       "      <th>3326</th>\n",
       "      <td>VADRES19DEL02</td>\n",
       "      <td>36</td>\n",
       "    </tr>\n",
       "    <tr>\n",
       "      <th>3390</th>\n",
       "      <td>VADRES19DEL02</td>\n",
       "      <td>28</td>\n",
       "    </tr>\n",
       "    <tr>\n",
       "      <th>4205</th>\n",
       "      <td>VADRES19DEL02</td>\n",
       "      <td>38</td>\n",
       "    </tr>\n",
       "  </tbody>\n",
       "</table>\n",
       "</div>"
      ],
      "text/plain": [
       "     Delivery_person_ID  Delivery_person_Age\n",
       "921       VADRES19DEL02                   38\n",
       "2160      VADRES19DEL02                   33\n",
       "2972      VADRES19DEL02                   34\n",
       "3091      VADRES19DEL02                   28\n",
       "3326      VADRES19DEL02                   36\n",
       "3390      VADRES19DEL02                   28\n",
       "4205      VADRES19DEL02                   38"
      ]
     },
     "execution_count": 23,
     "metadata": {},
     "output_type": "execute_result"
    }
   ],
   "source": [
    "df_clear.loc[df_clear['Delivery_person_ID'] == 'VADRES19DEL02', [\"Delivery_person_ID\", \"Delivery_person_Age\"]]"
   ]
  },
  {
   "cell_type": "markdown",
   "id": "c4414bcc",
   "metadata": {},
   "source": [
    "Portanto será tratado como \"ID único\" e não \"entregador único\"."
   ]
  },
  {
   "cell_type": "code",
   "execution_count": 24,
   "id": "eb0e6bd3",
   "metadata": {},
   "outputs": [
    {
     "data": {
      "text/plain": [
       "1131"
      ]
     },
     "execution_count": 24,
     "metadata": {},
     "output_type": "execute_result"
    }
   ],
   "source": [
    "# Get the size of the unique values in the column Delivery_person_ID\n",
    "len(df_clear[\"Delivery_person_ID\"].unique())"
   ]
  },
  {
   "cell_type": "markdown",
   "id": "c53287dc",
   "metadata": {},
   "source": [
    "### 3. Qual a idade do entregador mais velho? E do mais novo?\n",
    "**Resposta:** A maior idadeade é 50 anos e a menor idade é 15 anos."
   ]
  },
  {
   "cell_type": "code",
   "execution_count": 25,
   "id": "fc957187",
   "metadata": {},
   "outputs": [
    {
     "data": {
      "text/plain": [
       "2292    15\n",
       "2787    15\n",
       "2833    15\n",
       "1944    20\n",
       "3031    20\n",
       "        ..\n",
       "65      39\n",
       "2976    39\n",
       "3029    39\n",
       "4277    39\n",
       "3448    50\n",
       "Name: Delivery_person_Age, Length: 4291, dtype: Int64"
      ]
     },
     "execution_count": 25,
     "metadata": {},
     "output_type": "execute_result"
    }
   ],
   "source": [
    "df_clear[\"Delivery_person_Age\"].sort_values(ascending=True)"
   ]
  },
  {
   "cell_type": "markdown",
   "id": "7f7012f3",
   "metadata": {},
   "source": [
    "### 4. Qual o ID do entregador com a maior idade? E o ID do entregador com a menor idade?\n",
    "**Resposta:** O ID do entregador mais velho é \"BANGRES05DEL01\" e o ID do entregador mais novo é \"JAPRES15DEL03\"."
   ]
  },
  {
   "cell_type": "code",
   "execution_count": 26,
   "id": "72995e1d",
   "metadata": {},
   "outputs": [
    {
     "data": {
      "text/plain": [
       "{'max': {'Delivery_person_ID': 'BANGRES05DEL01', 'Delivery_person_Age': 50},\n",
       " 'min': {'Delivery_person_ID': 'JAPRES15DEL03', 'Delivery_person_Age': 15}}"
      ]
     },
     "execution_count": 26,
     "metadata": {},
     "output_type": "execute_result"
    }
   ],
   "source": [
    "max_age_row = df_clear.loc[df_clear[\"Delivery_person_Age\"].idxmax()]\n",
    "min_age_row = df_clear.loc[df_clear[\"Delivery_person_Age\"].idxmin()]\n",
    "age_max_min = {\n",
    "    \"max\": {\n",
    "        \"Delivery_person_ID\": str(max_age_row[\"Delivery_person_ID\"]),\n",
    "        \"Delivery_person_Age\": int(max_age_row[\"Delivery_person_Age\"])\n",
    "    },\n",
    "    \"min\": {\n",
    "        \"Delivery_person_ID\": str(min_age_row[\"Delivery_person_ID\"]),\n",
    "        \"Delivery_person_Age\": int(min_age_row[\"Delivery_person_Age\"])\n",
    "    }\n",
    "}\n",
    "age_max_min\n"
   ]
  },
  {
   "cell_type": "markdown",
   "id": "d4e24c57",
   "metadata": {},
   "source": [
    "### 5. Quais os nomes das condições climáticas?\n",
    "**Resposta:** As condições climáticas são: \n",
    "- \"Sunny\"\n",
    "- \"Stormy\"\n",
    "- \"Sandstorms\"\n",
    "- \"Cloudy\"\n",
    "- \"Fog\"\n",
    "- \"Windy\"\n",
    "- \"Unknown\".\n",
    "\n",
    "Lembrando que \"Unknown\" foi criado para conter os valores nulos da coluna."
   ]
  },
  {
   "cell_type": "code",
   "execution_count": 27,
   "id": "1cd0faf4",
   "metadata": {},
   "outputs": [
    {
     "data": {
      "text/plain": [
       "array(['Sunny', 'Stormy', 'Sandstorms', 'Cloudy', 'Fog', 'Windy',\n",
       "       'Unknown'], dtype=object)"
      ]
     },
     "execution_count": 27,
     "metadata": {},
     "output_type": "execute_result"
    }
   ],
   "source": [
    "df_clear[\"Weatherconditions\"].unique()"
   ]
  },
  {
   "cell_type": "markdown",
   "id": "0f460ee8",
   "metadata": {},
   "source": [
    "### 6. Quantas entregas foram realizadas sob condições climáticas de tempestade de areia (Sandstorms)?\n",
    "**Resposta:** Foram feitas 697 entregas com a condição \"Sandstorms\"."
   ]
  },
  {
   "cell_type": "code",
   "execution_count": 28,
   "id": "5bfc78aa",
   "metadata": {},
   "outputs": [
    {
     "data": {
      "text/plain": [
       "697"
      ]
     },
     "execution_count": 28,
     "metadata": {},
     "output_type": "execute_result"
    }
   ],
   "source": [
    "len(df_clear.loc[df_clear[\"Weatherconditions\"] == \"Sandstorms\", \"Weatherconditions\"])"
   ]
  },
  {
   "cell_type": "markdown",
   "id": "b0c74046",
   "metadata": {},
   "source": [
    "### 7. Quais eram as condicões climáticas da data mais recente de entrega?\n",
    "**Resposta:** A condição climática da data mais recente de entrega foi \"Fog\" (Neblina)."
   ]
  },
  {
   "cell_type": "code",
   "execution_count": 29,
   "id": "81a018f0",
   "metadata": {},
   "outputs": [
    {
     "data": {
      "text/plain": [
       "1288    Fog\n",
       "Name: Weatherconditions, dtype: object"
      ]
     },
     "execution_count": 29,
     "metadata": {},
     "output_type": "execute_result"
    }
   ],
   "source": [
    "df_clear.loc[df_clear[\"Time_Order_delivered\"] == df_clear[\"Time_Order_delivered\"].max(), \"Weatherconditions\"]"
   ]
  },
  {
   "cell_type": "markdown",
   "id": "ad047601",
   "metadata": {},
   "source": [
    "### 8. Quantos tipos de densidade de trânsito existem na base de dados? Quais os nomes delas?\n",
    "**Resposta:** Existem 5 tipos de densidade de trânsito na base de dados:\n",
    "- High\n",
    "- Jam\n",
    "- Low\n",
    "- Medium\n",
    "- Unknown\n",
    "\n",
    "Lembrando que \"Unknown\" foi criado para conter os valores nulos da coluna."
   ]
  },
  {
   "cell_type": "code",
   "execution_count": 30,
   "id": "56c3ea27",
   "metadata": {},
   "outputs": [
    {
     "name": "stdout",
     "output_type": "stream",
     "text": [
      "5 tipos de densidade.\n",
      "['High' 'Jam' 'Low' 'Medium' 'Unknown'].\n"
     ]
    }
   ],
   "source": [
    "print(f\"{len(df_clear[\"Road_traffic_density\"].unique())} tipos de densidade.\\n{df_clear[\"Road_traffic_density\"].unique()}.\")"
   ]
  },
  {
   "cell_type": "markdown",
   "id": "53f54e99",
   "metadata": {},
   "source": [
    "### 9. Quantas entregas foram feitas em cada condição climática?\n",
    "**Resposta:** A quantidade de entregas feitas em cada condição climática é: \n",
    "1. Fog: 758\n",
    "2. Windy: 725\n",
    "3. Cloudy: 707\n",
    "4. Stormy: 704\n",
    "5. Sandstorms: 697\n",
    "6. Sunny: 696\n",
    "7. Unknown: 4"
   ]
  },
  {
   "cell_type": "code",
   "execution_count": 31,
   "id": "1a8ef77d",
   "metadata": {},
   "outputs": [
    {
     "name": "stdout",
     "output_type": "stream",
     "text": [
      "Sunny: 696\n",
      "Stormy: 704\n",
      "Sandstorms: 697\n",
      "Cloudy: 707\n",
      "Fog: 758\n",
      "Windy: 725\n",
      "Unknown: 4\n"
     ]
    }
   ],
   "source": [
    "for condition in df_clear[\"Weatherconditions\"].unique():\n",
    "    print(f\"{condition}: {len(df_clear.loc[df_clear[\"Weatherconditions\"] == condition, \"Weatherconditions\"])}\")"
   ]
  },
  {
   "cell_type": "markdown",
   "id": "60a27bd2",
   "metadata": {},
   "source": [
    "### 10. Quantos entregadores únicos fizeram entregas em cada condição climática?\n",
    "**Resposta:** A quantidade de entregadores únicos que fizeram entregas em cada condição climática é: \n",
    "1. Sunny: 529\n",
    "2. Windy: 523\n",
    "3. Cloudy: 520\n",
    "4. Fog: 511\n",
    "5. Stormy: 504\n",
    "6. Sandstorms: 504\n",
    "7. Unknown: 4"
   ]
  },
  {
   "cell_type": "code",
   "execution_count": 32,
   "id": "d6b8eb2a",
   "metadata": {},
   "outputs": [
    {
     "name": "stdout",
     "output_type": "stream",
     "text": [
      "Sunny: 529\n",
      "Stormy: 504\n",
      "Sandstorms: 504\n",
      "Cloudy: 520\n",
      "Fog: 511\n",
      "Windy: 523\n",
      "Unknown: 4\n"
     ]
    }
   ],
   "source": [
    "for condition in df_clear[\"Weatherconditions\"].unique():\n",
    "    print(f\"{condition}: {df_clear.loc[df_clear[\"Weatherconditions\"] == condition, \"Delivery_person_ID\"].nunique()}\")"
   ]
  },
  {
   "cell_type": "markdown",
   "id": "0032b2fa",
   "metadata": {},
   "source": [
    "### 11. Quantas entregas foram feitas em cada tipo de densidade de trânsito?\n",
    "**Resposta:** A quantidade de entregas feitas em cada condição de transito é: \n",
    "1. Low: 1504\n",
    "2. Jam: 1303\n",
    "3. Medium: 1059\n",
    "4. High: 421\n",
    "5. Unknown: 4"
   ]
  },
  {
   "cell_type": "code",
   "execution_count": 33,
   "id": "50e4fc39",
   "metadata": {},
   "outputs": [
    {
     "name": "stdout",
     "output_type": "stream",
     "text": [
      "High: 421\n",
      "Jam: 1303\n",
      "Low: 1504\n",
      "Medium: 1059\n",
      "Unknown: 4\n"
     ]
    }
   ],
   "source": [
    "for condition in df_clear[\"Road_traffic_density\"].unique():\n",
    "    print(f\"{condition}: {len(df_clear.loc[df_clear[\"Road_traffic_density\"] == condition, \"Road_traffic_density\"])}\")"
   ]
  },
  {
   "cell_type": "markdown",
   "id": "c1c8a847",
   "metadata": {},
   "source": [
    "### 12. Quantos entregadores únicos fizeram entregas em cada tipo de densidade de trânsito?\n",
    "**Resposta:** A quantidade de entregadores únicos que fizeram entregas em cada densidade de trânsito é: \n",
    "1. Low: 784\n",
    "2. Jam: 740\n",
    "3. Medium: 649\n",
    "4. High: 293\n",
    "5. Unknown: 4"
   ]
  },
  {
   "cell_type": "code",
   "execution_count": 34,
   "id": "a13789c7",
   "metadata": {},
   "outputs": [
    {
     "name": "stdout",
     "output_type": "stream",
     "text": [
      "High: 293\n",
      "Jam: 740\n",
      "Low: 784\n",
      "Medium: 649\n",
      "Unknown: 4\n"
     ]
    }
   ],
   "source": [
    "for condition in df_clear[\"Road_traffic_density\"].unique():\n",
    "    print(f\"{condition}: {df_clear.loc[df_clear[\"Road_traffic_density\"] == condition, \"Delivery_person_ID\"].nunique()}\")"
   ]
  },
  {
   "cell_type": "markdown",
   "id": "f0a0de1a",
   "metadata": {},
   "source": [
    "### 13. Quantos tipos de cidades únicas existem na base? Quais são os seus nomes?\n",
    "***Resposta:*** Há 4 tipos de cidades únicas na base e seus nomes são: \n",
    "- Urban\n",
    "- Metropolitian\n",
    "- Semi-Urban\n",
    "- Unknown"
   ]
  },
  {
   "cell_type": "code",
   "execution_count": 35,
   "id": "69052115",
   "metadata": {},
   "outputs": [
    {
     "name": "stdout",
     "output_type": "stream",
     "text": [
      "Há 4 tipos de cidades únicas na base e seus nomes são: ['Urban' 'Metropolitan' 'Semi-Urban' 'Unknown'].\n"
     ]
    }
   ],
   "source": [
    "print(f\"Há {len(df_clear[\"City\"].unique())} tipos de cidades únicas na base e seus nomes são: {df_clear[\"City\"].unique()}.\")"
   ]
  },
  {
   "cell_type": "markdown",
   "id": "a67ecbea",
   "metadata": {},
   "source": [
    "### 14. Quantos tipos de veículos únicos existem na base? Quais são seus nomes?\n",
    "***Resposta:*** Há 4 tipos de veículos únicos na base e seus nomes são:\n",
    "- Bicycle\n",
    "- scooter\n",
    "- motorcycle\n",
    "- electric_scooter"
   ]
  },
  {
   "cell_type": "code",
   "execution_count": 36,
   "id": "e77cf637",
   "metadata": {},
   "outputs": [
    {
     "name": "stdout",
     "output_type": "stream",
     "text": [
      "Há 4 tipos de veículos únicos na base e seus nomes são: ['motorcycle' 'scooter' 'electric_scooter' 'bicycle'].\n"
     ]
    }
   ],
   "source": [
    "print(f\"Há {len(df_clear[\"Type_of_vehicle\"].unique())} tipos de veículos únicos na base e seus nomes são: {df_clear[\"Type_of_vehicle\"].unique()}.\")"
   ]
  },
  {
   "cell_type": "markdown",
   "id": "801e4305",
   "metadata": {},
   "source": [
    "### 15. Qual o tipo de veículo que mais vez entregas com a condição de trânsito pesado (High)?\n",
    "***Resposta:*** O tipo de veículo que mais fez entregas com a condição de trânsito pesado foi motorcycle, com 250 entregas."
   ]
  },
  {
   "cell_type": "code",
   "execution_count": 37,
   "id": "70628e15",
   "metadata": {},
   "outputs": [
    {
     "data": {
      "text/plain": [
       "Type_of_vehicle\n",
       "motorcycle          250\n",
       "scooter             140\n",
       "electric_scooter     31\n",
       "Name: count, dtype: int64"
      ]
     },
     "execution_count": 37,
     "metadata": {},
     "output_type": "execute_result"
    }
   ],
   "source": [
    "df_clear.loc[df_clear[\"Road_traffic_density\"] == \"High\", \"Type_of_vehicle\"].value_counts()"
   ]
  },
  {
   "cell_type": "markdown",
   "id": "9eaf1642",
   "metadata": {},
   "source": [
    "### 16. Qual o tipo de pedido mais feito durante condições climáticas de tempestade de areia?\n",
    "***Resposta:*** O tipo de pedido mas feito durante a condição climáticas de tempestade de areia foi meal, com 193 entregas."
   ]
  },
  {
   "cell_type": "code",
   "execution_count": 38,
   "id": "4feddc77",
   "metadata": {},
   "outputs": [
    {
     "data": {
      "text/plain": [
       "Type_of_order\n",
       "Meal      193\n",
       "Snack     182\n",
       "Buffet    161\n",
       "Drinks    161\n",
       "Name: count, dtype: int64"
      ]
     },
     "execution_count": 38,
     "metadata": {},
     "output_type": "execute_result"
    }
   ],
   "source": [
    "df_clear.loc[df_clear[\"Weatherconditions\"] == \"Sandstorms\", \"Type_of_order\"].value_counts()"
   ]
  },
  {
   "cell_type": "markdown",
   "id": "4ac3d218",
   "metadata": {},
   "source": [
    "### 17. Qual o tipo de cidade com o maior número de pedidos de Bebidas (Drinks) feito em Scooter?\n",
    "***Resposta:*** O tipo de cidade com o maior número de pedidos de bebidas feito em scooter foi Metropolitan, com 260 pedidos."
   ]
  },
  {
   "cell_type": "code",
   "execution_count": 39,
   "id": "d6d0d1a6",
   "metadata": {},
   "outputs": [
    {
     "data": {
      "text/plain": [
       "City\n",
       "Metropolitan    260\n",
       "Urban            75\n",
       "Unknown          15\n",
       "Name: count, dtype: int64"
      ]
     },
     "execution_count": 39,
     "metadata": {},
     "output_type": "execute_result"
    }
   ],
   "source": [
    "df_clear.loc[(df_clear[\"Type_of_order\"] == \"Drinks\") & (df_clear[\"Type_of_vehicle\"] == \"scooter\"), \"City\"].value_counts()"
   ]
  },
  {
   "cell_type": "markdown",
   "id": "db1d8d53",
   "metadata": {},
   "source": [
    "### 18. Qual o tipo de cidade com o (os) entregador mais velho? E o nome da cidade com o (os) entregadores mais novos?\n",
    "***Resposta:*** O tipo de cidade com o entregador mais velho é Urban e o tipo de cidade com 2 dos 3 entregadores mais novos é Metropolitan."
   ]
  },
  {
   "cell_type": "code",
   "execution_count": 40,
   "id": "c911b513",
   "metadata": {},
   "outputs": [
    {
     "data": {
      "text/plain": [
       "3448    Urban\n",
       "Name: City, dtype: object"
      ]
     },
     "execution_count": 40,
     "metadata": {},
     "output_type": "execute_result"
    }
   ],
   "source": [
    "df_clear.loc[df_clear[\"Delivery_person_Age\"] == df_clear[\"Delivery_person_Age\"].max(), \"City\"]"
   ]
  },
  {
   "cell_type": "markdown",
   "id": "c1c90906",
   "metadata": {},
   "source": [
    "Há um unico entregador mais velho, que está no tipo de cidade Urban."
   ]
  },
  {
   "cell_type": "code",
   "execution_count": 41,
   "id": "1ff81855",
   "metadata": {},
   "outputs": [
    {
     "data": {
      "text/plain": [
       "2292           Urban\n",
       "2787    Metropolitan\n",
       "2833    Metropolitan\n",
       "Name: City, dtype: object"
      ]
     },
     "execution_count": 41,
     "metadata": {},
     "output_type": "execute_result"
    }
   ],
   "source": [
    "df_clear.loc[df_clear[\"Delivery_person_Age\"] == df_clear[\"Delivery_person_Age\"].min(), \"City\"]"
   ]
  },
  {
   "cell_type": "markdown",
   "id": "13337bac",
   "metadata": {},
   "source": [
    "Há 3 entregadores mais novos, onde 2 estão no tipo de cidade Metropolitan."
   ]
  },
  {
   "cell_type": "markdown",
   "id": "516bf16c",
   "metadata": {},
   "source": [
    "### 19. Quantas entregas foram feitas durante o Festival?\n",
    "***Resposta:*** Foram feitas 91 entregas durante o Festival."
   ]
  },
  {
   "cell_type": "code",
   "execution_count": 42,
   "id": "dd179ab7",
   "metadata": {},
   "outputs": [
    {
     "data": {
      "text/plain": [
       "91"
      ]
     },
     "execution_count": 42,
     "metadata": {},
     "output_type": "execute_result"
    }
   ],
   "source": [
    "len(df_clear.loc[df_clear[\"Festival\"] == \"Yes\", \"ID\"])"
   ]
  },
  {
   "cell_type": "markdown",
   "id": "ce9175c7",
   "metadata": {},
   "source": [
    "### 20. Quantos tipos de cidades únicas tiveram entregas feitas durante o Festival?\n",
    "***Resposta:*** Houve 4 tipos de cidades únicas que tiveram entregas feitas durante o Festival."
   ]
  },
  {
   "cell_type": "code",
   "execution_count": 43,
   "id": "b017caf8",
   "metadata": {},
   "outputs": [
    {
     "data": {
      "text/plain": [
       "4"
      ]
     },
     "execution_count": 43,
     "metadata": {},
     "output_type": "execute_result"
    }
   ],
   "source": [
    "df_clear.loc[df_clear[\"Festival\"] == \"Yes\", \"City\"].nunique()"
   ]
  },
  {
   "cell_type": "markdown",
   "id": "ec936bda",
   "metadata": {},
   "source": [
    "### 21. Quantas entregas foram feitas durante o Festival no tipo de cidade Urban?\n",
    "***Resposta:*** Foram feitas 18 entregas durante o Festival no tipo de cidade Urban."
   ]
  },
  {
   "cell_type": "code",
   "execution_count": 44,
   "id": "07ddd27a",
   "metadata": {},
   "outputs": [
    {
     "data": {
      "text/plain": [
       "np.int64(18)"
      ]
     },
     "execution_count": 44,
     "metadata": {},
     "output_type": "execute_result"
    }
   ],
   "source": [
    "df_clear.loc[(df_clear[\"Festival\"] == \"Yes\") & (df_clear[\"City\"] == \"Urban\"), \"ID\"].count()"
   ]
  },
  {
   "cell_type": "markdown",
   "id": "4d94484f",
   "metadata": {},
   "source": [
    "## 4.2 Próximas KBQs\n",
    "As próximas perguntas de negócio serão respondidas usando o método SAPE e o uso de tecnicas intermediarias como groupby e agg."
   ]
  },
  {
   "cell_type": "markdown",
   "id": "a44016df",
   "metadata": {},
   "source": [
    "### 1. Qual a média e mediana de idade dos entregadores por tipo de cidade?\n",
    "**Resposta:** A média e mediana de idade dos entregadores por tipo de cidade é:\n",
    "- Metropolitian: Média: 29.68, Mediana: 30\n",
    "- Urban: Média: 28.66, Mediana: 28\n",
    "- Semi-Urban: Média: 34.33, Mediana: 36\n",
    "- Unknown: Média: 28.72, Mediana: 28.0"
   ]
  },
  {
   "cell_type": "code",
   "execution_count": 45,
   "id": "52dcb6d8",
   "metadata": {},
   "outputs": [
    {
     "data": {
      "text/html": [
       "<div>\n",
       "<style scoped>\n",
       "    .dataframe tbody tr th:only-of-type {\n",
       "        vertical-align: middle;\n",
       "    }\n",
       "\n",
       "    .dataframe tbody tr th {\n",
       "        vertical-align: top;\n",
       "    }\n",
       "\n",
       "    .dataframe thead tr th {\n",
       "        text-align: left;\n",
       "    }\n",
       "\n",
       "    .dataframe thead tr:last-of-type th {\n",
       "        text-align: right;\n",
       "    }\n",
       "</style>\n",
       "<table border=\"1\" class=\"dataframe\">\n",
       "  <thead>\n",
       "    <tr>\n",
       "      <th></th>\n",
       "      <th colspan=\"2\" halign=\"left\">Delivery_person_Age</th>\n",
       "    </tr>\n",
       "    <tr>\n",
       "      <th></th>\n",
       "      <th>mean</th>\n",
       "      <th>median</th>\n",
       "    </tr>\n",
       "    <tr>\n",
       "      <th>City</th>\n",
       "      <th></th>\n",
       "      <th></th>\n",
       "    </tr>\n",
       "  </thead>\n",
       "  <tbody>\n",
       "    <tr>\n",
       "      <th>Metropolitan</th>\n",
       "      <td>29.685919</td>\n",
       "      <td>30.0</td>\n",
       "    </tr>\n",
       "    <tr>\n",
       "      <th>Semi-Urban</th>\n",
       "      <td>34.333333</td>\n",
       "      <td>36.0</td>\n",
       "    </tr>\n",
       "    <tr>\n",
       "      <th>Unknown</th>\n",
       "      <td>28.722222</td>\n",
       "      <td>28.0</td>\n",
       "    </tr>\n",
       "    <tr>\n",
       "      <th>Urban</th>\n",
       "      <td>28.663147</td>\n",
       "      <td>28.0</td>\n",
       "    </tr>\n",
       "  </tbody>\n",
       "</table>\n",
       "</div>"
      ],
      "text/plain": [
       "             Delivery_person_Age       \n",
       "                            mean median\n",
       "City                                   \n",
       "Metropolitan           29.685919   30.0\n",
       "Semi-Urban             34.333333   36.0\n",
       "Unknown                28.722222   28.0\n",
       "Urban                  28.663147   28.0"
      ]
     },
     "execution_count": 45,
     "metadata": {},
     "output_type": "execute_result"
    }
   ],
   "source": [
    "# SAída: DataFrame com a média e mediana de idade dos entregadores agrupado por tipo de cidade\n",
    "# Processo: Agrupar os dados por tipo de cidade e calcular a média e mediana da idade dos entregadores\n",
    "# Entrada: DataFrame com os dados limpos\n",
    "df_clear.groupby(\"City\").agg({\"Delivery_person_Age\": [\"mean\", \"median\"]})"
   ]
  },
  {
   "cell_type": "markdown",
   "id": "01bf1e1e",
   "metadata": {},
   "source": [
    "### 2. Qual a média das avaliações das entregas feitas por densidade de tráfego?\n",
    "**Resposta:** A média das avaliações das entregas feitas por densidade de tráfego é:\n",
    "- Low: 4.63\n",
    "- Medium: 4.65\n",
    "- High: 4.67\n",
    "- Jam: 4.60\n",
    "- Unknown: 2.00"
   ]
  },
  {
   "cell_type": "code",
   "execution_count": 46,
   "id": "483fcece",
   "metadata": {},
   "outputs": [
    {
     "data": {
      "text/html": [
       "<div>\n",
       "<style scoped>\n",
       "    .dataframe tbody tr th:only-of-type {\n",
       "        vertical-align: middle;\n",
       "    }\n",
       "\n",
       "    .dataframe tbody tr th {\n",
       "        vertical-align: top;\n",
       "    }\n",
       "\n",
       "    .dataframe thead th {\n",
       "        text-align: right;\n",
       "    }\n",
       "</style>\n",
       "<table border=\"1\" class=\"dataframe\">\n",
       "  <thead>\n",
       "    <tr style=\"text-align: right;\">\n",
       "      <th></th>\n",
       "      <th>Delivery_person_Ratings</th>\n",
       "    </tr>\n",
       "    <tr>\n",
       "      <th>Road_traffic_density</th>\n",
       "      <th></th>\n",
       "    </tr>\n",
       "  </thead>\n",
       "  <tbody>\n",
       "    <tr>\n",
       "      <th>High</th>\n",
       "      <td>4.674525</td>\n",
       "    </tr>\n",
       "    <tr>\n",
       "      <th>Jam</th>\n",
       "      <td>4.601318</td>\n",
       "    </tr>\n",
       "    <tr>\n",
       "      <th>Low</th>\n",
       "      <td>4.635853</td>\n",
       "    </tr>\n",
       "    <tr>\n",
       "      <th>Medium</th>\n",
       "      <td>4.652297</td>\n",
       "    </tr>\n",
       "    <tr>\n",
       "      <th>Unknown</th>\n",
       "      <td>2.000000</td>\n",
       "    </tr>\n",
       "  </tbody>\n",
       "</table>\n",
       "</div>"
      ],
      "text/plain": [
       "                      Delivery_person_Ratings\n",
       "Road_traffic_density                         \n",
       "High                                 4.674525\n",
       "Jam                                  4.601318\n",
       "Low                                  4.635853\n",
       "Medium                               4.652297\n",
       "Unknown                              2.000000"
      ]
     },
     "execution_count": 46,
     "metadata": {},
     "output_type": "execute_result"
    }
   ],
   "source": [
    "# SAída: DataFrame com a média das avaliações das entregas feitas agrupadas por densidade de tráfego\n",
    "# Processo: Agrupar os dados por densidade de tráfego e calcular a média das avaliações das entregas\n",
    "# Entrada: DataFrame com os dados limpos\n",
    "df_clear.groupby(\"Road_traffic_density\").agg({\"Delivery_person_Ratings\": \"mean\"})"
   ]
  },
  {
   "cell_type": "markdown",
   "id": "213e9063",
   "metadata": {},
   "source": [
    "### 3. Qual a média, mediana e desvio padrão das entregas feitas agrupadas por tipo de cidade e tipo de veículo?\n",
    "**Resposta:** Agrupados por tipo de cidade e tipo de veículo, a média, mediana e desvio padrão das entregas feitas é:\n",
    "- Metropolitan\n",
    "    - Bicyle: média 20.00, mediana 20.00, desvio padrão NaN\n",
    "    - Electric Scooter: média 25.51, mediana 26.00, desvio padrão 8.39\n",
    "    - Motorcycle: média 28.41, mediana 27.00, desvio padrão 9.35\n",
    "    - Scooter: média 25.51, mediana 25.00, desvio padrão 8.62\n",
    "- Urban\n",
    "    - Scooter: média 21.33, mediana 19.50, desvio padrão 7.85\n",
    "    - Electric Scooter: média 20.82, mediana 19.00, desvio padrão 7.65\n",
    "    - Motorcycle: média 24.06, mediana 23.00, desvio padrão 9.58\n",
    "- Semi-Urban\n",
    "    - Scooter: média 49.00, mediana 49.00, desvio padrão NaN\n",
    "    - Motorcycle: média 50.21, mediana 50.00, desvio padrão 2.60\n",
    "- Unknown\n",
    "    - Electric Scooter: média 20.82, mediana 19.00, desvio padrão 7.65\n",
    "    - Mortorcycle: média 24.46, mediana 23.00, desvio padrão 9.58\n",
    "    - Scooter: média 21.33, mediana 19.50, desvio padrão 7.85\n",
    "\n",
    "*OBS:*<br>\n",
    "&nbsp;&nbsp;&nbsp;&nbsp; - *Valores representam minutos, por exemplo, 1.5 representa 1 minuto e 30 segundos.*<br>\n",
    "&nbsp;&nbsp;&nbsp;&nbsp; - *Valores NaN indicam que não há variação, ou seja, só há um valor para aquele grupo.*"
   ]
  },
  {
   "cell_type": "code",
   "execution_count": 47,
   "id": "f36fa437",
   "metadata": {},
   "outputs": [
    {
     "data": {
      "text/html": [
       "<div>\n",
       "<style scoped>\n",
       "    .dataframe tbody tr th:only-of-type {\n",
       "        vertical-align: middle;\n",
       "    }\n",
       "\n",
       "    .dataframe tbody tr th {\n",
       "        vertical-align: top;\n",
       "    }\n",
       "\n",
       "    .dataframe thead tr th {\n",
       "        text-align: left;\n",
       "    }\n",
       "\n",
       "    .dataframe thead tr:last-of-type th {\n",
       "        text-align: right;\n",
       "    }\n",
       "</style>\n",
       "<table border=\"1\" class=\"dataframe\">\n",
       "  <thead>\n",
       "    <tr>\n",
       "      <th></th>\n",
       "      <th></th>\n",
       "      <th colspan=\"3\" halign=\"left\">time_diff(min)</th>\n",
       "    </tr>\n",
       "    <tr>\n",
       "      <th></th>\n",
       "      <th></th>\n",
       "      <th>mean</th>\n",
       "      <th>median</th>\n",
       "      <th>std</th>\n",
       "    </tr>\n",
       "    <tr>\n",
       "      <th>City</th>\n",
       "      <th>Type_of_vehicle</th>\n",
       "      <th></th>\n",
       "      <th></th>\n",
       "      <th></th>\n",
       "    </tr>\n",
       "  </thead>\n",
       "  <tbody>\n",
       "    <tr>\n",
       "      <th rowspan=\"4\" valign=\"top\">Metropolitan</th>\n",
       "      <th>bicycle</th>\n",
       "      <td>20.000000</td>\n",
       "      <td>20.0</td>\n",
       "      <td>NaN</td>\n",
       "    </tr>\n",
       "    <tr>\n",
       "      <th>electric_scooter</th>\n",
       "      <td>25.518987</td>\n",
       "      <td>26.0</td>\n",
       "      <td>8.396722</td>\n",
       "    </tr>\n",
       "    <tr>\n",
       "      <th>motorcycle</th>\n",
       "      <td>28.413066</td>\n",
       "      <td>27.0</td>\n",
       "      <td>9.350148</td>\n",
       "    </tr>\n",
       "    <tr>\n",
       "      <th>scooter</th>\n",
       "      <td>25.519099</td>\n",
       "      <td>25.0</td>\n",
       "      <td>8.624229</td>\n",
       "    </tr>\n",
       "    <tr>\n",
       "      <th rowspan=\"2\" valign=\"top\">Semi-Urban</th>\n",
       "      <th>motorcycle</th>\n",
       "      <td>50.214286</td>\n",
       "      <td>50.0</td>\n",
       "      <td>2.607049</td>\n",
       "    </tr>\n",
       "    <tr>\n",
       "      <th>scooter</th>\n",
       "      <td>49.000000</td>\n",
       "      <td>49.0</td>\n",
       "      <td>NaN</td>\n",
       "    </tr>\n",
       "    <tr>\n",
       "      <th rowspan=\"3\" valign=\"top\">Unknown</th>\n",
       "      <th>electric_scooter</th>\n",
       "      <td>14.818182</td>\n",
       "      <td>15.0</td>\n",
       "      <td>2.891995</td>\n",
       "    </tr>\n",
       "    <tr>\n",
       "      <th>motorcycle</th>\n",
       "      <td>24.067797</td>\n",
       "      <td>24.0</td>\n",
       "      <td>8.571936</td>\n",
       "    </tr>\n",
       "    <tr>\n",
       "      <th>scooter</th>\n",
       "      <td>22.750000</td>\n",
       "      <td>21.5</td>\n",
       "      <td>8.739149</td>\n",
       "    </tr>\n",
       "    <tr>\n",
       "      <th rowspan=\"3\" valign=\"top\">Urban</th>\n",
       "      <th>electric_scooter</th>\n",
       "      <td>20.827586</td>\n",
       "      <td>19.0</td>\n",
       "      <td>7.658719</td>\n",
       "    </tr>\n",
       "    <tr>\n",
       "      <th>motorcycle</th>\n",
       "      <td>24.467308</td>\n",
       "      <td>23.0</td>\n",
       "      <td>9.585378</td>\n",
       "    </tr>\n",
       "    <tr>\n",
       "      <th>scooter</th>\n",
       "      <td>21.332353</td>\n",
       "      <td>19.5</td>\n",
       "      <td>7.856652</td>\n",
       "    </tr>\n",
       "  </tbody>\n",
       "</table>\n",
       "</div>"
      ],
      "text/plain": [
       "                              time_diff(min)                 \n",
       "                                        mean median       std\n",
       "City         Type_of_vehicle                                 \n",
       "Metropolitan bicycle               20.000000   20.0       NaN\n",
       "             electric_scooter      25.518987   26.0  8.396722\n",
       "             motorcycle            28.413066   27.0  9.350148\n",
       "             scooter               25.519099   25.0  8.624229\n",
       "Semi-Urban   motorcycle            50.214286   50.0  2.607049\n",
       "             scooter               49.000000   49.0       NaN\n",
       "Unknown      electric_scooter      14.818182   15.0  2.891995\n",
       "             motorcycle            24.067797   24.0  8.571936\n",
       "             scooter               22.750000   21.5  8.739149\n",
       "Urban        electric_scooter      20.827586   19.0  7.658719\n",
       "             motorcycle            24.467308   23.0  9.585378\n",
       "             scooter               21.332353   19.5  7.856652"
      ]
     },
     "execution_count": 47,
     "metadata": {},
     "output_type": "execute_result"
    }
   ],
   "source": [
    "# SAída: DataFrame com a média, mediana e desvio padrão das entregas feitas agrupadas por tipo de cidade e tipo de veículo\n",
    "# Processo: Agrupar as entregas por tipo de cidade e tipo de veículo e calcular a média, mediana e desvio padrão\n",
    "# Entrada: DataFrame com os dados limpos\n",
    "df = df_clear[[\"City\", \"Type_of_vehicle\"]].copy()\n",
    "df[\"time_diff(min)\"] = (df_clear[\"Time_Order_delivered\"] - df_clear[\"Time_Order_picked\"]).dt.total_seconds() / 60\n",
    "df.groupby([\"City\", \"Type_of_vehicle\"]).agg({\"time_diff(min)\": [\"mean\", \"median\", \"std\"]})\n"
   ]
  },
  {
   "cell_type": "markdown",
   "id": "4ab7719a",
   "metadata": {},
   "source": [
    "### 4. Qual a primeira e a última data de entrega por cada tipo de cidade?\n",
    "**Resposta:** A primeira e última data de entrega por cada tipo de cidade são as seguintes:\t\n",
    "- Metropolitan: primeira em *2022-02-11 08:49:00*, e última em *2022-04-07 00:40:00*\n",
    "- Semi-Urban: primeira em *2022-02-12 20:25:00*, e última em *2022-04-04 22:19:00*\n",
    "- Unknown: primeira em *2022-02-11 23:55:00*, e última em\t*2022-04-07 00:48:00*\n",
    "- Urban: primeira em *2022-02-11 00:27:00*, e última em *2022-04-07 00:22:00*"
   ]
  },
  {
   "cell_type": "code",
   "execution_count": 48,
   "id": "a29a9976",
   "metadata": {},
   "outputs": [
    {
     "data": {
      "text/html": [
       "<div>\n",
       "<style scoped>\n",
       "    .dataframe tbody tr th:only-of-type {\n",
       "        vertical-align: middle;\n",
       "    }\n",
       "\n",
       "    .dataframe tbody tr th {\n",
       "        vertical-align: top;\n",
       "    }\n",
       "\n",
       "    .dataframe thead th {\n",
       "        text-align: right;\n",
       "    }\n",
       "</style>\n",
       "<table border=\"1\" class=\"dataframe\">\n",
       "  <thead>\n",
       "    <tr style=\"text-align: right;\">\n",
       "      <th></th>\n",
       "      <th>min</th>\n",
       "      <th>max</th>\n",
       "    </tr>\n",
       "    <tr>\n",
       "      <th>City</th>\n",
       "      <th></th>\n",
       "      <th></th>\n",
       "    </tr>\n",
       "  </thead>\n",
       "  <tbody>\n",
       "    <tr>\n",
       "      <th>Metropolitan</th>\n",
       "      <td>2022-02-11 08:49:00</td>\n",
       "      <td>2022-04-07 00:40:00</td>\n",
       "    </tr>\n",
       "    <tr>\n",
       "      <th>Semi-Urban</th>\n",
       "      <td>2022-02-12 20:25:00</td>\n",
       "      <td>2022-04-04 22:19:00</td>\n",
       "    </tr>\n",
       "    <tr>\n",
       "      <th>Unknown</th>\n",
       "      <td>2022-02-11 23:55:00</td>\n",
       "      <td>2022-04-07 00:48:00</td>\n",
       "    </tr>\n",
       "    <tr>\n",
       "      <th>Urban</th>\n",
       "      <td>2022-02-11 00:27:00</td>\n",
       "      <td>2022-04-07 00:22:00</td>\n",
       "    </tr>\n",
       "  </tbody>\n",
       "</table>\n",
       "</div>"
      ],
      "text/plain": [
       "                             min                 max\n",
       "City                                                \n",
       "Metropolitan 2022-02-11 08:49:00 2022-04-07 00:40:00\n",
       "Semi-Urban   2022-02-12 20:25:00 2022-04-04 22:19:00\n",
       "Unknown      2022-02-11 23:55:00 2022-04-07 00:48:00\n",
       "Urban        2022-02-11 00:27:00 2022-04-07 00:22:00"
      ]
     },
     "execution_count": 48,
     "metadata": {},
     "output_type": "execute_result"
    }
   ],
   "source": [
    "# SAída: DataFrame com a primeira e a última data de entrega por cada tipo de cidade\n",
    "# Processo: Agrupar as entregas por tipo de cidade e recuperar a primeira e a última data de entrega\n",
    "# Entrada: DataFrame com os dados limpos\n",
    "df_clear.groupby(\"City\")[\"Time_Order_delivered\"].agg([\"min\", \"max\"])"
   ]
  },
  {
   "cell_type": "markdown",
   "id": "cc8af8b3",
   "metadata": {},
   "source": [
    "### 5. Qual a média de avaliações das entregas feitas por condições climáticas?\n",
    "**Resposta:** A média de avaliações das entregas feitas agrupadas por condições climáticas é:\n",
    "1. Fog:           4.65\n",
    "2. Sunny:         4.64\n",
    "3. Sandstorms:    4.63\n",
    "4. Cloudy:        4.62\n",
    "5. Windy:         4.62\n",
    "6. Stormy:        4.61\n",
    "7. Unknown:       2.00"
   ]
  },
  {
   "cell_type": "code",
   "execution_count": 49,
   "id": "a2176ad3",
   "metadata": {},
   "outputs": [
    {
     "data": {
      "text/plain": [
       "Weatherconditions\n",
       "Cloudy        4.624656\n",
       "Fog           4.652101\n",
       "Sandstorms    4.633193\n",
       "Stormy        4.614725\n",
       "Sunny         4.648521\n",
       "Unknown       2.000000\n",
       "Windy         4.625103\n",
       "Name: Delivery_person_Ratings, dtype: float64"
      ]
     },
     "execution_count": 49,
     "metadata": {},
     "output_type": "execute_result"
    }
   ],
   "source": [
    "# SAída: Média de avaliações das entregas feitas por condições climáticas\n",
    "# Processo: Agrupar as entregas por condições climáticas e calcular a média das avaliações\n",
    "# Entrada: DataFrame com os dados limpos\n",
    "df_clear.groupby(\"Weatherconditions\")[\"Delivery_person_Ratings\"].mean()"
   ]
  },
  {
   "cell_type": "markdown",
   "id": "95ea0e71",
   "metadata": {},
   "source": [
    "### 6. Qual o valor da avaliação mais baixa feita por tipo de condição climática e densidade de tráfego?\n",
    "**Resposta:** Os valores das avaliações mais baixas feitas agrupadas por tipo de condição climática e densidade de tráfego são as seguintes:\n",
    "- Cloudy: \n",
    "    - High: 4.0\n",
    "    - Jam: 4.0\n",
    "    - Low: 3.5\n",
    "    - Medium: 4.0\n",
    "- Fog:\n",
    "    - High: 4.0\n",
    "    - Jam: 4.0\n",
    "    - Low: 3.5\n",
    "    - Medium: 4.0\n",
    "- Sandstorms:\n",
    "    - High: 4.0\n",
    "    - Jam: 3.5\n",
    "    - Low: 4.0\n",
    "    - Medium: 3.5\n",
    "- Stormy:\n",
    "    - High: 4.0\n",
    "    - Jam: 3.5\n",
    "    - Low: 4.0\n",
    "    - Medium: 3.5\n",
    "- Sunny:\n",
    "    - High: 3.5\n",
    "    - Jam: 3.5\n",
    "    - Low: 2.5\n",
    "    - Medium: 4.0\n",
    "- Windy:\n",
    "    - High: 4.0\n",
    "    - Jam: 3.5\n",
    "    - Low: 4.0\n",
    "    - Medium: 3.5\n",
    "- Unknown:\n",
    "    - Unknown: 1.0"
   ]
  },
  {
   "cell_type": "code",
   "execution_count": 50,
   "id": "98ad0fd1",
   "metadata": {},
   "outputs": [
    {
     "data": {
      "text/html": [
       "<div>\n",
       "<style scoped>\n",
       "    .dataframe tbody tr th:only-of-type {\n",
       "        vertical-align: middle;\n",
       "    }\n",
       "\n",
       "    .dataframe tbody tr th {\n",
       "        vertical-align: top;\n",
       "    }\n",
       "\n",
       "    .dataframe thead th {\n",
       "        text-align: right;\n",
       "    }\n",
       "</style>\n",
       "<table border=\"1\" class=\"dataframe\">\n",
       "  <thead>\n",
       "    <tr style=\"text-align: right;\">\n",
       "      <th></th>\n",
       "      <th></th>\n",
       "      <th>min</th>\n",
       "    </tr>\n",
       "    <tr>\n",
       "      <th>Weatherconditions</th>\n",
       "      <th>Road_traffic_density</th>\n",
       "      <th></th>\n",
       "    </tr>\n",
       "  </thead>\n",
       "  <tbody>\n",
       "    <tr>\n",
       "      <th rowspan=\"4\" valign=\"top\">Cloudy</th>\n",
       "      <th>High</th>\n",
       "      <td>4.0</td>\n",
       "    </tr>\n",
       "    <tr>\n",
       "      <th>Jam</th>\n",
       "      <td>4.0</td>\n",
       "    </tr>\n",
       "    <tr>\n",
       "      <th>Low</th>\n",
       "      <td>3.5</td>\n",
       "    </tr>\n",
       "    <tr>\n",
       "      <th>Medium</th>\n",
       "      <td>4.0</td>\n",
       "    </tr>\n",
       "    <tr>\n",
       "      <th rowspan=\"4\" valign=\"top\">Fog</th>\n",
       "      <th>High</th>\n",
       "      <td>4.0</td>\n",
       "    </tr>\n",
       "    <tr>\n",
       "      <th>Jam</th>\n",
       "      <td>4.0</td>\n",
       "    </tr>\n",
       "    <tr>\n",
       "      <th>Low</th>\n",
       "      <td>3.5</td>\n",
       "    </tr>\n",
       "    <tr>\n",
       "      <th>Medium</th>\n",
       "      <td>4.0</td>\n",
       "    </tr>\n",
       "    <tr>\n",
       "      <th rowspan=\"4\" valign=\"top\">Sandstorms</th>\n",
       "      <th>High</th>\n",
       "      <td>4.0</td>\n",
       "    </tr>\n",
       "    <tr>\n",
       "      <th>Jam</th>\n",
       "      <td>3.5</td>\n",
       "    </tr>\n",
       "    <tr>\n",
       "      <th>Low</th>\n",
       "      <td>4.0</td>\n",
       "    </tr>\n",
       "    <tr>\n",
       "      <th>Medium</th>\n",
       "      <td>3.5</td>\n",
       "    </tr>\n",
       "    <tr>\n",
       "      <th rowspan=\"4\" valign=\"top\">Stormy</th>\n",
       "      <th>High</th>\n",
       "      <td>4.0</td>\n",
       "    </tr>\n",
       "    <tr>\n",
       "      <th>Jam</th>\n",
       "      <td>3.5</td>\n",
       "    </tr>\n",
       "    <tr>\n",
       "      <th>Low</th>\n",
       "      <td>4.0</td>\n",
       "    </tr>\n",
       "    <tr>\n",
       "      <th>Medium</th>\n",
       "      <td>3.5</td>\n",
       "    </tr>\n",
       "    <tr>\n",
       "      <th rowspan=\"4\" valign=\"top\">Sunny</th>\n",
       "      <th>High</th>\n",
       "      <td>3.5</td>\n",
       "    </tr>\n",
       "    <tr>\n",
       "      <th>Jam</th>\n",
       "      <td>3.5</td>\n",
       "    </tr>\n",
       "    <tr>\n",
       "      <th>Low</th>\n",
       "      <td>2.5</td>\n",
       "    </tr>\n",
       "    <tr>\n",
       "      <th>Medium</th>\n",
       "      <td>4.0</td>\n",
       "    </tr>\n",
       "    <tr>\n",
       "      <th>Unknown</th>\n",
       "      <th>Unknown</th>\n",
       "      <td>1.0</td>\n",
       "    </tr>\n",
       "    <tr>\n",
       "      <th rowspan=\"4\" valign=\"top\">Windy</th>\n",
       "      <th>High</th>\n",
       "      <td>4.0</td>\n",
       "    </tr>\n",
       "    <tr>\n",
       "      <th>Jam</th>\n",
       "      <td>3.5</td>\n",
       "    </tr>\n",
       "    <tr>\n",
       "      <th>Low</th>\n",
       "      <td>4.0</td>\n",
       "    </tr>\n",
       "    <tr>\n",
       "      <th>Medium</th>\n",
       "      <td>3.5</td>\n",
       "    </tr>\n",
       "  </tbody>\n",
       "</table>\n",
       "</div>"
      ],
      "text/plain": [
       "                                        min\n",
       "Weatherconditions Road_traffic_density     \n",
       "Cloudy            High                  4.0\n",
       "                  Jam                   4.0\n",
       "                  Low                   3.5\n",
       "                  Medium                4.0\n",
       "Fog               High                  4.0\n",
       "                  Jam                   4.0\n",
       "                  Low                   3.5\n",
       "                  Medium                4.0\n",
       "Sandstorms        High                  4.0\n",
       "                  Jam                   3.5\n",
       "                  Low                   4.0\n",
       "                  Medium                3.5\n",
       "Stormy            High                  4.0\n",
       "                  Jam                   3.5\n",
       "                  Low                   4.0\n",
       "                  Medium                3.5\n",
       "Sunny             High                  3.5\n",
       "                  Jam                   3.5\n",
       "                  Low                   2.5\n",
       "                  Medium                4.0\n",
       "Unknown           Unknown               1.0\n",
       "Windy             High                  4.0\n",
       "                  Jam                   3.5\n",
       "                  Low                   4.0\n",
       "                  Medium                3.5"
      ]
     },
     "execution_count": 50,
     "metadata": {},
     "output_type": "execute_result"
    }
   ],
   "source": [
    "# SAída: Valor da avaliação mais baixa agrupada por tipo de condição climática e densidade de tráfego\n",
    "# Processo: Agrupar as entregas por tipo de condição climática e densidade de tráfego e calcular o valor mínimo das avaliações\n",
    "# Entrada: DataFrame com os dados limpos\n",
    "df_clear.groupby([\"Weatherconditions\", \"Road_traffic_density\"])[\"Delivery_person_Ratings\"].agg([\"min\"])"
   ]
  },
  {
   "cell_type": "markdown",
   "id": "eb0821a6",
   "metadata": {},
   "source": [
    "### 7. Qual a média, mediana e desvio padrão das avaliações por cada tipo de condições de veículos?\n",
    "**Resposta:** A média, mediana e desvio padrão das avaliações por cada tipo de condições de veículos são as seguintes:\n",
    "- 0:\n",
    "    - média: 4.60\n",
    "    - mediana: 4.7\n",
    "    - desvio padrão: 0.29\n",
    "- 1:\n",
    "    - média: 4.63\n",
    "    - mediana: 4.7\n",
    "    - desvio padrão: 0.35\n",
    "- 2:\n",
    "    - média: 4.65\n",
    "    - mediana: 4.7\n",
    "    - desvio padrão: 0.29\n",
    "- 3:\n",
    "    - média: 2.00\n",
    "    - mediana:\t1.00\n",
    "    - desvio padrão:\t2.00"
   ]
  },
  {
   "cell_type": "code",
   "execution_count": 51,
   "id": "39902b5e",
   "metadata": {},
   "outputs": [
    {
     "data": {
      "text/html": [
       "<div>\n",
       "<style scoped>\n",
       "    .dataframe tbody tr th:only-of-type {\n",
       "        vertical-align: middle;\n",
       "    }\n",
       "\n",
       "    .dataframe tbody tr th {\n",
       "        vertical-align: top;\n",
       "    }\n",
       "\n",
       "    .dataframe thead th {\n",
       "        text-align: right;\n",
       "    }\n",
       "</style>\n",
       "<table border=\"1\" class=\"dataframe\">\n",
       "  <thead>\n",
       "    <tr style=\"text-align: right;\">\n",
       "      <th></th>\n",
       "      <th>mean</th>\n",
       "      <th>median</th>\n",
       "      <th>std</th>\n",
       "    </tr>\n",
       "    <tr>\n",
       "      <th>Vehicle_condition</th>\n",
       "      <th></th>\n",
       "      <th></th>\n",
       "      <th></th>\n",
       "    </tr>\n",
       "  </thead>\n",
       "  <tbody>\n",
       "    <tr>\n",
       "      <th>0</th>\n",
       "      <td>4.609922</td>\n",
       "      <td>4.7</td>\n",
       "      <td>0.293908</td>\n",
       "    </tr>\n",
       "    <tr>\n",
       "      <th>1</th>\n",
       "      <td>4.631220</td>\n",
       "      <td>4.7</td>\n",
       "      <td>0.353454</td>\n",
       "    </tr>\n",
       "    <tr>\n",
       "      <th>2</th>\n",
       "      <td>4.658615</td>\n",
       "      <td>4.7</td>\n",
       "      <td>0.294774</td>\n",
       "    </tr>\n",
       "    <tr>\n",
       "      <th>3</th>\n",
       "      <td>2.000000</td>\n",
       "      <td>1.0</td>\n",
       "      <td>2.000000</td>\n",
       "    </tr>\n",
       "  </tbody>\n",
       "</table>\n",
       "</div>"
      ],
      "text/plain": [
       "                       mean  median       std\n",
       "Vehicle_condition                            \n",
       "0                  4.609922     4.7  0.293908\n",
       "1                  4.631220     4.7  0.353454\n",
       "2                  4.658615     4.7  0.294774\n",
       "3                  2.000000     1.0  2.000000"
      ]
     },
     "execution_count": 51,
     "metadata": {},
     "output_type": "execute_result"
    }
   ],
   "source": [
    "# SAída: DataFrame com a média, mediana e desvio padrão das avaliações por cada tipo de condições de veículos\n",
    "# Processo: Agrupar as entregas por tipo de condições de veículos e calcular a média, mediana e desvio padrão das avaliações\n",
    "# Entrada: DataFrame com os dados limpos\n",
    "df_clear.groupby(\"Vehicle_condition\")[\"Delivery_person_Ratings\"].agg([\"mean\", \"median\", \"std\"])"
   ]
  },
  {
   "cell_type": "markdown",
   "id": "f2db3084",
   "metadata": {},
   "source": [
    "### 8. Qual a avaliação média das entregas feitas durante o Festival?\n",
    "**Resposta:** A média das das avaliações das entregas feitas durante o Festival é 4.46."
   ]
  },
  {
   "cell_type": "code",
   "execution_count": 52,
   "id": "4c4fce4b",
   "metadata": {},
   "outputs": [
    {
     "data": {
      "text/plain": [
       "np.float64(4.461538461538461)"
      ]
     },
     "execution_count": 52,
     "metadata": {},
     "output_type": "execute_result"
    }
   ],
   "source": [
    "# SAída: Avaliação média das entregas feitas durante o Festival\n",
    "# Processo: Filtrar as entregas feitas durante o Festival e calcular a média das avaliações\n",
    "# Entrada: DataFrame com os dados limpos\n",
    "df_clear[df_clear[\"Festival\"] == \"Yes\"][\"Delivery_person_Ratings\"].mean()"
   ]
  },
  {
   "cell_type": "markdown",
   "id": "ba65013c",
   "metadata": {},
   "source": [
    "### 9. Qual a menor avaliação feita em uma entrega durante o Festival por cidade?\n",
    "**Resposta:** As menores avaliações feitas em uma entrega durante o Festival agrupada por cidade são as seguintes:\n",
    "- Metropolitan: 2.5\n",
    "- Semi-Urban: 3.5\n",
    "- Urban: 3.5\n",
    "- Unknown: 4.6"
   ]
  },
  {
   "cell_type": "code",
   "execution_count": 53,
   "id": "4816ffe1",
   "metadata": {},
   "outputs": [
    {
     "data": {
      "text/plain": [
       "City\n",
       "Metropolitan    2.5\n",
       "Semi-Urban      3.5\n",
       "Unknown         4.6\n",
       "Urban           3.5\n",
       "Name: Delivery_person_Ratings, dtype: float64"
      ]
     },
     "execution_count": 53,
     "metadata": {},
     "output_type": "execute_result"
    }
   ],
   "source": [
    "# SAída: Menor avaliação feita em uma entrega durante o Festival por cidade\n",
    "# Processo: Filtrar as entregas feitas durante o Festival e agrupar por cidade para encontrar a menor avaliação\n",
    "# Entrada: DataFrame com os dados limpos\n",
    "df_clear[df_clear[\"Festival\"] == \"Yes\"].groupby(\"City\")[\"Delivery_person_Ratings\"].min()"
   ]
  },
  {
   "cell_type": "markdown",
   "id": "b6d57f9c",
   "metadata": {},
   "source": [
    "### 10. Qual a maior avaliação feita por tipo de pedido?\n",
    "**Resposta:** As maiores avaliações agrupadas por tipo de pedido são:\n",
    "- Buffet: 5.0\n",
    "- Drinks: 5.0\n",
    "- Meal: 5.0\n",
    "- Snack: 5.0"
   ]
  },
  {
   "cell_type": "code",
   "execution_count": 54,
   "id": "5f124bc8",
   "metadata": {},
   "outputs": [
    {
     "data": {
      "text/plain": [
       "Type_of_order\n",
       "Buffet    5.0\n",
       "Drinks    5.0\n",
       "Meal      5.0\n",
       "Snack     5.0\n",
       "Name: Delivery_person_Ratings, dtype: float64"
      ]
     },
     "execution_count": 54,
     "metadata": {},
     "output_type": "execute_result"
    }
   ],
   "source": [
    "# SAída: Maior avaliação feita por tipo de pedido\n",
    "# Processo: Agrupar por tipo de pedido e encontrar a maior avaliação\n",
    "# Entrada: DataFrame com os dados limpos\n",
    "df_clear.groupby(\"Type_of_order\")[\"Delivery_person_Ratings\"].max()"
   ]
  },
  {
   "cell_type": "markdown",
   "id": "979f2be7",
   "metadata": {},
   "source": [
    "## 4.3 Visão da empresa\n",
    "Gráficos criados com plotly para demonstração de métricas do ponte de vista da empresa."
   ]
  },
  {
   "cell_type": "markdown",
   "id": "bd908fd3",
   "metadata": {},
   "source": [
    "### 1. Quantidades de pedido por dia."
   ]
  },
  {
   "cell_type": "code",
   "execution_count": 55,
   "id": "9185a6f4",
   "metadata": {},
   "outputs": [],
   "source": [
    "# Agrupar pedidos por dias\n",
    "df_work[\"Day_Ordered\"] = pd.to_datetime(df_clear[\"Time_Ordered\"]).dt.date\n",
    "df = df_work[[\"ID\", \"Day_Ordered\"]].groupby(\"Day_Ordered\").count().reset_index()\n",
    "df = df[[\"Day_Ordered\", \"ID\"]].pivot_table(index=\"Day_Ordered\", aggfunc=\"sum\").reset_index()"
   ]
  },
  {
   "cell_type": "code",
   "execution_count": 56,
   "id": "178d1b1e",
   "metadata": {},
   "outputs": [
    {
     "data": {
      "application/vnd.plotly.v1+json": {
       "config": {
        "plotlyServerURL": "https://plot.ly"
       },
       "data": [
        {
         "hovertemplate": "Data=%{x}<br>Quantidade de pedidos=%{y}<extra></extra>",
         "legendgroup": "",
         "marker": {
          "color": "#636efa",
          "pattern": {
           "shape": ""
          }
         },
         "name": "",
         "orientation": "v",
         "showlegend": false,
         "textposition": "auto",
         "type": "bar",
         "x": [
          "2022-02-11",
          "2022-02-12",
          "2022-02-13",
          "2022-02-14",
          "2022-02-15",
          "2022-02-16",
          "2022-02-17",
          "2022-02-18",
          "2022-03-01",
          "2022-03-02",
          "2022-03-03",
          "2022-03-04",
          "2022-03-05",
          "2022-03-06",
          "2022-03-07",
          "2022-03-08",
          "2022-03-09",
          "2022-03-10",
          "2022-03-11",
          "2022-03-12",
          "2022-03-13",
          "2022-03-14",
          "2022-03-15",
          "2022-03-16",
          "2022-03-17",
          "2022-03-18",
          "2022-03-19",
          "2022-03-20",
          "2022-03-21",
          "2022-03-23",
          "2022-03-24",
          "2022-03-25",
          "2022-03-26",
          "2022-03-27",
          "2022-03-28",
          "2022-03-29",
          "2022-03-30",
          "2022-03-31",
          "2022-04-01",
          "2022-04-02",
          "2022-04-03",
          "2022-04-04",
          "2022-04-05",
          "2022-04-06"
         ],
         "xaxis": "x",
         "y": {
          "bdata": "XFdaQVhMWFNxXWZNd2FmWWpffGVsVHZjbF1yW2FRWFJ4an1jZlV6VmxVZWY=",
          "dtype": "i1"
         },
         "yaxis": "y"
        }
       ],
       "layout": {
        "barmode": "relative",
        "legend": {
         "tracegroupgap": 0
        },
        "template": {
         "data": {
          "bar": [
           {
            "error_x": {
             "color": "#2a3f5f"
            },
            "error_y": {
             "color": "#2a3f5f"
            },
            "marker": {
             "line": {
              "color": "#E5ECF6",
              "width": 0.5
             },
             "pattern": {
              "fillmode": "overlay",
              "size": 10,
              "solidity": 0.2
             }
            },
            "type": "bar"
           }
          ],
          "barpolar": [
           {
            "marker": {
             "line": {
              "color": "#E5ECF6",
              "width": 0.5
             },
             "pattern": {
              "fillmode": "overlay",
              "size": 10,
              "solidity": 0.2
             }
            },
            "type": "barpolar"
           }
          ],
          "carpet": [
           {
            "aaxis": {
             "endlinecolor": "#2a3f5f",
             "gridcolor": "white",
             "linecolor": "white",
             "minorgridcolor": "white",
             "startlinecolor": "#2a3f5f"
            },
            "baxis": {
             "endlinecolor": "#2a3f5f",
             "gridcolor": "white",
             "linecolor": "white",
             "minorgridcolor": "white",
             "startlinecolor": "#2a3f5f"
            },
            "type": "carpet"
           }
          ],
          "choropleth": [
           {
            "colorbar": {
             "outlinewidth": 0,
             "ticks": ""
            },
            "type": "choropleth"
           }
          ],
          "contour": [
           {
            "colorbar": {
             "outlinewidth": 0,
             "ticks": ""
            },
            "colorscale": [
             [
              0,
              "#0d0887"
             ],
             [
              0.1111111111111111,
              "#46039f"
             ],
             [
              0.2222222222222222,
              "#7201a8"
             ],
             [
              0.3333333333333333,
              "#9c179e"
             ],
             [
              0.4444444444444444,
              "#bd3786"
             ],
             [
              0.5555555555555556,
              "#d8576b"
             ],
             [
              0.6666666666666666,
              "#ed7953"
             ],
             [
              0.7777777777777778,
              "#fb9f3a"
             ],
             [
              0.8888888888888888,
              "#fdca26"
             ],
             [
              1,
              "#f0f921"
             ]
            ],
            "type": "contour"
           }
          ],
          "contourcarpet": [
           {
            "colorbar": {
             "outlinewidth": 0,
             "ticks": ""
            },
            "type": "contourcarpet"
           }
          ],
          "heatmap": [
           {
            "colorbar": {
             "outlinewidth": 0,
             "ticks": ""
            },
            "colorscale": [
             [
              0,
              "#0d0887"
             ],
             [
              0.1111111111111111,
              "#46039f"
             ],
             [
              0.2222222222222222,
              "#7201a8"
             ],
             [
              0.3333333333333333,
              "#9c179e"
             ],
             [
              0.4444444444444444,
              "#bd3786"
             ],
             [
              0.5555555555555556,
              "#d8576b"
             ],
             [
              0.6666666666666666,
              "#ed7953"
             ],
             [
              0.7777777777777778,
              "#fb9f3a"
             ],
             [
              0.8888888888888888,
              "#fdca26"
             ],
             [
              1,
              "#f0f921"
             ]
            ],
            "type": "heatmap"
           }
          ],
          "histogram": [
           {
            "marker": {
             "pattern": {
              "fillmode": "overlay",
              "size": 10,
              "solidity": 0.2
             }
            },
            "type": "histogram"
           }
          ],
          "histogram2d": [
           {
            "colorbar": {
             "outlinewidth": 0,
             "ticks": ""
            },
            "colorscale": [
             [
              0,
              "#0d0887"
             ],
             [
              0.1111111111111111,
              "#46039f"
             ],
             [
              0.2222222222222222,
              "#7201a8"
             ],
             [
              0.3333333333333333,
              "#9c179e"
             ],
             [
              0.4444444444444444,
              "#bd3786"
             ],
             [
              0.5555555555555556,
              "#d8576b"
             ],
             [
              0.6666666666666666,
              "#ed7953"
             ],
             [
              0.7777777777777778,
              "#fb9f3a"
             ],
             [
              0.8888888888888888,
              "#fdca26"
             ],
             [
              1,
              "#f0f921"
             ]
            ],
            "type": "histogram2d"
           }
          ],
          "histogram2dcontour": [
           {
            "colorbar": {
             "outlinewidth": 0,
             "ticks": ""
            },
            "colorscale": [
             [
              0,
              "#0d0887"
             ],
             [
              0.1111111111111111,
              "#46039f"
             ],
             [
              0.2222222222222222,
              "#7201a8"
             ],
             [
              0.3333333333333333,
              "#9c179e"
             ],
             [
              0.4444444444444444,
              "#bd3786"
             ],
             [
              0.5555555555555556,
              "#d8576b"
             ],
             [
              0.6666666666666666,
              "#ed7953"
             ],
             [
              0.7777777777777778,
              "#fb9f3a"
             ],
             [
              0.8888888888888888,
              "#fdca26"
             ],
             [
              1,
              "#f0f921"
             ]
            ],
            "type": "histogram2dcontour"
           }
          ],
          "mesh3d": [
           {
            "colorbar": {
             "outlinewidth": 0,
             "ticks": ""
            },
            "type": "mesh3d"
           }
          ],
          "parcoords": [
           {
            "line": {
             "colorbar": {
              "outlinewidth": 0,
              "ticks": ""
             }
            },
            "type": "parcoords"
           }
          ],
          "pie": [
           {
            "automargin": true,
            "type": "pie"
           }
          ],
          "scatter": [
           {
            "fillpattern": {
             "fillmode": "overlay",
             "size": 10,
             "solidity": 0.2
            },
            "type": "scatter"
           }
          ],
          "scatter3d": [
           {
            "line": {
             "colorbar": {
              "outlinewidth": 0,
              "ticks": ""
             }
            },
            "marker": {
             "colorbar": {
              "outlinewidth": 0,
              "ticks": ""
             }
            },
            "type": "scatter3d"
           }
          ],
          "scattercarpet": [
           {
            "marker": {
             "colorbar": {
              "outlinewidth": 0,
              "ticks": ""
             }
            },
            "type": "scattercarpet"
           }
          ],
          "scattergeo": [
           {
            "marker": {
             "colorbar": {
              "outlinewidth": 0,
              "ticks": ""
             }
            },
            "type": "scattergeo"
           }
          ],
          "scattergl": [
           {
            "marker": {
             "colorbar": {
              "outlinewidth": 0,
              "ticks": ""
             }
            },
            "type": "scattergl"
           }
          ],
          "scattermap": [
           {
            "marker": {
             "colorbar": {
              "outlinewidth": 0,
              "ticks": ""
             }
            },
            "type": "scattermap"
           }
          ],
          "scattermapbox": [
           {
            "marker": {
             "colorbar": {
              "outlinewidth": 0,
              "ticks": ""
             }
            },
            "type": "scattermapbox"
           }
          ],
          "scatterpolar": [
           {
            "marker": {
             "colorbar": {
              "outlinewidth": 0,
              "ticks": ""
             }
            },
            "type": "scatterpolar"
           }
          ],
          "scatterpolargl": [
           {
            "marker": {
             "colorbar": {
              "outlinewidth": 0,
              "ticks": ""
             }
            },
            "type": "scatterpolargl"
           }
          ],
          "scatterternary": [
           {
            "marker": {
             "colorbar": {
              "outlinewidth": 0,
              "ticks": ""
             }
            },
            "type": "scatterternary"
           }
          ],
          "surface": [
           {
            "colorbar": {
             "outlinewidth": 0,
             "ticks": ""
            },
            "colorscale": [
             [
              0,
              "#0d0887"
             ],
             [
              0.1111111111111111,
              "#46039f"
             ],
             [
              0.2222222222222222,
              "#7201a8"
             ],
             [
              0.3333333333333333,
              "#9c179e"
             ],
             [
              0.4444444444444444,
              "#bd3786"
             ],
             [
              0.5555555555555556,
              "#d8576b"
             ],
             [
              0.6666666666666666,
              "#ed7953"
             ],
             [
              0.7777777777777778,
              "#fb9f3a"
             ],
             [
              0.8888888888888888,
              "#fdca26"
             ],
             [
              1,
              "#f0f921"
             ]
            ],
            "type": "surface"
           }
          ],
          "table": [
           {
            "cells": {
             "fill": {
              "color": "#EBF0F8"
             },
             "line": {
              "color": "white"
             }
            },
            "header": {
             "fill": {
              "color": "#C8D4E3"
             },
             "line": {
              "color": "white"
             }
            },
            "type": "table"
           }
          ]
         },
         "layout": {
          "annotationdefaults": {
           "arrowcolor": "#2a3f5f",
           "arrowhead": 0,
           "arrowwidth": 1
          },
          "autotypenumbers": "strict",
          "coloraxis": {
           "colorbar": {
            "outlinewidth": 0,
            "ticks": ""
           }
          },
          "colorscale": {
           "diverging": [
            [
             0,
             "#8e0152"
            ],
            [
             0.1,
             "#c51b7d"
            ],
            [
             0.2,
             "#de77ae"
            ],
            [
             0.3,
             "#f1b6da"
            ],
            [
             0.4,
             "#fde0ef"
            ],
            [
             0.5,
             "#f7f7f7"
            ],
            [
             0.6,
             "#e6f5d0"
            ],
            [
             0.7,
             "#b8e186"
            ],
            [
             0.8,
             "#7fbc41"
            ],
            [
             0.9,
             "#4d9221"
            ],
            [
             1,
             "#276419"
            ]
           ],
           "sequential": [
            [
             0,
             "#0d0887"
            ],
            [
             0.1111111111111111,
             "#46039f"
            ],
            [
             0.2222222222222222,
             "#7201a8"
            ],
            [
             0.3333333333333333,
             "#9c179e"
            ],
            [
             0.4444444444444444,
             "#bd3786"
            ],
            [
             0.5555555555555556,
             "#d8576b"
            ],
            [
             0.6666666666666666,
             "#ed7953"
            ],
            [
             0.7777777777777778,
             "#fb9f3a"
            ],
            [
             0.8888888888888888,
             "#fdca26"
            ],
            [
             1,
             "#f0f921"
            ]
           ],
           "sequentialminus": [
            [
             0,
             "#0d0887"
            ],
            [
             0.1111111111111111,
             "#46039f"
            ],
            [
             0.2222222222222222,
             "#7201a8"
            ],
            [
             0.3333333333333333,
             "#9c179e"
            ],
            [
             0.4444444444444444,
             "#bd3786"
            ],
            [
             0.5555555555555556,
             "#d8576b"
            ],
            [
             0.6666666666666666,
             "#ed7953"
            ],
            [
             0.7777777777777778,
             "#fb9f3a"
            ],
            [
             0.8888888888888888,
             "#fdca26"
            ],
            [
             1,
             "#f0f921"
            ]
           ]
          },
          "colorway": [
           "#636efa",
           "#EF553B",
           "#00cc96",
           "#ab63fa",
           "#FFA15A",
           "#19d3f3",
           "#FF6692",
           "#B6E880",
           "#FF97FF",
           "#FECB52"
          ],
          "font": {
           "color": "#2a3f5f"
          },
          "geo": {
           "bgcolor": "white",
           "lakecolor": "white",
           "landcolor": "#E5ECF6",
           "showlakes": true,
           "showland": true,
           "subunitcolor": "white"
          },
          "hoverlabel": {
           "align": "left"
          },
          "hovermode": "closest",
          "mapbox": {
           "style": "light"
          },
          "paper_bgcolor": "white",
          "plot_bgcolor": "#E5ECF6",
          "polar": {
           "angularaxis": {
            "gridcolor": "white",
            "linecolor": "white",
            "ticks": ""
           },
           "bgcolor": "#E5ECF6",
           "radialaxis": {
            "gridcolor": "white",
            "linecolor": "white",
            "ticks": ""
           }
          },
          "scene": {
           "xaxis": {
            "backgroundcolor": "#E5ECF6",
            "gridcolor": "white",
            "gridwidth": 2,
            "linecolor": "white",
            "showbackground": true,
            "ticks": "",
            "zerolinecolor": "white"
           },
           "yaxis": {
            "backgroundcolor": "#E5ECF6",
            "gridcolor": "white",
            "gridwidth": 2,
            "linecolor": "white",
            "showbackground": true,
            "ticks": "",
            "zerolinecolor": "white"
           },
           "zaxis": {
            "backgroundcolor": "#E5ECF6",
            "gridcolor": "white",
            "gridwidth": 2,
            "linecolor": "white",
            "showbackground": true,
            "ticks": "",
            "zerolinecolor": "white"
           }
          },
          "shapedefaults": {
           "line": {
            "color": "#2a3f5f"
           }
          },
          "ternary": {
           "aaxis": {
            "gridcolor": "white",
            "linecolor": "white",
            "ticks": ""
           },
           "baxis": {
            "gridcolor": "white",
            "linecolor": "white",
            "ticks": ""
           },
           "bgcolor": "#E5ECF6",
           "caxis": {
            "gridcolor": "white",
            "linecolor": "white",
            "ticks": ""
           }
          },
          "title": {
           "x": 0.05
          },
          "xaxis": {
           "automargin": true,
           "gridcolor": "white",
           "linecolor": "white",
           "ticks": "",
           "title": {
            "standoff": 15
           },
           "zerolinecolor": "white",
           "zerolinewidth": 2
          },
          "yaxis": {
           "automargin": true,
           "gridcolor": "white",
           "linecolor": "white",
           "ticks": "",
           "title": {
            "standoff": 15
           },
           "zerolinecolor": "white",
           "zerolinewidth": 2
          }
         }
        },
        "title": {
         "font": {
          "size": 24
         },
         "text": "Quantidade de pedidos por dia",
         "x": 0.5,
         "xanchor": "center"
        },
        "xaxis": {
         "anchor": "y",
         "domain": [
          0,
          1
         ],
         "showgrid": true,
         "title": {
          "font": {
           "size": 18
          },
          "text": "Data"
         }
        },
        "yaxis": {
         "anchor": "x",
         "domain": [
          0,
          1
         ],
         "showgrid": true,
         "title": {
          "font": {
           "size": 18
          },
          "text": "Quantidade de pedidos"
         }
        }
       }
      }
     },
     "metadata": {},
     "output_type": "display_data"
    }
   ],
   "source": [
    "# Desenhar gráfico de barras\n",
    "fig = px.bar(df, x=\"Day_Ordered\", y=\"ID\", title=\"Quantidade de pedidos por dia\", labels={\"Day_Ordered\": \"Data\", \"ID\": \"Quantidade de pedidos\"})\n",
    "fig.update_layout(title={\"x\": 0.5, \"xanchor\": \"center\", \"font\": {\"size\": 24}},\n",
    "    xaxis={\"title_font\": {\"size\": 18}, \"showgrid\": True},\n",
    "    yaxis={\"title_font\": {\"size\": 18}, \"showgrid\": True})\n",
    "fig.show()"
   ]
  },
  {
   "cell_type": "markdown",
   "id": "1a8acc75",
   "metadata": {},
   "source": [
    "### 2. Quantidade de pedidos por semana."
   ]
  },
  {
   "cell_type": "code",
   "execution_count": 57,
   "id": "52ee450c",
   "metadata": {},
   "outputs": [],
   "source": [
    "# Agrupar dias em semanas do ano\n",
    "df_work[\"Week_Ordered\"] = pd.to_datetime(df_work[\"Day_Ordered\"]).dt.strftime(\"%W\")\n",
    "df = df_work[[\"Week_Ordered\", \"ID\"]].pivot_table(index=\"Week_Ordered\", aggfunc=\"count\").reset_index()"
   ]
  },
  {
   "cell_type": "code",
   "execution_count": 58,
   "id": "0827c28f",
   "metadata": {},
   "outputs": [
    {
     "data": {
      "application/vnd.plotly.v1+json": {
       "config": {
        "plotlyServerURL": "https://plot.ly"
       },
       "data": [
        {
         "hovertemplate": "Semana do ano=%{x}<br>Quantidade de pedidos=%{y}<extra></extra>",
         "legendgroup": "",
         "line": {
          "color": "#636efa",
          "dash": "solid"
         },
         "marker": {
          "symbol": "circle"
         },
         "mode": "lines+markers",
         "name": "",
         "orientation": "v",
         "showlegend": false,
         "type": "scatter",
         "x": [
          "06",
          "07",
          "09",
          "10",
          "11",
          "12",
          "13",
          "14"
         ],
         "xaxis": "x",
         "y": {
          "bdata": "DQGQAVkC1QLDAj4C1wIgAQ==",
          "dtype": "i2"
         },
         "yaxis": "y"
        }
       ],
       "layout": {
        "legend": {
         "tracegroupgap": 0
        },
        "template": {
         "data": {
          "bar": [
           {
            "error_x": {
             "color": "#2a3f5f"
            },
            "error_y": {
             "color": "#2a3f5f"
            },
            "marker": {
             "line": {
              "color": "#E5ECF6",
              "width": 0.5
             },
             "pattern": {
              "fillmode": "overlay",
              "size": 10,
              "solidity": 0.2
             }
            },
            "type": "bar"
           }
          ],
          "barpolar": [
           {
            "marker": {
             "line": {
              "color": "#E5ECF6",
              "width": 0.5
             },
             "pattern": {
              "fillmode": "overlay",
              "size": 10,
              "solidity": 0.2
             }
            },
            "type": "barpolar"
           }
          ],
          "carpet": [
           {
            "aaxis": {
             "endlinecolor": "#2a3f5f",
             "gridcolor": "white",
             "linecolor": "white",
             "minorgridcolor": "white",
             "startlinecolor": "#2a3f5f"
            },
            "baxis": {
             "endlinecolor": "#2a3f5f",
             "gridcolor": "white",
             "linecolor": "white",
             "minorgridcolor": "white",
             "startlinecolor": "#2a3f5f"
            },
            "type": "carpet"
           }
          ],
          "choropleth": [
           {
            "colorbar": {
             "outlinewidth": 0,
             "ticks": ""
            },
            "type": "choropleth"
           }
          ],
          "contour": [
           {
            "colorbar": {
             "outlinewidth": 0,
             "ticks": ""
            },
            "colorscale": [
             [
              0,
              "#0d0887"
             ],
             [
              0.1111111111111111,
              "#46039f"
             ],
             [
              0.2222222222222222,
              "#7201a8"
             ],
             [
              0.3333333333333333,
              "#9c179e"
             ],
             [
              0.4444444444444444,
              "#bd3786"
             ],
             [
              0.5555555555555556,
              "#d8576b"
             ],
             [
              0.6666666666666666,
              "#ed7953"
             ],
             [
              0.7777777777777778,
              "#fb9f3a"
             ],
             [
              0.8888888888888888,
              "#fdca26"
             ],
             [
              1,
              "#f0f921"
             ]
            ],
            "type": "contour"
           }
          ],
          "contourcarpet": [
           {
            "colorbar": {
             "outlinewidth": 0,
             "ticks": ""
            },
            "type": "contourcarpet"
           }
          ],
          "heatmap": [
           {
            "colorbar": {
             "outlinewidth": 0,
             "ticks": ""
            },
            "colorscale": [
             [
              0,
              "#0d0887"
             ],
             [
              0.1111111111111111,
              "#46039f"
             ],
             [
              0.2222222222222222,
              "#7201a8"
             ],
             [
              0.3333333333333333,
              "#9c179e"
             ],
             [
              0.4444444444444444,
              "#bd3786"
             ],
             [
              0.5555555555555556,
              "#d8576b"
             ],
             [
              0.6666666666666666,
              "#ed7953"
             ],
             [
              0.7777777777777778,
              "#fb9f3a"
             ],
             [
              0.8888888888888888,
              "#fdca26"
             ],
             [
              1,
              "#f0f921"
             ]
            ],
            "type": "heatmap"
           }
          ],
          "histogram": [
           {
            "marker": {
             "pattern": {
              "fillmode": "overlay",
              "size": 10,
              "solidity": 0.2
             }
            },
            "type": "histogram"
           }
          ],
          "histogram2d": [
           {
            "colorbar": {
             "outlinewidth": 0,
             "ticks": ""
            },
            "colorscale": [
             [
              0,
              "#0d0887"
             ],
             [
              0.1111111111111111,
              "#46039f"
             ],
             [
              0.2222222222222222,
              "#7201a8"
             ],
             [
              0.3333333333333333,
              "#9c179e"
             ],
             [
              0.4444444444444444,
              "#bd3786"
             ],
             [
              0.5555555555555556,
              "#d8576b"
             ],
             [
              0.6666666666666666,
              "#ed7953"
             ],
             [
              0.7777777777777778,
              "#fb9f3a"
             ],
             [
              0.8888888888888888,
              "#fdca26"
             ],
             [
              1,
              "#f0f921"
             ]
            ],
            "type": "histogram2d"
           }
          ],
          "histogram2dcontour": [
           {
            "colorbar": {
             "outlinewidth": 0,
             "ticks": ""
            },
            "colorscale": [
             [
              0,
              "#0d0887"
             ],
             [
              0.1111111111111111,
              "#46039f"
             ],
             [
              0.2222222222222222,
              "#7201a8"
             ],
             [
              0.3333333333333333,
              "#9c179e"
             ],
             [
              0.4444444444444444,
              "#bd3786"
             ],
             [
              0.5555555555555556,
              "#d8576b"
             ],
             [
              0.6666666666666666,
              "#ed7953"
             ],
             [
              0.7777777777777778,
              "#fb9f3a"
             ],
             [
              0.8888888888888888,
              "#fdca26"
             ],
             [
              1,
              "#f0f921"
             ]
            ],
            "type": "histogram2dcontour"
           }
          ],
          "mesh3d": [
           {
            "colorbar": {
             "outlinewidth": 0,
             "ticks": ""
            },
            "type": "mesh3d"
           }
          ],
          "parcoords": [
           {
            "line": {
             "colorbar": {
              "outlinewidth": 0,
              "ticks": ""
             }
            },
            "type": "parcoords"
           }
          ],
          "pie": [
           {
            "automargin": true,
            "type": "pie"
           }
          ],
          "scatter": [
           {
            "fillpattern": {
             "fillmode": "overlay",
             "size": 10,
             "solidity": 0.2
            },
            "type": "scatter"
           }
          ],
          "scatter3d": [
           {
            "line": {
             "colorbar": {
              "outlinewidth": 0,
              "ticks": ""
             }
            },
            "marker": {
             "colorbar": {
              "outlinewidth": 0,
              "ticks": ""
             }
            },
            "type": "scatter3d"
           }
          ],
          "scattercarpet": [
           {
            "marker": {
             "colorbar": {
              "outlinewidth": 0,
              "ticks": ""
             }
            },
            "type": "scattercarpet"
           }
          ],
          "scattergeo": [
           {
            "marker": {
             "colorbar": {
              "outlinewidth": 0,
              "ticks": ""
             }
            },
            "type": "scattergeo"
           }
          ],
          "scattergl": [
           {
            "marker": {
             "colorbar": {
              "outlinewidth": 0,
              "ticks": ""
             }
            },
            "type": "scattergl"
           }
          ],
          "scattermap": [
           {
            "marker": {
             "colorbar": {
              "outlinewidth": 0,
              "ticks": ""
             }
            },
            "type": "scattermap"
           }
          ],
          "scattermapbox": [
           {
            "marker": {
             "colorbar": {
              "outlinewidth": 0,
              "ticks": ""
             }
            },
            "type": "scattermapbox"
           }
          ],
          "scatterpolar": [
           {
            "marker": {
             "colorbar": {
              "outlinewidth": 0,
              "ticks": ""
             }
            },
            "type": "scatterpolar"
           }
          ],
          "scatterpolargl": [
           {
            "marker": {
             "colorbar": {
              "outlinewidth": 0,
              "ticks": ""
             }
            },
            "type": "scatterpolargl"
           }
          ],
          "scatterternary": [
           {
            "marker": {
             "colorbar": {
              "outlinewidth": 0,
              "ticks": ""
             }
            },
            "type": "scatterternary"
           }
          ],
          "surface": [
           {
            "colorbar": {
             "outlinewidth": 0,
             "ticks": ""
            },
            "colorscale": [
             [
              0,
              "#0d0887"
             ],
             [
              0.1111111111111111,
              "#46039f"
             ],
             [
              0.2222222222222222,
              "#7201a8"
             ],
             [
              0.3333333333333333,
              "#9c179e"
             ],
             [
              0.4444444444444444,
              "#bd3786"
             ],
             [
              0.5555555555555556,
              "#d8576b"
             ],
             [
              0.6666666666666666,
              "#ed7953"
             ],
             [
              0.7777777777777778,
              "#fb9f3a"
             ],
             [
              0.8888888888888888,
              "#fdca26"
             ],
             [
              1,
              "#f0f921"
             ]
            ],
            "type": "surface"
           }
          ],
          "table": [
           {
            "cells": {
             "fill": {
              "color": "#EBF0F8"
             },
             "line": {
              "color": "white"
             }
            },
            "header": {
             "fill": {
              "color": "#C8D4E3"
             },
             "line": {
              "color": "white"
             }
            },
            "type": "table"
           }
          ]
         },
         "layout": {
          "annotationdefaults": {
           "arrowcolor": "#2a3f5f",
           "arrowhead": 0,
           "arrowwidth": 1
          },
          "autotypenumbers": "strict",
          "coloraxis": {
           "colorbar": {
            "outlinewidth": 0,
            "ticks": ""
           }
          },
          "colorscale": {
           "diverging": [
            [
             0,
             "#8e0152"
            ],
            [
             0.1,
             "#c51b7d"
            ],
            [
             0.2,
             "#de77ae"
            ],
            [
             0.3,
             "#f1b6da"
            ],
            [
             0.4,
             "#fde0ef"
            ],
            [
             0.5,
             "#f7f7f7"
            ],
            [
             0.6,
             "#e6f5d0"
            ],
            [
             0.7,
             "#b8e186"
            ],
            [
             0.8,
             "#7fbc41"
            ],
            [
             0.9,
             "#4d9221"
            ],
            [
             1,
             "#276419"
            ]
           ],
           "sequential": [
            [
             0,
             "#0d0887"
            ],
            [
             0.1111111111111111,
             "#46039f"
            ],
            [
             0.2222222222222222,
             "#7201a8"
            ],
            [
             0.3333333333333333,
             "#9c179e"
            ],
            [
             0.4444444444444444,
             "#bd3786"
            ],
            [
             0.5555555555555556,
             "#d8576b"
            ],
            [
             0.6666666666666666,
             "#ed7953"
            ],
            [
             0.7777777777777778,
             "#fb9f3a"
            ],
            [
             0.8888888888888888,
             "#fdca26"
            ],
            [
             1,
             "#f0f921"
            ]
           ],
           "sequentialminus": [
            [
             0,
             "#0d0887"
            ],
            [
             0.1111111111111111,
             "#46039f"
            ],
            [
             0.2222222222222222,
             "#7201a8"
            ],
            [
             0.3333333333333333,
             "#9c179e"
            ],
            [
             0.4444444444444444,
             "#bd3786"
            ],
            [
             0.5555555555555556,
             "#d8576b"
            ],
            [
             0.6666666666666666,
             "#ed7953"
            ],
            [
             0.7777777777777778,
             "#fb9f3a"
            ],
            [
             0.8888888888888888,
             "#fdca26"
            ],
            [
             1,
             "#f0f921"
            ]
           ]
          },
          "colorway": [
           "#636efa",
           "#EF553B",
           "#00cc96",
           "#ab63fa",
           "#FFA15A",
           "#19d3f3",
           "#FF6692",
           "#B6E880",
           "#FF97FF",
           "#FECB52"
          ],
          "font": {
           "color": "#2a3f5f"
          },
          "geo": {
           "bgcolor": "white",
           "lakecolor": "white",
           "landcolor": "#E5ECF6",
           "showlakes": true,
           "showland": true,
           "subunitcolor": "white"
          },
          "hoverlabel": {
           "align": "left"
          },
          "hovermode": "closest",
          "mapbox": {
           "style": "light"
          },
          "paper_bgcolor": "white",
          "plot_bgcolor": "#E5ECF6",
          "polar": {
           "angularaxis": {
            "gridcolor": "white",
            "linecolor": "white",
            "ticks": ""
           },
           "bgcolor": "#E5ECF6",
           "radialaxis": {
            "gridcolor": "white",
            "linecolor": "white",
            "ticks": ""
           }
          },
          "scene": {
           "xaxis": {
            "backgroundcolor": "#E5ECF6",
            "gridcolor": "white",
            "gridwidth": 2,
            "linecolor": "white",
            "showbackground": true,
            "ticks": "",
            "zerolinecolor": "white"
           },
           "yaxis": {
            "backgroundcolor": "#E5ECF6",
            "gridcolor": "white",
            "gridwidth": 2,
            "linecolor": "white",
            "showbackground": true,
            "ticks": "",
            "zerolinecolor": "white"
           },
           "zaxis": {
            "backgroundcolor": "#E5ECF6",
            "gridcolor": "white",
            "gridwidth": 2,
            "linecolor": "white",
            "showbackground": true,
            "ticks": "",
            "zerolinecolor": "white"
           }
          },
          "shapedefaults": {
           "line": {
            "color": "#2a3f5f"
           }
          },
          "ternary": {
           "aaxis": {
            "gridcolor": "white",
            "linecolor": "white",
            "ticks": ""
           },
           "baxis": {
            "gridcolor": "white",
            "linecolor": "white",
            "ticks": ""
           },
           "bgcolor": "#E5ECF6",
           "caxis": {
            "gridcolor": "white",
            "linecolor": "white",
            "ticks": ""
           }
          },
          "title": {
           "x": 0.05
          },
          "xaxis": {
           "automargin": true,
           "gridcolor": "white",
           "linecolor": "white",
           "ticks": "",
           "title": {
            "standoff": 15
           },
           "zerolinecolor": "white",
           "zerolinewidth": 2
          },
          "yaxis": {
           "automargin": true,
           "gridcolor": "white",
           "linecolor": "white",
           "ticks": "",
           "title": {
            "standoff": 15
           },
           "zerolinecolor": "white",
           "zerolinewidth": 2
          }
         }
        },
        "title": {
         "font": {
          "size": 24
         },
         "text": "Quantidade de pedidos por semana",
         "x": 0.5,
         "xanchor": "center"
        },
        "xaxis": {
         "anchor": "y",
         "domain": [
          0,
          1
         ],
         "showgrid": true,
         "title": {
          "font": {
           "size": 18
          },
          "text": "Semana do ano"
         }
        },
        "yaxis": {
         "anchor": "x",
         "domain": [
          0,
          1
         ],
         "showgrid": true,
         "title": {
          "font": {
           "size": 18
          },
          "text": "Quantidade de pedidos"
         }
        }
       }
      }
     },
     "metadata": {},
     "output_type": "display_data"
    }
   ],
   "source": [
    "# Desenhar gráfico de linha\n",
    "fig = px.line(df, x=\"Week_Ordered\", y=\"ID\", title=\"Quantidade de pedidos por semana\", labels={\"Week_Ordered\": \"Semana do ano\", \"ID\": \"Quantidade de pedidos\"}, markers=True)\n",
    "fig.update_layout(title={\"x\": 0.5, \"xanchor\": \"center\", \"font\": {\"size\": 24}},\n",
    "    xaxis={\"title_font\": {\"size\": 18}, \"showgrid\": True},\n",
    "    yaxis={\"title_font\": {\"size\": 18}, \"showgrid\": True})\n",
    "fig.show()"
   ]
  },
  {
   "cell_type": "markdown",
   "id": "6933239d",
   "metadata": {},
   "source": [
    "### 3. Distribuição dos pedidos por densidade de tráfego"
   ]
  },
  {
   "cell_type": "code",
   "execution_count": 59,
   "id": "06cdf952",
   "metadata": {},
   "outputs": [],
   "source": [
    "# Agrupar por densidade de tráfego\n",
    "df = df_clear[[\"ID\", \"Road_traffic_density\"]].groupby(\"Road_traffic_density\").count().reset_index()\n",
    "# Calcular porcentagem\n",
    "df[\"percent\"] = df[\"ID\"] / df[\"ID\"].sum()"
   ]
  },
  {
   "cell_type": "code",
   "execution_count": 60,
   "id": "cbd310d1",
   "metadata": {},
   "outputs": [
    {
     "data": {
      "application/vnd.plotly.v1+json": {
       "config": {
        "plotlyServerURL": "https://plot.ly"
       },
       "data": [
        {
         "domain": {
          "x": [
           0,
           1
          ],
          "y": [
           0,
           1
          ]
         },
         "hovertemplate": "Road_traffic_density=%{label}<br>percent=%{value}<extra></extra>",
         "labels": [
          "High",
          "Jam",
          "Low",
          "Medium",
          "Unknown"
         ],
         "legendgroup": "",
         "name": "",
         "showlegend": true,
         "type": "pie",
         "values": {
          "bdata": "kJ2luOMduT9xNBtoJW/TP1klWvObbtY/MbGis/+Wzz84dMwfuYtOPw==",
          "dtype": "f8"
         }
        }
       ],
       "layout": {
        "height": 600,
        "legend": {
         "font": {
          "size": 18
         },
         "tracegroupgap": 0
        },
        "template": {
         "data": {
          "bar": [
           {
            "error_x": {
             "color": "#2a3f5f"
            },
            "error_y": {
             "color": "#2a3f5f"
            },
            "marker": {
             "line": {
              "color": "#E5ECF6",
              "width": 0.5
             },
             "pattern": {
              "fillmode": "overlay",
              "size": 10,
              "solidity": 0.2
             }
            },
            "type": "bar"
           }
          ],
          "barpolar": [
           {
            "marker": {
             "line": {
              "color": "#E5ECF6",
              "width": 0.5
             },
             "pattern": {
              "fillmode": "overlay",
              "size": 10,
              "solidity": 0.2
             }
            },
            "type": "barpolar"
           }
          ],
          "carpet": [
           {
            "aaxis": {
             "endlinecolor": "#2a3f5f",
             "gridcolor": "white",
             "linecolor": "white",
             "minorgridcolor": "white",
             "startlinecolor": "#2a3f5f"
            },
            "baxis": {
             "endlinecolor": "#2a3f5f",
             "gridcolor": "white",
             "linecolor": "white",
             "minorgridcolor": "white",
             "startlinecolor": "#2a3f5f"
            },
            "type": "carpet"
           }
          ],
          "choropleth": [
           {
            "colorbar": {
             "outlinewidth": 0,
             "ticks": ""
            },
            "type": "choropleth"
           }
          ],
          "contour": [
           {
            "colorbar": {
             "outlinewidth": 0,
             "ticks": ""
            },
            "colorscale": [
             [
              0,
              "#0d0887"
             ],
             [
              0.1111111111111111,
              "#46039f"
             ],
             [
              0.2222222222222222,
              "#7201a8"
             ],
             [
              0.3333333333333333,
              "#9c179e"
             ],
             [
              0.4444444444444444,
              "#bd3786"
             ],
             [
              0.5555555555555556,
              "#d8576b"
             ],
             [
              0.6666666666666666,
              "#ed7953"
             ],
             [
              0.7777777777777778,
              "#fb9f3a"
             ],
             [
              0.8888888888888888,
              "#fdca26"
             ],
             [
              1,
              "#f0f921"
             ]
            ],
            "type": "contour"
           }
          ],
          "contourcarpet": [
           {
            "colorbar": {
             "outlinewidth": 0,
             "ticks": ""
            },
            "type": "contourcarpet"
           }
          ],
          "heatmap": [
           {
            "colorbar": {
             "outlinewidth": 0,
             "ticks": ""
            },
            "colorscale": [
             [
              0,
              "#0d0887"
             ],
             [
              0.1111111111111111,
              "#46039f"
             ],
             [
              0.2222222222222222,
              "#7201a8"
             ],
             [
              0.3333333333333333,
              "#9c179e"
             ],
             [
              0.4444444444444444,
              "#bd3786"
             ],
             [
              0.5555555555555556,
              "#d8576b"
             ],
             [
              0.6666666666666666,
              "#ed7953"
             ],
             [
              0.7777777777777778,
              "#fb9f3a"
             ],
             [
              0.8888888888888888,
              "#fdca26"
             ],
             [
              1,
              "#f0f921"
             ]
            ],
            "type": "heatmap"
           }
          ],
          "histogram": [
           {
            "marker": {
             "pattern": {
              "fillmode": "overlay",
              "size": 10,
              "solidity": 0.2
             }
            },
            "type": "histogram"
           }
          ],
          "histogram2d": [
           {
            "colorbar": {
             "outlinewidth": 0,
             "ticks": ""
            },
            "colorscale": [
             [
              0,
              "#0d0887"
             ],
             [
              0.1111111111111111,
              "#46039f"
             ],
             [
              0.2222222222222222,
              "#7201a8"
             ],
             [
              0.3333333333333333,
              "#9c179e"
             ],
             [
              0.4444444444444444,
              "#bd3786"
             ],
             [
              0.5555555555555556,
              "#d8576b"
             ],
             [
              0.6666666666666666,
              "#ed7953"
             ],
             [
              0.7777777777777778,
              "#fb9f3a"
             ],
             [
              0.8888888888888888,
              "#fdca26"
             ],
             [
              1,
              "#f0f921"
             ]
            ],
            "type": "histogram2d"
           }
          ],
          "histogram2dcontour": [
           {
            "colorbar": {
             "outlinewidth": 0,
             "ticks": ""
            },
            "colorscale": [
             [
              0,
              "#0d0887"
             ],
             [
              0.1111111111111111,
              "#46039f"
             ],
             [
              0.2222222222222222,
              "#7201a8"
             ],
             [
              0.3333333333333333,
              "#9c179e"
             ],
             [
              0.4444444444444444,
              "#bd3786"
             ],
             [
              0.5555555555555556,
              "#d8576b"
             ],
             [
              0.6666666666666666,
              "#ed7953"
             ],
             [
              0.7777777777777778,
              "#fb9f3a"
             ],
             [
              0.8888888888888888,
              "#fdca26"
             ],
             [
              1,
              "#f0f921"
             ]
            ],
            "type": "histogram2dcontour"
           }
          ],
          "mesh3d": [
           {
            "colorbar": {
             "outlinewidth": 0,
             "ticks": ""
            },
            "type": "mesh3d"
           }
          ],
          "parcoords": [
           {
            "line": {
             "colorbar": {
              "outlinewidth": 0,
              "ticks": ""
             }
            },
            "type": "parcoords"
           }
          ],
          "pie": [
           {
            "automargin": true,
            "type": "pie"
           }
          ],
          "scatter": [
           {
            "fillpattern": {
             "fillmode": "overlay",
             "size": 10,
             "solidity": 0.2
            },
            "type": "scatter"
           }
          ],
          "scatter3d": [
           {
            "line": {
             "colorbar": {
              "outlinewidth": 0,
              "ticks": ""
             }
            },
            "marker": {
             "colorbar": {
              "outlinewidth": 0,
              "ticks": ""
             }
            },
            "type": "scatter3d"
           }
          ],
          "scattercarpet": [
           {
            "marker": {
             "colorbar": {
              "outlinewidth": 0,
              "ticks": ""
             }
            },
            "type": "scattercarpet"
           }
          ],
          "scattergeo": [
           {
            "marker": {
             "colorbar": {
              "outlinewidth": 0,
              "ticks": ""
             }
            },
            "type": "scattergeo"
           }
          ],
          "scattergl": [
           {
            "marker": {
             "colorbar": {
              "outlinewidth": 0,
              "ticks": ""
             }
            },
            "type": "scattergl"
           }
          ],
          "scattermap": [
           {
            "marker": {
             "colorbar": {
              "outlinewidth": 0,
              "ticks": ""
             }
            },
            "type": "scattermap"
           }
          ],
          "scattermapbox": [
           {
            "marker": {
             "colorbar": {
              "outlinewidth": 0,
              "ticks": ""
             }
            },
            "type": "scattermapbox"
           }
          ],
          "scatterpolar": [
           {
            "marker": {
             "colorbar": {
              "outlinewidth": 0,
              "ticks": ""
             }
            },
            "type": "scatterpolar"
           }
          ],
          "scatterpolargl": [
           {
            "marker": {
             "colorbar": {
              "outlinewidth": 0,
              "ticks": ""
             }
            },
            "type": "scatterpolargl"
           }
          ],
          "scatterternary": [
           {
            "marker": {
             "colorbar": {
              "outlinewidth": 0,
              "ticks": ""
             }
            },
            "type": "scatterternary"
           }
          ],
          "surface": [
           {
            "colorbar": {
             "outlinewidth": 0,
             "ticks": ""
            },
            "colorscale": [
             [
              0,
              "#0d0887"
             ],
             [
              0.1111111111111111,
              "#46039f"
             ],
             [
              0.2222222222222222,
              "#7201a8"
             ],
             [
              0.3333333333333333,
              "#9c179e"
             ],
             [
              0.4444444444444444,
              "#bd3786"
             ],
             [
              0.5555555555555556,
              "#d8576b"
             ],
             [
              0.6666666666666666,
              "#ed7953"
             ],
             [
              0.7777777777777778,
              "#fb9f3a"
             ],
             [
              0.8888888888888888,
              "#fdca26"
             ],
             [
              1,
              "#f0f921"
             ]
            ],
            "type": "surface"
           }
          ],
          "table": [
           {
            "cells": {
             "fill": {
              "color": "#EBF0F8"
             },
             "line": {
              "color": "white"
             }
            },
            "header": {
             "fill": {
              "color": "#C8D4E3"
             },
             "line": {
              "color": "white"
             }
            },
            "type": "table"
           }
          ]
         },
         "layout": {
          "annotationdefaults": {
           "arrowcolor": "#2a3f5f",
           "arrowhead": 0,
           "arrowwidth": 1
          },
          "autotypenumbers": "strict",
          "coloraxis": {
           "colorbar": {
            "outlinewidth": 0,
            "ticks": ""
           }
          },
          "colorscale": {
           "diverging": [
            [
             0,
             "#8e0152"
            ],
            [
             0.1,
             "#c51b7d"
            ],
            [
             0.2,
             "#de77ae"
            ],
            [
             0.3,
             "#f1b6da"
            ],
            [
             0.4,
             "#fde0ef"
            ],
            [
             0.5,
             "#f7f7f7"
            ],
            [
             0.6,
             "#e6f5d0"
            ],
            [
             0.7,
             "#b8e186"
            ],
            [
             0.8,
             "#7fbc41"
            ],
            [
             0.9,
             "#4d9221"
            ],
            [
             1,
             "#276419"
            ]
           ],
           "sequential": [
            [
             0,
             "#0d0887"
            ],
            [
             0.1111111111111111,
             "#46039f"
            ],
            [
             0.2222222222222222,
             "#7201a8"
            ],
            [
             0.3333333333333333,
             "#9c179e"
            ],
            [
             0.4444444444444444,
             "#bd3786"
            ],
            [
             0.5555555555555556,
             "#d8576b"
            ],
            [
             0.6666666666666666,
             "#ed7953"
            ],
            [
             0.7777777777777778,
             "#fb9f3a"
            ],
            [
             0.8888888888888888,
             "#fdca26"
            ],
            [
             1,
             "#f0f921"
            ]
           ],
           "sequentialminus": [
            [
             0,
             "#0d0887"
            ],
            [
             0.1111111111111111,
             "#46039f"
            ],
            [
             0.2222222222222222,
             "#7201a8"
            ],
            [
             0.3333333333333333,
             "#9c179e"
            ],
            [
             0.4444444444444444,
             "#bd3786"
            ],
            [
             0.5555555555555556,
             "#d8576b"
            ],
            [
             0.6666666666666666,
             "#ed7953"
            ],
            [
             0.7777777777777778,
             "#fb9f3a"
            ],
            [
             0.8888888888888888,
             "#fdca26"
            ],
            [
             1,
             "#f0f921"
            ]
           ]
          },
          "colorway": [
           "#636efa",
           "#EF553B",
           "#00cc96",
           "#ab63fa",
           "#FFA15A",
           "#19d3f3",
           "#FF6692",
           "#B6E880",
           "#FF97FF",
           "#FECB52"
          ],
          "font": {
           "color": "#2a3f5f"
          },
          "geo": {
           "bgcolor": "white",
           "lakecolor": "white",
           "landcolor": "#E5ECF6",
           "showlakes": true,
           "showland": true,
           "subunitcolor": "white"
          },
          "hoverlabel": {
           "align": "left"
          },
          "hovermode": "closest",
          "mapbox": {
           "style": "light"
          },
          "paper_bgcolor": "white",
          "plot_bgcolor": "#E5ECF6",
          "polar": {
           "angularaxis": {
            "gridcolor": "white",
            "linecolor": "white",
            "ticks": ""
           },
           "bgcolor": "#E5ECF6",
           "radialaxis": {
            "gridcolor": "white",
            "linecolor": "white",
            "ticks": ""
           }
          },
          "scene": {
           "xaxis": {
            "backgroundcolor": "#E5ECF6",
            "gridcolor": "white",
            "gridwidth": 2,
            "linecolor": "white",
            "showbackground": true,
            "ticks": "",
            "zerolinecolor": "white"
           },
           "yaxis": {
            "backgroundcolor": "#E5ECF6",
            "gridcolor": "white",
            "gridwidth": 2,
            "linecolor": "white",
            "showbackground": true,
            "ticks": "",
            "zerolinecolor": "white"
           },
           "zaxis": {
            "backgroundcolor": "#E5ECF6",
            "gridcolor": "white",
            "gridwidth": 2,
            "linecolor": "white",
            "showbackground": true,
            "ticks": "",
            "zerolinecolor": "white"
           }
          },
          "shapedefaults": {
           "line": {
            "color": "#2a3f5f"
           }
          },
          "ternary": {
           "aaxis": {
            "gridcolor": "white",
            "linecolor": "white",
            "ticks": ""
           },
           "baxis": {
            "gridcolor": "white",
            "linecolor": "white",
            "ticks": ""
           },
           "bgcolor": "#E5ECF6",
           "caxis": {
            "gridcolor": "white",
            "linecolor": "white",
            "ticks": ""
           }
          },
          "title": {
           "x": 0.05
          },
          "xaxis": {
           "automargin": true,
           "gridcolor": "white",
           "linecolor": "white",
           "ticks": "",
           "title": {
            "standoff": 15
           },
           "zerolinecolor": "white",
           "zerolinewidth": 2
          },
          "yaxis": {
           "automargin": true,
           "gridcolor": "white",
           "linecolor": "white",
           "ticks": "",
           "title": {
            "standoff": 15
           },
           "zerolinecolor": "white",
           "zerolinewidth": 2
          }
         }
        },
        "title": {
         "font": {
          "size": 24
         },
         "text": "Distribuição de pedidos por densidade de tráfego",
         "x": 0.5,
         "xanchor": "center"
        },
        "width": 700
       }
      }
     },
     "metadata": {},
     "output_type": "display_data"
    }
   ],
   "source": [
    "# Desenhar gráfico de pizza\n",
    "fig = px.pie(df, values=\"percent\", names=\"Road_traffic_density\", title=\"Distribuição de pedidos por densidade de tráfego\")\n",
    "fig.update_layout(width=700, height=600,\n",
    "    title={\"x\": 0.5, \"xanchor\": \"center\", \"font\": {\"size\": 24}},\n",
    "    legend={\"font\": {\"size\": 18}})\n",
    "fig.show()"
   ]
  },
  {
   "cell_type": "markdown",
   "id": "9cbfabb5",
   "metadata": {},
   "source": [
    "### 4. Comparação de volume de pedidos por tipo de cidade e densidade de tráfego"
   ]
  },
  {
   "cell_type": "code",
   "execution_count": 61,
   "id": "81942fa6",
   "metadata": {},
   "outputs": [],
   "source": [
    "# Agrupar por cidade e densidade de tráfego\n",
    "df = df_clear[[\"ID\", \"City\", \"Road_traffic_density\"]].groupby([\"City\", \"Road_traffic_density\"]).count().reset_index()\n",
    "# Pivotar os dados para criar um DataFrame mais adequado para o tipo de gráfico\n",
    "df = df.pivot(index=\"City\", columns=\"Road_traffic_density\", values=\"ID\").fillna(0)"
   ]
  },
  {
   "cell_type": "code",
   "execution_count": 62,
   "id": "5db01996",
   "metadata": {},
   "outputs": [
    {
     "data": {
      "application/vnd.plotly.v1+json": {
       "config": {
        "plotlyServerURL": "https://plot.ly"
       },
       "data": [
        {
         "hovertemplate": "Densidade de tráfego=High<br>Tipo de cidade=%{x}<br>Quantidade de pedidos em escala log=%{y}<extra></extra>",
         "legendgroup": "High",
         "marker": {
          "color": "#636efa",
          "pattern": {
           "shape": ""
          }
         },
         "name": "High",
         "orientation": "v",
         "showlegend": true,
         "textposition": "auto",
         "type": "bar",
         "x": [
          "Metropolitan",
          "Semi-Urban",
          "Unknown",
          "Urban"
         ],
         "xaxis": "x",
         "y": {
          "bdata": "AAAAAACAc0AAAAAAAADwPwAAAAAAACBAAAAAAAAAWUA=",
          "dtype": "f8"
         },
         "yaxis": "y"
        },
        {
         "hovertemplate": "Densidade de tráfego=Jam<br>Tipo de cidade=%{x}<br>Quantidade de pedidos em escala log=%{y}<extra></extra>",
         "legendgroup": "Jam",
         "marker": {
          "color": "#EF553B",
          "pattern": {
           "shape": ""
          }
         },
         "name": "Jam",
         "orientation": "v",
         "showlegend": true,
         "textposition": "auto",
         "type": "bar",
         "x": [
          "Metropolitan",
          "Semi-Urban",
          "Unknown",
          "Urban"
         ],
         "xaxis": "x",
         "y": {
          "bdata": "AAAAAABYj0AAAAAAAAAmQAAAAAAAADxAAAAAAABQcEA=",
          "dtype": "f8"
         },
         "yaxis": "y"
        },
        {
         "hovertemplate": "Densidade de tráfego=Low<br>Tipo de cidade=%{x}<br>Quantidade de pedidos em escala log=%{y}<extra></extra>",
         "legendgroup": "Low",
         "marker": {
          "color": "#00cc96",
          "pattern": {
           "shape": ""
          }
         },
         "name": "Low",
         "orientation": "v",
         "showlegend": true,
         "textposition": "auto",
         "type": "bar",
         "x": [
          "Metropolitan",
          "Semi-Urban",
          "Unknown",
          "Urban"
         ],
         "xaxis": "x",
         "y": {
          "bdata": "AAAAAADUkEAAAAAAAAAAAAAAAAAAgEtAAAAAAABAd0A=",
          "dtype": "f8"
         },
         "yaxis": "y"
        },
        {
         "hovertemplate": "Densidade de tráfego=Medium<br>Tipo de cidade=%{x}<br>Quantidade de pedidos em escala log=%{y}<extra></extra>",
         "legendgroup": "Medium",
         "marker": {
          "color": "#ab63fa",
          "pattern": {
           "shape": ""
          }
         },
         "name": "Medium",
         "orientation": "v",
         "showlegend": true,
         "textposition": "auto",
         "type": "bar",
         "x": [
          "Metropolitan",
          "Semi-Urban",
          "Unknown",
          "Urban"
         ],
         "xaxis": "x",
         "y": {
          "bdata": "AAAAAABIiUAAAAAAAAAIQAAAAAAAgEFAAAAAAACAakA=",
          "dtype": "f8"
         },
         "yaxis": "y"
        },
        {
         "hovertemplate": "Densidade de tráfego=Unknown<br>Tipo de cidade=%{x}<br>Quantidade de pedidos em escala log=%{y}<extra></extra>",
         "legendgroup": "Unknown",
         "marker": {
          "color": "#FFA15A",
          "pattern": {
           "shape": ""
          }
         },
         "name": "Unknown",
         "orientation": "v",
         "showlegend": true,
         "textposition": "auto",
         "type": "bar",
         "x": [
          "Metropolitan",
          "Semi-Urban",
          "Unknown",
          "Urban"
         ],
         "xaxis": "x",
         "y": {
          "bdata": "AAAAAAAAAEAAAAAAAAAAAAAAAAAAAAAAAAAAAAAAAEA=",
          "dtype": "f8"
         },
         "yaxis": "y"
        }
       ],
       "layout": {
        "barmode": "stack",
        "legend": {
         "title": {
          "text": "Densidade de tráfego"
         },
         "tracegroupgap": 0
        },
        "template": {
         "data": {
          "bar": [
           {
            "error_x": {
             "color": "#2a3f5f"
            },
            "error_y": {
             "color": "#2a3f5f"
            },
            "marker": {
             "line": {
              "color": "#E5ECF6",
              "width": 0.5
             },
             "pattern": {
              "fillmode": "overlay",
              "size": 10,
              "solidity": 0.2
             }
            },
            "type": "bar"
           }
          ],
          "barpolar": [
           {
            "marker": {
             "line": {
              "color": "#E5ECF6",
              "width": 0.5
             },
             "pattern": {
              "fillmode": "overlay",
              "size": 10,
              "solidity": 0.2
             }
            },
            "type": "barpolar"
           }
          ],
          "carpet": [
           {
            "aaxis": {
             "endlinecolor": "#2a3f5f",
             "gridcolor": "white",
             "linecolor": "white",
             "minorgridcolor": "white",
             "startlinecolor": "#2a3f5f"
            },
            "baxis": {
             "endlinecolor": "#2a3f5f",
             "gridcolor": "white",
             "linecolor": "white",
             "minorgridcolor": "white",
             "startlinecolor": "#2a3f5f"
            },
            "type": "carpet"
           }
          ],
          "choropleth": [
           {
            "colorbar": {
             "outlinewidth": 0,
             "ticks": ""
            },
            "type": "choropleth"
           }
          ],
          "contour": [
           {
            "colorbar": {
             "outlinewidth": 0,
             "ticks": ""
            },
            "colorscale": [
             [
              0,
              "#0d0887"
             ],
             [
              0.1111111111111111,
              "#46039f"
             ],
             [
              0.2222222222222222,
              "#7201a8"
             ],
             [
              0.3333333333333333,
              "#9c179e"
             ],
             [
              0.4444444444444444,
              "#bd3786"
             ],
             [
              0.5555555555555556,
              "#d8576b"
             ],
             [
              0.6666666666666666,
              "#ed7953"
             ],
             [
              0.7777777777777778,
              "#fb9f3a"
             ],
             [
              0.8888888888888888,
              "#fdca26"
             ],
             [
              1,
              "#f0f921"
             ]
            ],
            "type": "contour"
           }
          ],
          "contourcarpet": [
           {
            "colorbar": {
             "outlinewidth": 0,
             "ticks": ""
            },
            "type": "contourcarpet"
           }
          ],
          "heatmap": [
           {
            "colorbar": {
             "outlinewidth": 0,
             "ticks": ""
            },
            "colorscale": [
             [
              0,
              "#0d0887"
             ],
             [
              0.1111111111111111,
              "#46039f"
             ],
             [
              0.2222222222222222,
              "#7201a8"
             ],
             [
              0.3333333333333333,
              "#9c179e"
             ],
             [
              0.4444444444444444,
              "#bd3786"
             ],
             [
              0.5555555555555556,
              "#d8576b"
             ],
             [
              0.6666666666666666,
              "#ed7953"
             ],
             [
              0.7777777777777778,
              "#fb9f3a"
             ],
             [
              0.8888888888888888,
              "#fdca26"
             ],
             [
              1,
              "#f0f921"
             ]
            ],
            "type": "heatmap"
           }
          ],
          "histogram": [
           {
            "marker": {
             "pattern": {
              "fillmode": "overlay",
              "size": 10,
              "solidity": 0.2
             }
            },
            "type": "histogram"
           }
          ],
          "histogram2d": [
           {
            "colorbar": {
             "outlinewidth": 0,
             "ticks": ""
            },
            "colorscale": [
             [
              0,
              "#0d0887"
             ],
             [
              0.1111111111111111,
              "#46039f"
             ],
             [
              0.2222222222222222,
              "#7201a8"
             ],
             [
              0.3333333333333333,
              "#9c179e"
             ],
             [
              0.4444444444444444,
              "#bd3786"
             ],
             [
              0.5555555555555556,
              "#d8576b"
             ],
             [
              0.6666666666666666,
              "#ed7953"
             ],
             [
              0.7777777777777778,
              "#fb9f3a"
             ],
             [
              0.8888888888888888,
              "#fdca26"
             ],
             [
              1,
              "#f0f921"
             ]
            ],
            "type": "histogram2d"
           }
          ],
          "histogram2dcontour": [
           {
            "colorbar": {
             "outlinewidth": 0,
             "ticks": ""
            },
            "colorscale": [
             [
              0,
              "#0d0887"
             ],
             [
              0.1111111111111111,
              "#46039f"
             ],
             [
              0.2222222222222222,
              "#7201a8"
             ],
             [
              0.3333333333333333,
              "#9c179e"
             ],
             [
              0.4444444444444444,
              "#bd3786"
             ],
             [
              0.5555555555555556,
              "#d8576b"
             ],
             [
              0.6666666666666666,
              "#ed7953"
             ],
             [
              0.7777777777777778,
              "#fb9f3a"
             ],
             [
              0.8888888888888888,
              "#fdca26"
             ],
             [
              1,
              "#f0f921"
             ]
            ],
            "type": "histogram2dcontour"
           }
          ],
          "mesh3d": [
           {
            "colorbar": {
             "outlinewidth": 0,
             "ticks": ""
            },
            "type": "mesh3d"
           }
          ],
          "parcoords": [
           {
            "line": {
             "colorbar": {
              "outlinewidth": 0,
              "ticks": ""
             }
            },
            "type": "parcoords"
           }
          ],
          "pie": [
           {
            "automargin": true,
            "type": "pie"
           }
          ],
          "scatter": [
           {
            "fillpattern": {
             "fillmode": "overlay",
             "size": 10,
             "solidity": 0.2
            },
            "type": "scatter"
           }
          ],
          "scatter3d": [
           {
            "line": {
             "colorbar": {
              "outlinewidth": 0,
              "ticks": ""
             }
            },
            "marker": {
             "colorbar": {
              "outlinewidth": 0,
              "ticks": ""
             }
            },
            "type": "scatter3d"
           }
          ],
          "scattercarpet": [
           {
            "marker": {
             "colorbar": {
              "outlinewidth": 0,
              "ticks": ""
             }
            },
            "type": "scattercarpet"
           }
          ],
          "scattergeo": [
           {
            "marker": {
             "colorbar": {
              "outlinewidth": 0,
              "ticks": ""
             }
            },
            "type": "scattergeo"
           }
          ],
          "scattergl": [
           {
            "marker": {
             "colorbar": {
              "outlinewidth": 0,
              "ticks": ""
             }
            },
            "type": "scattergl"
           }
          ],
          "scattermap": [
           {
            "marker": {
             "colorbar": {
              "outlinewidth": 0,
              "ticks": ""
             }
            },
            "type": "scattermap"
           }
          ],
          "scattermapbox": [
           {
            "marker": {
             "colorbar": {
              "outlinewidth": 0,
              "ticks": ""
             }
            },
            "type": "scattermapbox"
           }
          ],
          "scatterpolar": [
           {
            "marker": {
             "colorbar": {
              "outlinewidth": 0,
              "ticks": ""
             }
            },
            "type": "scatterpolar"
           }
          ],
          "scatterpolargl": [
           {
            "marker": {
             "colorbar": {
              "outlinewidth": 0,
              "ticks": ""
             }
            },
            "type": "scatterpolargl"
           }
          ],
          "scatterternary": [
           {
            "marker": {
             "colorbar": {
              "outlinewidth": 0,
              "ticks": ""
             }
            },
            "type": "scatterternary"
           }
          ],
          "surface": [
           {
            "colorbar": {
             "outlinewidth": 0,
             "ticks": ""
            },
            "colorscale": [
             [
              0,
              "#0d0887"
             ],
             [
              0.1111111111111111,
              "#46039f"
             ],
             [
              0.2222222222222222,
              "#7201a8"
             ],
             [
              0.3333333333333333,
              "#9c179e"
             ],
             [
              0.4444444444444444,
              "#bd3786"
             ],
             [
              0.5555555555555556,
              "#d8576b"
             ],
             [
              0.6666666666666666,
              "#ed7953"
             ],
             [
              0.7777777777777778,
              "#fb9f3a"
             ],
             [
              0.8888888888888888,
              "#fdca26"
             ],
             [
              1,
              "#f0f921"
             ]
            ],
            "type": "surface"
           }
          ],
          "table": [
           {
            "cells": {
             "fill": {
              "color": "#EBF0F8"
             },
             "line": {
              "color": "white"
             }
            },
            "header": {
             "fill": {
              "color": "#C8D4E3"
             },
             "line": {
              "color": "white"
             }
            },
            "type": "table"
           }
          ]
         },
         "layout": {
          "annotationdefaults": {
           "arrowcolor": "#2a3f5f",
           "arrowhead": 0,
           "arrowwidth": 1
          },
          "autotypenumbers": "strict",
          "coloraxis": {
           "colorbar": {
            "outlinewidth": 0,
            "ticks": ""
           }
          },
          "colorscale": {
           "diverging": [
            [
             0,
             "#8e0152"
            ],
            [
             0.1,
             "#c51b7d"
            ],
            [
             0.2,
             "#de77ae"
            ],
            [
             0.3,
             "#f1b6da"
            ],
            [
             0.4,
             "#fde0ef"
            ],
            [
             0.5,
             "#f7f7f7"
            ],
            [
             0.6,
             "#e6f5d0"
            ],
            [
             0.7,
             "#b8e186"
            ],
            [
             0.8,
             "#7fbc41"
            ],
            [
             0.9,
             "#4d9221"
            ],
            [
             1,
             "#276419"
            ]
           ],
           "sequential": [
            [
             0,
             "#0d0887"
            ],
            [
             0.1111111111111111,
             "#46039f"
            ],
            [
             0.2222222222222222,
             "#7201a8"
            ],
            [
             0.3333333333333333,
             "#9c179e"
            ],
            [
             0.4444444444444444,
             "#bd3786"
            ],
            [
             0.5555555555555556,
             "#d8576b"
            ],
            [
             0.6666666666666666,
             "#ed7953"
            ],
            [
             0.7777777777777778,
             "#fb9f3a"
            ],
            [
             0.8888888888888888,
             "#fdca26"
            ],
            [
             1,
             "#f0f921"
            ]
           ],
           "sequentialminus": [
            [
             0,
             "#0d0887"
            ],
            [
             0.1111111111111111,
             "#46039f"
            ],
            [
             0.2222222222222222,
             "#7201a8"
            ],
            [
             0.3333333333333333,
             "#9c179e"
            ],
            [
             0.4444444444444444,
             "#bd3786"
            ],
            [
             0.5555555555555556,
             "#d8576b"
            ],
            [
             0.6666666666666666,
             "#ed7953"
            ],
            [
             0.7777777777777778,
             "#fb9f3a"
            ],
            [
             0.8888888888888888,
             "#fdca26"
            ],
            [
             1,
             "#f0f921"
            ]
           ]
          },
          "colorway": [
           "#636efa",
           "#EF553B",
           "#00cc96",
           "#ab63fa",
           "#FFA15A",
           "#19d3f3",
           "#FF6692",
           "#B6E880",
           "#FF97FF",
           "#FECB52"
          ],
          "font": {
           "color": "#2a3f5f"
          },
          "geo": {
           "bgcolor": "white",
           "lakecolor": "white",
           "landcolor": "#E5ECF6",
           "showlakes": true,
           "showland": true,
           "subunitcolor": "white"
          },
          "hoverlabel": {
           "align": "left"
          },
          "hovermode": "closest",
          "mapbox": {
           "style": "light"
          },
          "paper_bgcolor": "white",
          "plot_bgcolor": "#E5ECF6",
          "polar": {
           "angularaxis": {
            "gridcolor": "white",
            "linecolor": "white",
            "ticks": ""
           },
           "bgcolor": "#E5ECF6",
           "radialaxis": {
            "gridcolor": "white",
            "linecolor": "white",
            "ticks": ""
           }
          },
          "scene": {
           "xaxis": {
            "backgroundcolor": "#E5ECF6",
            "gridcolor": "white",
            "gridwidth": 2,
            "linecolor": "white",
            "showbackground": true,
            "ticks": "",
            "zerolinecolor": "white"
           },
           "yaxis": {
            "backgroundcolor": "#E5ECF6",
            "gridcolor": "white",
            "gridwidth": 2,
            "linecolor": "white",
            "showbackground": true,
            "ticks": "",
            "zerolinecolor": "white"
           },
           "zaxis": {
            "backgroundcolor": "#E5ECF6",
            "gridcolor": "white",
            "gridwidth": 2,
            "linecolor": "white",
            "showbackground": true,
            "ticks": "",
            "zerolinecolor": "white"
           }
          },
          "shapedefaults": {
           "line": {
            "color": "#2a3f5f"
           }
          },
          "ternary": {
           "aaxis": {
            "gridcolor": "white",
            "linecolor": "white",
            "ticks": ""
           },
           "baxis": {
            "gridcolor": "white",
            "linecolor": "white",
            "ticks": ""
           },
           "bgcolor": "#E5ECF6",
           "caxis": {
            "gridcolor": "white",
            "linecolor": "white",
            "ticks": ""
           }
          },
          "title": {
           "x": 0.05
          },
          "xaxis": {
           "automargin": true,
           "gridcolor": "white",
           "linecolor": "white",
           "ticks": "",
           "title": {
            "standoff": 15
           },
           "zerolinecolor": "white",
           "zerolinewidth": 2
          },
          "yaxis": {
           "automargin": true,
           "gridcolor": "white",
           "linecolor": "white",
           "ticks": "",
           "title": {
            "standoff": 15
           },
           "zerolinecolor": "white",
           "zerolinewidth": 2
          }
         }
        },
        "title": {
         "font": {
          "size": 24
         },
         "text": "Pedidos por tipo de cidade separados por densidade de tráfego",
         "x": 0.5,
         "xanchor": "center"
        },
        "xaxis": {
         "anchor": "y",
         "domain": [
          0,
          1
         ],
         "showgrid": true,
         "title": {
          "font": {
           "size": 18
          },
          "text": "Tipo de cidade"
         }
        },
        "yaxis": {
         "anchor": "x",
         "domain": [
          0,
          1
         ],
         "showgrid": true,
         "title": {
          "font": {
           "size": 18
          },
          "text": "Quantidade de pedidos em escala log"
         },
         "type": "log"
        }
       }
      }
     },
     "metadata": {},
     "output_type": "display_data"
    }
   ],
   "source": [
    "# Criar gráfico de barras empilhadas\n",
    "fig = px.bar(df, x=df.index, y=df.columns, title=\"Pedidos por tipo de cidade separados por densidade de tráfego\", labels={\"City\": \"Tipo de cidade\", \"value\": \"Quantidade de pedidos em escala log\", \"Road_traffic_density\": \"Densidade de tráfego\"}, barmode=\"stack\", log_y=True)\n",
    "fig.update_layout(title={\"x\": 0.5, \"xanchor\": \"center\", \"font\": {\"size\": 24}},\n",
    "    xaxis={\"title_font\": {\"size\": 18}, \"showgrid\": True},\n",
    "    yaxis={\"title_font\": {\"size\": 18}, \"showgrid\": True})\n",
    "fig.show()"
   ]
  },
  {
   "cell_type": "markdown",
   "id": "2371e500",
   "metadata": {},
   "source": [
    "### 5. Quantidade de pedidos por entregador agrupado por semana"
   ]
  },
  {
   "cell_type": "code",
   "execution_count": 63,
   "id": "6767706f",
   "metadata": {},
   "outputs": [],
   "source": [
    "# Agrupar por semana e contar a quantidade de pedidos e entregadores unicos\n",
    "df1 = df_work[[\"ID\", \"Week_Ordered\"]].groupby(\"Week_Ordered\").count().reset_index()\n",
    "df2 = df_work[[\"Delivery_person_ID\", \"Week_Ordered\"]].groupby(\"Week_Ordered\").nunique().reset_index()\n",
    "df_aux = pd.merge(df1, df2, how=\"inner\", on=\"Week_Ordered\")\n",
    "# Dividir pedidos por entregadores para obter a quantidade de pedidos por entregador por semana\n",
    "df_aux[\"Oder_by_delivery\"] = df_aux[\"ID\"] / df_aux[\"Delivery_person_ID\"]"
   ]
  },
  {
   "cell_type": "code",
   "execution_count": 64,
   "id": "f1dc0304",
   "metadata": {},
   "outputs": [
    {
     "data": {
      "application/vnd.plotly.v1+json": {
       "config": {
        "plotlyServerURL": "https://plot.ly"
       },
       "data": [
        {
         "hovertemplate": "Semana=%{x}<br>Quantidade de pedidos por entregador=%{y}<extra></extra>",
         "legendgroup": "",
         "line": {
          "color": "#636efa",
          "dash": "solid"
         },
         "marker": {
          "symbol": "circle"
         },
         "mode": "lines+markers",
         "name": "",
         "orientation": "v",
         "showlegend": false,
         "type": "scatter",
         "x": [
          "06",
          "07",
          "09",
          "10",
          "11",
          "12",
          "13",
          "14"
         ],
         "xaxis": "x",
         "y": {
          "bdata": "q8FzBIq28j/QcFL35bH1P+wfTARZD/c/wXSdY41E+D++bNDkywb5P6N3ReZLE/c/D+1aGIuX+D+7ErUrUbvyPw==",
          "dtype": "f8"
         },
         "yaxis": "y"
        }
       ],
       "layout": {
        "legend": {
         "tracegroupgap": 0
        },
        "template": {
         "data": {
          "bar": [
           {
            "error_x": {
             "color": "#2a3f5f"
            },
            "error_y": {
             "color": "#2a3f5f"
            },
            "marker": {
             "line": {
              "color": "#E5ECF6",
              "width": 0.5
             },
             "pattern": {
              "fillmode": "overlay",
              "size": 10,
              "solidity": 0.2
             }
            },
            "type": "bar"
           }
          ],
          "barpolar": [
           {
            "marker": {
             "line": {
              "color": "#E5ECF6",
              "width": 0.5
             },
             "pattern": {
              "fillmode": "overlay",
              "size": 10,
              "solidity": 0.2
             }
            },
            "type": "barpolar"
           }
          ],
          "carpet": [
           {
            "aaxis": {
             "endlinecolor": "#2a3f5f",
             "gridcolor": "white",
             "linecolor": "white",
             "minorgridcolor": "white",
             "startlinecolor": "#2a3f5f"
            },
            "baxis": {
             "endlinecolor": "#2a3f5f",
             "gridcolor": "white",
             "linecolor": "white",
             "minorgridcolor": "white",
             "startlinecolor": "#2a3f5f"
            },
            "type": "carpet"
           }
          ],
          "choropleth": [
           {
            "colorbar": {
             "outlinewidth": 0,
             "ticks": ""
            },
            "type": "choropleth"
           }
          ],
          "contour": [
           {
            "colorbar": {
             "outlinewidth": 0,
             "ticks": ""
            },
            "colorscale": [
             [
              0,
              "#0d0887"
             ],
             [
              0.1111111111111111,
              "#46039f"
             ],
             [
              0.2222222222222222,
              "#7201a8"
             ],
             [
              0.3333333333333333,
              "#9c179e"
             ],
             [
              0.4444444444444444,
              "#bd3786"
             ],
             [
              0.5555555555555556,
              "#d8576b"
             ],
             [
              0.6666666666666666,
              "#ed7953"
             ],
             [
              0.7777777777777778,
              "#fb9f3a"
             ],
             [
              0.8888888888888888,
              "#fdca26"
             ],
             [
              1,
              "#f0f921"
             ]
            ],
            "type": "contour"
           }
          ],
          "contourcarpet": [
           {
            "colorbar": {
             "outlinewidth": 0,
             "ticks": ""
            },
            "type": "contourcarpet"
           }
          ],
          "heatmap": [
           {
            "colorbar": {
             "outlinewidth": 0,
             "ticks": ""
            },
            "colorscale": [
             [
              0,
              "#0d0887"
             ],
             [
              0.1111111111111111,
              "#46039f"
             ],
             [
              0.2222222222222222,
              "#7201a8"
             ],
             [
              0.3333333333333333,
              "#9c179e"
             ],
             [
              0.4444444444444444,
              "#bd3786"
             ],
             [
              0.5555555555555556,
              "#d8576b"
             ],
             [
              0.6666666666666666,
              "#ed7953"
             ],
             [
              0.7777777777777778,
              "#fb9f3a"
             ],
             [
              0.8888888888888888,
              "#fdca26"
             ],
             [
              1,
              "#f0f921"
             ]
            ],
            "type": "heatmap"
           }
          ],
          "histogram": [
           {
            "marker": {
             "pattern": {
              "fillmode": "overlay",
              "size": 10,
              "solidity": 0.2
             }
            },
            "type": "histogram"
           }
          ],
          "histogram2d": [
           {
            "colorbar": {
             "outlinewidth": 0,
             "ticks": ""
            },
            "colorscale": [
             [
              0,
              "#0d0887"
             ],
             [
              0.1111111111111111,
              "#46039f"
             ],
             [
              0.2222222222222222,
              "#7201a8"
             ],
             [
              0.3333333333333333,
              "#9c179e"
             ],
             [
              0.4444444444444444,
              "#bd3786"
             ],
             [
              0.5555555555555556,
              "#d8576b"
             ],
             [
              0.6666666666666666,
              "#ed7953"
             ],
             [
              0.7777777777777778,
              "#fb9f3a"
             ],
             [
              0.8888888888888888,
              "#fdca26"
             ],
             [
              1,
              "#f0f921"
             ]
            ],
            "type": "histogram2d"
           }
          ],
          "histogram2dcontour": [
           {
            "colorbar": {
             "outlinewidth": 0,
             "ticks": ""
            },
            "colorscale": [
             [
              0,
              "#0d0887"
             ],
             [
              0.1111111111111111,
              "#46039f"
             ],
             [
              0.2222222222222222,
              "#7201a8"
             ],
             [
              0.3333333333333333,
              "#9c179e"
             ],
             [
              0.4444444444444444,
              "#bd3786"
             ],
             [
              0.5555555555555556,
              "#d8576b"
             ],
             [
              0.6666666666666666,
              "#ed7953"
             ],
             [
              0.7777777777777778,
              "#fb9f3a"
             ],
             [
              0.8888888888888888,
              "#fdca26"
             ],
             [
              1,
              "#f0f921"
             ]
            ],
            "type": "histogram2dcontour"
           }
          ],
          "mesh3d": [
           {
            "colorbar": {
             "outlinewidth": 0,
             "ticks": ""
            },
            "type": "mesh3d"
           }
          ],
          "parcoords": [
           {
            "line": {
             "colorbar": {
              "outlinewidth": 0,
              "ticks": ""
             }
            },
            "type": "parcoords"
           }
          ],
          "pie": [
           {
            "automargin": true,
            "type": "pie"
           }
          ],
          "scatter": [
           {
            "fillpattern": {
             "fillmode": "overlay",
             "size": 10,
             "solidity": 0.2
            },
            "type": "scatter"
           }
          ],
          "scatter3d": [
           {
            "line": {
             "colorbar": {
              "outlinewidth": 0,
              "ticks": ""
             }
            },
            "marker": {
             "colorbar": {
              "outlinewidth": 0,
              "ticks": ""
             }
            },
            "type": "scatter3d"
           }
          ],
          "scattercarpet": [
           {
            "marker": {
             "colorbar": {
              "outlinewidth": 0,
              "ticks": ""
             }
            },
            "type": "scattercarpet"
           }
          ],
          "scattergeo": [
           {
            "marker": {
             "colorbar": {
              "outlinewidth": 0,
              "ticks": ""
             }
            },
            "type": "scattergeo"
           }
          ],
          "scattergl": [
           {
            "marker": {
             "colorbar": {
              "outlinewidth": 0,
              "ticks": ""
             }
            },
            "type": "scattergl"
           }
          ],
          "scattermap": [
           {
            "marker": {
             "colorbar": {
              "outlinewidth": 0,
              "ticks": ""
             }
            },
            "type": "scattermap"
           }
          ],
          "scattermapbox": [
           {
            "marker": {
             "colorbar": {
              "outlinewidth": 0,
              "ticks": ""
             }
            },
            "type": "scattermapbox"
           }
          ],
          "scatterpolar": [
           {
            "marker": {
             "colorbar": {
              "outlinewidth": 0,
              "ticks": ""
             }
            },
            "type": "scatterpolar"
           }
          ],
          "scatterpolargl": [
           {
            "marker": {
             "colorbar": {
              "outlinewidth": 0,
              "ticks": ""
             }
            },
            "type": "scatterpolargl"
           }
          ],
          "scatterternary": [
           {
            "marker": {
             "colorbar": {
              "outlinewidth": 0,
              "ticks": ""
             }
            },
            "type": "scatterternary"
           }
          ],
          "surface": [
           {
            "colorbar": {
             "outlinewidth": 0,
             "ticks": ""
            },
            "colorscale": [
             [
              0,
              "#0d0887"
             ],
             [
              0.1111111111111111,
              "#46039f"
             ],
             [
              0.2222222222222222,
              "#7201a8"
             ],
             [
              0.3333333333333333,
              "#9c179e"
             ],
             [
              0.4444444444444444,
              "#bd3786"
             ],
             [
              0.5555555555555556,
              "#d8576b"
             ],
             [
              0.6666666666666666,
              "#ed7953"
             ],
             [
              0.7777777777777778,
              "#fb9f3a"
             ],
             [
              0.8888888888888888,
              "#fdca26"
             ],
             [
              1,
              "#f0f921"
             ]
            ],
            "type": "surface"
           }
          ],
          "table": [
           {
            "cells": {
             "fill": {
              "color": "#EBF0F8"
             },
             "line": {
              "color": "white"
             }
            },
            "header": {
             "fill": {
              "color": "#C8D4E3"
             },
             "line": {
              "color": "white"
             }
            },
            "type": "table"
           }
          ]
         },
         "layout": {
          "annotationdefaults": {
           "arrowcolor": "#2a3f5f",
           "arrowhead": 0,
           "arrowwidth": 1
          },
          "autotypenumbers": "strict",
          "coloraxis": {
           "colorbar": {
            "outlinewidth": 0,
            "ticks": ""
           }
          },
          "colorscale": {
           "diverging": [
            [
             0,
             "#8e0152"
            ],
            [
             0.1,
             "#c51b7d"
            ],
            [
             0.2,
             "#de77ae"
            ],
            [
             0.3,
             "#f1b6da"
            ],
            [
             0.4,
             "#fde0ef"
            ],
            [
             0.5,
             "#f7f7f7"
            ],
            [
             0.6,
             "#e6f5d0"
            ],
            [
             0.7,
             "#b8e186"
            ],
            [
             0.8,
             "#7fbc41"
            ],
            [
             0.9,
             "#4d9221"
            ],
            [
             1,
             "#276419"
            ]
           ],
           "sequential": [
            [
             0,
             "#0d0887"
            ],
            [
             0.1111111111111111,
             "#46039f"
            ],
            [
             0.2222222222222222,
             "#7201a8"
            ],
            [
             0.3333333333333333,
             "#9c179e"
            ],
            [
             0.4444444444444444,
             "#bd3786"
            ],
            [
             0.5555555555555556,
             "#d8576b"
            ],
            [
             0.6666666666666666,
             "#ed7953"
            ],
            [
             0.7777777777777778,
             "#fb9f3a"
            ],
            [
             0.8888888888888888,
             "#fdca26"
            ],
            [
             1,
             "#f0f921"
            ]
           ],
           "sequentialminus": [
            [
             0,
             "#0d0887"
            ],
            [
             0.1111111111111111,
             "#46039f"
            ],
            [
             0.2222222222222222,
             "#7201a8"
            ],
            [
             0.3333333333333333,
             "#9c179e"
            ],
            [
             0.4444444444444444,
             "#bd3786"
            ],
            [
             0.5555555555555556,
             "#d8576b"
            ],
            [
             0.6666666666666666,
             "#ed7953"
            ],
            [
             0.7777777777777778,
             "#fb9f3a"
            ],
            [
             0.8888888888888888,
             "#fdca26"
            ],
            [
             1,
             "#f0f921"
            ]
           ]
          },
          "colorway": [
           "#636efa",
           "#EF553B",
           "#00cc96",
           "#ab63fa",
           "#FFA15A",
           "#19d3f3",
           "#FF6692",
           "#B6E880",
           "#FF97FF",
           "#FECB52"
          ],
          "font": {
           "color": "#2a3f5f"
          },
          "geo": {
           "bgcolor": "white",
           "lakecolor": "white",
           "landcolor": "#E5ECF6",
           "showlakes": true,
           "showland": true,
           "subunitcolor": "white"
          },
          "hoverlabel": {
           "align": "left"
          },
          "hovermode": "closest",
          "mapbox": {
           "style": "light"
          },
          "paper_bgcolor": "white",
          "plot_bgcolor": "#E5ECF6",
          "polar": {
           "angularaxis": {
            "gridcolor": "white",
            "linecolor": "white",
            "ticks": ""
           },
           "bgcolor": "#E5ECF6",
           "radialaxis": {
            "gridcolor": "white",
            "linecolor": "white",
            "ticks": ""
           }
          },
          "scene": {
           "xaxis": {
            "backgroundcolor": "#E5ECF6",
            "gridcolor": "white",
            "gridwidth": 2,
            "linecolor": "white",
            "showbackground": true,
            "ticks": "",
            "zerolinecolor": "white"
           },
           "yaxis": {
            "backgroundcolor": "#E5ECF6",
            "gridcolor": "white",
            "gridwidth": 2,
            "linecolor": "white",
            "showbackground": true,
            "ticks": "",
            "zerolinecolor": "white"
           },
           "zaxis": {
            "backgroundcolor": "#E5ECF6",
            "gridcolor": "white",
            "gridwidth": 2,
            "linecolor": "white",
            "showbackground": true,
            "ticks": "",
            "zerolinecolor": "white"
           }
          },
          "shapedefaults": {
           "line": {
            "color": "#2a3f5f"
           }
          },
          "ternary": {
           "aaxis": {
            "gridcolor": "white",
            "linecolor": "white",
            "ticks": ""
           },
           "baxis": {
            "gridcolor": "white",
            "linecolor": "white",
            "ticks": ""
           },
           "bgcolor": "#E5ECF6",
           "caxis": {
            "gridcolor": "white",
            "linecolor": "white",
            "ticks": ""
           }
          },
          "title": {
           "x": 0.05
          },
          "xaxis": {
           "automargin": true,
           "gridcolor": "white",
           "linecolor": "white",
           "ticks": "",
           "title": {
            "standoff": 15
           },
           "zerolinecolor": "white",
           "zerolinewidth": 2
          },
          "yaxis": {
           "automargin": true,
           "gridcolor": "white",
           "linecolor": "white",
           "ticks": "",
           "title": {
            "standoff": 15
           },
           "zerolinecolor": "white",
           "zerolinewidth": 2
          }
         }
        },
        "title": {
         "font": {
          "size": 24
         },
         "text": "Quantidade de pedidos por entregador agrupado por semana",
         "x": 0.5,
         "xanchor": "center"
        },
        "xaxis": {
         "anchor": "y",
         "domain": [
          0,
          1
         ],
         "showgrid": true,
         "title": {
          "font": {
           "size": 18
          },
          "text": "Semana"
         }
        },
        "yaxis": {
         "anchor": "x",
         "domain": [
          0,
          1
         ],
         "showgrid": true,
         "title": {
          "font": {
           "size": 18
          },
          "text": "Quantidade de pedidos por entregador"
         }
        }
       }
      }
     },
     "metadata": {},
     "output_type": "display_data"
    }
   ],
   "source": [
    "# Criar gráfico de linhas\n",
    "fig = px.line(df_aux, x=\"Week_Ordered\", y=\"Oder_by_delivery\", title=\"Quantidade de pedidos por entregador agrupado por semana\", labels={\"Week_Ordered\": \"Semana\", \"Oder_by_delivery\": \"Quantidade de pedidos por entregador\"}, markers=True)\n",
    "fig.update_layout(title={\"x\": 0.5, \"xanchor\": \"center\", \"font\": {\"size\": 24}},\n",
    "    xaxis={\"title_font\": {\"size\": 18}, \"showgrid\": True},\n",
    "    yaxis={\"title_font\": {\"size\": 18}, \"showgrid\": True})\n",
    "fig.show()"
   ]
  },
  {
   "cell_type": "markdown",
   "id": "fa46e08c",
   "metadata": {},
   "source": [
    "### 6 Localização central de entregas de cada tipo de cidade agrupado por tipo de tráfego"
   ]
  },
  {
   "cell_type": "code",
   "execution_count": 83,
   "id": "ad0120e4",
   "metadata": {},
   "outputs": [],
   "source": [
    "df_aux = df_work[[\"City\", \"Road_traffic_density\", \"Delivery_location\"]].copy()\n",
    "df_aux[[\"Delivery_location_x\", \"Delivery_location_y\"]] = pd.DataFrame(df_aux[\"Delivery_location\"].tolist(), index=df_aux.index)\n",
    "df_aux = df_aux.drop(columns=[\"Delivery_location\"])\n",
    "df_aux = df_aux.groupby([\"City\", \"Road_traffic_density\"]).median().reset_index()\n",
    "df_aux[\"Delivery_location\"] = list(zip(df_aux[\"Delivery_location_x\"], df_aux[\"Delivery_location_y\"]))\n",
    "df_aux = df_aux.drop(columns=[\"Delivery_location_x\", \"Delivery_location_y\"])\n",
    "mapa = folium.Map()\n",
    "for index, location_info in df_aux.iterrows():\n",
    "    folium.Marker(location_info[\"Delivery_location\"], popup=location_info[[\"City\", \"Road_traffic_density\"]]).add_to(mapa)"
   ]
  },
  {
   "cell_type": "code",
   "execution_count": 84,
   "id": "13e1c850",
   "metadata": {},
   "outputs": [
    {
     "data": {
      "text/html": [
       "<div style=\"width:100%;\"><div style=\"position:relative;width:100%;height:0;padding-bottom:60%;\"><span style=\"color:#565656\">Make this Notebook Trusted to load map: File -> Trust Notebook</span><iframe srcdoc=\"&lt;!DOCTYPE html&gt;\n",
       "&lt;html&gt;\n",
       "&lt;head&gt;\n",
       "    \n",
       "    &lt;meta http-equiv=&quot;content-type&quot; content=&quot;text/html; charset=UTF-8&quot; /&gt;\n",
       "    &lt;script src=&quot;https://cdn.jsdelivr.net/npm/leaflet@1.9.3/dist/leaflet.js&quot;&gt;&lt;/script&gt;\n",
       "    &lt;script src=&quot;https://code.jquery.com/jquery-3.7.1.min.js&quot;&gt;&lt;/script&gt;\n",
       "    &lt;script src=&quot;https://cdn.jsdelivr.net/npm/bootstrap@5.2.2/dist/js/bootstrap.bundle.min.js&quot;&gt;&lt;/script&gt;\n",
       "    &lt;script src=&quot;https://cdnjs.cloudflare.com/ajax/libs/Leaflet.awesome-markers/2.0.2/leaflet.awesome-markers.js&quot;&gt;&lt;/script&gt;\n",
       "    &lt;link rel=&quot;stylesheet&quot; href=&quot;https://cdn.jsdelivr.net/npm/leaflet@1.9.3/dist/leaflet.css&quot;/&gt;\n",
       "    &lt;link rel=&quot;stylesheet&quot; href=&quot;https://cdn.jsdelivr.net/npm/bootstrap@5.2.2/dist/css/bootstrap.min.css&quot;/&gt;\n",
       "    &lt;link rel=&quot;stylesheet&quot; href=&quot;https://netdna.bootstrapcdn.com/bootstrap/3.0.0/css/bootstrap-glyphicons.css&quot;/&gt;\n",
       "    &lt;link rel=&quot;stylesheet&quot; href=&quot;https://cdn.jsdelivr.net/npm/@fortawesome/fontawesome-free@6.2.0/css/all.min.css&quot;/&gt;\n",
       "    &lt;link rel=&quot;stylesheet&quot; href=&quot;https://cdnjs.cloudflare.com/ajax/libs/Leaflet.awesome-markers/2.0.2/leaflet.awesome-markers.css&quot;/&gt;\n",
       "    &lt;link rel=&quot;stylesheet&quot; href=&quot;https://cdn.jsdelivr.net/gh/python-visualization/folium/folium/templates/leaflet.awesome.rotate.min.css&quot;/&gt;\n",
       "    \n",
       "            &lt;meta name=&quot;viewport&quot; content=&quot;width=device-width,\n",
       "                initial-scale=1.0, maximum-scale=1.0, user-scalable=no&quot; /&gt;\n",
       "            &lt;style&gt;\n",
       "                #map_02994ab93c1e4b20d37700b5e79f4e4b {\n",
       "                    position: relative;\n",
       "                    width: 100.0%;\n",
       "                    height: 100.0%;\n",
       "                    left: 0.0%;\n",
       "                    top: 0.0%;\n",
       "                }\n",
       "                .leaflet-container { font-size: 1rem; }\n",
       "            &lt;/style&gt;\n",
       "\n",
       "            &lt;style&gt;html, body {\n",
       "                width: 100%;\n",
       "                height: 100%;\n",
       "                margin: 0;\n",
       "                padding: 0;\n",
       "            }\n",
       "            &lt;/style&gt;\n",
       "\n",
       "            &lt;style&gt;#map {\n",
       "                position:absolute;\n",
       "                top:0;\n",
       "                bottom:0;\n",
       "                right:0;\n",
       "                left:0;\n",
       "                }\n",
       "            &lt;/style&gt;\n",
       "\n",
       "            &lt;script&gt;\n",
       "                L_NO_TOUCH = false;\n",
       "                L_DISABLE_3D = false;\n",
       "            &lt;/script&gt;\n",
       "\n",
       "        \n",
       "&lt;/head&gt;\n",
       "&lt;body&gt;\n",
       "    \n",
       "    \n",
       "            &lt;div class=&quot;folium-map&quot; id=&quot;map_02994ab93c1e4b20d37700b5e79f4e4b&quot; &gt;&lt;/div&gt;\n",
       "        \n",
       "&lt;/body&gt;\n",
       "&lt;script&gt;\n",
       "    \n",
       "    \n",
       "            var map_02994ab93c1e4b20d37700b5e79f4e4b = L.map(\n",
       "                &quot;map_02994ab93c1e4b20d37700b5e79f4e4b&quot;,\n",
       "                {\n",
       "                    center: [0.0, 0.0],\n",
       "                    crs: L.CRS.EPSG3857,\n",
       "                    ...{\n",
       "  &quot;zoom&quot;: 1,\n",
       "  &quot;zoomControl&quot;: true,\n",
       "  &quot;preferCanvas&quot;: false,\n",
       "}\n",
       "\n",
       "                }\n",
       "            );\n",
       "\n",
       "            \n",
       "\n",
       "        \n",
       "    \n",
       "            var tile_layer_5b002c99b9eefed3f616ad28b6ff5a3d = L.tileLayer(\n",
       "                &quot;https://tile.openstreetmap.org/{z}/{x}/{y}.png&quot;,\n",
       "                {\n",
       "  &quot;minZoom&quot;: 0,\n",
       "  &quot;maxZoom&quot;: 19,\n",
       "  &quot;maxNativeZoom&quot;: 19,\n",
       "  &quot;noWrap&quot;: false,\n",
       "  &quot;attribution&quot;: &quot;\\u0026copy; \\u003ca href=\\&quot;https://www.openstreetmap.org/copyright\\&quot;\\u003eOpenStreetMap\\u003c/a\\u003e contributors&quot;,\n",
       "  &quot;subdomains&quot;: &quot;abc&quot;,\n",
       "  &quot;detectRetina&quot;: false,\n",
       "  &quot;tms&quot;: false,\n",
       "  &quot;opacity&quot;: 1,\n",
       "}\n",
       "\n",
       "            );\n",
       "        \n",
       "    \n",
       "            tile_layer_5b002c99b9eefed3f616ad28b6ff5a3d.addTo(map_02994ab93c1e4b20d37700b5e79f4e4b);\n",
       "        \n",
       "    \n",
       "            var marker_1227cfcac130a836ba64a09b2a11402f = L.marker(\n",
       "                [18.5596575, 75.922678],\n",
       "                {\n",
       "}\n",
       "            ).addTo(map_02994ab93c1e4b20d37700b5e79f4e4b);\n",
       "        \n",
       "    \n",
       "        var popup_db66d80a38f67728f6f088de5da73602 = L.popup({\n",
       "  &quot;maxWidth&quot;: &quot;100%&quot;,\n",
       "});\n",
       "\n",
       "        \n",
       "            \n",
       "                var html_3d66e46e6ae7c70acc5f90936b2a6e73 = $(`&lt;div id=&quot;html_3d66e46e6ae7c70acc5f90936b2a6e73&quot; style=&quot;width: 100.0%; height: 100.0%;&quot;&gt;City                    Metropolitan Road_traffic_density            High Name: 0, dtype: object&lt;/div&gt;`)[0];\n",
       "                popup_db66d80a38f67728f6f088de5da73602.setContent(html_3d66e46e6ae7c70acc5f90936b2a6e73);\n",
       "            \n",
       "        \n",
       "\n",
       "        marker_1227cfcac130a836ba64a09b2a11402f.bindPopup(popup_db66d80a38f67728f6f088de5da73602)\n",
       "        ;\n",
       "\n",
       "        \n",
       "    \n",
       "    \n",
       "            var marker_b8d6646e3b61dadd8b4a402c6a2dccba = L.marker(\n",
       "                [18.623626, 76.633067],\n",
       "                {\n",
       "}\n",
       "            ).addTo(map_02994ab93c1e4b20d37700b5e79f4e4b);\n",
       "        \n",
       "    \n",
       "        var popup_f7d4c393e558fa6225492e4738cac379 = L.popup({\n",
       "  &quot;maxWidth&quot;: &quot;100%&quot;,\n",
       "});\n",
       "\n",
       "        \n",
       "            \n",
       "                var html_fb8ab636c2da5590bd45529c439e741c = $(`&lt;div id=&quot;html_fb8ab636c2da5590bd45529c439e741c&quot; style=&quot;width: 100.0%; height: 100.0%;&quot;&gt;City                    Metropolitan Road_traffic_density             Jam Name: 1, dtype: object&lt;/div&gt;`)[0];\n",
       "                popup_f7d4c393e558fa6225492e4738cac379.setContent(html_fb8ab636c2da5590bd45529c439e741c);\n",
       "            \n",
       "        \n",
       "\n",
       "        marker_b8d6646e3b61dadd8b4a402c6a2dccba.bindPopup(popup_f7d4c393e558fa6225492e4738cac379)\n",
       "        ;\n",
       "\n",
       "        \n",
       "    \n",
       "    \n",
       "            var marker_70fa35096b83b773a98ceb26d3d7c853 = L.marker(\n",
       "                [18.723481, 75.926059],\n",
       "                {\n",
       "}\n",
       "            ).addTo(map_02994ab93c1e4b20d37700b5e79f4e4b);\n",
       "        \n",
       "    \n",
       "        var popup_424e714e845657f9fbc62de04ac3379a = L.popup({\n",
       "  &quot;maxWidth&quot;: &quot;100%&quot;,\n",
       "});\n",
       "\n",
       "        \n",
       "            \n",
       "                var html_406ec1992c8d2f3af72268d7bae7b11c = $(`&lt;div id=&quot;html_406ec1992c8d2f3af72268d7bae7b11c&quot; style=&quot;width: 100.0%; height: 100.0%;&quot;&gt;City                    Metropolitan Road_traffic_density             Low Name: 2, dtype: object&lt;/div&gt;`)[0];\n",
       "                popup_424e714e845657f9fbc62de04ac3379a.setContent(html_406ec1992c8d2f3af72268d7bae7b11c);\n",
       "            \n",
       "        \n",
       "\n",
       "        marker_70fa35096b83b773a98ceb26d3d7c853.bindPopup(popup_424e714e845657f9fbc62de04ac3379a)\n",
       "        ;\n",
       "\n",
       "        \n",
       "    \n",
       "    \n",
       "            var marker_616a184371325c06f24494f7543e8756 = L.marker(\n",
       "                [18.646216, 76.355211],\n",
       "                {\n",
       "}\n",
       "            ).addTo(map_02994ab93c1e4b20d37700b5e79f4e4b);\n",
       "        \n",
       "    \n",
       "        var popup_070a6d638f5f4ed5443da95aaa3c29f9 = L.popup({\n",
       "  &quot;maxWidth&quot;: &quot;100%&quot;,\n",
       "});\n",
       "\n",
       "        \n",
       "            \n",
       "                var html_b91ab9b794a61dea4b12d0b677360e58 = $(`&lt;div id=&quot;html_b91ab9b794a61dea4b12d0b677360e58&quot; style=&quot;width: 100.0%; height: 100.0%;&quot;&gt;City                    Metropolitan Road_traffic_density          Medium Name: 3, dtype: object&lt;/div&gt;`)[0];\n",
       "                popup_070a6d638f5f4ed5443da95aaa3c29f9.setContent(html_b91ab9b794a61dea4b12d0b677360e58);\n",
       "            \n",
       "        \n",
       "\n",
       "        marker_616a184371325c06f24494f7543e8756.bindPopup(popup_070a6d638f5f4ed5443da95aaa3c29f9)\n",
       "        ;\n",
       "\n",
       "        \n",
       "    \n",
       "    \n",
       "            var marker_25fd2a78d5722e3bff7759fe21feda3d = L.marker(\n",
       "                [22.0098045, 74.397772],\n",
       "                {\n",
       "}\n",
       "            ).addTo(map_02994ab93c1e4b20d37700b5e79f4e4b);\n",
       "        \n",
       "    \n",
       "        var popup_31ebbcce644a7318c8ab72d3f3591ea8 = L.popup({\n",
       "  &quot;maxWidth&quot;: &quot;100%&quot;,\n",
       "});\n",
       "\n",
       "        \n",
       "            \n",
       "                var html_c2f4f67b2b687cd95e3f88aa7a502d32 = $(`&lt;div id=&quot;html_c2f4f67b2b687cd95e3f88aa7a502d32&quot; style=&quot;width: 100.0%; height: 100.0%;&quot;&gt;City                    Metropolitan Road_traffic_density         Unknown Name: 4, dtype: object&lt;/div&gt;`)[0];\n",
       "                popup_31ebbcce644a7318c8ab72d3f3591ea8.setContent(html_c2f4f67b2b687cd95e3f88aa7a502d32);\n",
       "            \n",
       "        \n",
       "\n",
       "        marker_25fd2a78d5722e3bff7759fe21feda3d.bindPopup(popup_31ebbcce644a7318c8ab72d3f3591ea8)\n",
       "        ;\n",
       "\n",
       "        \n",
       "    \n",
       "    \n",
       "            var marker_50e28cea0f827c967724d21a806b9afa = L.marker(\n",
       "                [18.576718, 73.870328],\n",
       "                {\n",
       "}\n",
       "            ).addTo(map_02994ab93c1e4b20d37700b5e79f4e4b);\n",
       "        \n",
       "    \n",
       "        var popup_d31a2e0eb0f31db5b078d7ecb60ca406 = L.popup({\n",
       "  &quot;maxWidth&quot;: &quot;100%&quot;,\n",
       "});\n",
       "\n",
       "        \n",
       "            \n",
       "                var html_057cf702693625e6f0cd5b4f967b98d5 = $(`&lt;div id=&quot;html_057cf702693625e6f0cd5b4f967b98d5&quot; style=&quot;width: 100.0%; height: 100.0%;&quot;&gt;City                    Semi-Urban Road_traffic_density          High Name: 5, dtype: object&lt;/div&gt;`)[0];\n",
       "                popup_d31a2e0eb0f31db5b078d7ecb60ca406.setContent(html_057cf702693625e6f0cd5b4f967b98d5);\n",
       "            \n",
       "        \n",
       "\n",
       "        marker_50e28cea0f827c967724d21a806b9afa.bindPopup(popup_d31a2e0eb0f31db5b078d7ecb60ca406)\n",
       "        ;\n",
       "\n",
       "        \n",
       "    \n",
       "    \n",
       "            var marker_0fa02d4bc20bf8f5795959ddb0f4c732 = L.marker(\n",
       "                [22.338096, 75.89282],\n",
       "                {\n",
       "}\n",
       "            ).addTo(map_02994ab93c1e4b20d37700b5e79f4e4b);\n",
       "        \n",
       "    \n",
       "        var popup_1d1a6dd98d79f7c19bc204306e005aaa = L.popup({\n",
       "  &quot;maxWidth&quot;: &quot;100%&quot;,\n",
       "});\n",
       "\n",
       "        \n",
       "            \n",
       "                var html_697dc5198d1e3247aec2d4fdb9af8b76 = $(`&lt;div id=&quot;html_697dc5198d1e3247aec2d4fdb9af8b76&quot; style=&quot;width: 100.0%; height: 100.0%;&quot;&gt;City                    Semi-Urban Road_traffic_density           Jam Name: 6, dtype: object&lt;/div&gt;`)[0];\n",
       "                popup_1d1a6dd98d79f7c19bc204306e005aaa.setContent(html_697dc5198d1e3247aec2d4fdb9af8b76);\n",
       "            \n",
       "        \n",
       "\n",
       "        marker_0fa02d4bc20bf8f5795959ddb0f4c732.bindPopup(popup_1d1a6dd98d79f7c19bc204306e005aaa)\n",
       "        ;\n",
       "\n",
       "        \n",
       "    \n",
       "    \n",
       "            var marker_890ed7091a33279a9fbd4cf2727cebd3 = L.marker(\n",
       "                [13.049096, 77.753237],\n",
       "                {\n",
       "}\n",
       "            ).addTo(map_02994ab93c1e4b20d37700b5e79f4e4b);\n",
       "        \n",
       "    \n",
       "        var popup_47fe394b8017e91ae6e7bb63d29fd158 = L.popup({\n",
       "  &quot;maxWidth&quot;: &quot;100%&quot;,\n",
       "});\n",
       "\n",
       "        \n",
       "            \n",
       "                var html_d8992aadf8d38e14b8fdb7b48cb83732 = $(`&lt;div id=&quot;html_d8992aadf8d38e14b8fdb7b48cb83732&quot; style=&quot;width: 100.0%; height: 100.0%;&quot;&gt;City                    Semi-Urban Road_traffic_density        Medium Name: 7, dtype: object&lt;/div&gt;`)[0];\n",
       "                popup_47fe394b8017e91ae6e7bb63d29fd158.setContent(html_d8992aadf8d38e14b8fdb7b48cb83732);\n",
       "            \n",
       "        \n",
       "\n",
       "        marker_890ed7091a33279a9fbd4cf2727cebd3.bindPopup(popup_47fe394b8017e91ae6e7bb63d29fd158)\n",
       "        ;\n",
       "\n",
       "        \n",
       "    \n",
       "    \n",
       "            var marker_5fcb527a0b260635629c2acf1b5af7bd = L.marker(\n",
       "                [15.843227500000001, 76.4212445],\n",
       "                {\n",
       "}\n",
       "            ).addTo(map_02994ab93c1e4b20d37700b5e79f4e4b);\n",
       "        \n",
       "    \n",
       "        var popup_71eae42c1c9b77eed24d4cccc3a8d9c5 = L.popup({\n",
       "  &quot;maxWidth&quot;: &quot;100%&quot;,\n",
       "});\n",
       "\n",
       "        \n",
       "            \n",
       "                var html_9737681d403cc5178a6122b9e4898d66 = $(`&lt;div id=&quot;html_9737681d403cc5178a6122b9e4898d66&quot; style=&quot;width: 100.0%; height: 100.0%;&quot;&gt;City                    Unknown Road_traffic_density       High Name: 8, dtype: object&lt;/div&gt;`)[0];\n",
       "                popup_71eae42c1c9b77eed24d4cccc3a8d9c5.setContent(html_9737681d403cc5178a6122b9e4898d66);\n",
       "            \n",
       "        \n",
       "\n",
       "        marker_5fcb527a0b260635629c2acf1b5af7bd.bindPopup(popup_71eae42c1c9b77eed24d4cccc3a8d9c5)\n",
       "        ;\n",
       "\n",
       "        \n",
       "    \n",
       "    \n",
       "            var marker_3f4602b786ae44621d8aa8c5c3b135fc = L.marker(\n",
       "                [19.124442000000002, 75.95144400000001],\n",
       "                {\n",
       "}\n",
       "            ).addTo(map_02994ab93c1e4b20d37700b5e79f4e4b);\n",
       "        \n",
       "    \n",
       "        var popup_e30a9fdd56bf4c161798991622ca6edd = L.popup({\n",
       "  &quot;maxWidth&quot;: &quot;100%&quot;,\n",
       "});\n",
       "\n",
       "        \n",
       "            \n",
       "                var html_69dc2faffd4a28807ef77e9175639d9d = $(`&lt;div id=&quot;html_69dc2faffd4a28807ef77e9175639d9d&quot; style=&quot;width: 100.0%; height: 100.0%;&quot;&gt;City                    Unknown Road_traffic_density        Jam Name: 9, dtype: object&lt;/div&gt;`)[0];\n",
       "                popup_e30a9fdd56bf4c161798991622ca6edd.setContent(html_69dc2faffd4a28807ef77e9175639d9d);\n",
       "            \n",
       "        \n",
       "\n",
       "        marker_3f4602b786ae44621d8aa8c5c3b135fc.bindPopup(popup_e30a9fdd56bf4c161798991622ca6edd)\n",
       "        ;\n",
       "\n",
       "        \n",
       "    \n",
       "    \n",
       "            var marker_ca2ddd21c9972e1b85416484a6ca94f6 = L.marker(\n",
       "                [19.053517, 75.937522],\n",
       "                {\n",
       "}\n",
       "            ).addTo(map_02994ab93c1e4b20d37700b5e79f4e4b);\n",
       "        \n",
       "    \n",
       "        var popup_2dbabb8c1eb194e0685b5b9e1ac20c48 = L.popup({\n",
       "  &quot;maxWidth&quot;: &quot;100%&quot;,\n",
       "});\n",
       "\n",
       "        \n",
       "            \n",
       "                var html_b3315a670e70b70a57cbd8ccc95069e7 = $(`&lt;div id=&quot;html_b3315a670e70b70a57cbd8ccc95069e7&quot; style=&quot;width: 100.0%; height: 100.0%;&quot;&gt;City                    Unknown Road_traffic_density        Low Name: 10, dtype: object&lt;/div&gt;`)[0];\n",
       "                popup_2dbabb8c1eb194e0685b5b9e1ac20c48.setContent(html_b3315a670e70b70a57cbd8ccc95069e7);\n",
       "            \n",
       "        \n",
       "\n",
       "        marker_ca2ddd21c9972e1b85416484a6ca94f6.bindPopup(popup_2dbabb8c1eb194e0685b5b9e1ac20c48)\n",
       "        ;\n",
       "\n",
       "        \n",
       "    \n",
       "    \n",
       "            var marker_b62525e414e0f906e3710207236f2d2b = L.marker(\n",
       "                [18.589299, 75.943112],\n",
       "                {\n",
       "}\n",
       "            ).addTo(map_02994ab93c1e4b20d37700b5e79f4e4b);\n",
       "        \n",
       "    \n",
       "        var popup_8934c85001fdc3ae323dcd39cf80ee51 = L.popup({\n",
       "  &quot;maxWidth&quot;: &quot;100%&quot;,\n",
       "});\n",
       "\n",
       "        \n",
       "            \n",
       "                var html_33794e647cb14d645c493e608e28d307 = $(`&lt;div id=&quot;html_33794e647cb14d645c493e608e28d307&quot; style=&quot;width: 100.0%; height: 100.0%;&quot;&gt;City                    Unknown Road_traffic_density     Medium Name: 11, dtype: object&lt;/div&gt;`)[0];\n",
       "                popup_8934c85001fdc3ae323dcd39cf80ee51.setContent(html_33794e647cb14d645c493e608e28d307);\n",
       "            \n",
       "        \n",
       "\n",
       "        marker_b62525e414e0f906e3710207236f2d2b.bindPopup(popup_8934c85001fdc3ae323dcd39cf80ee51)\n",
       "        ;\n",
       "\n",
       "        \n",
       "    \n",
       "    \n",
       "            var marker_abef77de7fd49f898684c7e40111ed04 = L.marker(\n",
       "                [17.473935, 76.1303485],\n",
       "                {\n",
       "}\n",
       "            ).addTo(map_02994ab93c1e4b20d37700b5e79f4e4b);\n",
       "        \n",
       "    \n",
       "        var popup_249c4c6b75dbd6698a355de1fb99e7d2 = L.popup({\n",
       "  &quot;maxWidth&quot;: &quot;100%&quot;,\n",
       "});\n",
       "\n",
       "        \n",
       "            \n",
       "                var html_f7c3037af795a214a61dca49995b5d13 = $(`&lt;div id=&quot;html_f7c3037af795a214a61dca49995b5d13&quot; style=&quot;width: 100.0%; height: 100.0%;&quot;&gt;City                    Urban Road_traffic_density     High Name: 12, dtype: object&lt;/div&gt;`)[0];\n",
       "                popup_249c4c6b75dbd6698a355de1fb99e7d2.setContent(html_f7c3037af795a214a61dca49995b5d13);\n",
       "            \n",
       "        \n",
       "\n",
       "        marker_abef77de7fd49f898684c7e40111ed04.bindPopup(popup_249c4c6b75dbd6698a355de1fb99e7d2)\n",
       "        ;\n",
       "\n",
       "        \n",
       "    \n",
       "    \n",
       "            var marker_713fa160a47f0f008b4d6a980b871155 = L.marker(\n",
       "                [18.61408, 75.957521],\n",
       "                {\n",
       "}\n",
       "            ).addTo(map_02994ab93c1e4b20d37700b5e79f4e4b);\n",
       "        \n",
       "    \n",
       "        var popup_66a07055373c5ca40f2d07e2e47c9558 = L.popup({\n",
       "  &quot;maxWidth&quot;: &quot;100%&quot;,\n",
       "});\n",
       "\n",
       "        \n",
       "            \n",
       "                var html_d1ca1cdf6d4921c822927eaeeae04190 = $(`&lt;div id=&quot;html_d1ca1cdf6d4921c822927eaeeae04190&quot; style=&quot;width: 100.0%; height: 100.0%;&quot;&gt;City                    Urban Road_traffic_density      Jam Name: 13, dtype: object&lt;/div&gt;`)[0];\n",
       "                popup_66a07055373c5ca40f2d07e2e47c9558.setContent(html_d1ca1cdf6d4921c822927eaeeae04190);\n",
       "            \n",
       "        \n",
       "\n",
       "        marker_713fa160a47f0f008b4d6a980b871155.bindPopup(popup_66a07055373c5ca40f2d07e2e47c9558)\n",
       "        ;\n",
       "\n",
       "        \n",
       "    \n",
       "    \n",
       "            var marker_cc89445e7629f29b0d69fa66484e925a = L.marker(\n",
       "                [18.618123, 75.909531],\n",
       "                {\n",
       "}\n",
       "            ).addTo(map_02994ab93c1e4b20d37700b5e79f4e4b);\n",
       "        \n",
       "    \n",
       "        var popup_21a41332d502e8461e8363ec4a6f3491 = L.popup({\n",
       "  &quot;maxWidth&quot;: &quot;100%&quot;,\n",
       "});\n",
       "\n",
       "        \n",
       "            \n",
       "                var html_4ae4f26c6edda48a0f8c661f788a1f3a = $(`&lt;div id=&quot;html_4ae4f26c6edda48a0f8c661f788a1f3a&quot; style=&quot;width: 100.0%; height: 100.0%;&quot;&gt;City                    Urban Road_traffic_density      Low Name: 14, dtype: object&lt;/div&gt;`)[0];\n",
       "                popup_21a41332d502e8461e8363ec4a6f3491.setContent(html_4ae4f26c6edda48a0f8c661f788a1f3a);\n",
       "            \n",
       "        \n",
       "\n",
       "        marker_cc89445e7629f29b0d69fa66484e925a.bindPopup(popup_21a41332d502e8461e8363ec4a6f3491)\n",
       "        ;\n",
       "\n",
       "        \n",
       "    \n",
       "    \n",
       "            var marker_f5662d48ea33e2b5409e422157ec47f3 = L.marker(\n",
       "                [17.530487, 76.68536950000001],\n",
       "                {\n",
       "}\n",
       "            ).addTo(map_02994ab93c1e4b20d37700b5e79f4e4b);\n",
       "        \n",
       "    \n",
       "        var popup_b2a3740a5f1eaa048fe92b6057ab1f38 = L.popup({\n",
       "  &quot;maxWidth&quot;: &quot;100%&quot;,\n",
       "});\n",
       "\n",
       "        \n",
       "            \n",
       "                var html_6eb6d9f955067db58515db92ff3ecc04 = $(`&lt;div id=&quot;html_6eb6d9f955067db58515db92ff3ecc04&quot; style=&quot;width: 100.0%; height: 100.0%;&quot;&gt;City                     Urban Road_traffic_density    Medium Name: 15, dtype: object&lt;/div&gt;`)[0];\n",
       "                popup_b2a3740a5f1eaa048fe92b6057ab1f38.setContent(html_6eb6d9f955067db58515db92ff3ecc04);\n",
       "            \n",
       "        \n",
       "\n",
       "        marker_f5662d48ea33e2b5409e422157ec47f3.bindPopup(popup_b2a3740a5f1eaa048fe92b6057ab1f38)\n",
       "        ;\n",
       "\n",
       "        \n",
       "    \n",
       "    \n",
       "            var marker_5d62f1e3c7f17f24349115bc63970935 = L.marker(\n",
       "                [19.9957575, 76.7889155],\n",
       "                {\n",
       "}\n",
       "            ).addTo(map_02994ab93c1e4b20d37700b5e79f4e4b);\n",
       "        \n",
       "    \n",
       "        var popup_43dc9a54e65e0f6787447f86155dc1ea = L.popup({\n",
       "  &quot;maxWidth&quot;: &quot;100%&quot;,\n",
       "});\n",
       "\n",
       "        \n",
       "            \n",
       "                var html_b8143058ff5bc7977089db39fb80ab80 = $(`&lt;div id=&quot;html_b8143058ff5bc7977089db39fb80ab80&quot; style=&quot;width: 100.0%; height: 100.0%;&quot;&gt;City                      Urban Road_traffic_density    Unknown Name: 16, dtype: object&lt;/div&gt;`)[0];\n",
       "                popup_43dc9a54e65e0f6787447f86155dc1ea.setContent(html_b8143058ff5bc7977089db39fb80ab80);\n",
       "            \n",
       "        \n",
       "\n",
       "        marker_5d62f1e3c7f17f24349115bc63970935.bindPopup(popup_43dc9a54e65e0f6787447f86155dc1ea)\n",
       "        ;\n",
       "\n",
       "        \n",
       "    \n",
       "&lt;/script&gt;\n",
       "&lt;/html&gt;\" style=\"position:absolute;width:100%;height:100%;left:0;top:0;border:none !important;\" allowfullscreen webkitallowfullscreen mozallowfullscreen></iframe></div></div>"
      ],
      "text/plain": [
       "<folium.folium.Map at 0x20402668d10>"
      ]
     },
     "execution_count": 84,
     "metadata": {},
     "output_type": "execute_result"
    }
   ],
   "source": [
    "mapa"
   ]
  },
  {
   "cell_type": "code",
   "execution_count": null,
   "id": "6a638cf0",
   "metadata": {},
   "outputs": [],
   "source": []
  }
 ],
 "metadata": {
  "kernelspec": {
   "display_name": ".venv",
   "language": "python",
   "name": "python3"
  },
  "language_info": {
   "codemirror_mode": {
    "name": "ipython",
    "version": 3
   },
   "file_extension": ".py",
   "mimetype": "text/x-python",
   "name": "python",
   "nbconvert_exporter": "python",
   "pygments_lexer": "ipython3",
   "version": "3.13.2"
  }
 },
 "nbformat": 4,
 "nbformat_minor": 5
}
