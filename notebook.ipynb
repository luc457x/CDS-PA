{
 "cells": [
  {
   "cell_type": "markdown",
   "id": "4e32017a",
   "metadata": {},
   "source": [
    "# 1.0 Imports"
   ]
  },
  {
   "cell_type": "code",
   "execution_count": null,
   "id": "edd2d0ab",
   "metadata": {},
   "outputs": [],
   "source": [
    "from utils import *"
   ]
  },
  {
   "cell_type": "markdown",
   "id": "10a9fa6c",
   "metadata": {},
   "source": [
    "# 2.0 Set Globals & Functions"
   ]
  },
  {
   "cell_type": "code",
   "execution_count": 2,
   "id": "9d188a52",
   "metadata": {},
   "outputs": [],
   "source": [
    "def checkData(x):\n",
    "    print(f\"\\nInfo dos valores:\\n\")\n",
    "    print(x.info())\n",
    "    print(f\"\\nDescrição dos dados:\\n\\n{x.describe()}\")\n",
    "    return\n",
    "\n",
    "def checkNaN(x):\n",
    "    # Recebe um DataFrame e retorna a quantidade de valores nulos e não nulos.\n",
    "    null_count = x.isna().sum()\n",
    "    non_null_count = x.notnull().sum()\n",
    "    print(f\"Null values:\\n {null_count}\")\n",
    "    print(f\"Non-null values:\\n {non_null_count}\")\n",
    "    return\n",
    "\n",
    "def checkOutliers(x):\n",
    "    \"\"\"Recebe um DataFrame e retorna um DataFrame com os outliers.\n",
    "    Baseia-se no pressuposto de que os dados estão normalmente distribuídos.\"\"\"\n",
    "    dfOutliers  = pd.DataFrame()\n",
    "    # Itera sobre as colunas númericas\n",
    "    for column in x.select_dtypes(include=[np.number]).columns:\n",
    "        # Calcula o 1 quartil (Q1)\n",
    "        Q1 = x[column].quantile(0.25)\n",
    "        # Calcula o 3 quartil (Q3)\n",
    "        Q3 = x[column].quantile(0.75)\n",
    "        # Calcula o Intervalo Interquartil (IQR)\n",
    "        IQR = Q3 - Q1\n",
    "        # Define os limites inferior e superior para outliers\n",
    "        lower_bound = Q1 - 1.5 * IQR\n",
    "        upper_bound = Q3 + 1.5 * IQR\n",
    "        # Identica os outliers da coluna atual e adiciona ao DataFrame de outliers\n",
    "        outliers = x[(x[column] < lower_bound) | (x[column] > upper_bound)]\n",
    "        # Concatene os outliers da coluna atual ao DataFrame de outliers\n",
    "        dfOutliers = pd.concat([dfOutliers, outliers])\n",
    "    outliersData = dfOutliers.drop_duplicates().reset_index(drop=True)\n",
    "    return outliersData\n",
    "\n",
    "def corr(x):\n",
    "    plt.figure(figsize=(10,8))\n",
    "    sns.heatmap(x.select_dtypes(include=[np.number]).corr(), annot=True)\n",
    "    plt.show()\n",
    "    return\n",
    "\n",
    "def hist(x):\n",
    "    # Recebe um DataFrame e plota um histograma para cada coluna numérica.\n",
    "    x.hist(bins=50, figsize=(25,10))\n",
    "    plt.show()\n",
    "    return\n",
    "\n",
    "\n"
   ]
  },
  {
   "cell_type": "markdown",
   "id": "297c1e14",
   "metadata": {},
   "source": [
    "# 3.0 Carregamento e Checagem"
   ]
  },
  {
   "cell_type": "code",
   "execution_count": 3,
   "id": "b717edac",
   "metadata": {},
   "outputs": [],
   "source": [
    "df_raw = pd.read_csv(\"train.csv\")"
   ]
  },
  {
   "cell_type": "code",
   "execution_count": 4,
   "id": "7c6bc5ea",
   "metadata": {},
   "outputs": [
    {
     "name": "stdout",
     "output_type": "stream",
     "text": [
      "\n",
      "Info dos valores:\n",
      "\n",
      "<class 'pandas.core.frame.DataFrame'>\n",
      "RangeIndex: 4467 entries, 0 to 4466\n",
      "Data columns (total 20 columns):\n",
      " #   Column                       Non-Null Count  Dtype  \n",
      "---  ------                       --------------  -----  \n",
      " 0   ID                           4467 non-null   object \n",
      " 1   Delivery_person_ID           4467 non-null   object \n",
      " 2   Delivery_person_Age          4467 non-null   object \n",
      " 3   Delivery_person_Ratings      4467 non-null   object \n",
      " 4   Restaurant_latitude          4467 non-null   float64\n",
      " 5   Restaurant_longitude         4467 non-null   float64\n",
      " 6   Delivery_location_latitude   4467 non-null   float64\n",
      " 7   Delivery_location_longitude  4467 non-null   float64\n",
      " 8   Order_Date                   4467 non-null   object \n",
      " 9   Time_Orderd                  4467 non-null   object \n",
      " 10  Time_Order_picked            4467 non-null   object \n",
      " 11  Weatherconditions            4467 non-null   object \n",
      " 12  Road_traffic_density         4467 non-null   object \n",
      " 13  Vehicle_condition            4467 non-null   int64  \n",
      " 14  Type_of_order                4467 non-null   object \n",
      " 15  Type_of_vehicle              4467 non-null   object \n",
      " 16  multiple_deliveries          4467 non-null   object \n",
      " 17  Festival                     4467 non-null   object \n",
      " 18  City                         4466 non-null   object \n",
      " 19  Time_taken(min)              4466 non-null   object \n",
      "dtypes: float64(4), int64(1), object(15)\n",
      "memory usage: 698.1+ KB\n",
      "None\n",
      "\n",
      "Descrição dos dados:\n",
      "\n",
      "       Restaurant_latitude  Restaurant_longitude  Delivery_location_latitude  \\\n",
      "count          4467.000000           4467.000000                 4467.000000   \n",
      "mean             16.873720             69.855186                   17.345751   \n",
      "std               8.320083             23.490634                    7.436276   \n",
      "min             -30.902872            -88.322337                    0.010000   \n",
      "25%              12.906229             73.170000                   12.969496   \n",
      "50%              18.546258             75.894377                   18.619299   \n",
      "75%              22.725835             78.013330                   22.781857   \n",
      "max              30.914057             88.433452                   31.035562   \n",
      "\n",
      "       Delivery_location_longitude  Vehicle_condition  \n",
      "count                  4467.000000        4467.000000  \n",
      "mean                     70.509414           1.022386  \n",
      "std                      21.655254           0.840340  \n",
      "min                       0.010000           0.000000  \n",
      "25%                      73.280937           0.000000  \n",
      "50%                      75.996362           1.000000  \n",
      "75%                      78.081576           2.000000  \n",
      "max                      88.563452           3.000000  \n"
     ]
    }
   ],
   "source": [
    "checkData(df_raw)"
   ]
  },
  {
   "cell_type": "code",
   "execution_count": 5,
   "id": "16cd7d61",
   "metadata": {},
   "outputs": [
    {
     "data": {
      "text/html": [
       "<div>\n",
       "<style scoped>\n",
       "    .dataframe tbody tr th:only-of-type {\n",
       "        vertical-align: middle;\n",
       "    }\n",
       "\n",
       "    .dataframe tbody tr th {\n",
       "        vertical-align: top;\n",
       "    }\n",
       "\n",
       "    .dataframe thead th {\n",
       "        text-align: right;\n",
       "    }\n",
       "</style>\n",
       "<table border=\"1\" class=\"dataframe\">\n",
       "  <thead>\n",
       "    <tr style=\"text-align: right;\">\n",
       "      <th></th>\n",
       "      <th>ID</th>\n",
       "      <th>Delivery_person_ID</th>\n",
       "      <th>Delivery_person_Age</th>\n",
       "      <th>Delivery_person_Ratings</th>\n",
       "      <th>Restaurant_latitude</th>\n",
       "      <th>Restaurant_longitude</th>\n",
       "      <th>Delivery_location_latitude</th>\n",
       "      <th>Delivery_location_longitude</th>\n",
       "      <th>Order_Date</th>\n",
       "      <th>Time_Orderd</th>\n",
       "      <th>Time_Order_picked</th>\n",
       "      <th>Weatherconditions</th>\n",
       "      <th>Road_traffic_density</th>\n",
       "      <th>Vehicle_condition</th>\n",
       "      <th>Type_of_order</th>\n",
       "      <th>Type_of_vehicle</th>\n",
       "      <th>multiple_deliveries</th>\n",
       "      <th>Festival</th>\n",
       "      <th>City</th>\n",
       "      <th>Time_taken(min)</th>\n",
       "    </tr>\n",
       "  </thead>\n",
       "  <tbody>\n",
       "    <tr>\n",
       "      <th>2991</th>\n",
       "      <td>0xde2b</td>\n",
       "      <td>KOLRES08DEL02</td>\n",
       "      <td>20</td>\n",
       "      <td>4.5</td>\n",
       "      <td>22.537960</td>\n",
       "      <td>88.349843</td>\n",
       "      <td>22.557960</td>\n",
       "      <td>88.369843</td>\n",
       "      <td>15-02-2022</td>\n",
       "      <td>08:20:00</td>\n",
       "      <td>08:35:00</td>\n",
       "      <td>conditions Stormy</td>\n",
       "      <td>Low</td>\n",
       "      <td>1</td>\n",
       "      <td>Snack</td>\n",
       "      <td>motorcycle</td>\n",
       "      <td>0</td>\n",
       "      <td>No</td>\n",
       "      <td>Metropolitian</td>\n",
       "      <td>(min) 14</td>\n",
       "    </tr>\n",
       "    <tr>\n",
       "      <th>943</th>\n",
       "      <td>0xa80b</td>\n",
       "      <td>SURRES08DEL02</td>\n",
       "      <td>34</td>\n",
       "      <td>4.6</td>\n",
       "      <td>21.173343</td>\n",
       "      <td>72.792731</td>\n",
       "      <td>21.223343</td>\n",
       "      <td>72.842731</td>\n",
       "      <td>03-03-2022</td>\n",
       "      <td>00:00:00</td>\n",
       "      <td>00:15:00</td>\n",
       "      <td>conditions Cloudy</td>\n",
       "      <td>Low</td>\n",
       "      <td>1</td>\n",
       "      <td>Meal</td>\n",
       "      <td>motorcycle</td>\n",
       "      <td>1</td>\n",
       "      <td>No</td>\n",
       "      <td>Urban</td>\n",
       "      <td>(min) 19</td>\n",
       "    </tr>\n",
       "    <tr>\n",
       "      <th>185</th>\n",
       "      <td>0x33a4</td>\n",
       "      <td>CHENRES15DEL03</td>\n",
       "      <td>35</td>\n",
       "      <td>4.7</td>\n",
       "      <td>13.026286</td>\n",
       "      <td>80.275235</td>\n",
       "      <td>13.056286</td>\n",
       "      <td>80.305235</td>\n",
       "      <td>21-03-2022</td>\n",
       "      <td>21:20:00</td>\n",
       "      <td>21:30:00</td>\n",
       "      <td>conditions Fog</td>\n",
       "      <td>Jam</td>\n",
       "      <td>1</td>\n",
       "      <td>Drinks</td>\n",
       "      <td>motorcycle</td>\n",
       "      <td>1</td>\n",
       "      <td>No</td>\n",
       "      <td>Metropolitian</td>\n",
       "      <td>(min) 34</td>\n",
       "    </tr>\n",
       "    <tr>\n",
       "      <th>4409</th>\n",
       "      <td>0x99e3</td>\n",
       "      <td>JAPRES09DEL01</td>\n",
       "      <td>21</td>\n",
       "      <td>4.7</td>\n",
       "      <td>26.911378</td>\n",
       "      <td>75.789034</td>\n",
       "      <td>26.981378</td>\n",
       "      <td>75.859034</td>\n",
       "      <td>12-03-2022</td>\n",
       "      <td>19:00:00</td>\n",
       "      <td>19:10:00</td>\n",
       "      <td>conditions Sunny</td>\n",
       "      <td>Medium</td>\n",
       "      <td>0</td>\n",
       "      <td>Meal</td>\n",
       "      <td>motorcycle</td>\n",
       "      <td>0</td>\n",
       "      <td>No</td>\n",
       "      <td>Metropolitian</td>\n",
       "      <td>(min) 22</td>\n",
       "    </tr>\n",
       "    <tr>\n",
       "      <th>3887</th>\n",
       "      <td>0xdad</td>\n",
       "      <td>MUMRES010DEL02</td>\n",
       "      <td>29</td>\n",
       "      <td>4.8</td>\n",
       "      <td>19.003517</td>\n",
       "      <td>72.827650</td>\n",
       "      <td>19.083517</td>\n",
       "      <td>72.907650</td>\n",
       "      <td>12-03-2022</td>\n",
       "      <td>20:20:00</td>\n",
       "      <td>20:35:00</td>\n",
       "      <td>conditions Stormy</td>\n",
       "      <td>Jam</td>\n",
       "      <td>0</td>\n",
       "      <td>Snack</td>\n",
       "      <td>motorcycle</td>\n",
       "      <td>1</td>\n",
       "      <td>No</td>\n",
       "      <td>Metropolitian</td>\n",
       "      <td>(min) 27</td>\n",
       "    </tr>\n",
       "    <tr>\n",
       "      <th>4123</th>\n",
       "      <td>0x4a2d</td>\n",
       "      <td>SURRES19DEL01</td>\n",
       "      <td>35</td>\n",
       "      <td>4.9</td>\n",
       "      <td>21.149669</td>\n",
       "      <td>72.772629</td>\n",
       "      <td>21.189669</td>\n",
       "      <td>72.812629</td>\n",
       "      <td>17-03-2022</td>\n",
       "      <td>13:40:00</td>\n",
       "      <td>13:50:00</td>\n",
       "      <td>conditions Stormy</td>\n",
       "      <td>High</td>\n",
       "      <td>0</td>\n",
       "      <td>Meal</td>\n",
       "      <td>motorcycle</td>\n",
       "      <td>1</td>\n",
       "      <td>No</td>\n",
       "      <td>Metropolitian</td>\n",
       "      <td>(min) 34</td>\n",
       "    </tr>\n",
       "    <tr>\n",
       "      <th>3034</th>\n",
       "      <td>0xb2dc</td>\n",
       "      <td>VADRES08DEL02</td>\n",
       "      <td>26</td>\n",
       "      <td>4.7</td>\n",
       "      <td>0.000000</td>\n",
       "      <td>0.000000</td>\n",
       "      <td>0.080000</td>\n",
       "      <td>0.080000</td>\n",
       "      <td>06-04-2022</td>\n",
       "      <td>23:35:00</td>\n",
       "      <td>23:40:00</td>\n",
       "      <td>conditions Cloudy</td>\n",
       "      <td>Low</td>\n",
       "      <td>0</td>\n",
       "      <td>Meal</td>\n",
       "      <td>motorcycle</td>\n",
       "      <td>NaN</td>\n",
       "      <td>No</td>\n",
       "      <td>Urban</td>\n",
       "      <td>(min) 21</td>\n",
       "    </tr>\n",
       "    <tr>\n",
       "      <th>3279</th>\n",
       "      <td>0x5924</td>\n",
       "      <td>HYDRES09DEL01</td>\n",
       "      <td>33</td>\n",
       "      <td>4.6</td>\n",
       "      <td>17.431668</td>\n",
       "      <td>78.408321</td>\n",
       "      <td>17.471668</td>\n",
       "      <td>78.448321</td>\n",
       "      <td>28-03-2022</td>\n",
       "      <td>16:40:00</td>\n",
       "      <td>16:50:00</td>\n",
       "      <td>conditions Sunny</td>\n",
       "      <td>Medium</td>\n",
       "      <td>2</td>\n",
       "      <td>Meal</td>\n",
       "      <td>electric_scooter</td>\n",
       "      <td>0</td>\n",
       "      <td>No</td>\n",
       "      <td>Urban</td>\n",
       "      <td>(min) 19</td>\n",
       "    </tr>\n",
       "    <tr>\n",
       "      <th>3379</th>\n",
       "      <td>0x9167</td>\n",
       "      <td>CHENRES03DEL01</td>\n",
       "      <td>35</td>\n",
       "      <td>4.7</td>\n",
       "      <td>13.091809</td>\n",
       "      <td>80.219104</td>\n",
       "      <td>13.101809</td>\n",
       "      <td>80.229104</td>\n",
       "      <td>19-03-2022</td>\n",
       "      <td>10:35:00</td>\n",
       "      <td>10:40:00</td>\n",
       "      <td>conditions Fog</td>\n",
       "      <td>Low</td>\n",
       "      <td>0</td>\n",
       "      <td>Snack</td>\n",
       "      <td>motorcycle</td>\n",
       "      <td>1</td>\n",
       "      <td>No</td>\n",
       "      <td>Metropolitian</td>\n",
       "      <td>(min) 28</td>\n",
       "    </tr>\n",
       "    <tr>\n",
       "      <th>632</th>\n",
       "      <td>0x4340</td>\n",
       "      <td>RANCHIRES20DEL02</td>\n",
       "      <td>21</td>\n",
       "      <td>5</td>\n",
       "      <td>23.399250</td>\n",
       "      <td>85.390464</td>\n",
       "      <td>23.479250</td>\n",
       "      <td>85.470464</td>\n",
       "      <td>12-03-2022</td>\n",
       "      <td>22:35:00</td>\n",
       "      <td>22:40:00</td>\n",
       "      <td>conditions Sandstorms</td>\n",
       "      <td>Low</td>\n",
       "      <td>1</td>\n",
       "      <td>Meal</td>\n",
       "      <td>scooter</td>\n",
       "      <td>0</td>\n",
       "      <td>No</td>\n",
       "      <td>Urban</td>\n",
       "      <td>(min) 11</td>\n",
       "    </tr>\n",
       "    <tr>\n",
       "      <th>2906</th>\n",
       "      <td>0x39a2</td>\n",
       "      <td>JAPRES19DEL02</td>\n",
       "      <td>36</td>\n",
       "      <td>4.6</td>\n",
       "      <td>26.913726</td>\n",
       "      <td>75.752820</td>\n",
       "      <td>26.993726</td>\n",
       "      <td>75.832820</td>\n",
       "      <td>02-03-2022</td>\n",
       "      <td>20:50:00</td>\n",
       "      <td>20:55:00</td>\n",
       "      <td>conditions Cloudy</td>\n",
       "      <td>Jam</td>\n",
       "      <td>2</td>\n",
       "      <td>Drinks</td>\n",
       "      <td>motorcycle</td>\n",
       "      <td>2</td>\n",
       "      <td>No</td>\n",
       "      <td>Urban</td>\n",
       "      <td>(min) 37</td>\n",
       "    </tr>\n",
       "    <tr>\n",
       "      <th>3732</th>\n",
       "      <td>0x9511</td>\n",
       "      <td>COIMBRES20DEL03</td>\n",
       "      <td>32</td>\n",
       "      <td>4.9</td>\n",
       "      <td>10.994136</td>\n",
       "      <td>76.963303</td>\n",
       "      <td>11.084136</td>\n",
       "      <td>77.053303</td>\n",
       "      <td>06-04-2022</td>\n",
       "      <td>19:50:00</td>\n",
       "      <td>20:05:00</td>\n",
       "      <td>conditions Stormy</td>\n",
       "      <td>Jam</td>\n",
       "      <td>2</td>\n",
       "      <td>Meal</td>\n",
       "      <td>scooter</td>\n",
       "      <td>0</td>\n",
       "      <td>No</td>\n",
       "      <td>Metropolitian</td>\n",
       "      <td>(min) 27</td>\n",
       "    </tr>\n",
       "    <tr>\n",
       "      <th>3082</th>\n",
       "      <td>0xdcb9</td>\n",
       "      <td>AGRRES04DEL01</td>\n",
       "      <td>25</td>\n",
       "      <td>4.8</td>\n",
       "      <td>27.195928</td>\n",
       "      <td>77.998092</td>\n",
       "      <td>27.265928</td>\n",
       "      <td>78.068092</td>\n",
       "      <td>16-02-2022</td>\n",
       "      <td>19:00:00</td>\n",
       "      <td>19:05:00</td>\n",
       "      <td>conditions Windy</td>\n",
       "      <td>Medium</td>\n",
       "      <td>0</td>\n",
       "      <td>Snack</td>\n",
       "      <td>motorcycle</td>\n",
       "      <td>0</td>\n",
       "      <td>No</td>\n",
       "      <td>Metropolitian</td>\n",
       "      <td>(min) 24</td>\n",
       "    </tr>\n",
       "    <tr>\n",
       "      <th>3854</th>\n",
       "      <td>0x2666</td>\n",
       "      <td>MYSRES07DEL03</td>\n",
       "      <td>26</td>\n",
       "      <td>4.6</td>\n",
       "      <td>12.325461</td>\n",
       "      <td>76.632278</td>\n",
       "      <td>12.415461</td>\n",
       "      <td>76.722278</td>\n",
       "      <td>06-04-2022</td>\n",
       "      <td>18:40:00</td>\n",
       "      <td>18:55:00</td>\n",
       "      <td>conditions Cloudy</td>\n",
       "      <td>Medium</td>\n",
       "      <td>2</td>\n",
       "      <td>Snack</td>\n",
       "      <td>scooter</td>\n",
       "      <td>0</td>\n",
       "      <td>No</td>\n",
       "      <td>Urban</td>\n",
       "      <td>(min) 25</td>\n",
       "    </tr>\n",
       "    <tr>\n",
       "      <th>3166</th>\n",
       "      <td>0xbf69</td>\n",
       "      <td>KOLRES010DEL03</td>\n",
       "      <td>24</td>\n",
       "      <td>4.8</td>\n",
       "      <td>22.538999</td>\n",
       "      <td>88.322337</td>\n",
       "      <td>22.628999</td>\n",
       "      <td>88.412337</td>\n",
       "      <td>18-02-2022</td>\n",
       "      <td>20:30:00</td>\n",
       "      <td>20:40:00</td>\n",
       "      <td>conditions Sunny</td>\n",
       "      <td>Jam</td>\n",
       "      <td>0</td>\n",
       "      <td>Meal</td>\n",
       "      <td>motorcycle</td>\n",
       "      <td>0</td>\n",
       "      <td>No</td>\n",
       "      <td>Metropolitian</td>\n",
       "      <td>(min) 22</td>\n",
       "    </tr>\n",
       "    <tr>\n",
       "      <th>1996</th>\n",
       "      <td>0x9add</td>\n",
       "      <td>BANGRES01DEL01</td>\n",
       "      <td>22</td>\n",
       "      <td>4.6</td>\n",
       "      <td>12.933284</td>\n",
       "      <td>77.615428</td>\n",
       "      <td>13.003284</td>\n",
       "      <td>77.685428</td>\n",
       "      <td>16-03-2022</td>\n",
       "      <td>19:55:00</td>\n",
       "      <td>20:05:00</td>\n",
       "      <td>conditions Stormy</td>\n",
       "      <td>Jam</td>\n",
       "      <td>1</td>\n",
       "      <td>Drinks</td>\n",
       "      <td>motorcycle</td>\n",
       "      <td>0</td>\n",
       "      <td>No</td>\n",
       "      <td>Urban</td>\n",
       "      <td>(min) 22</td>\n",
       "    </tr>\n",
       "    <tr>\n",
       "      <th>2250</th>\n",
       "      <td>0x258a</td>\n",
       "      <td>BANGRES04DEL01</td>\n",
       "      <td>32</td>\n",
       "      <td>4.6</td>\n",
       "      <td>12.980410</td>\n",
       "      <td>77.640489</td>\n",
       "      <td>12.990410</td>\n",
       "      <td>77.650489</td>\n",
       "      <td>30-03-2022</td>\n",
       "      <td>12:00:00</td>\n",
       "      <td>12:15:00</td>\n",
       "      <td>conditions Sunny</td>\n",
       "      <td>High</td>\n",
       "      <td>1</td>\n",
       "      <td>Snack</td>\n",
       "      <td>scooter</td>\n",
       "      <td>0</td>\n",
       "      <td>No</td>\n",
       "      <td>Metropolitian</td>\n",
       "      <td>(min) 17</td>\n",
       "    </tr>\n",
       "    <tr>\n",
       "      <th>3069</th>\n",
       "      <td>0x235d</td>\n",
       "      <td>RANCHIRES04DEL02</td>\n",
       "      <td>28</td>\n",
       "      <td>4.6</td>\n",
       "      <td>23.359033</td>\n",
       "      <td>85.325347</td>\n",
       "      <td>23.409033</td>\n",
       "      <td>85.375347</td>\n",
       "      <td>01-03-2022</td>\n",
       "      <td>20:35:00</td>\n",
       "      <td>20:40:00</td>\n",
       "      <td>conditions Windy</td>\n",
       "      <td>Jam</td>\n",
       "      <td>0</td>\n",
       "      <td>Drinks</td>\n",
       "      <td>motorcycle</td>\n",
       "      <td>1</td>\n",
       "      <td>No</td>\n",
       "      <td>Metropolitian</td>\n",
       "      <td>(min) 28</td>\n",
       "    </tr>\n",
       "    <tr>\n",
       "      <th>1218</th>\n",
       "      <td>0x2f86</td>\n",
       "      <td>COIMBRES15DEL02</td>\n",
       "      <td>20</td>\n",
       "      <td>4.9</td>\n",
       "      <td>11.006686</td>\n",
       "      <td>76.951736</td>\n",
       "      <td>11.136686</td>\n",
       "      <td>77.081736</td>\n",
       "      <td>20-03-2022</td>\n",
       "      <td>21:15:00</td>\n",
       "      <td>21:30:00</td>\n",
       "      <td>conditions Windy</td>\n",
       "      <td>Jam</td>\n",
       "      <td>1</td>\n",
       "      <td>Snack</td>\n",
       "      <td>scooter</td>\n",
       "      <td>0</td>\n",
       "      <td>No</td>\n",
       "      <td>Urban</td>\n",
       "      <td>(min) 26</td>\n",
       "    </tr>\n",
       "    <tr>\n",
       "      <th>3444</th>\n",
       "      <td>0x9b26</td>\n",
       "      <td>JAPRES06DEL01</td>\n",
       "      <td>37</td>\n",
       "      <td>4.6</td>\n",
       "      <td>26.911927</td>\n",
       "      <td>75.797282</td>\n",
       "      <td>26.981927</td>\n",
       "      <td>75.867282</td>\n",
       "      <td>10-03-2022</td>\n",
       "      <td>17:40:00</td>\n",
       "      <td>17:50:00</td>\n",
       "      <td>conditions Sandstorms</td>\n",
       "      <td>Medium</td>\n",
       "      <td>1</td>\n",
       "      <td>Meal</td>\n",
       "      <td>scooter</td>\n",
       "      <td>1</td>\n",
       "      <td>No</td>\n",
       "      <td>Metropolitian</td>\n",
       "      <td>(min) 27</td>\n",
       "    </tr>\n",
       "    <tr>\n",
       "      <th>3980</th>\n",
       "      <td>0x3f06</td>\n",
       "      <td>MUMRES04DEL02</td>\n",
       "      <td>31</td>\n",
       "      <td>4.8</td>\n",
       "      <td>19.254567</td>\n",
       "      <td>72.848923</td>\n",
       "      <td>19.274567</td>\n",
       "      <td>72.868923</td>\n",
       "      <td>11-03-2022</td>\n",
       "      <td>09:00:00</td>\n",
       "      <td>09:05:00</td>\n",
       "      <td>conditions Windy</td>\n",
       "      <td>Low</td>\n",
       "      <td>2</td>\n",
       "      <td>Snack</td>\n",
       "      <td>scooter</td>\n",
       "      <td>1</td>\n",
       "      <td>No</td>\n",
       "      <td>Metropolitian</td>\n",
       "      <td>(min) 20</td>\n",
       "    </tr>\n",
       "    <tr>\n",
       "      <th>3861</th>\n",
       "      <td>0xbd41</td>\n",
       "      <td>MYSRES04DEL02</td>\n",
       "      <td>24</td>\n",
       "      <td>4.8</td>\n",
       "      <td>12.308500</td>\n",
       "      <td>76.665808</td>\n",
       "      <td>12.358500</td>\n",
       "      <td>76.715808</td>\n",
       "      <td>15-03-2022</td>\n",
       "      <td>18:35:00</td>\n",
       "      <td>18:40:00</td>\n",
       "      <td>conditions Stormy</td>\n",
       "      <td>Medium</td>\n",
       "      <td>1</td>\n",
       "      <td>Snack</td>\n",
       "      <td>scooter</td>\n",
       "      <td>0</td>\n",
       "      <td>No</td>\n",
       "      <td>Urban</td>\n",
       "      <td>(min) 25</td>\n",
       "    </tr>\n",
       "    <tr>\n",
       "      <th>2062</th>\n",
       "      <td>0x24e7</td>\n",
       "      <td>MYSRES18DEL01</td>\n",
       "      <td>25</td>\n",
       "      <td>4.6</td>\n",
       "      <td>12.337928</td>\n",
       "      <td>76.617889</td>\n",
       "      <td>12.447928</td>\n",
       "      <td>76.727889</td>\n",
       "      <td>23-03-2022</td>\n",
       "      <td>20:10:00</td>\n",
       "      <td>20:25:00</td>\n",
       "      <td>conditions Sandstorms</td>\n",
       "      <td>Jam</td>\n",
       "      <td>1</td>\n",
       "      <td>Drinks</td>\n",
       "      <td>motorcycle</td>\n",
       "      <td>1</td>\n",
       "      <td>No</td>\n",
       "      <td>Urban</td>\n",
       "      <td>(min) 25</td>\n",
       "    </tr>\n",
       "    <tr>\n",
       "      <th>4306</th>\n",
       "      <td>0x9122</td>\n",
       "      <td>BANGRES08DEL02</td>\n",
       "      <td>21</td>\n",
       "      <td>4.9</td>\n",
       "      <td>12.906229</td>\n",
       "      <td>77.596791</td>\n",
       "      <td>12.986229</td>\n",
       "      <td>77.676791</td>\n",
       "      <td>31-03-2022</td>\n",
       "      <td>23:20:00</td>\n",
       "      <td>23:30:00</td>\n",
       "      <td>conditions Stormy</td>\n",
       "      <td>Low</td>\n",
       "      <td>1</td>\n",
       "      <td>Drinks</td>\n",
       "      <td>scooter</td>\n",
       "      <td>0</td>\n",
       "      <td>No</td>\n",
       "      <td>Urban</td>\n",
       "      <td>(min) 18</td>\n",
       "    </tr>\n",
       "    <tr>\n",
       "      <th>439</th>\n",
       "      <td>0x92ec</td>\n",
       "      <td>CHENRES010DEL02</td>\n",
       "      <td>34</td>\n",
       "      <td>4.8</td>\n",
       "      <td>13.066762</td>\n",
       "      <td>80.251865</td>\n",
       "      <td>13.116762</td>\n",
       "      <td>80.301865</td>\n",
       "      <td>26-03-2022</td>\n",
       "      <td>22:45:00</td>\n",
       "      <td>22:50:00</td>\n",
       "      <td>conditions Windy</td>\n",
       "      <td>Low</td>\n",
       "      <td>2</td>\n",
       "      <td>Drinks</td>\n",
       "      <td>scooter</td>\n",
       "      <td>1</td>\n",
       "      <td>No</td>\n",
       "      <td>Metropolitian</td>\n",
       "      <td>(min) 27</td>\n",
       "    </tr>\n",
       "    <tr>\n",
       "      <th>2670</th>\n",
       "      <td>0x62ce</td>\n",
       "      <td>CHENRES13DEL02</td>\n",
       "      <td>21</td>\n",
       "      <td>4.1</td>\n",
       "      <td>13.027018</td>\n",
       "      <td>80.254791</td>\n",
       "      <td>13.107018</td>\n",
       "      <td>80.334791</td>\n",
       "      <td>12-03-2022</td>\n",
       "      <td>20:55:00</td>\n",
       "      <td>21:00:00</td>\n",
       "      <td>conditions Windy</td>\n",
       "      <td>Jam</td>\n",
       "      <td>0</td>\n",
       "      <td>Snack</td>\n",
       "      <td>motorcycle</td>\n",
       "      <td>1</td>\n",
       "      <td>No</td>\n",
       "      <td>Urban</td>\n",
       "      <td>(min) 33</td>\n",
       "    </tr>\n",
       "    <tr>\n",
       "      <th>1476</th>\n",
       "      <td>0xa009</td>\n",
       "      <td>JAPRES11DEL01</td>\n",
       "      <td>23</td>\n",
       "      <td>4.6</td>\n",
       "      <td>26.902940</td>\n",
       "      <td>75.793007</td>\n",
       "      <td>26.912940</td>\n",
       "      <td>75.803007</td>\n",
       "      <td>07-03-2022</td>\n",
       "      <td>10:00:00</td>\n",
       "      <td>10:15:00</td>\n",
       "      <td>conditions Stormy</td>\n",
       "      <td>Low</td>\n",
       "      <td>2</td>\n",
       "      <td>Buffet</td>\n",
       "      <td>scooter</td>\n",
       "      <td>1</td>\n",
       "      <td>No</td>\n",
       "      <td>Metropolitian</td>\n",
       "      <td>(min) 18</td>\n",
       "    </tr>\n",
       "    <tr>\n",
       "      <th>3190</th>\n",
       "      <td>0x9fcd</td>\n",
       "      <td>MUMRES15DEL02</td>\n",
       "      <td>29</td>\n",
       "      <td>4.6</td>\n",
       "      <td>19.176269</td>\n",
       "      <td>72.836721</td>\n",
       "      <td>19.306269</td>\n",
       "      <td>72.966721</td>\n",
       "      <td>04-03-2022</td>\n",
       "      <td>17:30:00</td>\n",
       "      <td>17:40:00</td>\n",
       "      <td>conditions Sunny</td>\n",
       "      <td>Medium</td>\n",
       "      <td>2</td>\n",
       "      <td>Snack</td>\n",
       "      <td>motorcycle</td>\n",
       "      <td>1</td>\n",
       "      <td>No</td>\n",
       "      <td>Metropolitian</td>\n",
       "      <td>(min) 17</td>\n",
       "    </tr>\n",
       "    <tr>\n",
       "      <th>2603</th>\n",
       "      <td>0xa83f</td>\n",
       "      <td>MUMRES010DEL02</td>\n",
       "      <td>22</td>\n",
       "      <td>4.7</td>\n",
       "      <td>19.003517</td>\n",
       "      <td>72.827650</td>\n",
       "      <td>19.083517</td>\n",
       "      <td>72.907650</td>\n",
       "      <td>27-03-2022</td>\n",
       "      <td>17:50:00</td>\n",
       "      <td>18:05:00</td>\n",
       "      <td>conditions Sandstorms</td>\n",
       "      <td>Medium</td>\n",
       "      <td>2</td>\n",
       "      <td>Drinks</td>\n",
       "      <td>electric_scooter</td>\n",
       "      <td>1</td>\n",
       "      <td>No</td>\n",
       "      <td>Metropolitian</td>\n",
       "      <td>(min) 21</td>\n",
       "    </tr>\n",
       "    <tr>\n",
       "      <th>3902</th>\n",
       "      <td>0x876d</td>\n",
       "      <td>INDORES14DEL02</td>\n",
       "      <td>21</td>\n",
       "      <td>4.9</td>\n",
       "      <td>22.761593</td>\n",
       "      <td>75.886362</td>\n",
       "      <td>22.811593</td>\n",
       "      <td>75.936362</td>\n",
       "      <td>26-03-2022</td>\n",
       "      <td>21:35:00</td>\n",
       "      <td>21:45:00</td>\n",
       "      <td>conditions Fog</td>\n",
       "      <td>Jam</td>\n",
       "      <td>0</td>\n",
       "      <td>Buffet</td>\n",
       "      <td>motorcycle</td>\n",
       "      <td>1</td>\n",
       "      <td>No</td>\n",
       "      <td>Metropolitian</td>\n",
       "      <td>(min) 26</td>\n",
       "    </tr>\n",
       "  </tbody>\n",
       "</table>\n",
       "</div>"
      ],
      "text/plain": [
       "           ID Delivery_person_ID Delivery_person_Age Delivery_person_Ratings  \\\n",
       "2991  0xde2b      KOLRES08DEL02                   20                     4.5   \n",
       "943   0xa80b      SURRES08DEL02                   34                     4.6   \n",
       "185   0x33a4     CHENRES15DEL03                   35                     4.7   \n",
       "4409  0x99e3      JAPRES09DEL01                   21                     4.7   \n",
       "3887   0xdad     MUMRES010DEL02                   29                     4.8   \n",
       "4123  0x4a2d      SURRES19DEL01                   35                     4.9   \n",
       "3034  0xb2dc      VADRES08DEL02                   26                     4.7   \n",
       "3279  0x5924      HYDRES09DEL01                   33                     4.6   \n",
       "3379  0x9167     CHENRES03DEL01                   35                     4.7   \n",
       "632   0x4340   RANCHIRES20DEL02                   21                       5   \n",
       "2906  0x39a2      JAPRES19DEL02                   36                     4.6   \n",
       "3732  0x9511    COIMBRES20DEL03                   32                     4.9   \n",
       "3082  0xdcb9      AGRRES04DEL01                   25                     4.8   \n",
       "3854  0x2666      MYSRES07DEL03                   26                     4.6   \n",
       "3166  0xbf69     KOLRES010DEL03                   24                     4.8   \n",
       "1996  0x9add     BANGRES01DEL01                   22                     4.6   \n",
       "2250  0x258a     BANGRES04DEL01                   32                     4.6   \n",
       "3069  0x235d   RANCHIRES04DEL02                   28                     4.6   \n",
       "1218  0x2f86    COIMBRES15DEL02                   20                     4.9   \n",
       "3444  0x9b26      JAPRES06DEL01                   37                     4.6   \n",
       "3980  0x3f06      MUMRES04DEL02                   31                     4.8   \n",
       "3861  0xbd41      MYSRES04DEL02                   24                     4.8   \n",
       "2062  0x24e7      MYSRES18DEL01                   25                     4.6   \n",
       "4306  0x9122     BANGRES08DEL02                   21                     4.9   \n",
       "439   0x92ec    CHENRES010DEL02                   34                     4.8   \n",
       "2670  0x62ce     CHENRES13DEL02                   21                     4.1   \n",
       "1476  0xa009      JAPRES11DEL01                   23                     4.6   \n",
       "3190  0x9fcd      MUMRES15DEL02                   29                     4.6   \n",
       "2603  0xa83f     MUMRES010DEL02                   22                     4.7   \n",
       "3902  0x876d     INDORES14DEL02                   21                     4.9   \n",
       "\n",
       "      Restaurant_latitude  Restaurant_longitude  Delivery_location_latitude  \\\n",
       "2991            22.537960             88.349843                   22.557960   \n",
       "943             21.173343             72.792731                   21.223343   \n",
       "185             13.026286             80.275235                   13.056286   \n",
       "4409            26.911378             75.789034                   26.981378   \n",
       "3887            19.003517             72.827650                   19.083517   \n",
       "4123            21.149669             72.772629                   21.189669   \n",
       "3034             0.000000              0.000000                    0.080000   \n",
       "3279            17.431668             78.408321                   17.471668   \n",
       "3379            13.091809             80.219104                   13.101809   \n",
       "632             23.399250             85.390464                   23.479250   \n",
       "2906            26.913726             75.752820                   26.993726   \n",
       "3732            10.994136             76.963303                   11.084136   \n",
       "3082            27.195928             77.998092                   27.265928   \n",
       "3854            12.325461             76.632278                   12.415461   \n",
       "3166            22.538999             88.322337                   22.628999   \n",
       "1996            12.933284             77.615428                   13.003284   \n",
       "2250            12.980410             77.640489                   12.990410   \n",
       "3069            23.359033             85.325347                   23.409033   \n",
       "1218            11.006686             76.951736                   11.136686   \n",
       "3444            26.911927             75.797282                   26.981927   \n",
       "3980            19.254567             72.848923                   19.274567   \n",
       "3861            12.308500             76.665808                   12.358500   \n",
       "2062            12.337928             76.617889                   12.447928   \n",
       "4306            12.906229             77.596791                   12.986229   \n",
       "439             13.066762             80.251865                   13.116762   \n",
       "2670            13.027018             80.254791                   13.107018   \n",
       "1476            26.902940             75.793007                   26.912940   \n",
       "3190            19.176269             72.836721                   19.306269   \n",
       "2603            19.003517             72.827650                   19.083517   \n",
       "3902            22.761593             75.886362                   22.811593   \n",
       "\n",
       "      Delivery_location_longitude  Order_Date Time_Orderd Time_Order_picked  \\\n",
       "2991                    88.369843  15-02-2022    08:20:00          08:35:00   \n",
       "943                     72.842731  03-03-2022    00:00:00          00:15:00   \n",
       "185                     80.305235  21-03-2022    21:20:00          21:30:00   \n",
       "4409                    75.859034  12-03-2022    19:00:00          19:10:00   \n",
       "3887                    72.907650  12-03-2022    20:20:00          20:35:00   \n",
       "4123                    72.812629  17-03-2022    13:40:00          13:50:00   \n",
       "3034                     0.080000  06-04-2022    23:35:00          23:40:00   \n",
       "3279                    78.448321  28-03-2022    16:40:00          16:50:00   \n",
       "3379                    80.229104  19-03-2022    10:35:00          10:40:00   \n",
       "632                     85.470464  12-03-2022    22:35:00          22:40:00   \n",
       "2906                    75.832820  02-03-2022    20:50:00          20:55:00   \n",
       "3732                    77.053303  06-04-2022    19:50:00          20:05:00   \n",
       "3082                    78.068092  16-02-2022    19:00:00          19:05:00   \n",
       "3854                    76.722278  06-04-2022    18:40:00          18:55:00   \n",
       "3166                    88.412337  18-02-2022    20:30:00          20:40:00   \n",
       "1996                    77.685428  16-03-2022    19:55:00          20:05:00   \n",
       "2250                    77.650489  30-03-2022    12:00:00          12:15:00   \n",
       "3069                    85.375347  01-03-2022    20:35:00          20:40:00   \n",
       "1218                    77.081736  20-03-2022    21:15:00          21:30:00   \n",
       "3444                    75.867282  10-03-2022    17:40:00          17:50:00   \n",
       "3980                    72.868923  11-03-2022    09:00:00          09:05:00   \n",
       "3861                    76.715808  15-03-2022    18:35:00          18:40:00   \n",
       "2062                    76.727889  23-03-2022    20:10:00          20:25:00   \n",
       "4306                    77.676791  31-03-2022    23:20:00          23:30:00   \n",
       "439                     80.301865  26-03-2022    22:45:00          22:50:00   \n",
       "2670                    80.334791  12-03-2022    20:55:00          21:00:00   \n",
       "1476                    75.803007  07-03-2022    10:00:00          10:15:00   \n",
       "3190                    72.966721  04-03-2022    17:30:00          17:40:00   \n",
       "2603                    72.907650  27-03-2022    17:50:00          18:05:00   \n",
       "3902                    75.936362  26-03-2022    21:35:00          21:45:00   \n",
       "\n",
       "          Weatherconditions Road_traffic_density  Vehicle_condition  \\\n",
       "2991      conditions Stormy                 Low                   1   \n",
       "943       conditions Cloudy                 Low                   1   \n",
       "185          conditions Fog                 Jam                   1   \n",
       "4409       conditions Sunny              Medium                   0   \n",
       "3887      conditions Stormy                 Jam                   0   \n",
       "4123      conditions Stormy                High                   0   \n",
       "3034      conditions Cloudy                 Low                   0   \n",
       "3279       conditions Sunny              Medium                   2   \n",
       "3379         conditions Fog                 Low                   0   \n",
       "632   conditions Sandstorms                 Low                   1   \n",
       "2906      conditions Cloudy                 Jam                   2   \n",
       "3732      conditions Stormy                 Jam                   2   \n",
       "3082       conditions Windy              Medium                   0   \n",
       "3854      conditions Cloudy              Medium                   2   \n",
       "3166       conditions Sunny                 Jam                   0   \n",
       "1996      conditions Stormy                 Jam                   1   \n",
       "2250       conditions Sunny                High                   1   \n",
       "3069       conditions Windy                 Jam                   0   \n",
       "1218       conditions Windy                 Jam                   1   \n",
       "3444  conditions Sandstorms              Medium                   1   \n",
       "3980       conditions Windy                 Low                   2   \n",
       "3861      conditions Stormy              Medium                   1   \n",
       "2062  conditions Sandstorms                 Jam                   1   \n",
       "4306      conditions Stormy                 Low                   1   \n",
       "439        conditions Windy                 Low                   2   \n",
       "2670       conditions Windy                 Jam                   0   \n",
       "1476      conditions Stormy                 Low                   2   \n",
       "3190       conditions Sunny              Medium                   2   \n",
       "2603  conditions Sandstorms              Medium                   2   \n",
       "3902         conditions Fog                 Jam                   0   \n",
       "\n",
       "     Type_of_order    Type_of_vehicle multiple_deliveries Festival  \\\n",
       "2991        Snack         motorcycle                    0      No    \n",
       "943          Meal         motorcycle                    1      No    \n",
       "185        Drinks         motorcycle                    1      No    \n",
       "4409         Meal         motorcycle                    0      No    \n",
       "3887        Snack         motorcycle                    1      No    \n",
       "4123         Meal         motorcycle                    1      No    \n",
       "3034         Meal         motorcycle                 NaN       No    \n",
       "3279         Meal   electric_scooter                    0      No    \n",
       "3379        Snack         motorcycle                    1      No    \n",
       "632          Meal            scooter                    0      No    \n",
       "2906       Drinks         motorcycle                    2      No    \n",
       "3732         Meal            scooter                    0      No    \n",
       "3082        Snack         motorcycle                    0      No    \n",
       "3854        Snack            scooter                    0      No    \n",
       "3166         Meal         motorcycle                    0      No    \n",
       "1996       Drinks         motorcycle                    0      No    \n",
       "2250        Snack            scooter                    0      No    \n",
       "3069       Drinks         motorcycle                    1      No    \n",
       "1218        Snack            scooter                    0      No    \n",
       "3444         Meal            scooter                    1      No    \n",
       "3980        Snack            scooter                    1      No    \n",
       "3861        Snack            scooter                    0      No    \n",
       "2062       Drinks         motorcycle                    1      No    \n",
       "4306       Drinks            scooter                    0      No    \n",
       "439        Drinks            scooter                    1      No    \n",
       "2670        Snack         motorcycle                    1      No    \n",
       "1476       Buffet            scooter                    1      No    \n",
       "3190        Snack         motorcycle                    1      No    \n",
       "2603       Drinks   electric_scooter                    1      No    \n",
       "3902       Buffet         motorcycle                    1      No    \n",
       "\n",
       "                City Time_taken(min)  \n",
       "2991  Metropolitian         (min) 14  \n",
       "943           Urban         (min) 19  \n",
       "185   Metropolitian         (min) 34  \n",
       "4409  Metropolitian         (min) 22  \n",
       "3887  Metropolitian         (min) 27  \n",
       "4123  Metropolitian         (min) 34  \n",
       "3034          Urban         (min) 21  \n",
       "3279          Urban         (min) 19  \n",
       "3379  Metropolitian         (min) 28  \n",
       "632           Urban         (min) 11  \n",
       "2906          Urban         (min) 37  \n",
       "3732  Metropolitian         (min) 27  \n",
       "3082  Metropolitian         (min) 24  \n",
       "3854          Urban         (min) 25  \n",
       "3166  Metropolitian         (min) 22  \n",
       "1996          Urban         (min) 22  \n",
       "2250  Metropolitian         (min) 17  \n",
       "3069  Metropolitian         (min) 28  \n",
       "1218          Urban         (min) 26  \n",
       "3444  Metropolitian         (min) 27  \n",
       "3980  Metropolitian         (min) 20  \n",
       "3861          Urban         (min) 25  \n",
       "2062          Urban         (min) 25  \n",
       "4306          Urban         (min) 18  \n",
       "439   Metropolitian         (min) 27  \n",
       "2670          Urban         (min) 33  \n",
       "1476  Metropolitian         (min) 18  \n",
       "3190  Metropolitian         (min) 17  \n",
       "2603  Metropolitian         (min) 21  \n",
       "3902  Metropolitian         (min) 26  "
      ]
     },
     "execution_count": 5,
     "metadata": {},
     "output_type": "execute_result"
    }
   ],
   "source": [
    "df_raw.sample(30)"
   ]
  },
  {
   "cell_type": "markdown",
   "id": "17db6691",
   "metadata": {},
   "source": [
    "# 4.0 Limpeza & Transansformação"
   ]
  },
  {
   "cell_type": "markdown",
   "id": "93b28f0b",
   "metadata": {},
   "source": [
    "Claramente algumas colunas possuem valores NaN, mas eles não estão aparecendo na checagem de NaNs. Isso pode ser porque eles são do tipo objeto ou estão armazenados como string e possuem algum formato estranho como \" NaN\", com um espaço em branco.<br>Os primeiros passos serão: remover todos os espaços das colunas com string, convertê-las para o tipo apropriado e remover excesso de NaNs."
   ]
  },
  {
   "cell_type": "markdown",
   "id": "5014d4da",
   "metadata": {},
   "source": [
    "## 4.1 Remover espaços & Corrigir tipos de dados e erros de escrita"
   ]
  },
  {
   "cell_type": "code",
   "execution_count": 6,
   "id": "05ddf976",
   "metadata": {},
   "outputs": [],
   "source": [
    "df_clear = df_raw.copy()\n",
    "# Remover espaços em branco no início e no final das strings\n",
    "df_clear = df_clear.apply(lambda x: x.str.strip() if x.dtype == \"object\" else x)\n",
    "# Converter para tipos númericos onde for necessario\n",
    "df_clear[\"Delivery_person_Age\"] = df_clear[\"Delivery_person_Age\"].apply(pd.to_numeric, errors=\"coerce\").astype(\"Int64\")\n",
    "df_clear[\"Delivery_person_Ratings\"] = df_clear[\"Delivery_person_Ratings\"].apply(pd.to_numeric, errors=\"coerce\")\n",
    "df_clear[\"multiple_deliveries\"] = df_clear[\"multiple_deliveries\"].apply(pd.to_numeric, errors=\"coerce\").astype(\"Int64\")\n",
    "# Corrigir erro de escrita em colunas\n",
    "df_clear.rename(columns={\"Time_Orderd\": \"Time_Ordered\"}, inplace=True)\n",
    "# Corrigir erro de escrita em valores\n",
    "df_clear[\"City\"] = df_clear[\"City\"].str.replace(\"Metropolitian\", \"Metropolitan\", regex=False)\n",
    "# Converter para tipo date.time para melhor manipulá-los\n",
    "df_clear[\"Order_Date\"] = pd.to_datetime(df_clear[\"Order_Date\"], format=\"%d-%m-%Y\").astype(\"string\")\n",
    "df_clear[\"Time_Ordered\"] = pd.to_datetime(df_clear[\"Time_Ordered\"], format=\"%H:%M:%S\").dt.time.astype(\"string\")\n",
    "df_clear[\"Time_Order_picked\"] = pd.to_datetime(df_clear[\"Time_Order_picked\"], format=\"%H:%M:%S\").dt.time.astype(\"string\")\n",
    "# Remover letras da coluna \"Time_taken(min)\" e conberter tipo para \"Int64\"\n",
    "df_clear[\"Time_taken(min)\"] = df_clear[\"Time_taken(min)\"].str.extract(r'(\\d+)').astype(\"Int64\")\n",
    "# Remover excesso de palavras na coluna \"Weatherconditions\"\n",
    "df_clear[\"Weatherconditions\"] = df_clear[\"Weatherconditions\"].str.replace(\"conditions \", \"\", regex=False)\n",
    "# Mudar NaNs para \"Unknown\" em colunas que não guardam valores numéricos\n",
    "df_clear[\"Weatherconditions\"] = df_clear[\"Weatherconditions\"].str.replace(\"NaN\", \"Unknown\", regex=False)\n",
    "df_clear[\"Road_traffic_density\"] = df_clear[\"Road_traffic_density\"].str.replace(\"NaN\", \"Unknown\", regex=False)\n",
    "df_clear[\"City\"] = df_clear[\"City\"].str.replace(\"NaN\", \"Unknown\", regex=False)\n",
    "df_clear[\"Festival\"] = df_clear[\"Festival\"].str.replace(\"NaN\", \"Unknown\", regex=False)\n"
   ]
  },
  {
   "cell_type": "code",
   "execution_count": 7,
   "id": "403902e4",
   "metadata": {},
   "outputs": [
    {
     "name": "stdout",
     "output_type": "stream",
     "text": [
      "Max rating: 6.0\n",
      "Min rating: 1.0\n"
     ]
    },
    {
     "data": {
      "text/html": [
       "<div>\n",
       "<style scoped>\n",
       "    .dataframe tbody tr th:only-of-type {\n",
       "        vertical-align: middle;\n",
       "    }\n",
       "\n",
       "    .dataframe tbody tr th {\n",
       "        vertical-align: top;\n",
       "    }\n",
       "\n",
       "    .dataframe thead th {\n",
       "        text-align: right;\n",
       "    }\n",
       "</style>\n",
       "<table border=\"1\" class=\"dataframe\">\n",
       "  <thead>\n",
       "    <tr style=\"text-align: right;\">\n",
       "      <th></th>\n",
       "      <th>ID</th>\n",
       "      <th>Delivery_person_ID</th>\n",
       "      <th>Delivery_person_Age</th>\n",
       "      <th>Delivery_person_Ratings</th>\n",
       "      <th>Restaurant_latitude</th>\n",
       "      <th>Restaurant_longitude</th>\n",
       "      <th>Delivery_location_latitude</th>\n",
       "      <th>Delivery_location_longitude</th>\n",
       "      <th>Order_Date</th>\n",
       "      <th>Time_Ordered</th>\n",
       "      <th>Time_Order_picked</th>\n",
       "      <th>Weatherconditions</th>\n",
       "      <th>Road_traffic_density</th>\n",
       "      <th>Vehicle_condition</th>\n",
       "      <th>Type_of_order</th>\n",
       "      <th>Type_of_vehicle</th>\n",
       "      <th>multiple_deliveries</th>\n",
       "      <th>Festival</th>\n",
       "      <th>City</th>\n",
       "      <th>Time_taken(min)</th>\n",
       "    </tr>\n",
       "  </thead>\n",
       "  <tbody>\n",
       "    <tr>\n",
       "      <th>3586</th>\n",
       "      <td>0x46d</td>\n",
       "      <td>BANGRES05DEL01</td>\n",
       "      <td>50</td>\n",
       "      <td>6.0</td>\n",
       "      <td>-12.970324</td>\n",
       "      <td>-77.645748</td>\n",
       "      <td>13.010324</td>\n",
       "      <td>77.685748</td>\n",
       "      <td>2022-03-13</td>\n",
       "      <td>&lt;NA&gt;</td>\n",
       "      <td>12:30:00</td>\n",
       "      <td>Unknown</td>\n",
       "      <td>Unknown</td>\n",
       "      <td>3</td>\n",
       "      <td>Meal</td>\n",
       "      <td>electric_scooter</td>\n",
       "      <td>0</td>\n",
       "      <td>No</td>\n",
       "      <td>Urban</td>\n",
       "      <td>25</td>\n",
       "    </tr>\n",
       "  </tbody>\n",
       "</table>\n",
       "</div>"
      ],
      "text/plain": [
       "         ID Delivery_person_ID  Delivery_person_Age  Delivery_person_Ratings  \\\n",
       "3586  0x46d     BANGRES05DEL01                   50                      6.0   \n",
       "\n",
       "      Restaurant_latitude  Restaurant_longitude  Delivery_location_latitude  \\\n",
       "3586           -12.970324            -77.645748                   13.010324   \n",
       "\n",
       "      Delivery_location_longitude  Order_Date Time_Ordered Time_Order_picked  \\\n",
       "3586                    77.685748  2022-03-13         <NA>          12:30:00   \n",
       "\n",
       "     Weatherconditions Road_traffic_density  Vehicle_condition Type_of_order  \\\n",
       "3586           Unknown              Unknown                  3          Meal   \n",
       "\n",
       "       Type_of_vehicle  multiple_deliveries Festival   City  Time_taken(min)  \n",
       "3586  electric_scooter                    0       No  Urban               25  "
      ]
     },
     "execution_count": 7,
     "metadata": {},
     "output_type": "execute_result"
    }
   ],
   "source": [
    "print(f\"Max rating: {df_clear[\"Delivery_person_Ratings\"].max()}\\nMin rating: {df_clear[\"Delivery_person_Ratings\"].min()}\")\n",
    "df_clear[df_clear[\"Delivery_person_Ratings\"] > 5.0]"
   ]
  },
  {
   "cell_type": "markdown",
   "id": "d69cec03",
   "metadata": {},
   "source": [
    "Há um valor de avaliação de 6,0. Como há apenas um valor \"errado\" e, assumindo que o máximo é 5 \"estrelas\", ele será corrigido para 5."
   ]
  },
  {
   "cell_type": "code",
   "execution_count": 8,
   "id": "5a073f4b",
   "metadata": {},
   "outputs": [],
   "source": [
    "df_clear.loc[df_clear[\"Delivery_person_Ratings\"] > 5.0, \"Delivery_person_Ratings\"] = 5.0"
   ]
  },
  {
   "cell_type": "markdown",
   "id": "68f43841",
   "metadata": {},
   "source": [
    "## 4.2 Remover excesso de NaNs"
   ]
  },
  {
   "cell_type": "code",
   "execution_count": 9,
   "id": "7539f25f",
   "metadata": {},
   "outputs": [],
   "source": [
    "# Para manter a análise simples, linhas com mais de 2 NaNs serão removidas, o que dá ~5% dos dados\n",
    "df_clear = df_clear.dropna(thresh=len(df_clear.columns) - 2).reset_index(drop=True)\n",
    "# Há somente 1 NaN em \"Time_taken(min)\", que será substituído removido pois o trabalho para estipula-lo não é viável\n",
    "df_clear = df_clear.dropna(subset=[\"Time_taken(min)\"]).reset_index(drop=True)"
   ]
  },
  {
   "cell_type": "code",
   "execution_count": 10,
   "id": "e9da250d",
   "metadata": {},
   "outputs": [
    {
     "name": "stdout",
     "output_type": "stream",
     "text": [
      "\n",
      "Info dos valores:\n",
      "\n",
      "<class 'pandas.core.frame.DataFrame'>\n",
      "RangeIndex: 4291 entries, 0 to 4290\n",
      "Data columns (total 20 columns):\n",
      " #   Column                       Non-Null Count  Dtype  \n",
      "---  ------                       --------------  -----  \n",
      " 0   ID                           4291 non-null   object \n",
      " 1   Delivery_person_ID           4291 non-null   object \n",
      " 2   Delivery_person_Age          4277 non-null   Int64  \n",
      " 3   Delivery_person_Ratings      4271 non-null   float64\n",
      " 4   Restaurant_latitude          4291 non-null   float64\n",
      " 5   Restaurant_longitude         4291 non-null   float64\n",
      " 6   Delivery_location_latitude   4291 non-null   float64\n",
      " 7   Delivery_location_longitude  4291 non-null   float64\n",
      " 8   Order_Date                   4291 non-null   string \n",
      " 9   Time_Ordered                 4287 non-null   string \n",
      " 10  Time_Order_picked            4291 non-null   string \n",
      " 11  Weatherconditions            4291 non-null   object \n",
      " 12  Road_traffic_density         4291 non-null   object \n",
      " 13  Vehicle_condition            4291 non-null   int64  \n",
      " 14  Type_of_order                4291 non-null   object \n",
      " 15  Type_of_vehicle              4291 non-null   object \n",
      " 16  multiple_deliveries          4189 non-null   Int64  \n",
      " 17  Festival                     4291 non-null   object \n",
      " 18  City                         4291 non-null   object \n",
      " 19  Time_taken(min)              4291 non-null   Int64  \n",
      "dtypes: Int64(3), float64(5), int64(1), object(8), string(3)\n",
      "memory usage: 683.2+ KB\n",
      "None\n",
      "\n",
      "Descrição dos dados:\n",
      "\n",
      "       Delivery_person_Age  Delivery_person_Ratings  Restaurant_latitude  \\\n",
      "count               4277.0              4271.000000          4291.000000   \n",
      "mean             29.449614                 4.630414            17.102314   \n",
      "std               5.788815                 0.330637             7.842138   \n",
      "min                   15.0                 1.000000           -30.902872   \n",
      "25%                   25.0                 4.500000            12.913041   \n",
      "50%                   29.0                 4.700000            18.546947   \n",
      "75%                   34.0                 4.800000            22.727021   \n",
      "max                   50.0                 5.000000            30.914057   \n",
      "\n",
      "       Restaurant_longitude  Delivery_location_latitude  \\\n",
      "count           4291.000000                 4291.000000   \n",
      "mean              70.374837                   17.342799   \n",
      "std               21.820543                    7.445809   \n",
      "min              -77.645748                    0.010000   \n",
      "25%               73.170283                   12.969934   \n",
      "50%               75.894377                   18.621440   \n",
      "75%               78.024883                   22.781857   \n",
      "max               88.433452                   31.035562   \n",
      "\n",
      "       Delivery_location_longitude  Vehicle_condition  multiple_deliveries  \\\n",
      "count                  4291.000000        4291.000000               4189.0   \n",
      "mean                     70.474555           1.000233             0.761996   \n",
      "std                      21.703733           0.819204             0.589973   \n",
      "min                       0.010000           0.000000                  0.0   \n",
      "25%                      73.280610           0.000000                  0.0   \n",
      "50%                      75.984377           1.000000                  1.0   \n",
      "75%                      78.080363           2.000000                  1.0   \n",
      "max                      88.563452           3.000000                  3.0   \n",
      "\n",
      "       Time_taken(min)  \n",
      "count           4291.0  \n",
      "mean         26.277092  \n",
      "std           9.385049  \n",
      "min               10.0  \n",
      "25%               19.0  \n",
      "50%               25.0  \n",
      "75%               32.0  \n",
      "max               54.0  \n"
     ]
    }
   ],
   "source": [
    "checkData(df_clear)"
   ]
  },
  {
   "cell_type": "markdown",
   "id": "0497f1e4",
   "metadata": {},
   "source": [
    "## 4.3 Unir coordenadas em uma tupla em nova coluna"
   ]
  },
  {
   "cell_type": "markdown",
   "id": "1707d9dd",
   "metadata": {},
   "source": [
    "Para melhor trabalhar com as coordenadas, elas serão armazenadas como uma tupla.\n"
   ]
  },
  {
   "cell_type": "code",
   "execution_count": 11,
   "id": "6dde7a16",
   "metadata": {},
   "outputs": [],
   "source": [
    "df_clear[\"Restaurant_location\"] = list(zip(df_clear[\"Restaurant_latitude\"], df_clear[\"Restaurant_longitude\"]))\n",
    "df_clear[\"Delivery_location\"] = list(zip(df_clear[\"Delivery_location_latitude\"], df_clear[\"Delivery_location_longitude\"]))\n",
    "df_clear.drop(columns=[\"Restaurant_latitude\", \"Restaurant_longitude\", \"Delivery_location_latitude\", \"Delivery_location_longitude\"], inplace=True)"
   ]
  },
  {
   "cell_type": "markdown",
   "id": "ad2408d3",
   "metadata": {},
   "source": [
    "## 4.4 Unir datas e horas"
   ]
  },
  {
   "cell_type": "markdown",
   "id": "5322660e",
   "metadata": {},
   "source": [
    "Para melhor trabalhar com o tempo, \"Order_date\" será unido com \"Time_Ordered\" e \"Time_Order_picked\". Pelo mesmo motivo, \"Time_taken(min)\" será transformado em um date.time baseado em \"Time_Order_picked\" + \"Time_taken(min)\"."
   ]
  },
  {
   "cell_type": "code",
   "execution_count": 12,
   "id": "b53fb758",
   "metadata": {},
   "outputs": [],
   "source": [
    "# Une as colunas de data e hora para uma melhor manipulação\n",
    "df_clear[\"Time_Ordered\"] = pd.to_datetime(df_clear[\"Order_Date\"] + \" \" + df_clear[\"Time_Ordered\"], format=\"%Y-%m-%d %H:%M:%S\")\n",
    "df_clear[\"Time_Order_picked\"] = pd.to_datetime(df_clear['Order_Date'] + \" \" + df_clear[\"Time_Order_picked\"], format=\"%Y-%m-%d %H:%M:%S\")\n",
    "# Adiciona 1 dia para pedidos feitos antes da meia noite e entregues depois da meia\n",
    "df_clear[\"Time_Order_picked\"] = df_clear.apply(lambda row: row[\"Time_Order_picked\"] + pd.Timedelta(days=1) if row[\"Time_Ordered\"] > row[\"Time_Order_picked\"] else row[\"Time_Order_picked\"], axis=1)\n",
    "# Calcula a hora da entrega baseado em Time_order_pick + time_taken\n",
    "df_clear[\"Time_Order_delivered\"] = df_clear[\"Time_Order_picked\"] + pd.to_timedelta(df_clear[\"Time_taken(min)\"], unit=\"m\")\n",
    "# Remove as colunas originais de data e tempo\n",
    "df_clear.drop([\"Order_Date\", \"Time_taken(min)\"], axis=1, inplace=True)"
   ]
  },
  {
   "cell_type": "markdown",
   "id": "2382858a",
   "metadata": {},
   "source": [
    "## 4.5 Preenchendo NaNs"
   ]
  },
  {
   "cell_type": "code",
   "execution_count": 13,
   "id": "3a20e734",
   "metadata": {},
   "outputs": [
    {
     "name": "stdout",
     "output_type": "stream",
     "text": [
      "Mediana de \"Delivery_person_Age\": 29.0\n",
      "Média de \"Delivery_person_Age\": 29.449614215571664\n"
     ]
    }
   ],
   "source": [
    "print(f'Mediana de \"Delivery_person_Age\": {df_clear['Delivery_person_Age'].median()}')\n",
    "print(f'Média de \"Delivery_person_Age\": {df_clear['Delivery_person_Age'].mean()}')"
   ]
  },
  {
   "cell_type": "markdown",
   "id": "d7cf6ed5",
   "metadata": {},
   "source": [
    "A coluna \"Delivery_person_Age\" possui o valor de ~29 tanto para a mediana quanto para a média, então vamos preencher os NaNs com a mediana, pois é um Int e a média é um float.<br>Uma abordagem melhor seria aplicar um método como \"KNN\", mas neste exercício vamos nos manter no simples."
   ]
  },
  {
   "cell_type": "code",
   "execution_count": 14,
   "id": "ce846c53",
   "metadata": {},
   "outputs": [],
   "source": [
    "df_clear[\"Delivery_person_Age\"] = df_clear['Delivery_person_Age'].fillna(df_clear['Delivery_person_Age'].median())"
   ]
  },
  {
   "cell_type": "markdown",
   "id": "24a06201",
   "metadata": {},
   "source": [
    "\"Delivery_person_Ratings\" pode ser preenchido com a média baseada no \"Delivery_person_ID\"."
   ]
  },
  {
   "cell_type": "code",
   "execution_count": 15,
   "id": "6a2dcd9a",
   "metadata": {},
   "outputs": [],
   "source": [
    "df_aux = df_clear[[\"Delivery_person_ID\", \"Delivery_person_Ratings\"]].dropna()\n",
    "df_aux = df_aux.groupby([\"Delivery_person_ID\"]).mean().reset_index()\n",
    "df_clear = df_clear.merge(df_aux, on=\"Delivery_person_ID\", how=\"left\", suffixes=('', '_mean'))\n",
    "df_clear[\"Delivery_person_Ratings\"] = df_clear[\"Delivery_person_Ratings\"].fillna(df_clear[\"Delivery_person_Ratings_mean\"])\n",
    "df_clear.drop(columns=[\"Delivery_person_Ratings_mean\"], inplace=True)"
   ]
  },
  {
   "cell_type": "markdown",
   "id": "4bfc2601",
   "metadata": {},
   "source": [
    "NaNs em \"Time_ordered\" podem ser preenchidos com base nos outros pedidos, agrupados pelo tipo de pedido.<br>A suposição aqui é que as refeições provavelmente têm um tempo de preparo mais longo do que o buffet, que tem um tempo mais longo do que as bebidas, que têm um tempo mais longo do que as lanches."
   ]
  },
  {
   "cell_type": "code",
   "execution_count": 16,
   "id": "07699968",
   "metadata": {},
   "outputs": [
    {
     "data": {
      "text/html": [
       "<div>\n",
       "<style scoped>\n",
       "    .dataframe tbody tr th:only-of-type {\n",
       "        vertical-align: middle;\n",
       "    }\n",
       "\n",
       "    .dataframe tbody tr th {\n",
       "        vertical-align: top;\n",
       "    }\n",
       "\n",
       "    .dataframe thead tr th {\n",
       "        text-align: left;\n",
       "    }\n",
       "</style>\n",
       "<table border=\"1\" class=\"dataframe\">\n",
       "  <thead>\n",
       "    <tr>\n",
       "      <th></th>\n",
       "      <th>Type_of_order</th>\n",
       "      <th colspan=\"2\" halign=\"left\">Time_to_pick</th>\n",
       "      <th colspan=\"2\" halign=\"left\">Time_to_delivery</th>\n",
       "    </tr>\n",
       "    <tr>\n",
       "      <th></th>\n",
       "      <th></th>\n",
       "      <th>mean</th>\n",
       "      <th>median</th>\n",
       "      <th>mean</th>\n",
       "      <th>median</th>\n",
       "    </tr>\n",
       "  </thead>\n",
       "  <tbody>\n",
       "    <tr>\n",
       "      <th>0</th>\n",
       "      <td>Buffet</td>\n",
       "      <td>9.781784</td>\n",
       "      <td>10.0</td>\n",
       "      <td>26.122391</td>\n",
       "      <td>25.0</td>\n",
       "    </tr>\n",
       "    <tr>\n",
       "      <th>1</th>\n",
       "      <td>Drinks</td>\n",
       "      <td>9.841954</td>\n",
       "      <td>10.0</td>\n",
       "      <td>26.286398</td>\n",
       "      <td>25.5</td>\n",
       "    </tr>\n",
       "    <tr>\n",
       "      <th>2</th>\n",
       "      <td>Meal</td>\n",
       "      <td>10.032110</td>\n",
       "      <td>10.0</td>\n",
       "      <td>26.225688</td>\n",
       "      <td>25.0</td>\n",
       "    </tr>\n",
       "    <tr>\n",
       "      <th>3</th>\n",
       "      <td>Snack</td>\n",
       "      <td>9.977252</td>\n",
       "      <td>10.0</td>\n",
       "      <td>26.482257</td>\n",
       "      <td>26.0</td>\n",
       "    </tr>\n",
       "  </tbody>\n",
       "</table>\n",
       "</div>"
      ],
      "text/plain": [
       "  Type_of_order Time_to_pick        Time_to_delivery       \n",
       "                        mean median             mean median\n",
       "0        Buffet     9.781784   10.0        26.122391   25.0\n",
       "1        Drinks     9.841954   10.0        26.286398   25.5\n",
       "2          Meal    10.032110   10.0        26.225688   25.0\n",
       "3         Snack     9.977252   10.0        26.482257   26.0"
      ]
     },
     "execution_count": 16,
     "metadata": {},
     "output_type": "execute_result"
    }
   ],
   "source": [
    "df_aux = df_clear[[\"Time_Ordered\", \"Time_Order_picked\", \"Time_Order_delivered\", \"Type_of_order\"]].dropna()\n",
    "df_aux[\"Time_to_pick\"] = (df_aux[\"Time_Order_picked\"] - df_aux[\"Time_Ordered\"]).dt.total_seconds() / 60\n",
    "df_aux[\"Time_to_delivery\"] = (df_aux[\"Time_Order_delivered\"] - df_aux[\"Time_Order_picked\"]).dt.total_seconds() / 60\n",
    "df_aux = df_aux.drop(columns=[\"Time_Ordered\", \"Time_Order_picked\", \"Time_Order_delivered\"])\n",
    "df_times_grouped = df_aux.groupby([\"Type_of_order\"]).agg([\"mean\", \"median\"]).reset_index()\n",
    "df_times_grouped"
   ]
  },
  {
   "cell_type": "markdown",
   "id": "ea438aed",
   "metadata": {},
   "source": [
    "A suposição não foi exatamente verdadeira, mas a mediana de \"Time_to_pick\" pode ser usada para calcular quando os pedidos com NaNs foram feitos sem muita distorção nos dados."
   ]
  },
  {
   "cell_type": "code",
   "execution_count": 17,
   "id": "f9ba0c08",
   "metadata": {},
   "outputs": [],
   "source": [
    "df_clear[\"Time_Ordered\"] = df_clear[\"Time_Ordered\"].fillna(df_clear[\"Time_Order_picked\"] - pd.to_timedelta(df_times_grouped.loc[0, (\"Time_to_pick\", \"median\")], unit=\"m\"))"
   ]
  },
  {
   "cell_type": "markdown",
   "id": "65bbb6b1",
   "metadata": {},
   "source": [
    "Em \"multiple_delivery\", a suposição é: se não é uma entrega múltipla, essa entrada não foi preenchida, então os NaNs serão preenchidos com 1."
   ]
  },
  {
   "cell_type": "code",
   "execution_count": 18,
   "id": "5b2632fa",
   "metadata": {},
   "outputs": [],
   "source": [
    "df_clear[\"multiple_deliveries\"] = df_clear[\"multiple_deliveries\"].fillna(1)"
   ]
  },
  {
   "cell_type": "code",
   "execution_count": 19,
   "id": "ec2b1f93",
   "metadata": {},
   "outputs": [
    {
     "name": "stdout",
     "output_type": "stream",
     "text": [
      "\n",
      "Info dos valores:\n",
      "\n",
      "<class 'pandas.core.frame.DataFrame'>\n",
      "RangeIndex: 4291 entries, 0 to 4290\n",
      "Data columns (total 17 columns):\n",
      " #   Column                   Non-Null Count  Dtype         \n",
      "---  ------                   --------------  -----         \n",
      " 0   ID                       4291 non-null   object        \n",
      " 1   Delivery_person_ID       4291 non-null   object        \n",
      " 2   Delivery_person_Age      4291 non-null   Int64         \n",
      " 3   Delivery_person_Ratings  4291 non-null   float64       \n",
      " 4   Time_Ordered             4291 non-null   datetime64[ns]\n",
      " 5   Time_Order_picked        4291 non-null   datetime64[ns]\n",
      " 6   Weatherconditions        4291 non-null   object        \n",
      " 7   Road_traffic_density     4291 non-null   object        \n",
      " 8   Vehicle_condition        4291 non-null   int64         \n",
      " 9   Type_of_order            4291 non-null   object        \n",
      " 10  Type_of_vehicle          4291 non-null   object        \n",
      " 11  multiple_deliveries      4291 non-null   Int64         \n",
      " 12  Festival                 4291 non-null   object        \n",
      " 13  City                     4291 non-null   object        \n",
      " 14  Restaurant_location      4291 non-null   object        \n",
      " 15  Delivery_location        4291 non-null   object        \n",
      " 16  Time_Order_delivered     4291 non-null   datetime64[ns]\n",
      "dtypes: Int64(2), datetime64[ns](3), float64(1), int64(1), object(10)\n",
      "memory usage: 578.4+ KB\n",
      "None\n",
      "\n",
      "Descrição dos dados:\n",
      "\n",
      "       Delivery_person_Age  Delivery_person_Ratings  \\\n",
      "count               4291.0              4291.000000   \n",
      "mean             29.448147                 4.630762   \n",
      "min                   15.0                 1.000000   \n",
      "25%                   25.0                 4.500000   \n",
      "50%                   29.0                 4.700000   \n",
      "75%                   34.0                 4.800000   \n",
      "max                   50.0                 5.000000   \n",
      "std               5.779419                 0.329956   \n",
      "\n",
      "                        Time_Ordered              Time_Order_picked  \\\n",
      "count                           4291                           4291   \n",
      "mean   2022-03-14 13:26:58.503845120  2022-03-14 13:36:53.120484864   \n",
      "min              2022-02-11 00:00:00            2022-02-11 00:10:00   \n",
      "25%              2022-03-05 09:57:30            2022-03-05 10:10:00   \n",
      "50%              2022-03-15 17:50:00            2022-03-15 18:00:00   \n",
      "75%              2022-03-27 19:35:00            2022-03-27 19:45:00   \n",
      "max              2022-04-06 23:55:00            2022-04-07 00:05:00   \n",
      "std                              NaN                            NaN   \n",
      "\n",
      "       Vehicle_condition  multiple_deliveries           Time_Order_delivered  \n",
      "count        4291.000000               4291.0                           4291  \n",
      "mean            1.000233             0.767653  2022-03-14 14:03:09.745979904  \n",
      "min             0.000000                  0.0            2022-02-11 00:27:00  \n",
      "25%             0.000000                  0.0            2022-03-05 10:32:30  \n",
      "50%             1.000000                  1.0            2022-03-15 18:38:00  \n",
      "75%             2.000000                  1.0            2022-03-27 20:14:00  \n",
      "max             3.000000                  3.0            2022-04-07 00:48:00  \n",
      "std             0.819204             0.584044                            NaN  \n"
     ]
    }
   ],
   "source": [
    "checkData(df_clear)"
   ]
  },
  {
   "cell_type": "markdown",
   "id": "dd0337ed",
   "metadata": {},
   "source": [
    "# 5.0 Análise descritiva"
   ]
  },
  {
   "cell_type": "markdown",
   "id": "cf3c63e7",
   "metadata": {},
   "source": [
    "## 5.1 Primeiras KBQs\n",
    "Por enquanto, as perguntas de négocio serão respondidas sem o uso de técnicas intermediárias/avançadas como groupby, agg, plotting, machine learning, etc..."
   ]
  },
  {
   "cell_type": "markdown",
   "id": "12eda52e",
   "metadata": {},
   "source": [
    "### 1. Qual o número total de entregas cadastradas na base de dados?\n",
    "**Resposta:** O número total de entregas cadastrados na base de dados é 4291."
   ]
  },
  {
   "cell_type": "code",
   "execution_count": 20,
   "id": "263d805a",
   "metadata": {},
   "outputs": [
    {
     "data": {
      "text/plain": [
       "4291"
      ]
     },
     "execution_count": 20,
     "metadata": {},
     "output_type": "execute_result"
    }
   ],
   "source": [
    "len(df_clear)"
   ]
  },
  {
   "cell_type": "markdown",
   "id": "21050a20",
   "metadata": {},
   "source": [
    "### 2. Quantos entregadores únicos existem na base de dados?\n",
    "**Resposta:** Há 1131 IDs únicos na base de dados, porem aparentemente não são entregadores, mas sim empresas que oferecem o serviço de entrega, pois há multiplas idades para o mesmo ID de entregador."
   ]
  },
  {
   "cell_type": "markdown",
   "id": "5948c608",
   "metadata": {},
   "source": [
    "Primeiramente foi notado nos datasets abaixo que há multiplas idades para o mesmo ID de entregador, o que sugere que provavelmente o ID não é do entregador, mas provavelmente da empresa que oferece o serviço de entrega.\n",
    "Note que, apesar de não ser usado técnicas como groupby e agg, foi aberto uma exceção para o código abaixo, pois ele não visa responder a pergunta, mas sim apontar uma inconsistência na base de dados."
   ]
  },
  {
   "cell_type": "code",
   "execution_count": 21,
   "id": "ef1042c2",
   "metadata": {},
   "outputs": [
    {
     "data": {
      "text/html": [
       "<div>\n",
       "<style scoped>\n",
       "    .dataframe tbody tr th:only-of-type {\n",
       "        vertical-align: middle;\n",
       "    }\n",
       "\n",
       "    .dataframe tbody tr th {\n",
       "        vertical-align: top;\n",
       "    }\n",
       "\n",
       "    .dataframe thead tr th {\n",
       "        text-align: left;\n",
       "    }\n",
       "</style>\n",
       "<table border=\"1\" class=\"dataframe\">\n",
       "  <thead>\n",
       "    <tr>\n",
       "      <th></th>\n",
       "      <th>Delivery_person_ID</th>\n",
       "      <th>Delivery_person_Age</th>\n",
       "    </tr>\n",
       "    <tr>\n",
       "      <th></th>\n",
       "      <th></th>\n",
       "      <th>count</th>\n",
       "    </tr>\n",
       "  </thead>\n",
       "  <tbody>\n",
       "    <tr>\n",
       "      <th>0</th>\n",
       "      <td>AGRRES010DEL01</td>\n",
       "      <td>1</td>\n",
       "    </tr>\n",
       "    <tr>\n",
       "      <th>1</th>\n",
       "      <td>AGRRES010DEL02</td>\n",
       "      <td>2</td>\n",
       "    </tr>\n",
       "    <tr>\n",
       "      <th>2</th>\n",
       "      <td>AGRRES01DEL02</td>\n",
       "      <td>1</td>\n",
       "    </tr>\n",
       "    <tr>\n",
       "      <th>3</th>\n",
       "      <td>AGRRES01DEL03</td>\n",
       "      <td>1</td>\n",
       "    </tr>\n",
       "    <tr>\n",
       "      <th>4</th>\n",
       "      <td>AGRRES02DEL02</td>\n",
       "      <td>1</td>\n",
       "    </tr>\n",
       "    <tr>\n",
       "      <th>...</th>\n",
       "      <td>...</td>\n",
       "      <td>...</td>\n",
       "    </tr>\n",
       "    <tr>\n",
       "      <th>1126</th>\n",
       "      <td>VADRES19DEL02</td>\n",
       "      <td>7</td>\n",
       "    </tr>\n",
       "    <tr>\n",
       "      <th>1127</th>\n",
       "      <td>VADRES19DEL03</td>\n",
       "      <td>5</td>\n",
       "    </tr>\n",
       "    <tr>\n",
       "      <th>1128</th>\n",
       "      <td>VADRES20DEL01</td>\n",
       "      <td>5</td>\n",
       "    </tr>\n",
       "    <tr>\n",
       "      <th>1129</th>\n",
       "      <td>VADRES20DEL02</td>\n",
       "      <td>7</td>\n",
       "    </tr>\n",
       "    <tr>\n",
       "      <th>1130</th>\n",
       "      <td>VADRES20DEL03</td>\n",
       "      <td>1</td>\n",
       "    </tr>\n",
       "  </tbody>\n",
       "</table>\n",
       "<p>1131 rows × 2 columns</p>\n",
       "</div>"
      ],
      "text/plain": [
       "     Delivery_person_ID Delivery_person_Age\n",
       "                                      count\n",
       "0        AGRRES010DEL01                   1\n",
       "1        AGRRES010DEL02                   2\n",
       "2         AGRRES01DEL02                   1\n",
       "3         AGRRES01DEL03                   1\n",
       "4         AGRRES02DEL02                   1\n",
       "...                 ...                 ...\n",
       "1126      VADRES19DEL02                   7\n",
       "1127      VADRES19DEL03                   5\n",
       "1128      VADRES20DEL01                   5\n",
       "1129      VADRES20DEL02                   7\n",
       "1130      VADRES20DEL03                   1\n",
       "\n",
       "[1131 rows x 2 columns]"
      ]
     },
     "execution_count": 21,
     "metadata": {},
     "output_type": "execute_result"
    }
   ],
   "source": [
    "df_aux = df_clear[[\"Delivery_person_ID\", \"Delivery_person_Age\"]].dropna()\n",
    "df_age_grouped = df_aux.groupby([\"Delivery_person_ID\"]).agg([\"count\"]).reset_index()\n",
    "df_age_grouped"
   ]
  },
  {
   "cell_type": "code",
   "execution_count": 22,
   "id": "ae698ec5",
   "metadata": {},
   "outputs": [
    {
     "data": {
      "text/html": [
       "<div>\n",
       "<style scoped>\n",
       "    .dataframe tbody tr th:only-of-type {\n",
       "        vertical-align: middle;\n",
       "    }\n",
       "\n",
       "    .dataframe tbody tr th {\n",
       "        vertical-align: top;\n",
       "    }\n",
       "\n",
       "    .dataframe thead th {\n",
       "        text-align: right;\n",
       "    }\n",
       "</style>\n",
       "<table border=\"1\" class=\"dataframe\">\n",
       "  <thead>\n",
       "    <tr style=\"text-align: right;\">\n",
       "      <th></th>\n",
       "      <th>Delivery_person_ID</th>\n",
       "      <th>Delivery_person_Age</th>\n",
       "    </tr>\n",
       "  </thead>\n",
       "  <tbody>\n",
       "    <tr>\n",
       "      <th>921</th>\n",
       "      <td>VADRES19DEL02</td>\n",
       "      <td>38</td>\n",
       "    </tr>\n",
       "    <tr>\n",
       "      <th>2160</th>\n",
       "      <td>VADRES19DEL02</td>\n",
       "      <td>33</td>\n",
       "    </tr>\n",
       "    <tr>\n",
       "      <th>2972</th>\n",
       "      <td>VADRES19DEL02</td>\n",
       "      <td>34</td>\n",
       "    </tr>\n",
       "    <tr>\n",
       "      <th>3091</th>\n",
       "      <td>VADRES19DEL02</td>\n",
       "      <td>28</td>\n",
       "    </tr>\n",
       "    <tr>\n",
       "      <th>3326</th>\n",
       "      <td>VADRES19DEL02</td>\n",
       "      <td>36</td>\n",
       "    </tr>\n",
       "    <tr>\n",
       "      <th>3390</th>\n",
       "      <td>VADRES19DEL02</td>\n",
       "      <td>28</td>\n",
       "    </tr>\n",
       "    <tr>\n",
       "      <th>4205</th>\n",
       "      <td>VADRES19DEL02</td>\n",
       "      <td>38</td>\n",
       "    </tr>\n",
       "  </tbody>\n",
       "</table>\n",
       "</div>"
      ],
      "text/plain": [
       "     Delivery_person_ID  Delivery_person_Age\n",
       "921       VADRES19DEL02                   38\n",
       "2160      VADRES19DEL02                   33\n",
       "2972      VADRES19DEL02                   34\n",
       "3091      VADRES19DEL02                   28\n",
       "3326      VADRES19DEL02                   36\n",
       "3390      VADRES19DEL02                   28\n",
       "4205      VADRES19DEL02                   38"
      ]
     },
     "execution_count": 22,
     "metadata": {},
     "output_type": "execute_result"
    }
   ],
   "source": [
    "df_clear.loc[df_clear['Delivery_person_ID'] == 'VADRES19DEL02', [\"Delivery_person_ID\", \"Delivery_person_Age\"]]"
   ]
  },
  {
   "cell_type": "markdown",
   "id": "c4414bcc",
   "metadata": {},
   "source": [
    "Portanto será tratado como \"ID único\" e não \"entregador único\"."
   ]
  },
  {
   "cell_type": "code",
   "execution_count": 23,
   "id": "eb0e6bd3",
   "metadata": {},
   "outputs": [
    {
     "data": {
      "text/plain": [
       "1131"
      ]
     },
     "execution_count": 23,
     "metadata": {},
     "output_type": "execute_result"
    }
   ],
   "source": [
    "# Get the size of the unique values in the column Delivery_person_ID\n",
    "len(df_clear[\"Delivery_person_ID\"].unique())"
   ]
  },
  {
   "cell_type": "markdown",
   "id": "c53287dc",
   "metadata": {},
   "source": [
    "### 3. Qual a idade do entregador mais velho? E do mais novo?\n",
    "**Resposta:** A maior idadeade é 50 anos e a menor idade é 15 anos."
   ]
  },
  {
   "cell_type": "code",
   "execution_count": 24,
   "id": "fc957187",
   "metadata": {},
   "outputs": [
    {
     "data": {
      "text/plain": [
       "2292    15\n",
       "2787    15\n",
       "2833    15\n",
       "1944    20\n",
       "3031    20\n",
       "        ..\n",
       "65      39\n",
       "2976    39\n",
       "3029    39\n",
       "4277    39\n",
       "3448    50\n",
       "Name: Delivery_person_Age, Length: 4291, dtype: Int64"
      ]
     },
     "execution_count": 24,
     "metadata": {},
     "output_type": "execute_result"
    }
   ],
   "source": [
    "df_clear[\"Delivery_person_Age\"].sort_values(ascending=True)"
   ]
  },
  {
   "cell_type": "markdown",
   "id": "7f7012f3",
   "metadata": {},
   "source": [
    "### 4. Qual o ID do entregador com a maior idade? E o ID do entregador com a menor idade?\n",
    "**Resposta:** O ID do entregador mais velho é \"BANGRES05DEL01\" e o ID do entregador mais novo é \"JAPRES15DEL03\"."
   ]
  },
  {
   "cell_type": "code",
   "execution_count": 25,
   "id": "72995e1d",
   "metadata": {},
   "outputs": [
    {
     "data": {
      "text/plain": [
       "{'max': {'Delivery_person_ID': 'BANGRES05DEL01', 'Delivery_person_Age': 50},\n",
       " 'min': {'Delivery_person_ID': 'JAPRES15DEL03', 'Delivery_person_Age': 15}}"
      ]
     },
     "execution_count": 25,
     "metadata": {},
     "output_type": "execute_result"
    }
   ],
   "source": [
    "max_age_row = df_clear.loc[df_clear[\"Delivery_person_Age\"].idxmax()]\n",
    "min_age_row = df_clear.loc[df_clear[\"Delivery_person_Age\"].idxmin()]\n",
    "age_max_min = {\n",
    "    \"max\": {\n",
    "        \"Delivery_person_ID\": str(max_age_row[\"Delivery_person_ID\"]),\n",
    "        \"Delivery_person_Age\": int(max_age_row[\"Delivery_person_Age\"])\n",
    "    },\n",
    "    \"min\": {\n",
    "        \"Delivery_person_ID\": str(min_age_row[\"Delivery_person_ID\"]),\n",
    "        \"Delivery_person_Age\": int(min_age_row[\"Delivery_person_Age\"])\n",
    "    }\n",
    "}\n",
    "age_max_min\n"
   ]
  },
  {
   "cell_type": "markdown",
   "id": "d4e24c57",
   "metadata": {},
   "source": [
    "### 5. Quais os nomes das condições climáticas?\n",
    "**Resposta:** As condições climáticas são: \n",
    "- \"Sunny\"\n",
    "- \"Stormy\"\n",
    "- \"Sandstorms\"\n",
    "- \"Cloudy\"\n",
    "- \"Fog\"\n",
    "- \"Windy\"\n",
    "- \"Unknown\".\n",
    "\n",
    "Lembrando que \"Unknown\" foi criado para conter os valores nulos da coluna."
   ]
  },
  {
   "cell_type": "code",
   "execution_count": 26,
   "id": "1cd0faf4",
   "metadata": {},
   "outputs": [
    {
     "data": {
      "text/plain": [
       "array(['Sunny', 'Stormy', 'Sandstorms', 'Cloudy', 'Fog', 'Windy',\n",
       "       'Unknown'], dtype=object)"
      ]
     },
     "execution_count": 26,
     "metadata": {},
     "output_type": "execute_result"
    }
   ],
   "source": [
    "df_clear[\"Weatherconditions\"].unique()"
   ]
  },
  {
   "cell_type": "markdown",
   "id": "0f460ee8",
   "metadata": {},
   "source": [
    "### 6. Quantas entregas foram realizadas sob condições climáticas de tempestade de areia (Sandstorms)?\n",
    "**Resposta:** Foram feitas 697 entregas com a condição \"Sandstorms\"."
   ]
  },
  {
   "cell_type": "code",
   "execution_count": 27,
   "id": "5bfc78aa",
   "metadata": {},
   "outputs": [
    {
     "data": {
      "text/plain": [
       "697"
      ]
     },
     "execution_count": 27,
     "metadata": {},
     "output_type": "execute_result"
    }
   ],
   "source": [
    "len(df_clear.loc[df_clear[\"Weatherconditions\"] == \"Sandstorms\", \"Weatherconditions\"])"
   ]
  },
  {
   "cell_type": "markdown",
   "id": "b0c74046",
   "metadata": {},
   "source": [
    "### 7. Quais eram as condicões climáticas da data mais recente de entrega?\n",
    "**Resposta:** A condição climática da data mais recente de entrega foi \"Fog\" (Neblina)."
   ]
  },
  {
   "cell_type": "code",
   "execution_count": 28,
   "id": "81a018f0",
   "metadata": {},
   "outputs": [
    {
     "data": {
      "text/plain": [
       "1288    Fog\n",
       "Name: Weatherconditions, dtype: object"
      ]
     },
     "execution_count": 28,
     "metadata": {},
     "output_type": "execute_result"
    }
   ],
   "source": [
    "df_clear.loc[df_clear[\"Time_Order_delivered\"] == df_clear[\"Time_Order_delivered\"].max(), \"Weatherconditions\"]"
   ]
  },
  {
   "cell_type": "markdown",
   "id": "ad047601",
   "metadata": {},
   "source": [
    "### 8. Quantos tipos de densidade de trânsito existem na base de dados? Quais os nomes delas?\n",
    "**Resposta:** Existem 5 tipos de densidade de trânsito na base de dados:\n",
    "- High\n",
    "- Jam\n",
    "- Low\n",
    "- Medium\n",
    "- Unknown\n",
    "\n",
    "Lembrando que \"Unknown\" foi criado para conter os valores nulos da coluna."
   ]
  },
  {
   "cell_type": "code",
   "execution_count": 29,
   "id": "56c3ea27",
   "metadata": {},
   "outputs": [
    {
     "name": "stdout",
     "output_type": "stream",
     "text": [
      "5 tipos de densidade.\n",
      "['High' 'Jam' 'Low' 'Medium' 'Unknown'].\n"
     ]
    }
   ],
   "source": [
    "print(f\"{len(df_clear[\"Road_traffic_density\"].unique())} tipos de densidade.\\n{df_clear[\"Road_traffic_density\"].unique()}.\")"
   ]
  },
  {
   "cell_type": "markdown",
   "id": "53f54e99",
   "metadata": {},
   "source": [
    "### 9. Quantas entregas foram feitas em cada condição climática?\n",
    "**Resposta:** A quantidade de entregas feitas em cada condição climática é: \n",
    "1. Fog: 758\n",
    "2. Windy: 725\n",
    "3. Cloudy: 707\n",
    "4. Stormy: 704\n",
    "5. Sandstorms: 697\n",
    "6. Sunny: 696\n",
    "7. Unknown: 4"
   ]
  },
  {
   "cell_type": "code",
   "execution_count": 30,
   "id": "1a8ef77d",
   "metadata": {},
   "outputs": [
    {
     "name": "stdout",
     "output_type": "stream",
     "text": [
      "Sunny: 696\n",
      "Stormy: 704\n",
      "Sandstorms: 697\n",
      "Cloudy: 707\n",
      "Fog: 758\n",
      "Windy: 725\n",
      "Unknown: 4\n"
     ]
    }
   ],
   "source": [
    "for condition in df_clear[\"Weatherconditions\"].unique():\n",
    "    print(f\"{condition}: {len(df_clear.loc[df_clear[\"Weatherconditions\"] == condition, \"Weatherconditions\"])}\")"
   ]
  },
  {
   "cell_type": "markdown",
   "id": "60a27bd2",
   "metadata": {},
   "source": [
    "### 10. Quantos entregadores únicos fizeram entregas em cada condição climática?\n",
    "**Resposta:** A quantidade de entregadores únicos que fizeram entregas em cada condição climática é: \n",
    "1. Sunny: 529\n",
    "2. Windy: 523\n",
    "3. Cloudy: 520\n",
    "4. Fog: 511\n",
    "5. Stormy: 504\n",
    "6. Sandstorms: 504\n",
    "7. Unknown: 4"
   ]
  },
  {
   "cell_type": "code",
   "execution_count": 31,
   "id": "d6b8eb2a",
   "metadata": {},
   "outputs": [
    {
     "name": "stdout",
     "output_type": "stream",
     "text": [
      "Sunny: 529\n",
      "Stormy: 504\n",
      "Sandstorms: 504\n",
      "Cloudy: 520\n",
      "Fog: 511\n",
      "Windy: 523\n",
      "Unknown: 4\n"
     ]
    }
   ],
   "source": [
    "for condition in df_clear[\"Weatherconditions\"].unique():\n",
    "    print(f\"{condition}: {df_clear.loc[df_clear[\"Weatherconditions\"] == condition, \"Delivery_person_ID\"].nunique()}\")"
   ]
  },
  {
   "cell_type": "markdown",
   "id": "0032b2fa",
   "metadata": {},
   "source": [
    "### 11. Quantas entregas foram feitas em cada tipo de densidade de trânsito?\n",
    "**Resposta:** A quantidade de entregas feitas em cada condição de transito é: \n",
    "1. Low: 1504\n",
    "2. Jam: 1303\n",
    "3. Medium: 1059\n",
    "4. High: 421\n",
    "5. Unknown: 4"
   ]
  },
  {
   "cell_type": "code",
   "execution_count": 32,
   "id": "50e4fc39",
   "metadata": {},
   "outputs": [
    {
     "name": "stdout",
     "output_type": "stream",
     "text": [
      "High: 421\n",
      "Jam: 1303\n",
      "Low: 1504\n",
      "Medium: 1059\n",
      "Unknown: 4\n"
     ]
    }
   ],
   "source": [
    "for condition in df_clear[\"Road_traffic_density\"].unique():\n",
    "    print(f\"{condition}: {len(df_clear.loc[df_clear[\"Road_traffic_density\"] == condition, \"Road_traffic_density\"])}\")"
   ]
  },
  {
   "cell_type": "markdown",
   "id": "c1c8a847",
   "metadata": {},
   "source": [
    "### 12. Quantos entregadores únicos fizeram entregas em cada tipo de densidade de trânsito?\n",
    "**Resposta:** A quantidade de entregadores únicos que fizeram entregas em cada densidade de trânsito é: \n",
    "1. Low: 784\n",
    "2. Jam: 740\n",
    "3. Medium: 649\n",
    "4. High: 293\n",
    "5. Unknown: 4"
   ]
  },
  {
   "cell_type": "code",
   "execution_count": 33,
   "id": "a13789c7",
   "metadata": {},
   "outputs": [
    {
     "name": "stdout",
     "output_type": "stream",
     "text": [
      "High: 293\n",
      "Jam: 740\n",
      "Low: 784\n",
      "Medium: 649\n",
      "Unknown: 4\n"
     ]
    }
   ],
   "source": [
    "for condition in df_clear[\"Road_traffic_density\"].unique():\n",
    "    print(f\"{condition}: {df_clear.loc[df_clear[\"Road_traffic_density\"] == condition, \"Delivery_person_ID\"].nunique()}\")"
   ]
  },
  {
   "cell_type": "markdown",
   "id": "f0a0de1a",
   "metadata": {},
   "source": [
    "### 13. Quantos tipos de cidades únicas existem na base? Quais são os seus nomes?\n",
    "***Resposta:*** Há 4 tipos de cidades únicas na base e seus nomes são: \n",
    "- Urban\n",
    "- Metropolitian\n",
    "- Semi-Urban\n",
    "- Unknown"
   ]
  },
  {
   "cell_type": "code",
   "execution_count": 34,
   "id": "69052115",
   "metadata": {},
   "outputs": [
    {
     "name": "stdout",
     "output_type": "stream",
     "text": [
      "Há 4 tipos de cidades únicas na base e seus nomes são: ['Urban' 'Metropolitan' 'Semi-Urban' 'Unknown'].\n"
     ]
    }
   ],
   "source": [
    "print(f\"Há {len(df_clear[\"City\"].unique())} tipos de cidades únicas na base e seus nomes são: {df_clear[\"City\"].unique()}.\")"
   ]
  },
  {
   "cell_type": "markdown",
   "id": "a67ecbea",
   "metadata": {},
   "source": [
    "### 14. Quantos tipos de veículos únicos existem na base? Quais são seus nomes?\n",
    "***Resposta:*** Há 4 tipos de veículos únicos na base e seus nomes são:\n",
    "- Bicycle\n",
    "- scooter\n",
    "- motorcycle\n",
    "- electric_scooter"
   ]
  },
  {
   "cell_type": "code",
   "execution_count": 35,
   "id": "e77cf637",
   "metadata": {},
   "outputs": [
    {
     "name": "stdout",
     "output_type": "stream",
     "text": [
      "Há 4 tipos de veículos únicos na base e seus nomes são: ['motorcycle' 'scooter' 'electric_scooter' 'bicycle'].\n"
     ]
    }
   ],
   "source": [
    "print(f\"Há {len(df_clear[\"Type_of_vehicle\"].unique())} tipos de veículos únicos na base e seus nomes são: {df_clear[\"Type_of_vehicle\"].unique()}.\")"
   ]
  },
  {
   "cell_type": "markdown",
   "id": "801e4305",
   "metadata": {},
   "source": [
    "### 15. Qual o tipo de veículo que mais vez entregas com a condição de trânsito pesado (High)?\n",
    "***Resposta:*** O tipo de veículo que mais fez entregas com a condição de trânsito pesado foi motorcycle, com 250 entregas."
   ]
  },
  {
   "cell_type": "code",
   "execution_count": 36,
   "id": "70628e15",
   "metadata": {},
   "outputs": [
    {
     "data": {
      "text/plain": [
       "Type_of_vehicle\n",
       "motorcycle          250\n",
       "scooter             140\n",
       "electric_scooter     31\n",
       "Name: count, dtype: int64"
      ]
     },
     "execution_count": 36,
     "metadata": {},
     "output_type": "execute_result"
    }
   ],
   "source": [
    "df_clear.loc[df_clear[\"Road_traffic_density\"] == \"High\", \"Type_of_vehicle\"].value_counts()"
   ]
  },
  {
   "cell_type": "markdown",
   "id": "9eaf1642",
   "metadata": {},
   "source": [
    "### 16. Qual o tipo de pedido mais feito durante condições climáticas de tempestade de areia?\n",
    "***Resposta:*** O tipo de pedido mas feito durante a condição climáticas de tempestade de areia foi meal, com 193 entregas."
   ]
  },
  {
   "cell_type": "code",
   "execution_count": 37,
   "id": "4feddc77",
   "metadata": {},
   "outputs": [
    {
     "data": {
      "text/plain": [
       "Type_of_order\n",
       "Meal      193\n",
       "Snack     182\n",
       "Buffet    161\n",
       "Drinks    161\n",
       "Name: count, dtype: int64"
      ]
     },
     "execution_count": 37,
     "metadata": {},
     "output_type": "execute_result"
    }
   ],
   "source": [
    "df_clear.loc[df_clear[\"Weatherconditions\"] == \"Sandstorms\", \"Type_of_order\"].value_counts()"
   ]
  },
  {
   "cell_type": "markdown",
   "id": "4ac3d218",
   "metadata": {},
   "source": [
    "### 17. Qual o tipo de cidade com o maior número de pedidos de Bebidas (Drinks) feito em Scooter?\n",
    "***Resposta:*** O tipo de cidade com o maior número de pedidos de bebidas feito em scooter foi Metropolitan, com 260 pedidos."
   ]
  },
  {
   "cell_type": "code",
   "execution_count": 38,
   "id": "d6d0d1a6",
   "metadata": {},
   "outputs": [
    {
     "data": {
      "text/plain": [
       "City\n",
       "Metropolitan    260\n",
       "Urban            75\n",
       "Unknown          15\n",
       "Name: count, dtype: int64"
      ]
     },
     "execution_count": 38,
     "metadata": {},
     "output_type": "execute_result"
    }
   ],
   "source": [
    "df_clear.loc[(df_clear[\"Type_of_order\"] == \"Drinks\") & (df_clear[\"Type_of_vehicle\"] == \"scooter\"), \"City\"].value_counts()"
   ]
  },
  {
   "cell_type": "markdown",
   "id": "db1d8d53",
   "metadata": {},
   "source": [
    "### 18. Qual o tipo de cidade com o (os) entregador mais velho? E o nome da cidade com o (os) entregadores mais novos?\n",
    "***Resposta:*** O tipo de cidade com o entregador mais velho é Urban e o tipo de cidade com 2 dos 3 entregadores mais novos é Metropolitan."
   ]
  },
  {
   "cell_type": "code",
   "execution_count": 39,
   "id": "c911b513",
   "metadata": {},
   "outputs": [
    {
     "data": {
      "text/plain": [
       "3448    Urban\n",
       "Name: City, dtype: object"
      ]
     },
     "execution_count": 39,
     "metadata": {},
     "output_type": "execute_result"
    }
   ],
   "source": [
    "df_clear.loc[df_clear[\"Delivery_person_Age\"] == df_clear[\"Delivery_person_Age\"].max(), \"City\"]"
   ]
  },
  {
   "cell_type": "markdown",
   "id": "c1c90906",
   "metadata": {},
   "source": [
    "Há um unico entregador mais velho, que está no tipo de cidade Urban."
   ]
  },
  {
   "cell_type": "code",
   "execution_count": 40,
   "id": "1ff81855",
   "metadata": {},
   "outputs": [
    {
     "data": {
      "text/plain": [
       "2292           Urban\n",
       "2787    Metropolitan\n",
       "2833    Metropolitan\n",
       "Name: City, dtype: object"
      ]
     },
     "execution_count": 40,
     "metadata": {},
     "output_type": "execute_result"
    }
   ],
   "source": [
    "df_clear.loc[df_clear[\"Delivery_person_Age\"] == df_clear[\"Delivery_person_Age\"].min(), \"City\"]"
   ]
  },
  {
   "cell_type": "markdown",
   "id": "13337bac",
   "metadata": {},
   "source": [
    "Há 3 entregadores mais novos, onde 2 estão no tipo de cidade Metropolitan."
   ]
  },
  {
   "cell_type": "markdown",
   "id": "516bf16c",
   "metadata": {},
   "source": [
    "### 19. Quantas entregas foram feitas durante o Festival?\n",
    "***Resposta:*** Foram feitas 91 entregas durante o Festival."
   ]
  },
  {
   "cell_type": "code",
   "execution_count": 41,
   "id": "dd179ab7",
   "metadata": {},
   "outputs": [
    {
     "data": {
      "text/plain": [
       "91"
      ]
     },
     "execution_count": 41,
     "metadata": {},
     "output_type": "execute_result"
    }
   ],
   "source": [
    "len(df_clear.loc[df_clear[\"Festival\"] == \"Yes\", \"ID\"])"
   ]
  },
  {
   "cell_type": "markdown",
   "id": "ce9175c7",
   "metadata": {},
   "source": [
    "### 20. Quantos tipos de cidades únicas tiveram entregas feitas durante o Festival?\n",
    "***Resposta:*** Houve 4 tipos de cidades únicas que tiveram entregas feitas durante o Festival."
   ]
  },
  {
   "cell_type": "code",
   "execution_count": 42,
   "id": "b017caf8",
   "metadata": {},
   "outputs": [
    {
     "data": {
      "text/plain": [
       "4"
      ]
     },
     "execution_count": 42,
     "metadata": {},
     "output_type": "execute_result"
    }
   ],
   "source": [
    "df_clear.loc[df_clear[\"Festival\"] == \"Yes\", \"City\"].nunique()"
   ]
  },
  {
   "cell_type": "markdown",
   "id": "ec936bda",
   "metadata": {},
   "source": [
    "### 21. Quantas entregas foram feitas durante o Festival no tipo de cidade Urban?\n",
    "***Resposta:*** Foram feitas 18 entregas durante o Festival no tipo de cidade Urban."
   ]
  },
  {
   "cell_type": "code",
   "execution_count": 43,
   "id": "07ddd27a",
   "metadata": {},
   "outputs": [
    {
     "data": {
      "text/plain": [
       "np.int64(18)"
      ]
     },
     "execution_count": 43,
     "metadata": {},
     "output_type": "execute_result"
    }
   ],
   "source": [
    "df_clear.loc[(df_clear[\"Festival\"] == \"Yes\") & (df_clear[\"City\"] == \"Urban\"), \"ID\"].count()"
   ]
  },
  {
   "cell_type": "markdown",
   "id": "4d94484f",
   "metadata": {},
   "source": [
    "## 5.2 Próximas KBQs\n",
    "As próximas perguntas de negócio serão respondidas usando o método SAPE e o uso de tecnicas intermediarias como groupby e agg."
   ]
  },
  {
   "cell_type": "markdown",
   "id": "a44016df",
   "metadata": {},
   "source": [
    "### 1. Qual a média e mediana de idade dos entregadores por tipo de cidade?\n",
    "**Resposta:** A média e mediana de idade dos entregadores por tipo de cidade é:\n",
    "- Metropolitian: Média: 29.68, Mediana: 30\n",
    "- Urban: Média: 28.66, Mediana: 28\n",
    "- Semi-Urban: Média: 34.33, Mediana: 36\n",
    "- Unknown: Média: 28.72, Mediana: 28.0"
   ]
  },
  {
   "cell_type": "code",
   "execution_count": 44,
   "id": "52dcb6d8",
   "metadata": {},
   "outputs": [
    {
     "data": {
      "text/html": [
       "<div>\n",
       "<style scoped>\n",
       "    .dataframe tbody tr th:only-of-type {\n",
       "        vertical-align: middle;\n",
       "    }\n",
       "\n",
       "    .dataframe tbody tr th {\n",
       "        vertical-align: top;\n",
       "    }\n",
       "\n",
       "    .dataframe thead tr th {\n",
       "        text-align: left;\n",
       "    }\n",
       "\n",
       "    .dataframe thead tr:last-of-type th {\n",
       "        text-align: right;\n",
       "    }\n",
       "</style>\n",
       "<table border=\"1\" class=\"dataframe\">\n",
       "  <thead>\n",
       "    <tr>\n",
       "      <th></th>\n",
       "      <th colspan=\"2\" halign=\"left\">Delivery_person_Age</th>\n",
       "    </tr>\n",
       "    <tr>\n",
       "      <th></th>\n",
       "      <th>mean</th>\n",
       "      <th>median</th>\n",
       "    </tr>\n",
       "    <tr>\n",
       "      <th>City</th>\n",
       "      <th></th>\n",
       "      <th></th>\n",
       "    </tr>\n",
       "  </thead>\n",
       "  <tbody>\n",
       "    <tr>\n",
       "      <th>Metropolitan</th>\n",
       "      <td>29.685919</td>\n",
       "      <td>30.0</td>\n",
       "    </tr>\n",
       "    <tr>\n",
       "      <th>Semi-Urban</th>\n",
       "      <td>34.333333</td>\n",
       "      <td>36.0</td>\n",
       "    </tr>\n",
       "    <tr>\n",
       "      <th>Unknown</th>\n",
       "      <td>28.722222</td>\n",
       "      <td>28.0</td>\n",
       "    </tr>\n",
       "    <tr>\n",
       "      <th>Urban</th>\n",
       "      <td>28.663147</td>\n",
       "      <td>28.0</td>\n",
       "    </tr>\n",
       "  </tbody>\n",
       "</table>\n",
       "</div>"
      ],
      "text/plain": [
       "             Delivery_person_Age       \n",
       "                            mean median\n",
       "City                                   \n",
       "Metropolitan           29.685919   30.0\n",
       "Semi-Urban             34.333333   36.0\n",
       "Unknown                28.722222   28.0\n",
       "Urban                  28.663147   28.0"
      ]
     },
     "execution_count": 44,
     "metadata": {},
     "output_type": "execute_result"
    }
   ],
   "source": [
    "# SAída: DataFrame com a média e mediana de idade dos entregadores agrupado por tipo de cidade\n",
    "# Processo: Agrupar os dados por tipo de cidade e calcular a média e mediana da idade dos entregadores\n",
    "# Entrada: DataFrame com os dados limpos\n",
    "df_clear.groupby(\"City\").agg({\"Delivery_person_Age\": [\"mean\", \"median\"]})"
   ]
  },
  {
   "cell_type": "markdown",
   "id": "01bf1e1e",
   "metadata": {},
   "source": [
    "### 2. Qual a média das avaliações das entregas feitas por densidade de tráfego?\n",
    "**Resposta:** A média das avaliações das entregas feitas por densidade de tráfego é:\n",
    "- Low: 4.63\n",
    "- Medium: 4.65\n",
    "- High: 4.67\n",
    "- Jam: 4.60\n",
    "- Unknown: 2.00"
   ]
  },
  {
   "cell_type": "code",
   "execution_count": 45,
   "id": "483fcece",
   "metadata": {},
   "outputs": [
    {
     "data": {
      "text/html": [
       "<div>\n",
       "<style scoped>\n",
       "    .dataframe tbody tr th:only-of-type {\n",
       "        vertical-align: middle;\n",
       "    }\n",
       "\n",
       "    .dataframe tbody tr th {\n",
       "        vertical-align: top;\n",
       "    }\n",
       "\n",
       "    .dataframe thead th {\n",
       "        text-align: right;\n",
       "    }\n",
       "</style>\n",
       "<table border=\"1\" class=\"dataframe\">\n",
       "  <thead>\n",
       "    <tr style=\"text-align: right;\">\n",
       "      <th></th>\n",
       "      <th>Delivery_person_Ratings</th>\n",
       "    </tr>\n",
       "    <tr>\n",
       "      <th>Road_traffic_density</th>\n",
       "      <th></th>\n",
       "    </tr>\n",
       "  </thead>\n",
       "  <tbody>\n",
       "    <tr>\n",
       "      <th>High</th>\n",
       "      <td>4.674525</td>\n",
       "    </tr>\n",
       "    <tr>\n",
       "      <th>Jam</th>\n",
       "      <td>4.601318</td>\n",
       "    </tr>\n",
       "    <tr>\n",
       "      <th>Low</th>\n",
       "      <td>4.635853</td>\n",
       "    </tr>\n",
       "    <tr>\n",
       "      <th>Medium</th>\n",
       "      <td>4.652297</td>\n",
       "    </tr>\n",
       "    <tr>\n",
       "      <th>Unknown</th>\n",
       "      <td>2.000000</td>\n",
       "    </tr>\n",
       "  </tbody>\n",
       "</table>\n",
       "</div>"
      ],
      "text/plain": [
       "                      Delivery_person_Ratings\n",
       "Road_traffic_density                         \n",
       "High                                 4.674525\n",
       "Jam                                  4.601318\n",
       "Low                                  4.635853\n",
       "Medium                               4.652297\n",
       "Unknown                              2.000000"
      ]
     },
     "execution_count": 45,
     "metadata": {},
     "output_type": "execute_result"
    }
   ],
   "source": [
    "# SAída: DataFrame com a média das avaliações das entregas feitas agrupadas por densidade de tráfego\n",
    "# Processo: Agrupar os dados por densidade de tráfego e calcular a média das avaliações das entregas\n",
    "# Entrada: DataFrame com os dados limpos\n",
    "df_clear.groupby(\"Road_traffic_density\").agg({\"Delivery_person_Ratings\": \"mean\"})"
   ]
  },
  {
   "cell_type": "markdown",
   "id": "213e9063",
   "metadata": {},
   "source": [
    "### 3. Qual a média, mediana e desvio padrão das entregas feitas agrupadas por tipo de cidade e tipo de veículo?\n",
    "**Resposta:** Agrupados por tipo de cidade e tipo de veículo, a média, mediana e desvio padrão das entregas feitas é:\n",
    "- Metropolitan\n",
    "    - Bicyle: média 20.00, mediana 20.00, desvio padrão NaN\n",
    "    - Electric Scooter: média 25.51, mediana 26.00, desvio padrão 8.39\n",
    "    - Motorcycle: média 28.41, mediana 27.00, desvio padrão 9.35\n",
    "    - Scooter: média 25.51, mediana 25.00, desvio padrão 8.62\n",
    "- Urban\n",
    "    - Scooter: média 21.33, mediana 19.50, desvio padrão 7.85\n",
    "    - Electric Scooter: média 20.82, mediana 19.00, desvio padrão 7.65\n",
    "    - Motorcycle: média 24.06, mediana 23.00, desvio padrão 9.58\n",
    "- Semi-Urban\n",
    "    - Scooter: média 49.00, mediana 49.00, desvio padrão NaN\n",
    "    - Motorcycle: média 50.21, mediana 50.00, desvio padrão 2.60\n",
    "- Unknown\n",
    "    - Electric Scooter: média 20.82, mediana 19.00, desvio padrão 7.65\n",
    "    - Mortorcycle: média 24.46, mediana 23.00, desvio padrão 9.58\n",
    "    - Scooter: média 21.33, mediana 19.50, desvio padrão 7.85\n",
    "\n",
    "*OBS:*<br>\n",
    "&nbsp;&nbsp;&nbsp;&nbsp; - *Valores representam minutos, por exemplo, 1.5 representa 1 minuto e 30 segundos.*<br>\n",
    "&nbsp;&nbsp;&nbsp;&nbsp; - *Valores NaN indicam que não há variação, ou seja, só há um valor para aquele grupo.*"
   ]
  },
  {
   "cell_type": "code",
   "execution_count": 46,
   "id": "f36fa437",
   "metadata": {},
   "outputs": [
    {
     "data": {
      "text/html": [
       "<div>\n",
       "<style scoped>\n",
       "    .dataframe tbody tr th:only-of-type {\n",
       "        vertical-align: middle;\n",
       "    }\n",
       "\n",
       "    .dataframe tbody tr th {\n",
       "        vertical-align: top;\n",
       "    }\n",
       "\n",
       "    .dataframe thead tr th {\n",
       "        text-align: left;\n",
       "    }\n",
       "\n",
       "    .dataframe thead tr:last-of-type th {\n",
       "        text-align: right;\n",
       "    }\n",
       "</style>\n",
       "<table border=\"1\" class=\"dataframe\">\n",
       "  <thead>\n",
       "    <tr>\n",
       "      <th></th>\n",
       "      <th></th>\n",
       "      <th colspan=\"3\" halign=\"left\">time_diff(min)</th>\n",
       "    </tr>\n",
       "    <tr>\n",
       "      <th></th>\n",
       "      <th></th>\n",
       "      <th>mean</th>\n",
       "      <th>median</th>\n",
       "      <th>std</th>\n",
       "    </tr>\n",
       "    <tr>\n",
       "      <th>City</th>\n",
       "      <th>Type_of_vehicle</th>\n",
       "      <th></th>\n",
       "      <th></th>\n",
       "      <th></th>\n",
       "    </tr>\n",
       "  </thead>\n",
       "  <tbody>\n",
       "    <tr>\n",
       "      <th rowspan=\"4\" valign=\"top\">Metropolitan</th>\n",
       "      <th>bicycle</th>\n",
       "      <td>20.000000</td>\n",
       "      <td>20.0</td>\n",
       "      <td>NaN</td>\n",
       "    </tr>\n",
       "    <tr>\n",
       "      <th>electric_scooter</th>\n",
       "      <td>25.518987</td>\n",
       "      <td>26.0</td>\n",
       "      <td>8.396722</td>\n",
       "    </tr>\n",
       "    <tr>\n",
       "      <th>motorcycle</th>\n",
       "      <td>28.413066</td>\n",
       "      <td>27.0</td>\n",
       "      <td>9.350148</td>\n",
       "    </tr>\n",
       "    <tr>\n",
       "      <th>scooter</th>\n",
       "      <td>25.519099</td>\n",
       "      <td>25.0</td>\n",
       "      <td>8.624229</td>\n",
       "    </tr>\n",
       "    <tr>\n",
       "      <th rowspan=\"2\" valign=\"top\">Semi-Urban</th>\n",
       "      <th>motorcycle</th>\n",
       "      <td>50.214286</td>\n",
       "      <td>50.0</td>\n",
       "      <td>2.607049</td>\n",
       "    </tr>\n",
       "    <tr>\n",
       "      <th>scooter</th>\n",
       "      <td>49.000000</td>\n",
       "      <td>49.0</td>\n",
       "      <td>NaN</td>\n",
       "    </tr>\n",
       "    <tr>\n",
       "      <th rowspan=\"3\" valign=\"top\">Unknown</th>\n",
       "      <th>electric_scooter</th>\n",
       "      <td>14.818182</td>\n",
       "      <td>15.0</td>\n",
       "      <td>2.891995</td>\n",
       "    </tr>\n",
       "    <tr>\n",
       "      <th>motorcycle</th>\n",
       "      <td>24.067797</td>\n",
       "      <td>24.0</td>\n",
       "      <td>8.571936</td>\n",
       "    </tr>\n",
       "    <tr>\n",
       "      <th>scooter</th>\n",
       "      <td>22.750000</td>\n",
       "      <td>21.5</td>\n",
       "      <td>8.739149</td>\n",
       "    </tr>\n",
       "    <tr>\n",
       "      <th rowspan=\"3\" valign=\"top\">Urban</th>\n",
       "      <th>electric_scooter</th>\n",
       "      <td>20.827586</td>\n",
       "      <td>19.0</td>\n",
       "      <td>7.658719</td>\n",
       "    </tr>\n",
       "    <tr>\n",
       "      <th>motorcycle</th>\n",
       "      <td>24.467308</td>\n",
       "      <td>23.0</td>\n",
       "      <td>9.585378</td>\n",
       "    </tr>\n",
       "    <tr>\n",
       "      <th>scooter</th>\n",
       "      <td>21.332353</td>\n",
       "      <td>19.5</td>\n",
       "      <td>7.856652</td>\n",
       "    </tr>\n",
       "  </tbody>\n",
       "</table>\n",
       "</div>"
      ],
      "text/plain": [
       "                              time_diff(min)                 \n",
       "                                        mean median       std\n",
       "City         Type_of_vehicle                                 \n",
       "Metropolitan bicycle               20.000000   20.0       NaN\n",
       "             electric_scooter      25.518987   26.0  8.396722\n",
       "             motorcycle            28.413066   27.0  9.350148\n",
       "             scooter               25.519099   25.0  8.624229\n",
       "Semi-Urban   motorcycle            50.214286   50.0  2.607049\n",
       "             scooter               49.000000   49.0       NaN\n",
       "Unknown      electric_scooter      14.818182   15.0  2.891995\n",
       "             motorcycle            24.067797   24.0  8.571936\n",
       "             scooter               22.750000   21.5  8.739149\n",
       "Urban        electric_scooter      20.827586   19.0  7.658719\n",
       "             motorcycle            24.467308   23.0  9.585378\n",
       "             scooter               21.332353   19.5  7.856652"
      ]
     },
     "execution_count": 46,
     "metadata": {},
     "output_type": "execute_result"
    }
   ],
   "source": [
    "# SAída: DataFrame com a média, mediana e desvio padrão das entregas feitas agrupadas por tipo de cidade e tipo de veículo\n",
    "# Processo: Agrupar as entregas por tipo de cidade e tipo de veículo e calcular a média, mediana e desvio padrão\n",
    "# Entrada: DataFrame com os dados limpos\n",
    "df = df_clear[[\"City\", \"Type_of_vehicle\"]].copy()\n",
    "df[\"time_diff(min)\"] = (df_clear[\"Time_Order_delivered\"] - df_clear[\"Time_Order_picked\"]).dt.total_seconds() / 60\n",
    "df.groupby([\"City\", \"Type_of_vehicle\"]).agg({\"time_diff(min)\": [\"mean\", \"median\", \"std\"]})\n"
   ]
  },
  {
   "cell_type": "markdown",
   "id": "4ab7719a",
   "metadata": {},
   "source": [
    "### 4. Qual a primeira e a última data de entrega por cada tipo de cidade?\n",
    "**Resposta:** A primeira e última data de entrega por cada tipo de cidade são as seguintes:\t\n",
    "- Metropolitan: primeira em *2022-02-11 08:49:00*, e última em *2022-04-07 00:40:00*\n",
    "- Semi-Urban: primeira em *2022-02-12 20:25:00*, e última em *2022-04-04 22:19:00*\n",
    "- Unknown: primeira em *2022-02-11 23:55:00*, e última em\t*2022-04-07 00:48:00*\n",
    "- Urban: primeira em *2022-02-11 00:27:00*, e última em *2022-04-07 00:22:00*"
   ]
  },
  {
   "cell_type": "code",
   "execution_count": 47,
   "id": "a29a9976",
   "metadata": {},
   "outputs": [
    {
     "data": {
      "text/html": [
       "<div>\n",
       "<style scoped>\n",
       "    .dataframe tbody tr th:only-of-type {\n",
       "        vertical-align: middle;\n",
       "    }\n",
       "\n",
       "    .dataframe tbody tr th {\n",
       "        vertical-align: top;\n",
       "    }\n",
       "\n",
       "    .dataframe thead th {\n",
       "        text-align: right;\n",
       "    }\n",
       "</style>\n",
       "<table border=\"1\" class=\"dataframe\">\n",
       "  <thead>\n",
       "    <tr style=\"text-align: right;\">\n",
       "      <th></th>\n",
       "      <th>min</th>\n",
       "      <th>max</th>\n",
       "    </tr>\n",
       "    <tr>\n",
       "      <th>City</th>\n",
       "      <th></th>\n",
       "      <th></th>\n",
       "    </tr>\n",
       "  </thead>\n",
       "  <tbody>\n",
       "    <tr>\n",
       "      <th>Metropolitan</th>\n",
       "      <td>2022-02-11 08:49:00</td>\n",
       "      <td>2022-04-07 00:40:00</td>\n",
       "    </tr>\n",
       "    <tr>\n",
       "      <th>Semi-Urban</th>\n",
       "      <td>2022-02-12 20:25:00</td>\n",
       "      <td>2022-04-04 22:19:00</td>\n",
       "    </tr>\n",
       "    <tr>\n",
       "      <th>Unknown</th>\n",
       "      <td>2022-02-11 23:55:00</td>\n",
       "      <td>2022-04-07 00:48:00</td>\n",
       "    </tr>\n",
       "    <tr>\n",
       "      <th>Urban</th>\n",
       "      <td>2022-02-11 00:27:00</td>\n",
       "      <td>2022-04-07 00:22:00</td>\n",
       "    </tr>\n",
       "  </tbody>\n",
       "</table>\n",
       "</div>"
      ],
      "text/plain": [
       "                             min                 max\n",
       "City                                                \n",
       "Metropolitan 2022-02-11 08:49:00 2022-04-07 00:40:00\n",
       "Semi-Urban   2022-02-12 20:25:00 2022-04-04 22:19:00\n",
       "Unknown      2022-02-11 23:55:00 2022-04-07 00:48:00\n",
       "Urban        2022-02-11 00:27:00 2022-04-07 00:22:00"
      ]
     },
     "execution_count": 47,
     "metadata": {},
     "output_type": "execute_result"
    }
   ],
   "source": [
    "# SAída: DataFrame com a primeira e a última data de entrega por cada tipo de cidade\n",
    "# Processo: Agrupar as entregas por tipo de cidade e recuperar a primeira e a última data de entrega\n",
    "# Entrada: DataFrame com os dados limpos\n",
    "df_clear.groupby(\"City\")[\"Time_Order_delivered\"].agg([\"min\", \"max\"])"
   ]
  },
  {
   "cell_type": "markdown",
   "id": "cc8af8b3",
   "metadata": {},
   "source": [
    "### 5. Qual a média de avaliações das entregas feitas por condições climáticas?\n",
    "**Resposta:** A média de avaliações das entregas feitas agrupadas por condições climáticas é:\n",
    "1. Fog:           4.65\n",
    "2. Sunny:         4.64\n",
    "3. Sandstorms:    4.63\n",
    "4. Cloudy:        4.62\n",
    "5. Windy:         4.62\n",
    "6. Stormy:        4.61\n",
    "7. Unknown:       2.00"
   ]
  },
  {
   "cell_type": "code",
   "execution_count": 48,
   "id": "a2176ad3",
   "metadata": {},
   "outputs": [
    {
     "data": {
      "text/plain": [
       "Weatherconditions\n",
       "Cloudy        4.624656\n",
       "Fog           4.652101\n",
       "Sandstorms    4.633193\n",
       "Stormy        4.614725\n",
       "Sunny         4.648521\n",
       "Unknown       2.000000\n",
       "Windy         4.625103\n",
       "Name: Delivery_person_Ratings, dtype: float64"
      ]
     },
     "execution_count": 48,
     "metadata": {},
     "output_type": "execute_result"
    }
   ],
   "source": [
    "# SAída: Média de avaliações das entregas feitas por condições climáticas\n",
    "# Processo: Agrupar as entregas por condições climáticas e calcular a média das avaliações\n",
    "# Entrada: DataFrame com os dados limpos\n",
    "df_clear.groupby(\"Weatherconditions\")[\"Delivery_person_Ratings\"].mean()"
   ]
  },
  {
   "cell_type": "markdown",
   "id": "95ea0e71",
   "metadata": {},
   "source": [
    "### 6. Qual o valor da avaliação mais baixa feita por tipo de condição climática e densidade de tráfego?\n",
    "**Resposta:** Os valores das avaliações mais baixas feitas agrupadas por tipo de condição climática e densidade de tráfego são as seguintes:\n",
    "- Cloudy: \n",
    "    - High: 4.0\n",
    "    - Jam: 4.0\n",
    "    - Low: 3.5\n",
    "    - Medium: 4.0\n",
    "- Fog:\n",
    "    - High: 4.0\n",
    "    - Jam: 4.0\n",
    "    - Low: 3.5\n",
    "    - Medium: 4.0\n",
    "- Sandstorms:\n",
    "    - High: 4.0\n",
    "    - Jam: 3.5\n",
    "    - Low: 4.0\n",
    "    - Medium: 3.5\n",
    "- Stormy:\n",
    "    - High: 4.0\n",
    "    - Jam: 3.5\n",
    "    - Low: 4.0\n",
    "    - Medium: 3.5\n",
    "- Sunny:\n",
    "    - High: 3.5\n",
    "    - Jam: 3.5\n",
    "    - Low: 2.5\n",
    "    - Medium: 4.0\n",
    "- Windy:\n",
    "    - High: 4.0\n",
    "    - Jam: 3.5\n",
    "    - Low: 4.0\n",
    "    - Medium: 3.5\n",
    "- Unknown:\n",
    "    - Unknown: 1.0"
   ]
  },
  {
   "cell_type": "code",
   "execution_count": 49,
   "id": "98ad0fd1",
   "metadata": {},
   "outputs": [
    {
     "data": {
      "text/html": [
       "<div>\n",
       "<style scoped>\n",
       "    .dataframe tbody tr th:only-of-type {\n",
       "        vertical-align: middle;\n",
       "    }\n",
       "\n",
       "    .dataframe tbody tr th {\n",
       "        vertical-align: top;\n",
       "    }\n",
       "\n",
       "    .dataframe thead th {\n",
       "        text-align: right;\n",
       "    }\n",
       "</style>\n",
       "<table border=\"1\" class=\"dataframe\">\n",
       "  <thead>\n",
       "    <tr style=\"text-align: right;\">\n",
       "      <th></th>\n",
       "      <th></th>\n",
       "      <th>min</th>\n",
       "    </tr>\n",
       "    <tr>\n",
       "      <th>Weatherconditions</th>\n",
       "      <th>Road_traffic_density</th>\n",
       "      <th></th>\n",
       "    </tr>\n",
       "  </thead>\n",
       "  <tbody>\n",
       "    <tr>\n",
       "      <th rowspan=\"4\" valign=\"top\">Cloudy</th>\n",
       "      <th>High</th>\n",
       "      <td>4.0</td>\n",
       "    </tr>\n",
       "    <tr>\n",
       "      <th>Jam</th>\n",
       "      <td>4.0</td>\n",
       "    </tr>\n",
       "    <tr>\n",
       "      <th>Low</th>\n",
       "      <td>3.5</td>\n",
       "    </tr>\n",
       "    <tr>\n",
       "      <th>Medium</th>\n",
       "      <td>4.0</td>\n",
       "    </tr>\n",
       "    <tr>\n",
       "      <th rowspan=\"4\" valign=\"top\">Fog</th>\n",
       "      <th>High</th>\n",
       "      <td>4.0</td>\n",
       "    </tr>\n",
       "    <tr>\n",
       "      <th>Jam</th>\n",
       "      <td>4.0</td>\n",
       "    </tr>\n",
       "    <tr>\n",
       "      <th>Low</th>\n",
       "      <td>3.5</td>\n",
       "    </tr>\n",
       "    <tr>\n",
       "      <th>Medium</th>\n",
       "      <td>4.0</td>\n",
       "    </tr>\n",
       "    <tr>\n",
       "      <th rowspan=\"4\" valign=\"top\">Sandstorms</th>\n",
       "      <th>High</th>\n",
       "      <td>4.0</td>\n",
       "    </tr>\n",
       "    <tr>\n",
       "      <th>Jam</th>\n",
       "      <td>3.5</td>\n",
       "    </tr>\n",
       "    <tr>\n",
       "      <th>Low</th>\n",
       "      <td>4.0</td>\n",
       "    </tr>\n",
       "    <tr>\n",
       "      <th>Medium</th>\n",
       "      <td>3.5</td>\n",
       "    </tr>\n",
       "    <tr>\n",
       "      <th rowspan=\"4\" valign=\"top\">Stormy</th>\n",
       "      <th>High</th>\n",
       "      <td>4.0</td>\n",
       "    </tr>\n",
       "    <tr>\n",
       "      <th>Jam</th>\n",
       "      <td>3.5</td>\n",
       "    </tr>\n",
       "    <tr>\n",
       "      <th>Low</th>\n",
       "      <td>4.0</td>\n",
       "    </tr>\n",
       "    <tr>\n",
       "      <th>Medium</th>\n",
       "      <td>3.5</td>\n",
       "    </tr>\n",
       "    <tr>\n",
       "      <th rowspan=\"4\" valign=\"top\">Sunny</th>\n",
       "      <th>High</th>\n",
       "      <td>3.5</td>\n",
       "    </tr>\n",
       "    <tr>\n",
       "      <th>Jam</th>\n",
       "      <td>3.5</td>\n",
       "    </tr>\n",
       "    <tr>\n",
       "      <th>Low</th>\n",
       "      <td>2.5</td>\n",
       "    </tr>\n",
       "    <tr>\n",
       "      <th>Medium</th>\n",
       "      <td>4.0</td>\n",
       "    </tr>\n",
       "    <tr>\n",
       "      <th>Unknown</th>\n",
       "      <th>Unknown</th>\n",
       "      <td>1.0</td>\n",
       "    </tr>\n",
       "    <tr>\n",
       "      <th rowspan=\"4\" valign=\"top\">Windy</th>\n",
       "      <th>High</th>\n",
       "      <td>4.0</td>\n",
       "    </tr>\n",
       "    <tr>\n",
       "      <th>Jam</th>\n",
       "      <td>3.5</td>\n",
       "    </tr>\n",
       "    <tr>\n",
       "      <th>Low</th>\n",
       "      <td>4.0</td>\n",
       "    </tr>\n",
       "    <tr>\n",
       "      <th>Medium</th>\n",
       "      <td>3.5</td>\n",
       "    </tr>\n",
       "  </tbody>\n",
       "</table>\n",
       "</div>"
      ],
      "text/plain": [
       "                                        min\n",
       "Weatherconditions Road_traffic_density     \n",
       "Cloudy            High                  4.0\n",
       "                  Jam                   4.0\n",
       "                  Low                   3.5\n",
       "                  Medium                4.0\n",
       "Fog               High                  4.0\n",
       "                  Jam                   4.0\n",
       "                  Low                   3.5\n",
       "                  Medium                4.0\n",
       "Sandstorms        High                  4.0\n",
       "                  Jam                   3.5\n",
       "                  Low                   4.0\n",
       "                  Medium                3.5\n",
       "Stormy            High                  4.0\n",
       "                  Jam                   3.5\n",
       "                  Low                   4.0\n",
       "                  Medium                3.5\n",
       "Sunny             High                  3.5\n",
       "                  Jam                   3.5\n",
       "                  Low                   2.5\n",
       "                  Medium                4.0\n",
       "Unknown           Unknown               1.0\n",
       "Windy             High                  4.0\n",
       "                  Jam                   3.5\n",
       "                  Low                   4.0\n",
       "                  Medium                3.5"
      ]
     },
     "execution_count": 49,
     "metadata": {},
     "output_type": "execute_result"
    }
   ],
   "source": [
    "# SAída: Valor da avaliação mais baixa agrupada por tipo de condição climática e densidade de tráfego\n",
    "# Processo: Agrupar as entregas por tipo de condição climática e densidade de tráfego e calcular o valor mínimo das avaliações\n",
    "# Entrada: DataFrame com os dados limpos\n",
    "df_clear.groupby([\"Weatherconditions\", \"Road_traffic_density\"])[\"Delivery_person_Ratings\"].agg([\"min\"])"
   ]
  },
  {
   "cell_type": "markdown",
   "id": "eb0821a6",
   "metadata": {},
   "source": [
    "### 7. Qual a média, mediana e desvio padrão das avaliações por cada tipo de condições de veículos?\n",
    "**Resposta:** A média, mediana e desvio padrão das avaliações por cada tipo de condições de veículos são as seguintes:\n",
    "- 0:\n",
    "    - média: 4.60\n",
    "    - mediana: 4.7\n",
    "    - desvio padrão: 0.29\n",
    "- 1:\n",
    "    - média: 4.63\n",
    "    - mediana: 4.7\n",
    "    - desvio padrão: 0.35\n",
    "- 2:\n",
    "    - média: 4.65\n",
    "    - mediana: 4.7\n",
    "    - desvio padrão: 0.29\n",
    "- 3:\n",
    "    - média: 2.00\n",
    "    - mediana:\t1.00\n",
    "    - desvio padrão:\t2.00"
   ]
  },
  {
   "cell_type": "code",
   "execution_count": 50,
   "id": "39902b5e",
   "metadata": {},
   "outputs": [
    {
     "data": {
      "text/html": [
       "<div>\n",
       "<style scoped>\n",
       "    .dataframe tbody tr th:only-of-type {\n",
       "        vertical-align: middle;\n",
       "    }\n",
       "\n",
       "    .dataframe tbody tr th {\n",
       "        vertical-align: top;\n",
       "    }\n",
       "\n",
       "    .dataframe thead th {\n",
       "        text-align: right;\n",
       "    }\n",
       "</style>\n",
       "<table border=\"1\" class=\"dataframe\">\n",
       "  <thead>\n",
       "    <tr style=\"text-align: right;\">\n",
       "      <th></th>\n",
       "      <th>mean</th>\n",
       "      <th>median</th>\n",
       "      <th>std</th>\n",
       "    </tr>\n",
       "    <tr>\n",
       "      <th>Vehicle_condition</th>\n",
       "      <th></th>\n",
       "      <th></th>\n",
       "      <th></th>\n",
       "    </tr>\n",
       "  </thead>\n",
       "  <tbody>\n",
       "    <tr>\n",
       "      <th>0</th>\n",
       "      <td>4.609922</td>\n",
       "      <td>4.7</td>\n",
       "      <td>0.293908</td>\n",
       "    </tr>\n",
       "    <tr>\n",
       "      <th>1</th>\n",
       "      <td>4.631220</td>\n",
       "      <td>4.7</td>\n",
       "      <td>0.353454</td>\n",
       "    </tr>\n",
       "    <tr>\n",
       "      <th>2</th>\n",
       "      <td>4.658615</td>\n",
       "      <td>4.7</td>\n",
       "      <td>0.294774</td>\n",
       "    </tr>\n",
       "    <tr>\n",
       "      <th>3</th>\n",
       "      <td>2.000000</td>\n",
       "      <td>1.0</td>\n",
       "      <td>2.000000</td>\n",
       "    </tr>\n",
       "  </tbody>\n",
       "</table>\n",
       "</div>"
      ],
      "text/plain": [
       "                       mean  median       std\n",
       "Vehicle_condition                            \n",
       "0                  4.609922     4.7  0.293908\n",
       "1                  4.631220     4.7  0.353454\n",
       "2                  4.658615     4.7  0.294774\n",
       "3                  2.000000     1.0  2.000000"
      ]
     },
     "execution_count": 50,
     "metadata": {},
     "output_type": "execute_result"
    }
   ],
   "source": [
    "# SAída: DataFrame com a média, mediana e desvio padrão das avaliações por cada tipo de condições de veículos\n",
    "# Processo: Agrupar as entregas por tipo de condições de veículos e calcular a média, mediana e desvio padrão das avaliações\n",
    "# Entrada: DataFrame com os dados limpos\n",
    "df_clear.groupby(\"Vehicle_condition\")[\"Delivery_person_Ratings\"].agg([\"mean\", \"median\", \"std\"])"
   ]
  },
  {
   "cell_type": "markdown",
   "id": "f2db3084",
   "metadata": {},
   "source": [
    "### 8. Qual a avaliação média das entregas feitas durante o Festival?\n",
    "**Resposta:** A média das das avaliações das entregas feitas durante o Festival é 4.46."
   ]
  },
  {
   "cell_type": "code",
   "execution_count": 51,
   "id": "4c4fce4b",
   "metadata": {},
   "outputs": [
    {
     "data": {
      "text/plain": [
       "np.float64(4.461538461538461)"
      ]
     },
     "execution_count": 51,
     "metadata": {},
     "output_type": "execute_result"
    }
   ],
   "source": [
    "# SAída: Avaliação média das entregas feitas durante o Festival\n",
    "# Processo: Filtrar as entregas feitas durante o Festival e calcular a média das avaliações\n",
    "# Entrada: DataFrame com os dados limpos\n",
    "df_clear[df_clear[\"Festival\"] == \"Yes\"][\"Delivery_person_Ratings\"].mean()"
   ]
  },
  {
   "cell_type": "markdown",
   "id": "ba65013c",
   "metadata": {},
   "source": [
    "### 9. Qual a menor avaliação feita em uma entrega durante o Festival por cidade?\n",
    "**Resposta:** As menores avaliações feitas em uma entrega durante o Festival agrupada por cidade são as seguintes:\n",
    "- Metropolitan: 2.5\n",
    "- Semi-Urban: 3.5\n",
    "- Urban: 3.5\n",
    "- Unknown: 4.6"
   ]
  },
  {
   "cell_type": "code",
   "execution_count": 52,
   "id": "4816ffe1",
   "metadata": {},
   "outputs": [
    {
     "data": {
      "text/plain": [
       "City\n",
       "Metropolitan    2.5\n",
       "Semi-Urban      3.5\n",
       "Unknown         4.6\n",
       "Urban           3.5\n",
       "Name: Delivery_person_Ratings, dtype: float64"
      ]
     },
     "execution_count": 52,
     "metadata": {},
     "output_type": "execute_result"
    }
   ],
   "source": [
    "# SAída: Menor avaliação feita em uma entrega durante o Festival por cidade\n",
    "# Processo: Filtrar as entregas feitas durante o Festival e agrupar por cidade para encontrar a menor avaliação\n",
    "# Entrada: DataFrame com os dados limpos\n",
    "df_clear[df_clear[\"Festival\"] == \"Yes\"].groupby(\"City\")[\"Delivery_person_Ratings\"].min()"
   ]
  },
  {
   "cell_type": "markdown",
   "id": "b6d57f9c",
   "metadata": {},
   "source": [
    "### 10. Qual a maior avaliação feita por tipo de pedido?\n",
    "**Resposta:** As maiores avaliações agrupadas por tipo de pedido são:\n",
    "- Buffet: 5.0\n",
    "- Drinks: 5.0\n",
    "- Meal: 5.0\n",
    "- Snack: 5.0"
   ]
  },
  {
   "cell_type": "code",
   "execution_count": 53,
   "id": "5f124bc8",
   "metadata": {},
   "outputs": [
    {
     "data": {
      "text/plain": [
       "Type_of_order\n",
       "Buffet    5.0\n",
       "Drinks    5.0\n",
       "Meal      5.0\n",
       "Snack     5.0\n",
       "Name: Delivery_person_Ratings, dtype: float64"
      ]
     },
     "execution_count": 53,
     "metadata": {},
     "output_type": "execute_result"
    }
   ],
   "source": [
    "# SAída: Maior avaliação feita por tipo de pedido\n",
    "# Processo: Agrupar por tipo de pedido e encontrar a maior avaliação\n",
    "# Entrada: DataFrame com os dados limpos\n",
    "df_clear.groupby(\"Type_of_order\")[\"Delivery_person_Ratings\"].max()"
   ]
  },
  {
   "cell_type": "markdown",
   "id": "862bcb7f",
   "metadata": {},
   "source": [
    "# 6.0 Gráficos"
   ]
  },
  {
   "cell_type": "code",
   "execution_count": 191,
   "id": "1624ec87",
   "metadata": {},
   "outputs": [],
   "source": [
    "# Customização dos gráficos\n",
    "# Tema do seaborn\n",
    "sns.set_theme(style=\"whitegrid\")\n",
    "# Remover edgecolors\n",
    "plt.rcParams[\"patch.edgecolor\"] = \"none\"\n",
    "plt.rcParams[\"patch.linewidth\"] = 0\n",
    "# Tamanho de fontes\n",
    "plt.rcParams['axes.titlesize'] = 18\n",
    "plt.rcParams['axes.labelsize'] = 14\n"
   ]
  },
  {
   "cell_type": "markdown",
   "id": "5a049e6d",
   "metadata": {},
   "source": [
    "## 6.1 Visão da empresa"
   ]
  },
  {
   "cell_type": "markdown",
   "id": "bd908fd3",
   "metadata": {},
   "source": [
    "### 1. Quantidades de pedido por dia."
   ]
  },
  {
   "cell_type": "code",
   "execution_count": null,
   "id": "9185a6f4",
   "metadata": {},
   "outputs": [],
   "source": [
    "# Agrupar pedidos por dias\n",
    "df_aux = df_clear[[\"ID\", \"Time_Ordered\"]].groupby(\"Time_Ordered\").count().reset_index()\n",
    "df_aux[\"Day_Ordered\"] = pd.to_datetime(df_aux[\"Time_Ordered\"]).dt.date\n",
    "df = df_aux[[\"Day_Ordered\", \"ID\"]].pivot_table(index=\"Day_Ordered\", aggfunc=\"sum\").reset_index()"
   ]
  },
  {
   "cell_type": "code",
   "execution_count": 181,
   "id": "178d1b1e",
   "metadata": {},
   "outputs": [
    {
     "data": {
      "image/png": "[encoded data removed]",
      "text/plain": [
       "<Figure size 800x400 with 1 Axes>"
      ]
     },
     "metadata": {},
     "output_type": "display_data"
    }
   ],
   "source": [
    "# Desenhar gráfico de barras\n",
    "plt.figure(figsize=(8, 4))\n",
    "plt.title(\"Quantidade de pedidos por dia\")\n",
    "plt.xticks(rotation=90)\n",
    "plt.xlabel(\"Data\")\n",
    "plt.ylabel(\"Quantidade de pedidos\")\n",
    "fig = plt.bar(df[\"Day_Ordered\"], df[\"ID\"])\n",
    "plt.show()"
   ]
  },
  {
   "cell_type": "markdown",
   "id": "1a8acc75",
   "metadata": {},
   "source": [
    "### 2. Quantidade de pedidos por semana."
   ]
  },
  {
   "cell_type": "code",
   "execution_count": 182,
   "id": "52ee450c",
   "metadata": {},
   "outputs": [],
   "source": [
    "# Agrupar dias em semanas do ano\n",
    "df_aux[\"Week_Ordered\"] = pd.to_datetime(df_aux[\"Day_Ordered\"]).dt.strftime(\"%W\")\n",
    "df = df_aux[[\"Week_Ordered\", \"ID\"]].pivot_table(index=\"Week_Ordered\", aggfunc=\"sum\").reset_index()"
   ]
  },
  {
   "cell_type": "code",
   "execution_count": 183,
   "id": "0827c28f",
   "metadata": {},
   "outputs": [
    {
     "data": {
      "image/png": "[encoded data removed]",
      "text/plain": [
       "<Figure size 800x400 with 1 Axes>"
      ]
     },
     "metadata": {},
     "output_type": "display_data"
    }
   ],
   "source": [
    "# Desenhar gráfico de linha\n",
    "plt.figure(figsize=(8, 4))\n",
    "plt.title(\"Quantidade de pedidos por semana\")\n",
    "plt.xlabel(\"Semana do ano\")\n",
    "plt.ylabel(\"Quantidade de pedidos\")\n",
    "fig = plt.plot(df[\"Week_Ordered\"], df[\"ID\"])\n",
    "plt.show()"
   ]
  },
  {
   "cell_type": "markdown",
   "id": "6933239d",
   "metadata": {},
   "source": [
    "### 3. Distribuição dos pedidos por densidade de tráfego"
   ]
  },
  {
   "cell_type": "code",
   "execution_count": 184,
   "id": "06cdf952",
   "metadata": {},
   "outputs": [],
   "source": [
    "# Agrupar por densidade de tráfego\n",
    "df = df_clear[[\"ID\", \"Road_traffic_density\"]].groupby(\"Road_traffic_density\").count().reset_index()\n",
    "# Calcular porcentagem\n",
    "df[\"percent\"] = df[\"ID\"] / df[\"ID\"].sum()"
   ]
  },
  {
   "cell_type": "code",
   "execution_count": 185,
   "id": "cbd310d1",
   "metadata": {},
   "outputs": [
    {
     "data": {
      "image/png": "[encoded data removed]",
      "text/plain": [
       "<Figure size 800x400 with 1 Axes>"
      ]
     },
     "metadata": {},
     "output_type": "display_data"
    }
   ],
   "source": [
    "# Desenhar gráfico de pizza\n",
    "plt.figure(figsize=(8, 4))\n",
    "plt.title(\"Distribuição de pedidos por densidade de tráfego\")\n",
    "fig = plt.pie(df[\"percent\"], labels=df[\"Road_traffic_density\"], autopct='%1.1f%%', pctdistance=0.75, labeldistance=1.1)\n",
    "plt.show()"
   ]
  },
  {
   "cell_type": "markdown",
   "id": "9cbfabb5",
   "metadata": {},
   "source": [
    "### 4. Comparação de volume de pedidos por tipo de cidade e densidade de tráfego"
   ]
  },
  {
   "cell_type": "code",
   "execution_count": 186,
   "id": "81942fa6",
   "metadata": {},
   "outputs": [],
   "source": [
    "# Agrupar por cidade e densidade de tráfego\n",
    "df = df_clear[[\"ID\", \"City\", \"Road_traffic_density\"]].groupby([\"City\", \"Road_traffic_density\"]).count().reset_index()\n",
    "# Pivotar os dados para criar um DataFrame mais adequado para o tipo de gráfico\n",
    "df = df.pivot(index=\"City\", columns=\"Road_traffic_density\", values=\"ID\").fillna(0)"
   ]
  },
  {
   "cell_type": "code",
   "execution_count": 187,
   "id": "5db01996",
   "metadata": {},
   "outputs": [
    {
     "data": {
      "text/plain": [
       "<Figure size 800x400 with 0 Axes>"
      ]
     },
     "metadata": {},
     "output_type": "display_data"
    },
    {
     "data": {
      "image/png": "[encoded data removed]",
      "text/plain": [
       "<Figure size 1000x600 with 1 Axes>"
      ]
     },
     "metadata": {},
     "output_type": "display_data"
    }
   ],
   "source": [
    "# Criar gráfico de bolhas\n",
    "plt.figure(figsize=(8, 4))\n",
    "fig = df.plot(kind=\"bar\", stacked=True, figsize=(10, 6))\n",
    "fig.set_title(\"Pedidos por tipo de cidade separados por densidade de tráfego\")\n",
    "fig.set_xlabel(\"Tipo de cidade\")\n",
    "fig.set_ylabel(\"Quantidade de pedidos em escala logarítmica\")\n",
    "# Escala logarítmica para melhor visualização\n",
    "fig.set_yscale('log')\n",
    "plt.show()"
   ]
  },
  {
   "cell_type": "markdown",
   "id": "2371e500",
   "metadata": {},
   "source": [
    "### 5. Quantidade de pedidos por entregador por semana"
   ]
  },
  {
   "cell_type": "code",
   "execution_count": 188,
   "id": "6767706f",
   "metadata": {},
   "outputs": [],
   "source": [
    "df= df_aux[[\"ID\", \"Delivery_person_ID\", \"Week_Ordered\"]]"
   ]
  },
  {
   "cell_type": "code",
   "execution_count": 189,
   "id": "ce88ad3a",
   "metadata": {},
   "outputs": [
    {
     "data": {
      "text/html": [
       "<div>\n",
       "<style scoped>\n",
       "    .dataframe tbody tr th:only-of-type {\n",
       "        vertical-align: middle;\n",
       "    }\n",
       "\n",
       "    .dataframe tbody tr th {\n",
       "        vertical-align: top;\n",
       "    }\n",
       "\n",
       "    .dataframe thead th {\n",
       "        text-align: right;\n",
       "    }\n",
       "</style>\n",
       "<table border=\"1\" class=\"dataframe\">\n",
       "  <thead>\n",
       "    <tr style=\"text-align: right;\">\n",
       "      <th></th>\n",
       "      <th>Time_Ordered</th>\n",
       "      <th>ID</th>\n",
       "      <th>Delivery_person_ID</th>\n",
       "      <th>Day_Ordered</th>\n",
       "      <th>Week_Ordered</th>\n",
       "    </tr>\n",
       "  </thead>\n",
       "  <tbody>\n",
       "    <tr>\n",
       "      <th>0</th>\n",
       "      <td>2022-02-11 00:00:00</td>\n",
       "      <td>1</td>\n",
       "      <td>1</td>\n",
       "      <td>2022-02-11</td>\n",
       "      <td>06</td>\n",
       "    </tr>\n",
       "    <tr>\n",
       "      <th>1</th>\n",
       "      <td>2022-02-11 08:20:00</td>\n",
       "      <td>1</td>\n",
       "      <td>1</td>\n",
       "      <td>2022-02-11</td>\n",
       "      <td>06</td>\n",
       "    </tr>\n",
       "    <tr>\n",
       "      <th>2</th>\n",
       "      <td>2022-02-11 08:30:00</td>\n",
       "      <td>2</td>\n",
       "      <td>2</td>\n",
       "      <td>2022-02-11</td>\n",
       "      <td>06</td>\n",
       "    </tr>\n",
       "    <tr>\n",
       "      <th>3</th>\n",
       "      <td>2022-02-11 08:40:00</td>\n",
       "      <td>1</td>\n",
       "      <td>1</td>\n",
       "      <td>2022-02-11</td>\n",
       "      <td>06</td>\n",
       "    </tr>\n",
       "    <tr>\n",
       "      <th>4</th>\n",
       "      <td>2022-02-11 08:55:00</td>\n",
       "      <td>1</td>\n",
       "      <td>1</td>\n",
       "      <td>2022-02-11</td>\n",
       "      <td>06</td>\n",
       "    </tr>\n",
       "    <tr>\n",
       "      <th>...</th>\n",
       "      <td>...</td>\n",
       "      <td>...</td>\n",
       "      <td>...</td>\n",
       "      <td>...</td>\n",
       "      <td>...</td>\n",
       "    </tr>\n",
       "    <tr>\n",
       "      <th>2873</th>\n",
       "      <td>2022-04-06 23:35:00</td>\n",
       "      <td>2</td>\n",
       "      <td>2</td>\n",
       "      <td>2022-04-06</td>\n",
       "      <td>14</td>\n",
       "    </tr>\n",
       "    <tr>\n",
       "      <th>2874</th>\n",
       "      <td>2022-04-06 23:40:00</td>\n",
       "      <td>2</td>\n",
       "      <td>2</td>\n",
       "      <td>2022-04-06</td>\n",
       "      <td>14</td>\n",
       "    </tr>\n",
       "    <tr>\n",
       "      <th>2875</th>\n",
       "      <td>2022-04-06 23:45:00</td>\n",
       "      <td>1</td>\n",
       "      <td>1</td>\n",
       "      <td>2022-04-06</td>\n",
       "      <td>14</td>\n",
       "    </tr>\n",
       "    <tr>\n",
       "      <th>2876</th>\n",
       "      <td>2022-04-06 23:50:00</td>\n",
       "      <td>1</td>\n",
       "      <td>1</td>\n",
       "      <td>2022-04-06</td>\n",
       "      <td>14</td>\n",
       "    </tr>\n",
       "    <tr>\n",
       "      <th>2877</th>\n",
       "      <td>2022-04-06 23:55:00</td>\n",
       "      <td>2</td>\n",
       "      <td>2</td>\n",
       "      <td>2022-04-06</td>\n",
       "      <td>14</td>\n",
       "    </tr>\n",
       "  </tbody>\n",
       "</table>\n",
       "<p>2878 rows × 5 columns</p>\n",
       "</div>"
      ],
      "text/plain": [
       "            Time_Ordered  ID  Delivery_person_ID Day_Ordered Week_Ordered\n",
       "0    2022-02-11 00:00:00   1                   1  2022-02-11           06\n",
       "1    2022-02-11 08:20:00   1                   1  2022-02-11           06\n",
       "2    2022-02-11 08:30:00   2                   2  2022-02-11           06\n",
       "3    2022-02-11 08:40:00   1                   1  2022-02-11           06\n",
       "4    2022-02-11 08:55:00   1                   1  2022-02-11           06\n",
       "...                  ...  ..                 ...         ...          ...\n",
       "2873 2022-04-06 23:35:00   2                   2  2022-04-06           14\n",
       "2874 2022-04-06 23:40:00   2                   2  2022-04-06           14\n",
       "2875 2022-04-06 23:45:00   1                   1  2022-04-06           14\n",
       "2876 2022-04-06 23:50:00   1                   1  2022-04-06           14\n",
       "2877 2022-04-06 23:55:00   2                   2  2022-04-06           14\n",
       "\n",
       "[2878 rows x 5 columns]"
      ]
     },
     "execution_count": 189,
     "metadata": {},
     "output_type": "execute_result"
    }
   ],
   "source": [
    "df_aux"
   ]
  },
  {
   "cell_type": "code",
   "execution_count": 179,
   "id": "f1dc0304",
   "metadata": {},
   "outputs": [
    {
     "data": {
      "text/html": [
       "<div>\n",
       "<style scoped>\n",
       "    .dataframe tbody tr th:only-of-type {\n",
       "        vertical-align: middle;\n",
       "    }\n",
       "\n",
       "    .dataframe tbody tr th {\n",
       "        vertical-align: top;\n",
       "    }\n",
       "\n",
       "    .dataframe thead th {\n",
       "        text-align: right;\n",
       "    }\n",
       "</style>\n",
       "<table border=\"1\" class=\"dataframe\">\n",
       "  <thead>\n",
       "    <tr style=\"text-align: right;\">\n",
       "      <th></th>\n",
       "      <th>ID</th>\n",
       "      <th>Delivery_person_ID</th>\n",
       "      <th>Delivery_person_Age</th>\n",
       "      <th>Delivery_person_Ratings</th>\n",
       "      <th>Time_Ordered</th>\n",
       "      <th>Time_Order_picked</th>\n",
       "      <th>Weatherconditions</th>\n",
       "      <th>Road_traffic_density</th>\n",
       "      <th>Vehicle_condition</th>\n",
       "      <th>Type_of_order</th>\n",
       "      <th>Type_of_vehicle</th>\n",
       "      <th>multiple_deliveries</th>\n",
       "      <th>Festival</th>\n",
       "      <th>City</th>\n",
       "      <th>Restaurant_location</th>\n",
       "      <th>Delivery_location</th>\n",
       "      <th>Time_Order_delivered</th>\n",
       "    </tr>\n",
       "  </thead>\n",
       "  <tbody>\n",
       "    <tr>\n",
       "      <th>0</th>\n",
       "      <td>0x4607</td>\n",
       "      <td>INDORES13DEL02</td>\n",
       "      <td>37</td>\n",
       "      <td>4.9</td>\n",
       "      <td>2022-03-19 11:30:00</td>\n",
       "      <td>2022-03-19 11:45:00</td>\n",
       "      <td>Sunny</td>\n",
       "      <td>High</td>\n",
       "      <td>2</td>\n",
       "      <td>Snack</td>\n",
       "      <td>motorcycle</td>\n",
       "      <td>0</td>\n",
       "      <td>No</td>\n",
       "      <td>Urban</td>\n",
       "      <td>(22.745049, 75.892471)</td>\n",
       "      <td>(22.765049, 75.912471)</td>\n",
       "      <td>2022-03-19 12:09:00</td>\n",
       "    </tr>\n",
       "    <tr>\n",
       "      <th>1</th>\n",
       "      <td>0xb379</td>\n",
       "      <td>BANGRES18DEL02</td>\n",
       "      <td>34</td>\n",
       "      <td>4.5</td>\n",
       "      <td>2022-03-25 19:45:00</td>\n",
       "      <td>2022-03-25 19:50:00</td>\n",
       "      <td>Stormy</td>\n",
       "      <td>Jam</td>\n",
       "      <td>2</td>\n",
       "      <td>Snack</td>\n",
       "      <td>scooter</td>\n",
       "      <td>1</td>\n",
       "      <td>No</td>\n",
       "      <td>Metropolitan</td>\n",
       "      <td>(12.913041, 77.683237)</td>\n",
       "      <td>(13.043041, 77.813237)</td>\n",
       "      <td>2022-03-25 20:23:00</td>\n",
       "    </tr>\n",
       "    <tr>\n",
       "      <th>2</th>\n",
       "      <td>0x5d6d</td>\n",
       "      <td>BANGRES19DEL01</td>\n",
       "      <td>23</td>\n",
       "      <td>4.4</td>\n",
       "      <td>2022-03-19 08:30:00</td>\n",
       "      <td>2022-03-19 08:45:00</td>\n",
       "      <td>Sandstorms</td>\n",
       "      <td>Low</td>\n",
       "      <td>0</td>\n",
       "      <td>Drinks</td>\n",
       "      <td>motorcycle</td>\n",
       "      <td>1</td>\n",
       "      <td>No</td>\n",
       "      <td>Urban</td>\n",
       "      <td>(12.914264, 77.6784)</td>\n",
       "      <td>(12.924264, 77.6884)</td>\n",
       "      <td>2022-03-19 09:11:00</td>\n",
       "    </tr>\n",
       "    <tr>\n",
       "      <th>3</th>\n",
       "      <td>0x7a6a</td>\n",
       "      <td>COIMBRES13DEL02</td>\n",
       "      <td>38</td>\n",
       "      <td>4.7</td>\n",
       "      <td>2022-04-05 18:00:00</td>\n",
       "      <td>2022-04-05 18:10:00</td>\n",
       "      <td>Sunny</td>\n",
       "      <td>Medium</td>\n",
       "      <td>0</td>\n",
       "      <td>Buffet</td>\n",
       "      <td>motorcycle</td>\n",
       "      <td>1</td>\n",
       "      <td>No</td>\n",
       "      <td>Metropolitan</td>\n",
       "      <td>(11.003669, 76.976494)</td>\n",
       "      <td>(11.053669, 77.026494)</td>\n",
       "      <td>2022-04-05 18:31:00</td>\n",
       "    </tr>\n",
       "    <tr>\n",
       "      <th>4</th>\n",
       "      <td>0x70a2</td>\n",
       "      <td>CHENRES12DEL01</td>\n",
       "      <td>32</td>\n",
       "      <td>4.6</td>\n",
       "      <td>2022-03-26 13:30:00</td>\n",
       "      <td>2022-03-26 13:45:00</td>\n",
       "      <td>Cloudy</td>\n",
       "      <td>High</td>\n",
       "      <td>1</td>\n",
       "      <td>Snack</td>\n",
       "      <td>scooter</td>\n",
       "      <td>1</td>\n",
       "      <td>No</td>\n",
       "      <td>Metropolitan</td>\n",
       "      <td>(12.972793, 80.249982)</td>\n",
       "      <td>(13.012793, 80.289982)</td>\n",
       "      <td>2022-03-26 14:15:00</td>\n",
       "    </tr>\n",
       "    <tr>\n",
       "      <th>...</th>\n",
       "      <td>...</td>\n",
       "      <td>...</td>\n",
       "      <td>...</td>\n",
       "      <td>...</td>\n",
       "      <td>...</td>\n",
       "      <td>...</td>\n",
       "      <td>...</td>\n",
       "      <td>...</td>\n",
       "      <td>...</td>\n",
       "      <td>...</td>\n",
       "      <td>...</td>\n",
       "      <td>...</td>\n",
       "      <td>...</td>\n",
       "      <td>...</td>\n",
       "      <td>...</td>\n",
       "      <td>...</td>\n",
       "      <td>...</td>\n",
       "    </tr>\n",
       "    <tr>\n",
       "      <th>4286</th>\n",
       "      <td>0xdec8</td>\n",
       "      <td>KOCRES16DEL03</td>\n",
       "      <td>30</td>\n",
       "      <td>4.8</td>\n",
       "      <td>2022-02-11 20:45:00</td>\n",
       "      <td>2022-02-11 20:50:00</td>\n",
       "      <td>Sunny</td>\n",
       "      <td>Jam</td>\n",
       "      <td>0</td>\n",
       "      <td>Meal</td>\n",
       "      <td>motorcycle</td>\n",
       "      <td>0</td>\n",
       "      <td>No</td>\n",
       "      <td>Metropolitan</td>\n",
       "      <td>(10.003064, 76.307589)</td>\n",
       "      <td>(10.033064, 76.337589)</td>\n",
       "      <td>2022-02-11 21:12:00</td>\n",
       "    </tr>\n",
       "    <tr>\n",
       "      <th>4287</th>\n",
       "      <td>0xdd08</td>\n",
       "      <td>KOCRES03DEL03</td>\n",
       "      <td>34</td>\n",
       "      <td>4.9</td>\n",
       "      <td>2022-02-17 20:50:00</td>\n",
       "      <td>2022-02-17 20:55:00</td>\n",
       "      <td>Sunny</td>\n",
       "      <td>Jam</td>\n",
       "      <td>1</td>\n",
       "      <td>Drinks</td>\n",
       "      <td>motorcycle</td>\n",
       "      <td>0</td>\n",
       "      <td>No</td>\n",
       "      <td>Metropolitan</td>\n",
       "      <td>(10.020683, 76.310631)</td>\n",
       "      <td>(10.050683, 76.340631)</td>\n",
       "      <td>2022-02-17 21:18:00</td>\n",
       "    </tr>\n",
       "    <tr>\n",
       "      <th>4288</th>\n",
       "      <td>0x2226</td>\n",
       "      <td>SURRES16DEL03</td>\n",
       "      <td>34</td>\n",
       "      <td>4.8</td>\n",
       "      <td>2022-04-01 17:25:00</td>\n",
       "      <td>2022-04-01 17:30:00</td>\n",
       "      <td>Cloudy</td>\n",
       "      <td>Medium</td>\n",
       "      <td>1</td>\n",
       "      <td>Meal</td>\n",
       "      <td>motorcycle</td>\n",
       "      <td>1</td>\n",
       "      <td>No</td>\n",
       "      <td>Metropolitan</td>\n",
       "      <td>(21.160437, 72.774209)</td>\n",
       "      <td>(21.220437, 72.834209)</td>\n",
       "      <td>2022-04-01 17:47:00</td>\n",
       "    </tr>\n",
       "    <tr>\n",
       "      <th>4289</th>\n",
       "      <td>0xdf39</td>\n",
       "      <td>BHPRES04DEL02</td>\n",
       "      <td>37</td>\n",
       "      <td>4.8</td>\n",
       "      <td>2022-02-16 22:30:00</td>\n",
       "      <td>2022-02-16 22:40:00</td>\n",
       "      <td>Sandstorms</td>\n",
       "      <td>Low</td>\n",
       "      <td>2</td>\n",
       "      <td>Meal</td>\n",
       "      <td>electric_scooter</td>\n",
       "      <td>1</td>\n",
       "      <td>No</td>\n",
       "      <td>Urban</td>\n",
       "      <td>(23.184992, 77.417227)</td>\n",
       "      <td>(23.264992, 77.497227)</td>\n",
       "      <td>2022-02-16 23:06:00</td>\n",
       "    </tr>\n",
       "    <tr>\n",
       "      <th>4290</th>\n",
       "      <td>0x363d</td>\n",
       "      <td>INDORES13DEL03</td>\n",
       "      <td>34</td>\n",
       "      <td>4.6</td>\n",
       "      <td>2022-03-23 22:00:00</td>\n",
       "      <td>2022-03-23 22:15:00</td>\n",
       "      <td>Sunny</td>\n",
       "      <td>Jam</td>\n",
       "      <td>1</td>\n",
       "      <td>Drinks</td>\n",
       "      <td>motorcycle</td>\n",
       "      <td>1</td>\n",
       "      <td>No</td>\n",
       "      <td>Urban</td>\n",
       "      <td>(22.745049, 75.892471)</td>\n",
       "      <td>(22.835049, 75.982471)</td>\n",
       "      <td>2022-03-23 22:37:00</td>\n",
       "    </tr>\n",
       "  </tbody>\n",
       "</table>\n",
       "<p>4291 rows × 17 columns</p>\n",
       "</div>"
      ],
      "text/plain": [
       "          ID Delivery_person_ID  Delivery_person_Age  Delivery_person_Ratings  \\\n",
       "0     0x4607     INDORES13DEL02                   37                      4.9   \n",
       "1     0xb379     BANGRES18DEL02                   34                      4.5   \n",
       "2     0x5d6d     BANGRES19DEL01                   23                      4.4   \n",
       "3     0x7a6a    COIMBRES13DEL02                   38                      4.7   \n",
       "4     0x70a2     CHENRES12DEL01                   32                      4.6   \n",
       "...      ...                ...                  ...                      ...   \n",
       "4286  0xdec8      KOCRES16DEL03                   30                      4.8   \n",
       "4287  0xdd08      KOCRES03DEL03                   34                      4.9   \n",
       "4288  0x2226      SURRES16DEL03                   34                      4.8   \n",
       "4289  0xdf39      BHPRES04DEL02                   37                      4.8   \n",
       "4290  0x363d     INDORES13DEL03                   34                      4.6   \n",
       "\n",
       "            Time_Ordered   Time_Order_picked Weatherconditions  \\\n",
       "0    2022-03-19 11:30:00 2022-03-19 11:45:00             Sunny   \n",
       "1    2022-03-25 19:45:00 2022-03-25 19:50:00            Stormy   \n",
       "2    2022-03-19 08:30:00 2022-03-19 08:45:00        Sandstorms   \n",
       "3    2022-04-05 18:00:00 2022-04-05 18:10:00             Sunny   \n",
       "4    2022-03-26 13:30:00 2022-03-26 13:45:00            Cloudy   \n",
       "...                  ...                 ...               ...   \n",
       "4286 2022-02-11 20:45:00 2022-02-11 20:50:00             Sunny   \n",
       "4287 2022-02-17 20:50:00 2022-02-17 20:55:00             Sunny   \n",
       "4288 2022-04-01 17:25:00 2022-04-01 17:30:00            Cloudy   \n",
       "4289 2022-02-16 22:30:00 2022-02-16 22:40:00        Sandstorms   \n",
       "4290 2022-03-23 22:00:00 2022-03-23 22:15:00             Sunny   \n",
       "\n",
       "     Road_traffic_density  Vehicle_condition Type_of_order   Type_of_vehicle  \\\n",
       "0                    High                  2         Snack        motorcycle   \n",
       "1                     Jam                  2         Snack           scooter   \n",
       "2                     Low                  0        Drinks        motorcycle   \n",
       "3                  Medium                  0        Buffet        motorcycle   \n",
       "4                    High                  1         Snack           scooter   \n",
       "...                   ...                ...           ...               ...   \n",
       "4286                  Jam                  0          Meal        motorcycle   \n",
       "4287                  Jam                  1        Drinks        motorcycle   \n",
       "4288               Medium                  1          Meal        motorcycle   \n",
       "4289                  Low                  2          Meal  electric_scooter   \n",
       "4290                  Jam                  1        Drinks        motorcycle   \n",
       "\n",
       "      multiple_deliveries Festival          City     Restaurant_location  \\\n",
       "0                       0       No         Urban  (22.745049, 75.892471)   \n",
       "1                       1       No  Metropolitan  (12.913041, 77.683237)   \n",
       "2                       1       No         Urban    (12.914264, 77.6784)   \n",
       "3                       1       No  Metropolitan  (11.003669, 76.976494)   \n",
       "4                       1       No  Metropolitan  (12.972793, 80.249982)   \n",
       "...                   ...      ...           ...                     ...   \n",
       "4286                    0       No  Metropolitan  (10.003064, 76.307589)   \n",
       "4287                    0       No  Metropolitan  (10.020683, 76.310631)   \n",
       "4288                    1       No  Metropolitan  (21.160437, 72.774209)   \n",
       "4289                    1       No         Urban  (23.184992, 77.417227)   \n",
       "4290                    1       No         Urban  (22.745049, 75.892471)   \n",
       "\n",
       "           Delivery_location Time_Order_delivered  \n",
       "0     (22.765049, 75.912471)  2022-03-19 12:09:00  \n",
       "1     (13.043041, 77.813237)  2022-03-25 20:23:00  \n",
       "2       (12.924264, 77.6884)  2022-03-19 09:11:00  \n",
       "3     (11.053669, 77.026494)  2022-04-05 18:31:00  \n",
       "4     (13.012793, 80.289982)  2022-03-26 14:15:00  \n",
       "...                      ...                  ...  \n",
       "4286  (10.033064, 76.337589)  2022-02-11 21:12:00  \n",
       "4287  (10.050683, 76.340631)  2022-02-17 21:18:00  \n",
       "4288  (21.220437, 72.834209)  2022-04-01 17:47:00  \n",
       "4289  (23.264992, 77.497227)  2022-02-16 23:06:00  \n",
       "4290  (22.835049, 75.982471)  2022-03-23 22:37:00  \n",
       "\n",
       "[4291 rows x 17 columns]"
      ]
     },
     "execution_count": 179,
     "metadata": {},
     "output_type": "execute_result"
    }
   ],
   "source": [
    "df_clear"
   ]
  },
  {
   "cell_type": "code",
   "execution_count": null,
   "id": "6e007574",
   "metadata": {},
   "outputs": [],
   "source": []
  },
  {
   "cell_type": "markdown",
   "id": "15970954",
   "metadata": {},
   "source": []
  }
 ],
 "metadata": {
  "kernelspec": {
   "display_name": ".venv",
   "language": "python",
   "name": "python3"
  },
  "language_info": {
   "codemirror_mode": {
    "name": "ipython",
    "version": 3
   },
   "file_extension": ".py",
   "mimetype": "text/x-python",
   "name": "python",
   "nbconvert_exporter": "python",
   "pygments_lexer": "ipython3",
   "version": "3.13.2"
  }
 },
 "nbformat": 4,
 "nbformat_minor": 5
}
