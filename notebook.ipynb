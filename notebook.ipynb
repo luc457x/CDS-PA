{
 "cells": [
  {
   "cell_type": "markdown",
   "id": "4e32017a",
   "metadata": {},
   "source": [
    "# Imports"
   ]
  },
  {
   "cell_type": "code",
   "execution_count": 800,
   "id": "edd2d0ab",
   "metadata": {},
   "outputs": [],
   "source": [
    "import pandas as pd\n",
    "import numpy as np\n",
    "import seaborn as sns\n",
    "import matplotlib.pyplot as plt"
   ]
  },
  {
   "cell_type": "markdown",
   "id": "10a9fa6c",
   "metadata": {},
   "source": [
    "# Set Globals & Functions"
   ]
  },
  {
   "cell_type": "code",
   "execution_count": 801,
   "id": "9d188a52",
   "metadata": {},
   "outputs": [],
   "source": [
    "def checkData(x):\n",
    "    print(f\"\\nInfo dos valores:\\n\")\n",
    "    print(x.info())\n",
    "    print(f\"\\nDescrição dos dados:\\n\\n{x.describe()}\")\n",
    "    return\n",
    "\n",
    "def checkNaN(x):\n",
    "    # Recebe um DataFrame e retorna a quantidade de valores nulos e não nulos.\n",
    "    null_count = x.isna().sum()\n",
    "    non_null_count = x.notnull().sum()\n",
    "    print(f\"Null values:\\n {null_count}\")\n",
    "    print(f\"Non-null values:\\n {non_null_count}\")\n",
    "    return\n",
    "\n",
    "def checkOutliers(x):\n",
    "    \"\"\"Recebe um DataFrame e retorna um DataFrame com os outliers.\n",
    "    Baseia-se no pressuposto de que os dados estão normalmente distribuídos.\"\"\"\n",
    "    dfOutliers  = pd.DataFrame()\n",
    "    # Itera sobre as colunas númericas\n",
    "    for column in x.select_dtypes(include=[np.number]).columns:\n",
    "        # Calcula o 1 quartil (Q1)\n",
    "        Q1 = x[column].quantile(0.25)\n",
    "        # Calcula o 3 quartil (Q3)\n",
    "        Q3 = x[column].quantile(0.75)\n",
    "        # Calcula o Intervalo Interquartil (IQR)\n",
    "        IQR = Q3 - Q1\n",
    "        # Define os limites inferior e superior para outliers\n",
    "        lower_bound = Q1 - 1.5 * IQR\n",
    "        upper_bound = Q3 + 1.5 * IQR\n",
    "        # Identica os outliers da coluna atual e adiciona ao DataFrame de outliers\n",
    "        outliers = x[(x[column] < lower_bound) | (x[column] > upper_bound)]\n",
    "        # Concatene os outliers da coluna atual ao DataFrame de outliers\n",
    "        dfOutliers = pd.concat([dfOutliers, outliers])\n",
    "    outliersData = dfOutliers.drop_duplicates().reset_index(drop=True)\n",
    "    return outliersData\n",
    "\n",
    "def corr(x):\n",
    "    plt.figure(figsize=(10,8))\n",
    "    sns.heatmap(x.select_dtypes(include=[np.number]).corr(), annot=True)\n",
    "    plt.show()\n",
    "    return\n",
    "\n",
    "def hist(x):\n",
    "    # Recebe um DataFrame e plota um histograma para cada coluna numérica.\n",
    "    x.hist(bins=50, figsize=(25,10))\n",
    "    plt.show()\n",
    "    return\n",
    "\n",
    "\n"
   ]
  },
  {
   "cell_type": "markdown",
   "id": "297c1e14",
   "metadata": {},
   "source": [
    "# Carregamento e Checagem"
   ]
  },
  {
   "cell_type": "code",
   "execution_count": 802,
   "id": "b717edac",
   "metadata": {},
   "outputs": [],
   "source": [
    "df_raw = pd.read_csv(\"train.csv\")"
   ]
  },
  {
   "cell_type": "code",
   "execution_count": 803,
   "id": "7c6bc5ea",
   "metadata": {},
   "outputs": [
    {
     "name": "stdout",
     "output_type": "stream",
     "text": [
      "\n",
      "Info dos valores:\n",
      "\n",
      "<class 'pandas.core.frame.DataFrame'>\n",
      "RangeIndex: 4467 entries, 0 to 4466\n",
      "Data columns (total 20 columns):\n",
      " #   Column                       Non-Null Count  Dtype  \n",
      "---  ------                       --------------  -----  \n",
      " 0   ID                           4467 non-null   object \n",
      " 1   Delivery_person_ID           4467 non-null   object \n",
      " 2   Delivery_person_Age          4467 non-null   object \n",
      " 3   Delivery_person_Ratings      4467 non-null   object \n",
      " 4   Restaurant_latitude          4467 non-null   float64\n",
      " 5   Restaurant_longitude         4467 non-null   float64\n",
      " 6   Delivery_location_latitude   4467 non-null   float64\n",
      " 7   Delivery_location_longitude  4467 non-null   float64\n",
      " 8   Order_Date                   4467 non-null   object \n",
      " 9   Time_Orderd                  4467 non-null   object \n",
      " 10  Time_Order_picked            4467 non-null   object \n",
      " 11  Weatherconditions            4467 non-null   object \n",
      " 12  Road_traffic_density         4467 non-null   object \n",
      " 13  Vehicle_condition            4467 non-null   int64  \n",
      " 14  Type_of_order                4467 non-null   object \n",
      " 15  Type_of_vehicle              4467 non-null   object \n",
      " 16  multiple_deliveries          4467 non-null   object \n",
      " 17  Festival                     4467 non-null   object \n",
      " 18  City                         4466 non-null   object \n",
      " 19  Time_taken(min)              4466 non-null   object \n",
      "dtypes: float64(4), int64(1), object(15)\n",
      "memory usage: 698.1+ KB\n",
      "None\n",
      "\n",
      "Descrição dos dados:\n",
      "\n",
      "       Restaurant_latitude  Restaurant_longitude  Delivery_location_latitude  \\\n",
      "count          4467.000000           4467.000000                 4467.000000   \n",
      "mean             16.873720             69.855186                   17.345751   \n",
      "std               8.320083             23.490634                    7.436276   \n",
      "min             -30.902872            -88.322337                    0.010000   \n",
      "25%              12.906229             73.170000                   12.969496   \n",
      "50%              18.546258             75.894377                   18.619299   \n",
      "75%              22.725835             78.013330                   22.781857   \n",
      "max              30.914057             88.433452                   31.035562   \n",
      "\n",
      "       Delivery_location_longitude  Vehicle_condition  \n",
      "count                  4467.000000        4467.000000  \n",
      "mean                     70.509414           1.022386  \n",
      "std                      21.655254           0.840340  \n",
      "min                       0.010000           0.000000  \n",
      "25%                      73.280937           0.000000  \n",
      "50%                      75.996362           1.000000  \n",
      "75%                      78.081576           2.000000  \n",
      "max                      88.563452           3.000000  \n"
     ]
    }
   ],
   "source": [
    "checkData(df_raw)"
   ]
  },
  {
   "cell_type": "code",
   "execution_count": 804,
   "id": "16cd7d61",
   "metadata": {},
   "outputs": [
    {
     "data": {
      "text/html": [
       "<div>\n",
       "<style scoped>\n",
       "    .dataframe tbody tr th:only-of-type {\n",
       "        vertical-align: middle;\n",
       "    }\n",
       "\n",
       "    .dataframe tbody tr th {\n",
       "        vertical-align: top;\n",
       "    }\n",
       "\n",
       "    .dataframe thead th {\n",
       "        text-align: right;\n",
       "    }\n",
       "</style>\n",
       "<table border=\"1\" class=\"dataframe\">\n",
       "  <thead>\n",
       "    <tr style=\"text-align: right;\">\n",
       "      <th></th>\n",
       "      <th>ID</th>\n",
       "      <th>Delivery_person_ID</th>\n",
       "      <th>Delivery_person_Age</th>\n",
       "      <th>Delivery_person_Ratings</th>\n",
       "      <th>Restaurant_latitude</th>\n",
       "      <th>Restaurant_longitude</th>\n",
       "      <th>Delivery_location_latitude</th>\n",
       "      <th>Delivery_location_longitude</th>\n",
       "      <th>Order_Date</th>\n",
       "      <th>Time_Orderd</th>\n",
       "      <th>Time_Order_picked</th>\n",
       "      <th>Weatherconditions</th>\n",
       "      <th>Road_traffic_density</th>\n",
       "      <th>Vehicle_condition</th>\n",
       "      <th>Type_of_order</th>\n",
       "      <th>Type_of_vehicle</th>\n",
       "      <th>multiple_deliveries</th>\n",
       "      <th>Festival</th>\n",
       "      <th>City</th>\n",
       "      <th>Time_taken(min)</th>\n",
       "    </tr>\n",
       "  </thead>\n",
       "  <tbody>\n",
       "    <tr>\n",
       "      <th>3575</th>\n",
       "      <td>0xb25d</td>\n",
       "      <td>VADRES08DEL03</td>\n",
       "      <td>21</td>\n",
       "      <td>4.9</td>\n",
       "      <td>0.000000</td>\n",
       "      <td>0.000000</td>\n",
       "      <td>0.030000</td>\n",
       "      <td>0.030000</td>\n",
       "      <td>07-03-2022</td>\n",
       "      <td>18:55:00</td>\n",
       "      <td>19:00:00</td>\n",
       "      <td>conditions Fog</td>\n",
       "      <td>Medium</td>\n",
       "      <td>1</td>\n",
       "      <td>Meal</td>\n",
       "      <td>scooter</td>\n",
       "      <td>1</td>\n",
       "      <td>No</td>\n",
       "      <td>Metropolitian</td>\n",
       "      <td>(min) 12</td>\n",
       "    </tr>\n",
       "    <tr>\n",
       "      <th>1223</th>\n",
       "      <td>0x489d</td>\n",
       "      <td>JAPRES05DEL03</td>\n",
       "      <td>23</td>\n",
       "      <td>4.8</td>\n",
       "      <td>26.905287</td>\n",
       "      <td>75.794592</td>\n",
       "      <td>26.965287</td>\n",
       "      <td>75.854592</td>\n",
       "      <td>11-03-2022</td>\n",
       "      <td>23:35:00</td>\n",
       "      <td>23:40:00</td>\n",
       "      <td>conditions Sunny</td>\n",
       "      <td>Low</td>\n",
       "      <td>2</td>\n",
       "      <td>Meal</td>\n",
       "      <td>scooter</td>\n",
       "      <td>0</td>\n",
       "      <td>No</td>\n",
       "      <td>Metropolitian</td>\n",
       "      <td>(min) 24</td>\n",
       "    </tr>\n",
       "    <tr>\n",
       "      <th>1701</th>\n",
       "      <td>0x7a11</td>\n",
       "      <td>MUMRES13DEL02</td>\n",
       "      <td>29</td>\n",
       "      <td>4.7</td>\n",
       "      <td>19.178321</td>\n",
       "      <td>72.834715</td>\n",
       "      <td>19.198321</td>\n",
       "      <td>72.854715</td>\n",
       "      <td>03-03-2022</td>\n",
       "      <td>11:20:00</td>\n",
       "      <td>11:25:00</td>\n",
       "      <td>conditions Windy</td>\n",
       "      <td>High</td>\n",
       "      <td>1</td>\n",
       "      <td>Snack</td>\n",
       "      <td>scooter</td>\n",
       "      <td>1</td>\n",
       "      <td>No</td>\n",
       "      <td>Metropolitian</td>\n",
       "      <td>(min) 25</td>\n",
       "    </tr>\n",
       "    <tr>\n",
       "      <th>238</th>\n",
       "      <td>0xdd96</td>\n",
       "      <td>KNPRES16DEL01</td>\n",
       "      <td>32</td>\n",
       "      <td>4.8</td>\n",
       "      <td>26.482581</td>\n",
       "      <td>80.315628</td>\n",
       "      <td>26.552581</td>\n",
       "      <td>80.385628</td>\n",
       "      <td>14-02-2022</td>\n",
       "      <td>21:00:00</td>\n",
       "      <td>21:10:00</td>\n",
       "      <td>conditions Sunny</td>\n",
       "      <td>Jam</td>\n",
       "      <td>2</td>\n",
       "      <td>Meal</td>\n",
       "      <td>scooter</td>\n",
       "      <td>1</td>\n",
       "      <td>No</td>\n",
       "      <td>Metropolitian</td>\n",
       "      <td>(min) 25</td>\n",
       "    </tr>\n",
       "    <tr>\n",
       "      <th>3610</th>\n",
       "      <td>0xae92</td>\n",
       "      <td>PUNERES06DEL02</td>\n",
       "      <td>25</td>\n",
       "      <td>4.4</td>\n",
       "      <td>18.546258</td>\n",
       "      <td>73.904337</td>\n",
       "      <td>18.566258</td>\n",
       "      <td>73.924337</td>\n",
       "      <td>11-03-2022</td>\n",
       "      <td>09:20:00</td>\n",
       "      <td>09:25:00</td>\n",
       "      <td>conditions Windy</td>\n",
       "      <td>Low</td>\n",
       "      <td>0</td>\n",
       "      <td>Buffet</td>\n",
       "      <td>motorcycle</td>\n",
       "      <td>0</td>\n",
       "      <td>No</td>\n",
       "      <td>Metropolitian</td>\n",
       "      <td>(min) 24</td>\n",
       "    </tr>\n",
       "    <tr>\n",
       "      <th>3144</th>\n",
       "      <td>0xd8ee</td>\n",
       "      <td>DEHRES16DEL01</td>\n",
       "      <td>31</td>\n",
       "      <td>4.5</td>\n",
       "      <td>30.342509</td>\n",
       "      <td>78.061187</td>\n",
       "      <td>30.352509</td>\n",
       "      <td>78.071187</td>\n",
       "      <td>17-02-2022</td>\n",
       "      <td>10:45:00</td>\n",
       "      <td>10:50:00</td>\n",
       "      <td>conditions Cloudy</td>\n",
       "      <td>Low</td>\n",
       "      <td>0</td>\n",
       "      <td>Buffet</td>\n",
       "      <td>motorcycle</td>\n",
       "      <td>1</td>\n",
       "      <td>No</td>\n",
       "      <td>Metropolitian</td>\n",
       "      <td>(min) 27</td>\n",
       "    </tr>\n",
       "    <tr>\n",
       "      <th>2214</th>\n",
       "      <td>0x2a16</td>\n",
       "      <td>MUMRES07DEL03</td>\n",
       "      <td>31</td>\n",
       "      <td>4</td>\n",
       "      <td>19.091458</td>\n",
       "      <td>72.827808</td>\n",
       "      <td>19.181458</td>\n",
       "      <td>72.917808</td>\n",
       "      <td>10-03-2022</td>\n",
       "      <td>19:50:00</td>\n",
       "      <td>20:00:00</td>\n",
       "      <td>conditions Fog</td>\n",
       "      <td>Jam</td>\n",
       "      <td>2</td>\n",
       "      <td>Drinks</td>\n",
       "      <td>scooter</td>\n",
       "      <td>1</td>\n",
       "      <td>No</td>\n",
       "      <td>Metropolitian</td>\n",
       "      <td>(min) 39</td>\n",
       "    </tr>\n",
       "    <tr>\n",
       "      <th>3967</th>\n",
       "      <td>0x1f16</td>\n",
       "      <td>JAPRES12DEL02</td>\n",
       "      <td>31</td>\n",
       "      <td>4.5</td>\n",
       "      <td>26.902908</td>\n",
       "      <td>75.792934</td>\n",
       "      <td>26.922908</td>\n",
       "      <td>75.812934</td>\n",
       "      <td>21-03-2022</td>\n",
       "      <td>09:45:00</td>\n",
       "      <td>09:55:00</td>\n",
       "      <td>conditions Stormy</td>\n",
       "      <td>Low</td>\n",
       "      <td>0</td>\n",
       "      <td>Snack</td>\n",
       "      <td>motorcycle</td>\n",
       "      <td>1</td>\n",
       "      <td>No</td>\n",
       "      <td>Urban</td>\n",
       "      <td>(min) 24</td>\n",
       "    </tr>\n",
       "    <tr>\n",
       "      <th>2420</th>\n",
       "      <td>0x69df</td>\n",
       "      <td>CHENRES20DEL01</td>\n",
       "      <td>28</td>\n",
       "      <td>4.9</td>\n",
       "      <td>12.975996</td>\n",
       "      <td>80.221898</td>\n",
       "      <td>12.985996</td>\n",
       "      <td>80.231898</td>\n",
       "      <td>05-04-2022</td>\n",
       "      <td>08:25:00</td>\n",
       "      <td>08:30:00</td>\n",
       "      <td>conditions Sandstorms</td>\n",
       "      <td>Low</td>\n",
       "      <td>1</td>\n",
       "      <td>Meal</td>\n",
       "      <td>motorcycle</td>\n",
       "      <td>1</td>\n",
       "      <td>No</td>\n",
       "      <td>Metropolitian</td>\n",
       "      <td>(min) 15</td>\n",
       "    </tr>\n",
       "    <tr>\n",
       "      <th>1699</th>\n",
       "      <td>0xcd3c</td>\n",
       "      <td>ALHRES17DEL03</td>\n",
       "      <td>21</td>\n",
       "      <td>5</td>\n",
       "      <td>25.452350</td>\n",
       "      <td>81.841889</td>\n",
       "      <td>25.512350</td>\n",
       "      <td>81.901889</td>\n",
       "      <td>13-02-2022</td>\n",
       "      <td>19:30:00</td>\n",
       "      <td>19:45:00</td>\n",
       "      <td>conditions Stormy</td>\n",
       "      <td>Jam</td>\n",
       "      <td>1</td>\n",
       "      <td>Meal</td>\n",
       "      <td>scooter</td>\n",
       "      <td>1</td>\n",
       "      <td>No</td>\n",
       "      <td>Metropolitian</td>\n",
       "      <td>(min) 29</td>\n",
       "    </tr>\n",
       "    <tr>\n",
       "      <th>1485</th>\n",
       "      <td>0x86b5</td>\n",
       "      <td>PUNERES18DEL02</td>\n",
       "      <td>38</td>\n",
       "      <td>4.9</td>\n",
       "      <td>18.593481</td>\n",
       "      <td>73.785901</td>\n",
       "      <td>18.643481</td>\n",
       "      <td>73.835901</td>\n",
       "      <td>15-03-2022</td>\n",
       "      <td>17:45:00</td>\n",
       "      <td>17:55:00</td>\n",
       "      <td>conditions Cloudy</td>\n",
       "      <td>Medium</td>\n",
       "      <td>1</td>\n",
       "      <td>Buffet</td>\n",
       "      <td>motorcycle</td>\n",
       "      <td>1</td>\n",
       "      <td>No</td>\n",
       "      <td>Urban</td>\n",
       "      <td>(min) 18</td>\n",
       "    </tr>\n",
       "    <tr>\n",
       "      <th>3311</th>\n",
       "      <td>0xd79b</td>\n",
       "      <td>KOLRES010DEL02</td>\n",
       "      <td>21</td>\n",
       "      <td>4.6</td>\n",
       "      <td>22.538999</td>\n",
       "      <td>88.322337</td>\n",
       "      <td>22.588999</td>\n",
       "      <td>88.372337</td>\n",
       "      <td>13-02-2022</td>\n",
       "      <td>21:45:00</td>\n",
       "      <td>21:50:00</td>\n",
       "      <td>conditions Sandstorms</td>\n",
       "      <td>Jam</td>\n",
       "      <td>0</td>\n",
       "      <td>Drinks</td>\n",
       "      <td>motorcycle</td>\n",
       "      <td>1</td>\n",
       "      <td>No</td>\n",
       "      <td>Metropolitian</td>\n",
       "      <td>(min) 24</td>\n",
       "    </tr>\n",
       "    <tr>\n",
       "      <th>2442</th>\n",
       "      <td>0x9c95</td>\n",
       "      <td>RANCHIRES09DEL02</td>\n",
       "      <td>38</td>\n",
       "      <td>4.7</td>\n",
       "      <td>23.351058</td>\n",
       "      <td>85.325731</td>\n",
       "      <td>23.481058</td>\n",
       "      <td>85.455731</td>\n",
       "      <td>25-03-2022</td>\n",
       "      <td>18:15:00</td>\n",
       "      <td>18:30:00</td>\n",
       "      <td>conditions Fog</td>\n",
       "      <td>Medium</td>\n",
       "      <td>1</td>\n",
       "      <td>Meal</td>\n",
       "      <td>motorcycle</td>\n",
       "      <td>1</td>\n",
       "      <td>No</td>\n",
       "      <td>Metropolitian</td>\n",
       "      <td>(min) 30</td>\n",
       "    </tr>\n",
       "    <tr>\n",
       "      <th>1147</th>\n",
       "      <td>0xcf16</td>\n",
       "      <td>KNPRES15DEL03</td>\n",
       "      <td>32</td>\n",
       "      <td>4.8</td>\n",
       "      <td>26.482419</td>\n",
       "      <td>80.320939</td>\n",
       "      <td>26.572419</td>\n",
       "      <td>80.410939</td>\n",
       "      <td>16-02-2022</td>\n",
       "      <td>20:10:00</td>\n",
       "      <td>20:20:00</td>\n",
       "      <td>conditions Sunny</td>\n",
       "      <td>Jam</td>\n",
       "      <td>0</td>\n",
       "      <td>Meal</td>\n",
       "      <td>motorcycle</td>\n",
       "      <td>3</td>\n",
       "      <td>Yes</td>\n",
       "      <td>Metropolitian</td>\n",
       "      <td>(min) 44</td>\n",
       "    </tr>\n",
       "    <tr>\n",
       "      <th>2794</th>\n",
       "      <td>0x4bc4</td>\n",
       "      <td>BANGRES19DEL02</td>\n",
       "      <td>31</td>\n",
       "      <td>4</td>\n",
       "      <td>12.914264</td>\n",
       "      <td>77.678400</td>\n",
       "      <td>12.934264</td>\n",
       "      <td>77.698400</td>\n",
       "      <td>28-03-2022</td>\n",
       "      <td>09:40:00</td>\n",
       "      <td>09:50:00</td>\n",
       "      <td>conditions Stormy</td>\n",
       "      <td>Low</td>\n",
       "      <td>0</td>\n",
       "      <td>Meal</td>\n",
       "      <td>motorcycle</td>\n",
       "      <td>1</td>\n",
       "      <td>No</td>\n",
       "      <td>Metropolitian</td>\n",
       "      <td>(min) 30</td>\n",
       "    </tr>\n",
       "    <tr>\n",
       "      <th>628</th>\n",
       "      <td>0x7b54</td>\n",
       "      <td>PUNERES010DEL01</td>\n",
       "      <td>21</td>\n",
       "      <td>4.8</td>\n",
       "      <td>18.539299</td>\n",
       "      <td>73.897902</td>\n",
       "      <td>18.609299</td>\n",
       "      <td>73.967902</td>\n",
       "      <td>23-03-2022</td>\n",
       "      <td>22:35:00</td>\n",
       "      <td>22:45:00</td>\n",
       "      <td>conditions Stormy</td>\n",
       "      <td>Low</td>\n",
       "      <td>1</td>\n",
       "      <td>Meal</td>\n",
       "      <td>motorcycle</td>\n",
       "      <td>1</td>\n",
       "      <td>No</td>\n",
       "      <td>Urban</td>\n",
       "      <td>(min) 13</td>\n",
       "    </tr>\n",
       "    <tr>\n",
       "      <th>3080</th>\n",
       "      <td>0xad5e</td>\n",
       "      <td>CHENRES19DEL02</td>\n",
       "      <td>33</td>\n",
       "      <td>4.5</td>\n",
       "      <td>12.986047</td>\n",
       "      <td>80.218114</td>\n",
       "      <td>13.116047</td>\n",
       "      <td>80.348114</td>\n",
       "      <td>02-04-2022</td>\n",
       "      <td>17:45:00</td>\n",
       "      <td>17:55:00</td>\n",
       "      <td>conditions Stormy</td>\n",
       "      <td>Medium</td>\n",
       "      <td>2</td>\n",
       "      <td>Snack</td>\n",
       "      <td>motorcycle</td>\n",
       "      <td>1</td>\n",
       "      <td>No</td>\n",
       "      <td>Metropolitian</td>\n",
       "      <td>(min) 26</td>\n",
       "    </tr>\n",
       "    <tr>\n",
       "      <th>2661</th>\n",
       "      <td>0xa685</td>\n",
       "      <td>COIMBRES19DEL02</td>\n",
       "      <td>27</td>\n",
       "      <td>4.7</td>\n",
       "      <td>11.022298</td>\n",
       "      <td>76.998349</td>\n",
       "      <td>11.102298</td>\n",
       "      <td>77.078349</td>\n",
       "      <td>04-04-2022</td>\n",
       "      <td>20:55:00</td>\n",
       "      <td>21:10:00</td>\n",
       "      <td>conditions Fog</td>\n",
       "      <td>Jam</td>\n",
       "      <td>0</td>\n",
       "      <td>Meal</td>\n",
       "      <td>motorcycle</td>\n",
       "      <td>1</td>\n",
       "      <td>No</td>\n",
       "      <td>Metropolitian</td>\n",
       "      <td>(min) 47</td>\n",
       "    </tr>\n",
       "    <tr>\n",
       "      <th>201</th>\n",
       "      <td>0x46fd</td>\n",
       "      <td>PUNERES09DEL03</td>\n",
       "      <td>29</td>\n",
       "      <td>4.8</td>\n",
       "      <td>18.536562</td>\n",
       "      <td>73.896485</td>\n",
       "      <td>18.596562</td>\n",
       "      <td>73.956485</td>\n",
       "      <td>11-03-2022</td>\n",
       "      <td>19:35:00</td>\n",
       "      <td>19:40:00</td>\n",
       "      <td>conditions Cloudy</td>\n",
       "      <td>Jam</td>\n",
       "      <td>0</td>\n",
       "      <td>Meal</td>\n",
       "      <td>motorcycle</td>\n",
       "      <td>1</td>\n",
       "      <td>No</td>\n",
       "      <td>Metropolitian</td>\n",
       "      <td>(min) 25</td>\n",
       "    </tr>\n",
       "    <tr>\n",
       "      <th>822</th>\n",
       "      <td>0x2d82</td>\n",
       "      <td>HYDRES11DEL01</td>\n",
       "      <td>31</td>\n",
       "      <td>4.7</td>\n",
       "      <td>17.430448</td>\n",
       "      <td>78.418213</td>\n",
       "      <td>17.470448</td>\n",
       "      <td>78.458213</td>\n",
       "      <td>15-03-2022</td>\n",
       "      <td>16:55:00</td>\n",
       "      <td>17:05:00</td>\n",
       "      <td>conditions Cloudy</td>\n",
       "      <td>Medium</td>\n",
       "      <td>1</td>\n",
       "      <td>Drinks</td>\n",
       "      <td>motorcycle</td>\n",
       "      <td>1</td>\n",
       "      <td>No</td>\n",
       "      <td>Urban</td>\n",
       "      <td>(min) 17</td>\n",
       "    </tr>\n",
       "    <tr>\n",
       "      <th>3324</th>\n",
       "      <td>0xae7d</td>\n",
       "      <td>JAPRES14DEL01</td>\n",
       "      <td>30</td>\n",
       "      <td>4.2</td>\n",
       "      <td>26.888420</td>\n",
       "      <td>75.800689</td>\n",
       "      <td>26.998420</td>\n",
       "      <td>75.910689</td>\n",
       "      <td>06-03-2022</td>\n",
       "      <td>20:55:00</td>\n",
       "      <td>21:05:00</td>\n",
       "      <td>conditions Sandstorms</td>\n",
       "      <td>Jam</td>\n",
       "      <td>1</td>\n",
       "      <td>Meal</td>\n",
       "      <td>motorcycle</td>\n",
       "      <td>1</td>\n",
       "      <td>No</td>\n",
       "      <td>Metropolitian</td>\n",
       "      <td>(min) 43</td>\n",
       "    </tr>\n",
       "    <tr>\n",
       "      <th>2985</th>\n",
       "      <td>0x19af</td>\n",
       "      <td>PUNERES010DEL03</td>\n",
       "      <td>38</td>\n",
       "      <td>4.9</td>\n",
       "      <td>18.539299</td>\n",
       "      <td>73.897902</td>\n",
       "      <td>18.569299</td>\n",
       "      <td>73.927902</td>\n",
       "      <td>21-03-2022</td>\n",
       "      <td>00:00:00</td>\n",
       "      <td>00:05:00</td>\n",
       "      <td>conditions Windy</td>\n",
       "      <td>Low</td>\n",
       "      <td>2</td>\n",
       "      <td>Snack</td>\n",
       "      <td>scooter</td>\n",
       "      <td>1</td>\n",
       "      <td>No</td>\n",
       "      <td>Metropolitian</td>\n",
       "      <td>(min) 22</td>\n",
       "    </tr>\n",
       "    <tr>\n",
       "      <th>1374</th>\n",
       "      <td>0x5a4a</td>\n",
       "      <td>CHENRES04DEL03</td>\n",
       "      <td>29</td>\n",
       "      <td>4.9</td>\n",
       "      <td>13.029780</td>\n",
       "      <td>80.208812</td>\n",
       "      <td>13.059780</td>\n",
       "      <td>80.238812</td>\n",
       "      <td>15-03-2022</td>\n",
       "      <td>18:20:00</td>\n",
       "      <td>18:30:00</td>\n",
       "      <td>conditions Stormy</td>\n",
       "      <td>Medium</td>\n",
       "      <td>1</td>\n",
       "      <td>Snack</td>\n",
       "      <td>motorcycle</td>\n",
       "      <td>1</td>\n",
       "      <td>No</td>\n",
       "      <td>Metropolitian</td>\n",
       "      <td>(min) 26</td>\n",
       "    </tr>\n",
       "    <tr>\n",
       "      <th>877</th>\n",
       "      <td>0x41a1</td>\n",
       "      <td>RANCHIRES13DEL02</td>\n",
       "      <td>33</td>\n",
       "      <td>4.6</td>\n",
       "      <td>23.374989</td>\n",
       "      <td>85.335486</td>\n",
       "      <td>23.394989</td>\n",
       "      <td>85.355486</td>\n",
       "      <td>01-03-2022</td>\n",
       "      <td>08:10:00</td>\n",
       "      <td>08:20:00</td>\n",
       "      <td>conditions Cloudy</td>\n",
       "      <td>Low</td>\n",
       "      <td>1</td>\n",
       "      <td>Buffet</td>\n",
       "      <td>motorcycle</td>\n",
       "      <td>1</td>\n",
       "      <td>No</td>\n",
       "      <td>Metropolitian</td>\n",
       "      <td>(min) 19</td>\n",
       "    </tr>\n",
       "    <tr>\n",
       "      <th>3448</th>\n",
       "      <td>0x93b7</td>\n",
       "      <td>SURRES19DEL01</td>\n",
       "      <td>25</td>\n",
       "      <td>4.6</td>\n",
       "      <td>21.149669</td>\n",
       "      <td>72.772629</td>\n",
       "      <td>21.219669</td>\n",
       "      <td>72.842629</td>\n",
       "      <td>04-04-2022</td>\n",
       "      <td>23:10:00</td>\n",
       "      <td>23:15:00</td>\n",
       "      <td>conditions Stormy</td>\n",
       "      <td>Low</td>\n",
       "      <td>2</td>\n",
       "      <td>Buffet</td>\n",
       "      <td>motorcycle</td>\n",
       "      <td>1</td>\n",
       "      <td>No</td>\n",
       "      <td>Urban</td>\n",
       "      <td>(min) 19</td>\n",
       "    </tr>\n",
       "    <tr>\n",
       "      <th>566</th>\n",
       "      <td>0x1a1e</td>\n",
       "      <td>MYSRES19DEL03</td>\n",
       "      <td>20</td>\n",
       "      <td>4.8</td>\n",
       "      <td>12.334022</td>\n",
       "      <td>76.618203</td>\n",
       "      <td>12.364022</td>\n",
       "      <td>76.648203</td>\n",
       "      <td>09-03-2022</td>\n",
       "      <td>20:20:00</td>\n",
       "      <td>20:30:00</td>\n",
       "      <td>conditions Fog</td>\n",
       "      <td>Jam</td>\n",
       "      <td>1</td>\n",
       "      <td>Snack</td>\n",
       "      <td>scooter</td>\n",
       "      <td>1</td>\n",
       "      <td>No</td>\n",
       "      <td>Metropolitian</td>\n",
       "      <td>(min) 25</td>\n",
       "    </tr>\n",
       "    <tr>\n",
       "      <th>3108</th>\n",
       "      <td>0x8779</td>\n",
       "      <td>INDORES08DEL01</td>\n",
       "      <td>24</td>\n",
       "      <td>4.6</td>\n",
       "      <td>22.725748</td>\n",
       "      <td>75.898497</td>\n",
       "      <td>22.765747</td>\n",
       "      <td>75.938497</td>\n",
       "      <td>07-03-2022</td>\n",
       "      <td>15:10:00</td>\n",
       "      <td>15:20:00</td>\n",
       "      <td>conditions Sandstorms</td>\n",
       "      <td>Medium</td>\n",
       "      <td>2</td>\n",
       "      <td>Meal</td>\n",
       "      <td>motorcycle</td>\n",
       "      <td>1</td>\n",
       "      <td>No</td>\n",
       "      <td>Urban</td>\n",
       "      <td>(min) 20</td>\n",
       "    </tr>\n",
       "    <tr>\n",
       "      <th>3775</th>\n",
       "      <td>0xbfd3</td>\n",
       "      <td>BHPRES02DEL02</td>\n",
       "      <td>36</td>\n",
       "      <td>3.8</td>\n",
       "      <td>0.000000</td>\n",
       "      <td>0.000000</td>\n",
       "      <td>0.130000</td>\n",
       "      <td>0.130000</td>\n",
       "      <td>16-02-2022</td>\n",
       "      <td>19:20:00</td>\n",
       "      <td>19:25:00</td>\n",
       "      <td>conditions Windy</td>\n",
       "      <td>Jam</td>\n",
       "      <td>1</td>\n",
       "      <td>Meal</td>\n",
       "      <td>scooter</td>\n",
       "      <td>2</td>\n",
       "      <td>No</td>\n",
       "      <td>Metropolitian</td>\n",
       "      <td>(min) 38</td>\n",
       "    </tr>\n",
       "    <tr>\n",
       "      <th>1425</th>\n",
       "      <td>0xc3ab</td>\n",
       "      <td>AGRRES04DEL02</td>\n",
       "      <td>30</td>\n",
       "      <td>4.9</td>\n",
       "      <td>27.195928</td>\n",
       "      <td>77.998092</td>\n",
       "      <td>27.325928</td>\n",
       "      <td>78.128092</td>\n",
       "      <td>18-02-2022</td>\n",
       "      <td>19:40:00</td>\n",
       "      <td>19:45:00</td>\n",
       "      <td>conditions Sandstorms</td>\n",
       "      <td>Jam</td>\n",
       "      <td>2</td>\n",
       "      <td>Buffet</td>\n",
       "      <td>motorcycle</td>\n",
       "      <td>1</td>\n",
       "      <td>No</td>\n",
       "      <td>Metropolitian</td>\n",
       "      <td>(min) 27</td>\n",
       "    </tr>\n",
       "    <tr>\n",
       "      <th>1833</th>\n",
       "      <td>0xd605</td>\n",
       "      <td>LUDHRES010DEL02</td>\n",
       "      <td>39</td>\n",
       "      <td>3.5</td>\n",
       "      <td>30.892860</td>\n",
       "      <td>75.822199</td>\n",
       "      <td>31.022860</td>\n",
       "      <td>75.952199</td>\n",
       "      <td>16-02-2022</td>\n",
       "      <td>17:25:00</td>\n",
       "      <td>17:40:00</td>\n",
       "      <td>conditions Stormy</td>\n",
       "      <td>Medium</td>\n",
       "      <td>1</td>\n",
       "      <td>Drinks</td>\n",
       "      <td>scooter</td>\n",
       "      <td>0</td>\n",
       "      <td>No</td>\n",
       "      <td>Metropolitian</td>\n",
       "      <td>(min) 37</td>\n",
       "    </tr>\n",
       "  </tbody>\n",
       "</table>\n",
       "</div>"
      ],
      "text/plain": [
       "           ID Delivery_person_ID Delivery_person_Age Delivery_person_Ratings  \\\n",
       "3575  0xb25d      VADRES08DEL03                   21                     4.9   \n",
       "1223  0x489d      JAPRES05DEL03                   23                     4.8   \n",
       "1701  0x7a11      MUMRES13DEL02                   29                     4.7   \n",
       "238   0xdd96      KNPRES16DEL01                   32                     4.8   \n",
       "3610  0xae92     PUNERES06DEL02                   25                     4.4   \n",
       "3144  0xd8ee      DEHRES16DEL01                   31                     4.5   \n",
       "2214  0x2a16      MUMRES07DEL03                   31                       4   \n",
       "3967  0x1f16      JAPRES12DEL02                   31                     4.5   \n",
       "2420  0x69df     CHENRES20DEL01                   28                     4.9   \n",
       "1699  0xcd3c      ALHRES17DEL03                   21                       5   \n",
       "1485  0x86b5     PUNERES18DEL02                   38                     4.9   \n",
       "3311  0xd79b     KOLRES010DEL02                   21                     4.6   \n",
       "2442  0x9c95   RANCHIRES09DEL02                   38                     4.7   \n",
       "1147  0xcf16      KNPRES15DEL03                   32                     4.8   \n",
       "2794  0x4bc4     BANGRES19DEL02                   31                       4   \n",
       "628   0x7b54    PUNERES010DEL01                   21                     4.8   \n",
       "3080  0xad5e     CHENRES19DEL02                   33                     4.5   \n",
       "2661  0xa685    COIMBRES19DEL02                   27                     4.7   \n",
       "201   0x46fd     PUNERES09DEL03                   29                     4.8   \n",
       "822   0x2d82      HYDRES11DEL01                   31                     4.7   \n",
       "3324  0xae7d      JAPRES14DEL01                   30                     4.2   \n",
       "2985  0x19af    PUNERES010DEL03                   38                     4.9   \n",
       "1374  0x5a4a     CHENRES04DEL03                   29                     4.9   \n",
       "877   0x41a1   RANCHIRES13DEL02                   33                     4.6   \n",
       "3448  0x93b7      SURRES19DEL01                   25                     4.6   \n",
       "566   0x1a1e      MYSRES19DEL03                   20                     4.8   \n",
       "3108  0x8779     INDORES08DEL01                   24                     4.6   \n",
       "3775  0xbfd3      BHPRES02DEL02                   36                     3.8   \n",
       "1425  0xc3ab      AGRRES04DEL02                   30                     4.9   \n",
       "1833  0xd605    LUDHRES010DEL02                   39                     3.5   \n",
       "\n",
       "      Restaurant_latitude  Restaurant_longitude  Delivery_location_latitude  \\\n",
       "3575             0.000000              0.000000                    0.030000   \n",
       "1223            26.905287             75.794592                   26.965287   \n",
       "1701            19.178321             72.834715                   19.198321   \n",
       "238             26.482581             80.315628                   26.552581   \n",
       "3610            18.546258             73.904337                   18.566258   \n",
       "3144            30.342509             78.061187                   30.352509   \n",
       "2214            19.091458             72.827808                   19.181458   \n",
       "3967            26.902908             75.792934                   26.922908   \n",
       "2420            12.975996             80.221898                   12.985996   \n",
       "1699            25.452350             81.841889                   25.512350   \n",
       "1485            18.593481             73.785901                   18.643481   \n",
       "3311            22.538999             88.322337                   22.588999   \n",
       "2442            23.351058             85.325731                   23.481058   \n",
       "1147            26.482419             80.320939                   26.572419   \n",
       "2794            12.914264             77.678400                   12.934264   \n",
       "628             18.539299             73.897902                   18.609299   \n",
       "3080            12.986047             80.218114                   13.116047   \n",
       "2661            11.022298             76.998349                   11.102298   \n",
       "201             18.536562             73.896485                   18.596562   \n",
       "822             17.430448             78.418213                   17.470448   \n",
       "3324            26.888420             75.800689                   26.998420   \n",
       "2985            18.539299             73.897902                   18.569299   \n",
       "1374            13.029780             80.208812                   13.059780   \n",
       "877             23.374989             85.335486                   23.394989   \n",
       "3448            21.149669             72.772629                   21.219669   \n",
       "566             12.334022             76.618203                   12.364022   \n",
       "3108            22.725748             75.898497                   22.765747   \n",
       "3775             0.000000              0.000000                    0.130000   \n",
       "1425            27.195928             77.998092                   27.325928   \n",
       "1833            30.892860             75.822199                   31.022860   \n",
       "\n",
       "      Delivery_location_longitude  Order_Date Time_Orderd Time_Order_picked  \\\n",
       "3575                     0.030000  07-03-2022    18:55:00          19:00:00   \n",
       "1223                    75.854592  11-03-2022    23:35:00          23:40:00   \n",
       "1701                    72.854715  03-03-2022    11:20:00          11:25:00   \n",
       "238                     80.385628  14-02-2022    21:00:00          21:10:00   \n",
       "3610                    73.924337  11-03-2022    09:20:00          09:25:00   \n",
       "3144                    78.071187  17-02-2022    10:45:00          10:50:00   \n",
       "2214                    72.917808  10-03-2022    19:50:00          20:00:00   \n",
       "3967                    75.812934  21-03-2022    09:45:00          09:55:00   \n",
       "2420                    80.231898  05-04-2022    08:25:00          08:30:00   \n",
       "1699                    81.901889  13-02-2022    19:30:00          19:45:00   \n",
       "1485                    73.835901  15-03-2022    17:45:00          17:55:00   \n",
       "3311                    88.372337  13-02-2022    21:45:00          21:50:00   \n",
       "2442                    85.455731  25-03-2022    18:15:00          18:30:00   \n",
       "1147                    80.410939  16-02-2022    20:10:00          20:20:00   \n",
       "2794                    77.698400  28-03-2022    09:40:00          09:50:00   \n",
       "628                     73.967902  23-03-2022    22:35:00          22:45:00   \n",
       "3080                    80.348114  02-04-2022    17:45:00          17:55:00   \n",
       "2661                    77.078349  04-04-2022    20:55:00          21:10:00   \n",
       "201                     73.956485  11-03-2022    19:35:00          19:40:00   \n",
       "822                     78.458213  15-03-2022    16:55:00          17:05:00   \n",
       "3324                    75.910689  06-03-2022    20:55:00          21:05:00   \n",
       "2985                    73.927902  21-03-2022    00:00:00          00:05:00   \n",
       "1374                    80.238812  15-03-2022    18:20:00          18:30:00   \n",
       "877                     85.355486  01-03-2022    08:10:00          08:20:00   \n",
       "3448                    72.842629  04-04-2022    23:10:00          23:15:00   \n",
       "566                     76.648203  09-03-2022    20:20:00          20:30:00   \n",
       "3108                    75.938497  07-03-2022    15:10:00          15:20:00   \n",
       "3775                     0.130000  16-02-2022    19:20:00          19:25:00   \n",
       "1425                    78.128092  18-02-2022    19:40:00          19:45:00   \n",
       "1833                    75.952199  16-02-2022    17:25:00          17:40:00   \n",
       "\n",
       "          Weatherconditions Road_traffic_density  Vehicle_condition  \\\n",
       "3575         conditions Fog              Medium                   1   \n",
       "1223       conditions Sunny                 Low                   2   \n",
       "1701       conditions Windy                High                   1   \n",
       "238        conditions Sunny                 Jam                   2   \n",
       "3610       conditions Windy                 Low                   0   \n",
       "3144      conditions Cloudy                 Low                   0   \n",
       "2214         conditions Fog                 Jam                   2   \n",
       "3967      conditions Stormy                 Low                   0   \n",
       "2420  conditions Sandstorms                 Low                   1   \n",
       "1699      conditions Stormy                 Jam                   1   \n",
       "1485      conditions Cloudy              Medium                   1   \n",
       "3311  conditions Sandstorms                 Jam                   0   \n",
       "2442         conditions Fog              Medium                   1   \n",
       "1147       conditions Sunny                 Jam                   0   \n",
       "2794      conditions Stormy                 Low                   0   \n",
       "628       conditions Stormy                 Low                   1   \n",
       "3080      conditions Stormy              Medium                   2   \n",
       "2661         conditions Fog                 Jam                   0   \n",
       "201       conditions Cloudy                 Jam                   0   \n",
       "822       conditions Cloudy              Medium                   1   \n",
       "3324  conditions Sandstorms                 Jam                   1   \n",
       "2985       conditions Windy                 Low                   2   \n",
       "1374      conditions Stormy              Medium                   1   \n",
       "877       conditions Cloudy                 Low                   1   \n",
       "3448      conditions Stormy                 Low                   2   \n",
       "566          conditions Fog                 Jam                   1   \n",
       "3108  conditions Sandstorms              Medium                   2   \n",
       "3775       conditions Windy                 Jam                   1   \n",
       "1425  conditions Sandstorms                 Jam                   2   \n",
       "1833      conditions Stormy              Medium                   1   \n",
       "\n",
       "     Type_of_order Type_of_vehicle multiple_deliveries Festival  \\\n",
       "3575         Meal         scooter                    1      No    \n",
       "1223         Meal         scooter                    0      No    \n",
       "1701        Snack         scooter                    1      No    \n",
       "238          Meal         scooter                    1      No    \n",
       "3610       Buffet      motorcycle                    0      No    \n",
       "3144       Buffet      motorcycle                    1      No    \n",
       "2214       Drinks         scooter                    1      No    \n",
       "3967        Snack      motorcycle                    1      No    \n",
       "2420         Meal      motorcycle                    1      No    \n",
       "1699         Meal         scooter                    1      No    \n",
       "1485       Buffet      motorcycle                    1      No    \n",
       "3311       Drinks      motorcycle                    1      No    \n",
       "2442         Meal      motorcycle                    1      No    \n",
       "1147         Meal      motorcycle                    3     Yes    \n",
       "2794         Meal      motorcycle                    1      No    \n",
       "628          Meal      motorcycle                    1      No    \n",
       "3080        Snack      motorcycle                    1      No    \n",
       "2661         Meal      motorcycle                    1      No    \n",
       "201          Meal      motorcycle                    1      No    \n",
       "822        Drinks      motorcycle                    1      No    \n",
       "3324         Meal      motorcycle                    1      No    \n",
       "2985        Snack         scooter                    1      No    \n",
       "1374        Snack      motorcycle                    1      No    \n",
       "877        Buffet      motorcycle                    1      No    \n",
       "3448       Buffet      motorcycle                    1      No    \n",
       "566         Snack         scooter                    1      No    \n",
       "3108         Meal      motorcycle                    1      No    \n",
       "3775         Meal         scooter                    2      No    \n",
       "1425       Buffet      motorcycle                    1      No    \n",
       "1833       Drinks         scooter                    0      No    \n",
       "\n",
       "                City Time_taken(min)  \n",
       "3575  Metropolitian         (min) 12  \n",
       "1223  Metropolitian         (min) 24  \n",
       "1701  Metropolitian         (min) 25  \n",
       "238   Metropolitian         (min) 25  \n",
       "3610  Metropolitian         (min) 24  \n",
       "3144  Metropolitian         (min) 27  \n",
       "2214  Metropolitian         (min) 39  \n",
       "3967          Urban         (min) 24  \n",
       "2420  Metropolitian         (min) 15  \n",
       "1699  Metropolitian         (min) 29  \n",
       "1485          Urban         (min) 18  \n",
       "3311  Metropolitian         (min) 24  \n",
       "2442  Metropolitian         (min) 30  \n",
       "1147  Metropolitian         (min) 44  \n",
       "2794  Metropolitian         (min) 30  \n",
       "628           Urban         (min) 13  \n",
       "3080  Metropolitian         (min) 26  \n",
       "2661  Metropolitian         (min) 47  \n",
       "201   Metropolitian         (min) 25  \n",
       "822           Urban         (min) 17  \n",
       "3324  Metropolitian         (min) 43  \n",
       "2985  Metropolitian         (min) 22  \n",
       "1374  Metropolitian         (min) 26  \n",
       "877   Metropolitian         (min) 19  \n",
       "3448          Urban         (min) 19  \n",
       "566   Metropolitian         (min) 25  \n",
       "3108          Urban         (min) 20  \n",
       "3775  Metropolitian         (min) 38  \n",
       "1425  Metropolitian         (min) 27  \n",
       "1833  Metropolitian         (min) 37  "
      ]
     },
     "execution_count": 804,
     "metadata": {},
     "output_type": "execute_result"
    }
   ],
   "source": [
    "df_raw.sample(30)"
   ]
  },
  {
   "cell_type": "markdown",
   "id": "17db6691",
   "metadata": {},
   "source": [
    "# Limpeza & Transansformação"
   ]
  },
  {
   "cell_type": "markdown",
   "id": "93b28f0b",
   "metadata": {},
   "source": [
    "Claramente algumas colunas possuem valores NaN, mas eles não estão aparecendo na checagem de NaNs. Isso pode ser porque eles são do tipo objeto ou estão armazenados como string e possuem algum formato estranho como \" NaN\", com um espaço em branco.<br>Os primeiros passos serão: remover excesso de NaNs e remover todos os espaços das colunas de string, depois convertê-las para o tipo apropriado e preenchê-las com o valor mais apropriado."
   ]
  },
  {
   "cell_type": "markdown",
   "id": "5014d4da",
   "metadata": {},
   "source": [
    "## Remover espaços & Corrigir tipos de dados e erros de escrita"
   ]
  },
  {
   "cell_type": "code",
   "execution_count": 805,
   "id": "05ddf976",
   "metadata": {},
   "outputs": [],
   "source": [
    "df_clear = df_raw.copy()\n",
    "# Remover espaços em branco no início e no final das strings\n",
    "df_clear = df_clear.apply(lambda x: x.str.strip() if x.dtype == \"object\" else x)\n",
    "# Converter para tipos númericos onde for necessario\n",
    "df_clear[\"Delivery_person_Age\"] = df_clear[\"Delivery_person_Age\"].apply(pd.to_numeric, errors=\"coerce\").astype(\"Int64\")\n",
    "df_clear[\"Delivery_person_Ratings\"] = df_clear[\"Delivery_person_Ratings\"].apply(pd.to_numeric, errors=\"coerce\")\n",
    "df_clear[\"multiple_deliveries\"] = df_clear[\"multiple_deliveries\"].apply(pd.to_numeric, errors=\"coerce\").astype(\"Int64\")\n",
    "# Corrigir erro de escrita em colunas\n",
    "df_clear.rename(columns={\"Time_Orderd\": \"Time_Ordered\"}, inplace=True)\n",
    "# Corrigir erro de escrita em valores\n",
    "df_clear[\"City\"] = df_clear[\"City\"].str.replace(\"Metropolitian\", \"Metropolitan\", regex=False)\n",
    "# Converter para tipo date.time para melhor manipulá-los\n",
    "df_clear[\"Order_Date\"] = pd.to_datetime(df_clear[\"Order_Date\"], format=\"%d-%m-%Y\").astype(\"string\")\n",
    "df_clear[\"Time_Ordered\"] = pd.to_datetime(df_clear[\"Time_Ordered\"], format=\"%H:%M:%S\").dt.time.astype(\"string\")\n",
    "df_clear[\"Time_Order_picked\"] = pd.to_datetime(df_clear[\"Time_Order_picked\"], format=\"%H:%M:%S\").dt.time.astype(\"string\")\n",
    "# Remover letras da coluna \"Time_taken(min)\" e conberter tipo para \"Int64\"\n",
    "df_clear[\"Time_taken(min)\"] = df_clear[\"Time_taken(min)\"].str.extract(r'(\\d+)').astype(\"Int64\")\n",
    "# Remover excesso de palavras na coluna \"Weatherconditions\"\n",
    "df_clear[\"Weatherconditions\"] = df_clear[\"Weatherconditions\"].str.replace(\"conditions \", \"\", regex=False)\n",
    "# Mudar NaNs para \"Unknown\" em colunas que não guardam valores numéricos\n",
    "df_clear[\"Weatherconditions\"] = df_clear[\"Weatherconditions\"].str.replace(\"NaN\", \"Unknown\", regex=False)\n",
    "df_clear[\"Road_traffic_density\"] = df_clear[\"Road_traffic_density\"].str.replace(\"NaN\", \"Unknown\", regex=False)\n",
    "df_clear[\"City\"] = df_clear[\"City\"].str.replace(\"NaN\", \"Unknown\", regex=False)\n",
    "df_clear[\"Festival\"] = df_clear[\"Festival\"].str.replace(\"NaN\", \"Unknown\", regex=False)\n"
   ]
  },
  {
   "cell_type": "code",
   "execution_count": 806,
   "id": "403902e4",
   "metadata": {},
   "outputs": [
    {
     "name": "stdout",
     "output_type": "stream",
     "text": [
      "Max rating: 6.0\n",
      "Min rating: 1.0\n"
     ]
    },
    {
     "data": {
      "text/html": [
       "<div>\n",
       "<style scoped>\n",
       "    .dataframe tbody tr th:only-of-type {\n",
       "        vertical-align: middle;\n",
       "    }\n",
       "\n",
       "    .dataframe tbody tr th {\n",
       "        vertical-align: top;\n",
       "    }\n",
       "\n",
       "    .dataframe thead th {\n",
       "        text-align: right;\n",
       "    }\n",
       "</style>\n",
       "<table border=\"1\" class=\"dataframe\">\n",
       "  <thead>\n",
       "    <tr style=\"text-align: right;\">\n",
       "      <th></th>\n",
       "      <th>ID</th>\n",
       "      <th>Delivery_person_ID</th>\n",
       "      <th>Delivery_person_Age</th>\n",
       "      <th>Delivery_person_Ratings</th>\n",
       "      <th>Restaurant_latitude</th>\n",
       "      <th>Restaurant_longitude</th>\n",
       "      <th>Delivery_location_latitude</th>\n",
       "      <th>Delivery_location_longitude</th>\n",
       "      <th>Order_Date</th>\n",
       "      <th>Time_Ordered</th>\n",
       "      <th>Time_Order_picked</th>\n",
       "      <th>Weatherconditions</th>\n",
       "      <th>Road_traffic_density</th>\n",
       "      <th>Vehicle_condition</th>\n",
       "      <th>Type_of_order</th>\n",
       "      <th>Type_of_vehicle</th>\n",
       "      <th>multiple_deliveries</th>\n",
       "      <th>Festival</th>\n",
       "      <th>City</th>\n",
       "      <th>Time_taken(min)</th>\n",
       "    </tr>\n",
       "  </thead>\n",
       "  <tbody>\n",
       "    <tr>\n",
       "      <th>3586</th>\n",
       "      <td>0x46d</td>\n",
       "      <td>BANGRES05DEL01</td>\n",
       "      <td>50</td>\n",
       "      <td>6.0</td>\n",
       "      <td>-12.970324</td>\n",
       "      <td>-77.645748</td>\n",
       "      <td>13.010324</td>\n",
       "      <td>77.685748</td>\n",
       "      <td>2022-03-13</td>\n",
       "      <td>&lt;NA&gt;</td>\n",
       "      <td>12:30:00</td>\n",
       "      <td>Unknown</td>\n",
       "      <td>Unknown</td>\n",
       "      <td>3</td>\n",
       "      <td>Meal</td>\n",
       "      <td>electric_scooter</td>\n",
       "      <td>0</td>\n",
       "      <td>No</td>\n",
       "      <td>Urban</td>\n",
       "      <td>25</td>\n",
       "    </tr>\n",
       "  </tbody>\n",
       "</table>\n",
       "</div>"
      ],
      "text/plain": [
       "         ID Delivery_person_ID  Delivery_person_Age  Delivery_person_Ratings  \\\n",
       "3586  0x46d     BANGRES05DEL01                   50                      6.0   \n",
       "\n",
       "      Restaurant_latitude  Restaurant_longitude  Delivery_location_latitude  \\\n",
       "3586           -12.970324            -77.645748                   13.010324   \n",
       "\n",
       "      Delivery_location_longitude  Order_Date Time_Ordered Time_Order_picked  \\\n",
       "3586                    77.685748  2022-03-13         <NA>          12:30:00   \n",
       "\n",
       "     Weatherconditions Road_traffic_density  Vehicle_condition Type_of_order  \\\n",
       "3586           Unknown              Unknown                  3          Meal   \n",
       "\n",
       "       Type_of_vehicle  multiple_deliveries Festival   City  Time_taken(min)  \n",
       "3586  electric_scooter                    0       No  Urban               25  "
      ]
     },
     "execution_count": 806,
     "metadata": {},
     "output_type": "execute_result"
    }
   ],
   "source": [
    "print(f\"Max rating: {df_clear[\"Delivery_person_Ratings\"].max()}\\nMin rating: {df_clear[\"Delivery_person_Ratings\"].min()}\")\n",
    "df_clear[df_clear[\"Delivery_person_Ratings\"] > 5.0]"
   ]
  },
  {
   "cell_type": "markdown",
   "id": "d69cec03",
   "metadata": {},
   "source": [
    "Há um valor de avaliação de 6,0. Como há apenas um valor \"errado\" e, assumindo que o máximo é 5 \"estrelas\", ele será corrigido para 5."
   ]
  },
  {
   "cell_type": "code",
   "execution_count": 807,
   "id": "5a073f4b",
   "metadata": {},
   "outputs": [],
   "source": [
    "df_clear.loc[df_clear[\"Delivery_person_Ratings\"] > 5.0, \"Delivery_person_Ratings\"] = 5.0"
   ]
  },
  {
   "cell_type": "markdown",
   "id": "68f43841",
   "metadata": {},
   "source": [
    "## Remover excesso de NaNs"
   ]
  },
  {
   "cell_type": "code",
   "execution_count": 808,
   "id": "7539f25f",
   "metadata": {},
   "outputs": [],
   "source": [
    "# Para manter a análise simples, linhas com mais de 2 NaNs serão removidas, o que dá ~5% dos dados\n",
    "df_clear = df_clear.dropna(thresh=len(df_clear.columns) - 2).reset_index(drop=True)\n",
    "# Há somente 1 NaN em \"Time_taken(min)\", que será substituído removido pois o trabalho para estipula-lo não é viável\n",
    "df_clear = df_clear.dropna(subset=[\"Time_taken(min)\"]).reset_index(drop=True)"
   ]
  },
  {
   "cell_type": "code",
   "execution_count": 809,
   "id": "e9da250d",
   "metadata": {},
   "outputs": [
    {
     "name": "stdout",
     "output_type": "stream",
     "text": [
      "\n",
      "Info dos valores:\n",
      "\n",
      "<class 'pandas.core.frame.DataFrame'>\n",
      "RangeIndex: 4291 entries, 0 to 4290\n",
      "Data columns (total 20 columns):\n",
      " #   Column                       Non-Null Count  Dtype  \n",
      "---  ------                       --------------  -----  \n",
      " 0   ID                           4291 non-null   object \n",
      " 1   Delivery_person_ID           4291 non-null   object \n",
      " 2   Delivery_person_Age          4277 non-null   Int64  \n",
      " 3   Delivery_person_Ratings      4271 non-null   float64\n",
      " 4   Restaurant_latitude          4291 non-null   float64\n",
      " 5   Restaurant_longitude         4291 non-null   float64\n",
      " 6   Delivery_location_latitude   4291 non-null   float64\n",
      " 7   Delivery_location_longitude  4291 non-null   float64\n",
      " 8   Order_Date                   4291 non-null   string \n",
      " 9   Time_Ordered                 4287 non-null   string \n",
      " 10  Time_Order_picked            4291 non-null   string \n",
      " 11  Weatherconditions            4291 non-null   object \n",
      " 12  Road_traffic_density         4291 non-null   object \n",
      " 13  Vehicle_condition            4291 non-null   int64  \n",
      " 14  Type_of_order                4291 non-null   object \n",
      " 15  Type_of_vehicle              4291 non-null   object \n",
      " 16  multiple_deliveries          4189 non-null   Int64  \n",
      " 17  Festival                     4291 non-null   object \n",
      " 18  City                         4291 non-null   object \n",
      " 19  Time_taken(min)              4291 non-null   Int64  \n",
      "dtypes: Int64(3), float64(5), int64(1), object(8), string(3)\n",
      "memory usage: 683.2+ KB\n",
      "None\n",
      "\n",
      "Descrição dos dados:\n",
      "\n",
      "       Delivery_person_Age  Delivery_person_Ratings  Restaurant_latitude  \\\n",
      "count               4277.0              4271.000000          4291.000000   \n",
      "mean             29.449614                 4.630414            17.102314   \n",
      "std               5.788815                 0.330637             7.842138   \n",
      "min                   15.0                 1.000000           -30.902872   \n",
      "25%                   25.0                 4.500000            12.913041   \n",
      "50%                   29.0                 4.700000            18.546947   \n",
      "75%                   34.0                 4.800000            22.727021   \n",
      "max                   50.0                 5.000000            30.914057   \n",
      "\n",
      "       Restaurant_longitude  Delivery_location_latitude  \\\n",
      "count           4291.000000                 4291.000000   \n",
      "mean              70.374837                   17.342799   \n",
      "std               21.820543                    7.445809   \n",
      "min              -77.645748                    0.010000   \n",
      "25%               73.170283                   12.969934   \n",
      "50%               75.894377                   18.621440   \n",
      "75%               78.024883                   22.781857   \n",
      "max               88.433452                   31.035562   \n",
      "\n",
      "       Delivery_location_longitude  Vehicle_condition  multiple_deliveries  \\\n",
      "count                  4291.000000        4291.000000               4189.0   \n",
      "mean                     70.474555           1.000233             0.761996   \n",
      "std                      21.703733           0.819204             0.589973   \n",
      "min                       0.010000           0.000000                  0.0   \n",
      "25%                      73.280610           0.000000                  0.0   \n",
      "50%                      75.984377           1.000000                  1.0   \n",
      "75%                      78.080363           2.000000                  1.0   \n",
      "max                      88.563452           3.000000                  3.0   \n",
      "\n",
      "       Time_taken(min)  \n",
      "count           4291.0  \n",
      "mean         26.277092  \n",
      "std           9.385049  \n",
      "min               10.0  \n",
      "25%               19.0  \n",
      "50%               25.0  \n",
      "75%               32.0  \n",
      "max               54.0  \n"
     ]
    }
   ],
   "source": [
    "checkData(df_clear)"
   ]
  },
  {
   "cell_type": "markdown",
   "id": "0497f1e4",
   "metadata": {},
   "source": [
    "## Unir coordenadas em uma tupla em nova coluna"
   ]
  },
  {
   "cell_type": "markdown",
   "id": "1707d9dd",
   "metadata": {},
   "source": [
    "Para melhor trabalhar com as coordenadas, elas serão armazenadas como uma tupla.\n"
   ]
  },
  {
   "cell_type": "code",
   "execution_count": 810,
   "id": "6dde7a16",
   "metadata": {},
   "outputs": [],
   "source": [
    "df_clear[\"Restaurant_location\"] = list(zip(df_clear[\"Restaurant_latitude\"], df_clear[\"Restaurant_longitude\"]))\n",
    "df_clear[\"Delivery_location\"] = list(zip(df_clear[\"Delivery_location_latitude\"], df_clear[\"Delivery_location_longitude\"]))\n",
    "df_clear.drop(columns=[\"Restaurant_latitude\", \"Restaurant_longitude\", \"Delivery_location_latitude\", \"Delivery_location_longitude\"], inplace=True)"
   ]
  },
  {
   "cell_type": "markdown",
   "id": "ad2408d3",
   "metadata": {},
   "source": [
    "## Unir datas e horas"
   ]
  },
  {
   "cell_type": "markdown",
   "id": "5322660e",
   "metadata": {},
   "source": [
    "Para melhor trabalhar com o tempo, \"Order_date\" será unido com \"Time_Ordered\" e \"Time_Order_picked\". Pelo mesmo motivo, \"Time_taken(min)\" será transformado em um date.time baseado em \"Time_Order_picked\" + \"Time_taken(min)\"."
   ]
  },
  {
   "cell_type": "code",
   "execution_count": 811,
   "id": "b53fb758",
   "metadata": {},
   "outputs": [],
   "source": [
    "# Une as colunas de data e hora para uma melhor manipulação\n",
    "df_clear[\"Time_Ordered\"] = pd.to_datetime(df_clear[\"Order_Date\"] + \" \" + df_clear[\"Time_Ordered\"], format=\"%Y-%m-%d %H:%M:%S\")\n",
    "df_clear[\"Time_Order_picked\"] = pd.to_datetime(df_clear['Order_Date'] + \" \" + df_clear[\"Time_Order_picked\"], format=\"%Y-%m-%d %H:%M:%S\")\n",
    "# Adiciona 1 dia para pedidos feitos antes da meia noite e entregues depois da meia\n",
    "df_clear[\"Time_Order_picked\"] = df_clear.apply(lambda row: row[\"Time_Order_picked\"] + pd.Timedelta(days=1) if row[\"Time_Ordered\"] > row[\"Time_Order_picked\"] else row[\"Time_Order_picked\"], axis=1)\n",
    "# Calcula a hora da entrega baseado em Time_order_pick + time_taken\n",
    "df_clear[\"Time_Order_delivered\"] = df_clear[\"Time_Order_picked\"] + pd.to_timedelta(df_clear[\"Time_taken(min)\"], unit=\"m\")\n",
    "# Remove as colunas originais de data e tempo\n",
    "df_clear.drop([\"Order_Date\", \"Time_taken(min)\"], axis=1, inplace=True)"
   ]
  },
  {
   "cell_type": "markdown",
   "id": "2382858a",
   "metadata": {},
   "source": [
    "## Preenchendo NaNs"
   ]
  },
  {
   "cell_type": "code",
   "execution_count": 812,
   "id": "3a20e734",
   "metadata": {},
   "outputs": [
    {
     "name": "stdout",
     "output_type": "stream",
     "text": [
      "Mediana de \"Delivery_person_Age\": 29.0\n",
      "Média de \"Delivery_person_Age\": 29.449614215571664\n"
     ]
    }
   ],
   "source": [
    "print(f'Mediana de \"Delivery_person_Age\": {df_clear['Delivery_person_Age'].median()}')\n",
    "print(f'Média de \"Delivery_person_Age\": {df_clear['Delivery_person_Age'].mean()}')"
   ]
  },
  {
   "cell_type": "markdown",
   "id": "d7cf6ed5",
   "metadata": {},
   "source": [
    "A coluna \"Delivery_person_Age\" possui o valor de ~29 tanto para a mediana quanto para a média, então vamos preencher os NaNs com a mediana, pois é um Int e a média é um float.<br>Uma abordagem melhor seria aplicar um método como \"KNN\", mas neste exercício vamos nos manter no simples."
   ]
  },
  {
   "cell_type": "code",
   "execution_count": 813,
   "id": "ce846c53",
   "metadata": {},
   "outputs": [],
   "source": [
    "df_clear[\"Delivery_person_Age\"] = df_clear['Delivery_person_Age'].fillna(df_clear['Delivery_person_Age'].median())"
   ]
  },
  {
   "cell_type": "markdown",
   "id": "24a06201",
   "metadata": {},
   "source": [
    "\"Delivery_person_Ratings\" pode ser preenchido com a média baseada no \"Delivery_person_ID\"."
   ]
  },
  {
   "cell_type": "code",
   "execution_count": 814,
   "id": "6a2dcd9a",
   "metadata": {},
   "outputs": [],
   "source": [
    "df_aux = df_clear[[\"Delivery_person_ID\", \"Delivery_person_Ratings\"]].dropna()\n",
    "df_aux = df_aux.groupby([\"Delivery_person_ID\"]).mean().reset_index()\n",
    "df_clear = df_clear.merge(df_aux, on=\"Delivery_person_ID\", how=\"left\", suffixes=('', '_mean'))\n",
    "df_clear[\"Delivery_person_Ratings\"] = df_clear[\"Delivery_person_Ratings\"].fillna(df_clear[\"Delivery_person_Ratings_mean\"])\n",
    "df_clear.drop(columns=[\"Delivery_person_Ratings_mean\"], inplace=True)"
   ]
  },
  {
   "cell_type": "markdown",
   "id": "4bfc2601",
   "metadata": {},
   "source": [
    "NaNs em \"Time_ordered\" podem ser preenchidos com base nos outros pedidos, agrupados pelo tipo de pedido.<br>A suposição aqui é que as refeições provavelmente têm um tempo de preparo mais longo do que o buffet, que tem um tempo mais longo do que as bebidas, que têm um tempo mais longo do que as lanches."
   ]
  },
  {
   "cell_type": "code",
   "execution_count": 815,
   "id": "07699968",
   "metadata": {},
   "outputs": [
    {
     "data": {
      "text/html": [
       "<div>\n",
       "<style scoped>\n",
       "    .dataframe tbody tr th:only-of-type {\n",
       "        vertical-align: middle;\n",
       "    }\n",
       "\n",
       "    .dataframe tbody tr th {\n",
       "        vertical-align: top;\n",
       "    }\n",
       "\n",
       "    .dataframe thead tr th {\n",
       "        text-align: left;\n",
       "    }\n",
       "</style>\n",
       "<table border=\"1\" class=\"dataframe\">\n",
       "  <thead>\n",
       "    <tr>\n",
       "      <th></th>\n",
       "      <th>Type_of_order</th>\n",
       "      <th colspan=\"2\" halign=\"left\">Time_to_pick</th>\n",
       "      <th colspan=\"2\" halign=\"left\">Time_to_delivery</th>\n",
       "    </tr>\n",
       "    <tr>\n",
       "      <th></th>\n",
       "      <th></th>\n",
       "      <th>mean</th>\n",
       "      <th>median</th>\n",
       "      <th>mean</th>\n",
       "      <th>median</th>\n",
       "    </tr>\n",
       "  </thead>\n",
       "  <tbody>\n",
       "    <tr>\n",
       "      <th>0</th>\n",
       "      <td>Buffet</td>\n",
       "      <td>9.781784</td>\n",
       "      <td>10.0</td>\n",
       "      <td>26.122391</td>\n",
       "      <td>25.0</td>\n",
       "    </tr>\n",
       "    <tr>\n",
       "      <th>1</th>\n",
       "      <td>Drinks</td>\n",
       "      <td>9.841954</td>\n",
       "      <td>10.0</td>\n",
       "      <td>26.286398</td>\n",
       "      <td>25.5</td>\n",
       "    </tr>\n",
       "    <tr>\n",
       "      <th>2</th>\n",
       "      <td>Meal</td>\n",
       "      <td>10.032110</td>\n",
       "      <td>10.0</td>\n",
       "      <td>26.225688</td>\n",
       "      <td>25.0</td>\n",
       "    </tr>\n",
       "    <tr>\n",
       "      <th>3</th>\n",
       "      <td>Snack</td>\n",
       "      <td>9.977252</td>\n",
       "      <td>10.0</td>\n",
       "      <td>26.482257</td>\n",
       "      <td>26.0</td>\n",
       "    </tr>\n",
       "  </tbody>\n",
       "</table>\n",
       "</div>"
      ],
      "text/plain": [
       "  Type_of_order Time_to_pick        Time_to_delivery       \n",
       "                        mean median             mean median\n",
       "0        Buffet     9.781784   10.0        26.122391   25.0\n",
       "1        Drinks     9.841954   10.0        26.286398   25.5\n",
       "2          Meal    10.032110   10.0        26.225688   25.0\n",
       "3         Snack     9.977252   10.0        26.482257   26.0"
      ]
     },
     "execution_count": 815,
     "metadata": {},
     "output_type": "execute_result"
    }
   ],
   "source": [
    "df_aux = df_clear[[\"Time_Ordered\", \"Time_Order_picked\", \"Time_Order_delivered\", \"Type_of_order\"]].dropna()\n",
    "df_aux[\"Time_to_pick\"] = (df_aux[\"Time_Order_picked\"] - df_aux[\"Time_Ordered\"]).dt.total_seconds() / 60\n",
    "df_aux[\"Time_to_delivery\"] = (df_aux[\"Time_Order_delivered\"] - df_aux[\"Time_Order_picked\"]).dt.total_seconds() / 60\n",
    "df_aux = df_aux.drop(columns=[\"Time_Ordered\", \"Time_Order_picked\", \"Time_Order_delivered\"])\n",
    "df_times_grouped = df_aux.groupby([\"Type_of_order\"]).agg([\"mean\", \"median\"]).reset_index()\n",
    "df_times_grouped"
   ]
  },
  {
   "cell_type": "markdown",
   "id": "ea438aed",
   "metadata": {},
   "source": [
    "A suposição não foi exatamente verdadeira, mas a mediana de \"Time_to_pick\" pode ser usada para calcular quando os pedidos com NaNs foram feitos sem muita distorção nos dados."
   ]
  },
  {
   "cell_type": "code",
   "execution_count": 816,
   "id": "f9ba0c08",
   "metadata": {},
   "outputs": [],
   "source": [
    "df_clear[\"Time_Ordered\"] = df_clear[\"Time_Ordered\"].fillna(df_clear[\"Time_Order_picked\"] - pd.to_timedelta(df_times_grouped.loc[0, (\"Time_to_pick\", \"median\")], unit=\"m\"))"
   ]
  },
  {
   "cell_type": "markdown",
   "id": "65bbb6b1",
   "metadata": {},
   "source": [
    "Em \"multiple_delivery\", a suposição é: se não é uma entrega múltipla, essa entrada não foi preenchida, então os NaNs serão preenchidos com 1."
   ]
  },
  {
   "cell_type": "code",
   "execution_count": 817,
   "id": "5b2632fa",
   "metadata": {},
   "outputs": [],
   "source": [
    "df_clear[\"multiple_deliveries\"] = df_clear[\"multiple_deliveries\"].fillna(1)"
   ]
  },
  {
   "cell_type": "code",
   "execution_count": 818,
   "id": "ec2b1f93",
   "metadata": {},
   "outputs": [
    {
     "name": "stdout",
     "output_type": "stream",
     "text": [
      "\n",
      "Info dos valores:\n",
      "\n",
      "<class 'pandas.core.frame.DataFrame'>\n",
      "RangeIndex: 4291 entries, 0 to 4290\n",
      "Data columns (total 17 columns):\n",
      " #   Column                   Non-Null Count  Dtype         \n",
      "---  ------                   --------------  -----         \n",
      " 0   ID                       4291 non-null   object        \n",
      " 1   Delivery_person_ID       4291 non-null   object        \n",
      " 2   Delivery_person_Age      4291 non-null   Int64         \n",
      " 3   Delivery_person_Ratings  4291 non-null   float64       \n",
      " 4   Time_Ordered             4291 non-null   datetime64[ns]\n",
      " 5   Time_Order_picked        4291 non-null   datetime64[ns]\n",
      " 6   Weatherconditions        4291 non-null   object        \n",
      " 7   Road_traffic_density     4291 non-null   object        \n",
      " 8   Vehicle_condition        4291 non-null   int64         \n",
      " 9   Type_of_order            4291 non-null   object        \n",
      " 10  Type_of_vehicle          4291 non-null   object        \n",
      " 11  multiple_deliveries      4291 non-null   Int64         \n",
      " 12  Festival                 4291 non-null   object        \n",
      " 13  City                     4291 non-null   object        \n",
      " 14  Restaurant_location      4291 non-null   object        \n",
      " 15  Delivery_location        4291 non-null   object        \n",
      " 16  Time_Order_delivered     4291 non-null   datetime64[ns]\n",
      "dtypes: Int64(2), datetime64[ns](3), float64(1), int64(1), object(10)\n",
      "memory usage: 578.4+ KB\n",
      "None\n",
      "\n",
      "Descrição dos dados:\n",
      "\n",
      "       Delivery_person_Age  Delivery_person_Ratings  \\\n",
      "count               4291.0              4291.000000   \n",
      "mean             29.448147                 4.630762   \n",
      "min                   15.0                 1.000000   \n",
      "25%                   25.0                 4.500000   \n",
      "50%                   29.0                 4.700000   \n",
      "75%                   34.0                 4.800000   \n",
      "max                   50.0                 5.000000   \n",
      "std               5.779419                 0.329956   \n",
      "\n",
      "                        Time_Ordered              Time_Order_picked  \\\n",
      "count                           4291                           4291   \n",
      "mean   2022-03-14 13:26:58.503845120  2022-03-14 13:36:53.120484864   \n",
      "min              2022-02-11 00:00:00            2022-02-11 00:10:00   \n",
      "25%              2022-03-05 09:57:30            2022-03-05 10:10:00   \n",
      "50%              2022-03-15 17:50:00            2022-03-15 18:00:00   \n",
      "75%              2022-03-27 19:35:00            2022-03-27 19:45:00   \n",
      "max              2022-04-06 23:55:00            2022-04-07 00:05:00   \n",
      "std                              NaN                            NaN   \n",
      "\n",
      "       Vehicle_condition  multiple_deliveries           Time_Order_delivered  \n",
      "count        4291.000000               4291.0                           4291  \n",
      "mean            1.000233             0.767653  2022-03-14 14:03:09.745979904  \n",
      "min             0.000000                  0.0            2022-02-11 00:27:00  \n",
      "25%             0.000000                  0.0            2022-03-05 10:32:30  \n",
      "50%             1.000000                  1.0            2022-03-15 18:38:00  \n",
      "75%             2.000000                  1.0            2022-03-27 20:14:00  \n",
      "max             3.000000                  3.0            2022-04-07 00:48:00  \n",
      "std             0.819204             0.584044                            NaN  \n"
     ]
    }
   ],
   "source": [
    "checkData(df_clear)"
   ]
  },
  {
   "cell_type": "markdown",
   "id": "dd0337ed",
   "metadata": {},
   "source": [
    "# Análise descritiva"
   ]
  },
  {
   "cell_type": "markdown",
   "id": "cf3c63e7",
   "metadata": {},
   "source": [
    "## Primeiras KBQs\n",
    "Por enquanto, as perguntas de négocio serão respondidas sem o uso de técnicas intermediárias/avançadas como groupby, agg, plotting, machine learning, etc..."
   ]
  },
  {
   "cell_type": "markdown",
   "id": "12eda52e",
   "metadata": {},
   "source": [
    "### 1. Qual o número total de entregas cadastradas na base de dados?\n",
    "**Resposta:** O número total de entregas cadastrados na base de dados é 4291."
   ]
  },
  {
   "cell_type": "code",
   "execution_count": 819,
   "id": "263d805a",
   "metadata": {},
   "outputs": [
    {
     "data": {
      "text/plain": [
       "4291"
      ]
     },
     "execution_count": 819,
     "metadata": {},
     "output_type": "execute_result"
    }
   ],
   "source": [
    "len(df_clear)"
   ]
  },
  {
   "cell_type": "markdown",
   "id": "21050a20",
   "metadata": {},
   "source": [
    "### 2. Quantos entregadores únicos existem na base de dados?\n",
    "**Resposta:** Há 1131 IDs únicos na base de dados, porem aparentemente não são entregadores, mas sim empresas que oferecem o serviço de entrega, pois há multiplas idades para o mesmo ID de entregador."
   ]
  },
  {
   "cell_type": "markdown",
   "id": "5948c608",
   "metadata": {},
   "source": [
    "Primeiramente foi notado nos datasets abaixo que há multiplas idades para o mesmo ID de entregador, o que sugere que provavelmente o ID não é do entregador, mas provavelmente da empresa que oferece o serviço de entrega.\n",
    "Note que, apesar de não ser usado técnicas como groupby e agg, foi aberto uma exceção para o código abaixo, pois ele não visa responder a pergunta, mas sim apontar uma inconsistência na base de dados."
   ]
  },
  {
   "cell_type": "code",
   "execution_count": 820,
   "id": "ef1042c2",
   "metadata": {},
   "outputs": [
    {
     "data": {
      "text/html": [
       "<div>\n",
       "<style scoped>\n",
       "    .dataframe tbody tr th:only-of-type {\n",
       "        vertical-align: middle;\n",
       "    }\n",
       "\n",
       "    .dataframe tbody tr th {\n",
       "        vertical-align: top;\n",
       "    }\n",
       "\n",
       "    .dataframe thead tr th {\n",
       "        text-align: left;\n",
       "    }\n",
       "</style>\n",
       "<table border=\"1\" class=\"dataframe\">\n",
       "  <thead>\n",
       "    <tr>\n",
       "      <th></th>\n",
       "      <th>Delivery_person_ID</th>\n",
       "      <th>Delivery_person_Age</th>\n",
       "    </tr>\n",
       "    <tr>\n",
       "      <th></th>\n",
       "      <th></th>\n",
       "      <th>count</th>\n",
       "    </tr>\n",
       "  </thead>\n",
       "  <tbody>\n",
       "    <tr>\n",
       "      <th>0</th>\n",
       "      <td>AGRRES010DEL01</td>\n",
       "      <td>1</td>\n",
       "    </tr>\n",
       "    <tr>\n",
       "      <th>1</th>\n",
       "      <td>AGRRES010DEL02</td>\n",
       "      <td>2</td>\n",
       "    </tr>\n",
       "    <tr>\n",
       "      <th>2</th>\n",
       "      <td>AGRRES01DEL02</td>\n",
       "      <td>1</td>\n",
       "    </tr>\n",
       "    <tr>\n",
       "      <th>3</th>\n",
       "      <td>AGRRES01DEL03</td>\n",
       "      <td>1</td>\n",
       "    </tr>\n",
       "    <tr>\n",
       "      <th>4</th>\n",
       "      <td>AGRRES02DEL02</td>\n",
       "      <td>1</td>\n",
       "    </tr>\n",
       "    <tr>\n",
       "      <th>...</th>\n",
       "      <td>...</td>\n",
       "      <td>...</td>\n",
       "    </tr>\n",
       "    <tr>\n",
       "      <th>1126</th>\n",
       "      <td>VADRES19DEL02</td>\n",
       "      <td>7</td>\n",
       "    </tr>\n",
       "    <tr>\n",
       "      <th>1127</th>\n",
       "      <td>VADRES19DEL03</td>\n",
       "      <td>5</td>\n",
       "    </tr>\n",
       "    <tr>\n",
       "      <th>1128</th>\n",
       "      <td>VADRES20DEL01</td>\n",
       "      <td>5</td>\n",
       "    </tr>\n",
       "    <tr>\n",
       "      <th>1129</th>\n",
       "      <td>VADRES20DEL02</td>\n",
       "      <td>7</td>\n",
       "    </tr>\n",
       "    <tr>\n",
       "      <th>1130</th>\n",
       "      <td>VADRES20DEL03</td>\n",
       "      <td>1</td>\n",
       "    </tr>\n",
       "  </tbody>\n",
       "</table>\n",
       "<p>1131 rows × 2 columns</p>\n",
       "</div>"
      ],
      "text/plain": [
       "     Delivery_person_ID Delivery_person_Age\n",
       "                                      count\n",
       "0        AGRRES010DEL01                   1\n",
       "1        AGRRES010DEL02                   2\n",
       "2         AGRRES01DEL02                   1\n",
       "3         AGRRES01DEL03                   1\n",
       "4         AGRRES02DEL02                   1\n",
       "...                 ...                 ...\n",
       "1126      VADRES19DEL02                   7\n",
       "1127      VADRES19DEL03                   5\n",
       "1128      VADRES20DEL01                   5\n",
       "1129      VADRES20DEL02                   7\n",
       "1130      VADRES20DEL03                   1\n",
       "\n",
       "[1131 rows x 2 columns]"
      ]
     },
     "execution_count": 820,
     "metadata": {},
     "output_type": "execute_result"
    }
   ],
   "source": [
    "df_aux = df_clear[[\"Delivery_person_ID\", \"Delivery_person_Age\"]].dropna()\n",
    "df_age_grouped = df_aux.groupby([\"Delivery_person_ID\"]).agg([\"count\"]).reset_index()\n",
    "df_age_grouped"
   ]
  },
  {
   "cell_type": "code",
   "execution_count": 821,
   "id": "ae698ec5",
   "metadata": {},
   "outputs": [
    {
     "data": {
      "text/html": [
       "<div>\n",
       "<style scoped>\n",
       "    .dataframe tbody tr th:only-of-type {\n",
       "        vertical-align: middle;\n",
       "    }\n",
       "\n",
       "    .dataframe tbody tr th {\n",
       "        vertical-align: top;\n",
       "    }\n",
       "\n",
       "    .dataframe thead th {\n",
       "        text-align: right;\n",
       "    }\n",
       "</style>\n",
       "<table border=\"1\" class=\"dataframe\">\n",
       "  <thead>\n",
       "    <tr style=\"text-align: right;\">\n",
       "      <th></th>\n",
       "      <th>Delivery_person_ID</th>\n",
       "      <th>Delivery_person_Age</th>\n",
       "    </tr>\n",
       "  </thead>\n",
       "  <tbody>\n",
       "    <tr>\n",
       "      <th>921</th>\n",
       "      <td>VADRES19DEL02</td>\n",
       "      <td>38</td>\n",
       "    </tr>\n",
       "    <tr>\n",
       "      <th>2160</th>\n",
       "      <td>VADRES19DEL02</td>\n",
       "      <td>33</td>\n",
       "    </tr>\n",
       "    <tr>\n",
       "      <th>2972</th>\n",
       "      <td>VADRES19DEL02</td>\n",
       "      <td>34</td>\n",
       "    </tr>\n",
       "    <tr>\n",
       "      <th>3091</th>\n",
       "      <td>VADRES19DEL02</td>\n",
       "      <td>28</td>\n",
       "    </tr>\n",
       "    <tr>\n",
       "      <th>3326</th>\n",
       "      <td>VADRES19DEL02</td>\n",
       "      <td>36</td>\n",
       "    </tr>\n",
       "    <tr>\n",
       "      <th>3390</th>\n",
       "      <td>VADRES19DEL02</td>\n",
       "      <td>28</td>\n",
       "    </tr>\n",
       "    <tr>\n",
       "      <th>4205</th>\n",
       "      <td>VADRES19DEL02</td>\n",
       "      <td>38</td>\n",
       "    </tr>\n",
       "  </tbody>\n",
       "</table>\n",
       "</div>"
      ],
      "text/plain": [
       "     Delivery_person_ID  Delivery_person_Age\n",
       "921       VADRES19DEL02                   38\n",
       "2160      VADRES19DEL02                   33\n",
       "2972      VADRES19DEL02                   34\n",
       "3091      VADRES19DEL02                   28\n",
       "3326      VADRES19DEL02                   36\n",
       "3390      VADRES19DEL02                   28\n",
       "4205      VADRES19DEL02                   38"
      ]
     },
     "execution_count": 821,
     "metadata": {},
     "output_type": "execute_result"
    }
   ],
   "source": [
    "df_clear.loc[df_clear['Delivery_person_ID'] == 'VADRES19DEL02', [\"Delivery_person_ID\", \"Delivery_person_Age\"]]"
   ]
  },
  {
   "cell_type": "markdown",
   "id": "c4414bcc",
   "metadata": {},
   "source": [
    "Portanto será tratado como \"ID único\" e não \"entregador único\"."
   ]
  },
  {
   "cell_type": "code",
   "execution_count": 822,
   "id": "eb0e6bd3",
   "metadata": {},
   "outputs": [
    {
     "data": {
      "text/plain": [
       "1131"
      ]
     },
     "execution_count": 822,
     "metadata": {},
     "output_type": "execute_result"
    }
   ],
   "source": [
    "# Get the size of the unique values in the column Delivery_person_ID\n",
    "len(df_clear[\"Delivery_person_ID\"].unique())"
   ]
  },
  {
   "cell_type": "markdown",
   "id": "c53287dc",
   "metadata": {},
   "source": [
    "### 3. Qual a idade do entregador mais velho? E do mais novo?\n",
    "**Resposta:** A maior idadeade é 50 anos e a menor idade é 15 anos."
   ]
  },
  {
   "cell_type": "code",
   "execution_count": 823,
   "id": "fc957187",
   "metadata": {},
   "outputs": [
    {
     "data": {
      "text/plain": [
       "2292    15\n",
       "2787    15\n",
       "2833    15\n",
       "1944    20\n",
       "3031    20\n",
       "        ..\n",
       "65      39\n",
       "2976    39\n",
       "3029    39\n",
       "4277    39\n",
       "3448    50\n",
       "Name: Delivery_person_Age, Length: 4291, dtype: Int64"
      ]
     },
     "execution_count": 823,
     "metadata": {},
     "output_type": "execute_result"
    }
   ],
   "source": [
    "df_clear[\"Delivery_person_Age\"].sort_values(ascending=True)"
   ]
  },
  {
   "cell_type": "markdown",
   "id": "7f7012f3",
   "metadata": {},
   "source": [
    "### 4. Qual o ID do entregador com a maior idade? E o ID do entregador com a menor idade?\n",
    "**Resposta:** O ID do entregador mais velho é \"BANGRES05DEL01\" e o ID do entregador mais novo é \"JAPRES15DEL03\"."
   ]
  },
  {
   "cell_type": "code",
   "execution_count": 824,
   "id": "72995e1d",
   "metadata": {},
   "outputs": [
    {
     "data": {
      "text/plain": [
       "{'max': {'Delivery_person_ID': 'BANGRES05DEL01', 'Delivery_person_Age': 50},\n",
       " 'min': {'Delivery_person_ID': 'JAPRES15DEL03', 'Delivery_person_Age': 15}}"
      ]
     },
     "execution_count": 824,
     "metadata": {},
     "output_type": "execute_result"
    }
   ],
   "source": [
    "max_age_row = df_clear.loc[df_clear[\"Delivery_person_Age\"].idxmax()]\n",
    "min_age_row = df_clear.loc[df_clear[\"Delivery_person_Age\"].idxmin()]\n",
    "age_max_min = {\n",
    "    \"max\": {\n",
    "        \"Delivery_person_ID\": str(max_age_row[\"Delivery_person_ID\"]),\n",
    "        \"Delivery_person_Age\": int(max_age_row[\"Delivery_person_Age\"])\n",
    "    },\n",
    "    \"min\": {\n",
    "        \"Delivery_person_ID\": str(min_age_row[\"Delivery_person_ID\"]),\n",
    "        \"Delivery_person_Age\": int(min_age_row[\"Delivery_person_Age\"])\n",
    "    }\n",
    "}\n",
    "age_max_min\n"
   ]
  },
  {
   "cell_type": "markdown",
   "id": "d4e24c57",
   "metadata": {},
   "source": [
    "### 5. Quais os nomes das condições climáticas?\n",
    "**Resposta:** As condições climáticas são: \n",
    "- \"Sunny\"\n",
    "- \"Stormy\"\n",
    "- \"Sandstorms\"\n",
    "- \"Cloudy\"\n",
    "- \"Fog\"\n",
    "- \"Windy\"\n",
    "- \"Unknown\".\n",
    "\n",
    "Lembrando que \"Unknown\" foi criado para conter os valores nulos da coluna."
   ]
  },
  {
   "cell_type": "code",
   "execution_count": 825,
   "id": "1cd0faf4",
   "metadata": {},
   "outputs": [
    {
     "data": {
      "text/plain": [
       "array(['Sunny', 'Stormy', 'Sandstorms', 'Cloudy', 'Fog', 'Windy',\n",
       "       'Unknown'], dtype=object)"
      ]
     },
     "execution_count": 825,
     "metadata": {},
     "output_type": "execute_result"
    }
   ],
   "source": [
    "df_clear[\"Weatherconditions\"].unique()"
   ]
  },
  {
   "cell_type": "markdown",
   "id": "0f460ee8",
   "metadata": {},
   "source": [
    "### 6. Quantas entregas foram realizadas sob condições climáticas de tempestade de areia (Sandstorms)?\n",
    "**Resposta:** Foram feitas 697 entregas com a condição \"Sandstorms\"."
   ]
  },
  {
   "cell_type": "code",
   "execution_count": 826,
   "id": "5bfc78aa",
   "metadata": {},
   "outputs": [
    {
     "data": {
      "text/plain": [
       "697"
      ]
     },
     "execution_count": 826,
     "metadata": {},
     "output_type": "execute_result"
    }
   ],
   "source": [
    "len(df_clear.loc[df_clear[\"Weatherconditions\"] == \"Sandstorms\", \"Weatherconditions\"])"
   ]
  },
  {
   "cell_type": "markdown",
   "id": "b0c74046",
   "metadata": {},
   "source": [
    "### 7. Quais eram as condicões climáticas da data mais recente de entrega?\n",
    "**Resposta:** A condição climática da data mais recente de entrega foi \"Fog\" (Neblina)."
   ]
  },
  {
   "cell_type": "code",
   "execution_count": 827,
   "id": "81a018f0",
   "metadata": {},
   "outputs": [
    {
     "data": {
      "text/plain": [
       "1288    Fog\n",
       "Name: Weatherconditions, dtype: object"
      ]
     },
     "execution_count": 827,
     "metadata": {},
     "output_type": "execute_result"
    }
   ],
   "source": [
    "df_clear.loc[df_clear[\"Time_Order_delivered\"] == df_clear[\"Time_Order_delivered\"].max(), \"Weatherconditions\"]"
   ]
  },
  {
   "cell_type": "markdown",
   "id": "ad047601",
   "metadata": {},
   "source": [
    "### 8. Quantos tipos de densidade de trânsito existem na base de dados? Quais os nomes delas?\n",
    "**Resposta:** Existem 5 tipos de densidade de trânsito na base de dados:\n",
    "- High\n",
    "- Jam\n",
    "- Low\n",
    "- Medium\n",
    "- Unknown\n",
    "\n",
    "Lembrando que \"Unknown\" foi criado para conter os valores nulos da coluna."
   ]
  },
  {
   "cell_type": "code",
   "execution_count": 828,
   "id": "56c3ea27",
   "metadata": {},
   "outputs": [
    {
     "name": "stdout",
     "output_type": "stream",
     "text": [
      "5 tipos de densidade.\n",
      "['High' 'Jam' 'Low' 'Medium' 'Unknown'].\n"
     ]
    }
   ],
   "source": [
    "print(f\"{len(df_clear[\"Road_traffic_density\"].unique())} tipos de densidade.\\n{df_clear[\"Road_traffic_density\"].unique()}.\")"
   ]
  },
  {
   "cell_type": "markdown",
   "id": "53f54e99",
   "metadata": {},
   "source": [
    "### 9. Quantas entregas foram feitas em cada condição climática?\n",
    "**Resposta:** A quantidade de entregas feitas em cada condição climática é: \n",
    "1. **Fog: 758**\n",
    "2. **Windy: 725**\n",
    "3. **Cloudy: 707**\n",
    "4. **Stormy: 704**\n",
    "5. **Sandstorms: 697**\n",
    "6. **Sunny: 696**\n",
    "7. **Unknown: 4**"
   ]
  },
  {
   "cell_type": "code",
   "execution_count": 829,
   "id": "1a8ef77d",
   "metadata": {},
   "outputs": [
    {
     "name": "stdout",
     "output_type": "stream",
     "text": [
      "Sunny: 696\n",
      "Stormy: 704\n",
      "Sandstorms: 697\n",
      "Cloudy: 707\n",
      "Fog: 758\n",
      "Windy: 725\n",
      "Unknown: 4\n"
     ]
    }
   ],
   "source": [
    "for condition in df_clear[\"Weatherconditions\"].unique():\n",
    "    print(f\"{condition}: {len(df_clear.loc[df_clear[\"Weatherconditions\"] == condition, \"Weatherconditions\"])}\")"
   ]
  },
  {
   "cell_type": "markdown",
   "id": "60a27bd2",
   "metadata": {},
   "source": [
    "### 10. Quantos entregadores únicos fizeram entregas em cada condição climática?\n",
    "**Resposta:** A quantidade de entregadores únicos que fizeram entregas em cada condição climática é: \n",
    "1. **Sunny: 529**\n",
    "2. **Windy: 523**\n",
    "3. **Cloudy: 520**\n",
    "4. **Fog: 511**\n",
    "5. **Stormy: 504**\n",
    "6. **Sandstorms: 504**\n",
    "7. **Unknown: 4**"
   ]
  },
  {
   "cell_type": "code",
   "execution_count": 830,
   "id": "d6b8eb2a",
   "metadata": {},
   "outputs": [
    {
     "name": "stdout",
     "output_type": "stream",
     "text": [
      "Sunny: 529\n",
      "Stormy: 504\n",
      "Sandstorms: 504\n",
      "Cloudy: 520\n",
      "Fog: 511\n",
      "Windy: 523\n",
      "Unknown: 4\n"
     ]
    }
   ],
   "source": [
    "for condition in df_clear[\"Weatherconditions\"].unique():\n",
    "    print(f\"{condition}: {df_clear.loc[df_clear[\"Weatherconditions\"] == condition, \"Delivery_person_ID\"].nunique()}\")"
   ]
  },
  {
   "cell_type": "markdown",
   "id": "0032b2fa",
   "metadata": {},
   "source": [
    "### 11. Quantas entregas foram feitas em cada tipo de densidade de trânsito?\n",
    "**Resposta:** A quantidade de entregas feitas em cada condição de transito é: \n",
    "1. **Low: 1504**\n",
    "2. **Jam: 1303**\n",
    "3. **Medium: 1059**\n",
    "4. **High: 421**\n",
    "5. **Unknown: 4**"
   ]
  },
  {
   "cell_type": "code",
   "execution_count": 831,
   "id": "50e4fc39",
   "metadata": {},
   "outputs": [
    {
     "name": "stdout",
     "output_type": "stream",
     "text": [
      "High: 421\n",
      "Jam: 1303\n",
      "Low: 1504\n",
      "Medium: 1059\n",
      "Unknown: 4\n"
     ]
    }
   ],
   "source": [
    "for condition in df_clear[\"Road_traffic_density\"].unique():\n",
    "    print(f\"{condition}: {len(df_clear.loc[df_clear[\"Road_traffic_density\"] == condition, \"Road_traffic_density\"])}\")"
   ]
  },
  {
   "cell_type": "markdown",
   "id": "c1c8a847",
   "metadata": {},
   "source": [
    "### 12. Quantos entregadores únicos fizeram entregas em cada tipo de densidade de trânsito?\n",
    "**Resposta:** A quantidade de entregadores únicos que fizeram entregas em cada densidade de trânsito é: \n",
    "1. **Low: 784**\n",
    "2. **Jam: 740**\n",
    "3. **Medium: 649**\n",
    "4. **High: 293**\n",
    "5. **Unknown: 4**"
   ]
  },
  {
   "cell_type": "code",
   "execution_count": 832,
   "id": "a13789c7",
   "metadata": {},
   "outputs": [
    {
     "name": "stdout",
     "output_type": "stream",
     "text": [
      "High: 293\n",
      "Jam: 740\n",
      "Low: 784\n",
      "Medium: 649\n",
      "Unknown: 4\n"
     ]
    }
   ],
   "source": [
    "for condition in df_clear[\"Road_traffic_density\"].unique():\n",
    "    print(f\"{condition}: {df_clear.loc[df_clear[\"Road_traffic_density\"] == condition, \"Delivery_person_ID\"].nunique()}\")"
   ]
  },
  {
   "cell_type": "markdown",
   "id": "f0a0de1a",
   "metadata": {},
   "source": [
    "### 13. Quantos tipos de cidades únicas existem na base? Quais são os seus nomes?\n",
    "***Resposta:*** Há 4 tipos de cidades únicas na base e seus nomes são: \n",
    "- Urban\n",
    "- Metropolitian\n",
    "- Semi-Urban\n",
    "- Unknown"
   ]
  },
  {
   "cell_type": "code",
   "execution_count": 833,
   "id": "69052115",
   "metadata": {},
   "outputs": [
    {
     "name": "stdout",
     "output_type": "stream",
     "text": [
      "Há 4 tipos de cidades únicas na base e seus nomes são: ['Urban' 'Metropolitan' 'Semi-Urban' 'Unknown'].\n"
     ]
    }
   ],
   "source": [
    "print(f\"Há {len(df_clear[\"City\"].unique())} tipos de cidades únicas na base e seus nomes são: {df_clear[\"City\"].unique()}.\")"
   ]
  },
  {
   "cell_type": "markdown",
   "id": "a67ecbea",
   "metadata": {},
   "source": [
    "### 14. Quantos tipos de veículos únicos existem na base? Quais são seus nomes?\n",
    "***Resposta:*** Há 4 tipos de veículos únicos na base e seus nomes são:\n",
    "- Bicycle\n",
    "- scooter\n",
    "- motorcycle\n",
    "- electric_scooter"
   ]
  },
  {
   "cell_type": "code",
   "execution_count": 834,
   "id": "e77cf637",
   "metadata": {},
   "outputs": [
    {
     "name": "stdout",
     "output_type": "stream",
     "text": [
      "Há 4 tipos de veículos únicos na base e seus nomes são: ['motorcycle' 'scooter' 'electric_scooter' 'bicycle'].\n"
     ]
    }
   ],
   "source": [
    "print(f\"Há {len(df_clear[\"Type_of_vehicle\"].unique())} tipos de veículos únicos na base e seus nomes são: {df_clear[\"Type_of_vehicle\"].unique()}.\")"
   ]
  },
  {
   "cell_type": "markdown",
   "id": "801e4305",
   "metadata": {},
   "source": [
    "### 15. Qual o tipo de veículo que mais vez entregas com a condição de trânsito pesado (High)?\n",
    "***Resposta:*** O tipo de veículo que mais fez entregas com a condição de trânsito pesado foi motorcycle, com 250 entregas."
   ]
  },
  {
   "cell_type": "code",
   "execution_count": 835,
   "id": "70628e15",
   "metadata": {},
   "outputs": [
    {
     "data": {
      "text/plain": [
       "Type_of_vehicle\n",
       "motorcycle          250\n",
       "scooter             140\n",
       "electric_scooter     31\n",
       "Name: count, dtype: int64"
      ]
     },
     "execution_count": 835,
     "metadata": {},
     "output_type": "execute_result"
    }
   ],
   "source": [
    "df_clear.loc[df_clear[\"Road_traffic_density\"] == \"High\", \"Type_of_vehicle\"].value_counts()"
   ]
  },
  {
   "cell_type": "markdown",
   "id": "9eaf1642",
   "metadata": {},
   "source": [
    "### 16. Qual o tipo de pedido mais feito durante condições climáticas de tempestade de areia?\n",
    "***Resposta:*** O tipo de pedido mas feito durante a condição climáticas de tempestade de areia foi meal, com 193 entregas."
   ]
  },
  {
   "cell_type": "code",
   "execution_count": 836,
   "id": "4feddc77",
   "metadata": {},
   "outputs": [
    {
     "data": {
      "text/plain": [
       "Type_of_order\n",
       "Meal      193\n",
       "Snack     182\n",
       "Buffet    161\n",
       "Drinks    161\n",
       "Name: count, dtype: int64"
      ]
     },
     "execution_count": 836,
     "metadata": {},
     "output_type": "execute_result"
    }
   ],
   "source": [
    "df_clear.loc[df_clear[\"Weatherconditions\"] == \"Sandstorms\", \"Type_of_order\"].value_counts()"
   ]
  },
  {
   "cell_type": "markdown",
   "id": "4ac3d218",
   "metadata": {},
   "source": [
    "### 17. Qual o tipo de cidade com o maior número de pedidos de Bebidas (Drinks) feito em Scooter?\n",
    "***Resposta:*** O tipo de cidade com o maior número de pedidos de bebidas feito em scooter foi Metropolitan, com 260 pedidos."
   ]
  },
  {
   "cell_type": "code",
   "execution_count": 837,
   "id": "d6d0d1a6",
   "metadata": {},
   "outputs": [
    {
     "data": {
      "text/plain": [
       "City\n",
       "Metropolitan    260\n",
       "Urban            75\n",
       "Unknown          15\n",
       "Name: count, dtype: int64"
      ]
     },
     "execution_count": 837,
     "metadata": {},
     "output_type": "execute_result"
    }
   ],
   "source": [
    "df_clear.loc[(df_clear[\"Type_of_order\"] == \"Drinks\") & (df_clear[\"Type_of_vehicle\"] == \"scooter\"), \"City\"].value_counts()"
   ]
  },
  {
   "cell_type": "markdown",
   "id": "db1d8d53",
   "metadata": {},
   "source": [
    "### 18. Qual o tipo de cidade com o (os) entregador mais velho? E o nome da cidade com o (os) entregadores mais novos?\n",
    "***Resposta:*** O tipo de cidade com o entregador mais velho é Urban e o tipo de cidade com 2 dos 3 entregadores mais novos é Metropolitan."
   ]
  },
  {
   "cell_type": "code",
   "execution_count": 838,
   "id": "c911b513",
   "metadata": {},
   "outputs": [
    {
     "data": {
      "text/plain": [
       "3448    Urban\n",
       "Name: City, dtype: object"
      ]
     },
     "execution_count": 838,
     "metadata": {},
     "output_type": "execute_result"
    }
   ],
   "source": [
    "df_clear.loc[df_clear[\"Delivery_person_Age\"] == df_clear[\"Delivery_person_Age\"].max(), \"City\"]"
   ]
  },
  {
   "cell_type": "markdown",
   "id": "c1c90906",
   "metadata": {},
   "source": [
    "Há um unico entregador mais velho, que está no tipo de cidade Urban."
   ]
  },
  {
   "cell_type": "code",
   "execution_count": 839,
   "id": "1ff81855",
   "metadata": {},
   "outputs": [
    {
     "data": {
      "text/plain": [
       "2292           Urban\n",
       "2787    Metropolitan\n",
       "2833    Metropolitan\n",
       "Name: City, dtype: object"
      ]
     },
     "execution_count": 839,
     "metadata": {},
     "output_type": "execute_result"
    }
   ],
   "source": [
    "df_clear.loc[df_clear[\"Delivery_person_Age\"] == df_clear[\"Delivery_person_Age\"].min(), \"City\"]"
   ]
  },
  {
   "cell_type": "markdown",
   "id": "13337bac",
   "metadata": {},
   "source": [
    "Há 3 entregadores mais novos, onde 2 estão no tipo de cidade Metropolitan."
   ]
  },
  {
   "cell_type": "markdown",
   "id": "516bf16c",
   "metadata": {},
   "source": [
    "### 19. Quantas entregas foram feitas durante o Festival?\n",
    "***Resposta:*** Foram feitas 91 entregas durante o Festival."
   ]
  },
  {
   "cell_type": "code",
   "execution_count": 840,
   "id": "dd179ab7",
   "metadata": {},
   "outputs": [
    {
     "data": {
      "text/plain": [
       "91"
      ]
     },
     "execution_count": 840,
     "metadata": {},
     "output_type": "execute_result"
    }
   ],
   "source": [
    "len(df_clear.loc[df_clear[\"Festival\"] == \"Yes\", \"ID\"])"
   ]
  },
  {
   "cell_type": "markdown",
   "id": "ce9175c7",
   "metadata": {},
   "source": [
    "### 20. Quantos tipos de cidades únicas tiveram entregas feitas durante o Festival?\n",
    "***Resposta:*** Houve 4 tipos de cidades únicas que tiveram entregas feitas durante o Festival."
   ]
  },
  {
   "cell_type": "code",
   "execution_count": 841,
   "id": "b017caf8",
   "metadata": {},
   "outputs": [
    {
     "data": {
      "text/plain": [
       "4"
      ]
     },
     "execution_count": 841,
     "metadata": {},
     "output_type": "execute_result"
    }
   ],
   "source": [
    "df_clear.loc[df_clear[\"Festival\"] == \"Yes\", \"City\"].nunique()"
   ]
  },
  {
   "cell_type": "markdown",
   "id": "ec936bda",
   "metadata": {},
   "source": [
    "### 21. Quantas entregas foram feitas durante o Festival no tipo de cidade Urban?\n",
    "***Resposta:*** Foram feitas 18 entregas durante o Festival no tipo de cidade Urban."
   ]
  },
  {
   "cell_type": "code",
   "execution_count": 842,
   "id": "07ddd27a",
   "metadata": {},
   "outputs": [
    {
     "data": {
      "text/plain": [
       "np.int64(18)"
      ]
     },
     "execution_count": 842,
     "metadata": {},
     "output_type": "execute_result"
    }
   ],
   "source": [
    "df_clear.loc[(df_clear[\"Festival\"] == \"Yes\") & (df_clear[\"City\"] == \"Urban\"), \"ID\"].count()"
   ]
  },
  {
   "cell_type": "markdown",
   "id": "4d94484f",
   "metadata": {},
   "source": [
    "## Próximas KBQs\n",
    "As próximas perguntas de negócio serão respondidas usando o método SAPE e o uso de tecnicas intermediarias como groupby e agg."
   ]
  },
  {
   "cell_type": "markdown",
   "id": "a44016df",
   "metadata": {},
   "source": [
    "### 1. Qual a média e mediana de idade dos entregadores por tipo de cidade?"
   ]
  },
  {
   "cell_type": "markdown",
   "id": "01bf1e1e",
   "metadata": {},
   "source": [
    "### 2. Qual a média das avaliações das entregas feitas por densidade de tráfego?"
   ]
  },
  {
   "cell_type": "markdown",
   "id": "213e9063",
   "metadata": {},
   "source": [
    "### 3. Qual a média, mediana e desvio padrão das entregas feitas por tipo de cidade e por tipo de veículo?"
   ]
  },
  {
   "cell_type": "markdown",
   "id": "4ab7719a",
   "metadata": {},
   "source": [
    "### 4. Qual a primeira e a ultima data de entrega por cada tipo de cidade?"
   ]
  },
  {
   "cell_type": "markdown",
   "id": "cc8af8b3",
   "metadata": {},
   "source": [
    "### 5. Qual a média de avaliações das entregas feitas por condições climáticas?"
   ]
  },
  {
   "cell_type": "markdown",
   "id": "95ea0e71",
   "metadata": {},
   "source": [
    "### 6. Qual o valor da avaliação mais baixa feita por tipo de condição climática e densidade de tráfego?"
   ]
  },
  {
   "cell_type": "markdown",
   "id": "eb0821a6",
   "metadata": {},
   "source": [
    "### 7. Qual a média, mediana e desvio padrão das avaliações por cada tipo de condições de veículos?"
   ]
  },
  {
   "cell_type": "markdown",
   "id": "b305c9b5",
   "metadata": {},
   "source": [
    "### 8. Quantas entreagas foram feitas durante o Festival?"
   ]
  },
  {
   "cell_type": "markdown",
   "id": "f2db3084",
   "metadata": {},
   "source": [
    "### 9. Qual a avaliação média das entregas feitas durante o Festival?"
   ]
  },
  {
   "cell_type": "markdown",
   "id": "ba65013c",
   "metadata": {},
   "source": [
    "### 10. Qual a menor avaliação feita em uma entrega durante o Festival por cidade?"
   ]
  },
  {
   "cell_type": "markdown",
   "id": "b6d57f9c",
   "metadata": {},
   "source": [
    "### 11. Qual a maior avaliação feita por tipo de pedido?"
   ]
  }
 ],
 "metadata": {
  "kernelspec": {
   "display_name": ".venv",
   "language": "python",
   "name": "python3"
  },
  "language_info": {
   "codemirror_mode": {
    "name": "ipython",
    "version": 3
   },
   "file_extension": ".py",
   "mimetype": "text/x-python",
   "name": "python",
   "nbconvert_exporter": "python",
   "pygments_lexer": "ipython3",
   "version": "3.13.2"
  }
 },
 "nbformat": 4,
 "nbformat_minor": 5
}
